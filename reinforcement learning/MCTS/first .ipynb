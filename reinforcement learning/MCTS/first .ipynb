{
 "cells": [
  {
   "cell_type": "code",
   "execution_count": 1,
   "metadata": {
    "ExecuteTime": {
     "end_time": "2019-03-28T17:29:50.256056Z",
     "start_time": "2019-03-28T17:29:50.253029Z"
    },
    "code_folding": []
   },
   "outputs": [],
   "source": [
    "# bord of the game\n",
    "from math import *\n",
    "import random"
   ]
  },
  {
   "cell_type": "code",
   "execution_count": 2,
   "metadata": {
    "ExecuteTime": {
     "end_time": "2019-03-28T17:29:53.689423Z",
     "start_time": "2019-03-28T17:29:53.667520Z"
    },
    "code_folding": [
     1,
     2,
     36
    ]
   },
   "outputs": [],
   "source": [
    "# Tic Tac Toe Game State\n",
    "class GameState:\n",
    "    \"\"\" A state of the game, i.e. the game board. These are the only functions which are\n",
    "        absolutely necessary to implement UCT in any 2-player complete information deterministic \n",
    "        zero-sum game, although they can be enhanced and made quicker, for example by using a \n",
    "        GetRandomMove() function to generate a random move during rollout.\n",
    "        By convention the players are numbered 1 and 2.\n",
    "    \"\"\"\n",
    "    def __init__(self):\n",
    "            self.playerJustMoved = 2 # At the root pretend the player just moved is player 2 - player 1 has the first move\n",
    "        \n",
    "    def Clone(self):\n",
    "        \"\"\" Create a deep clone of this game state.\n",
    "        \"\"\"\n",
    "        st = GameState()\n",
    "        st.playerJustMoved = self.playerJustMoved\n",
    "        return st\n",
    "\n",
    "    def DoMove(self, move):\n",
    "        \"\"\" Update a state by carrying out the given move.\n",
    "            Must update playerJustMoved.\n",
    "        \"\"\"\n",
    "        self.playerJustMoved = 3 - self.playerJustMoved\n",
    "        \n",
    "    def GetMoves(self):\n",
    "        \"\"\" Get all possible moves from this state.\n",
    "        \"\"\"\n",
    "    \n",
    "    def GetResult(self, playerjm):\n",
    "        \"\"\" Get the game result from the viewpoint of playerjm. \n",
    "        \"\"\"\n",
    "\n",
    "    def __repr__(self):\n",
    "        \"\"\" Don't need this - but good style.\n",
    "        \"\"\"\n",
    "        pass\n",
    "class OXOState:\n",
    "    \"\"\" A state of the game, i.e. the game board.\n",
    "        Squares in the board are in this arrangement\n",
    "        012\n",
    "        345\n",
    "        678\n",
    "        where 0 = empty, 1 = player 1 (X), 2 = player 2 (O)\n",
    "    \"\"\"\n",
    "    def __init__(self):\n",
    "        self.playerJustMoved = 2 # At the root pretend the player just moved is p2 - p1 has the first move\n",
    "        self.board = [0,0,0,0,0,0,0,0,0] # 0 = empty, 1 = player 1, 2 = player 2\n",
    "        \n",
    "    def Clone(self):\n",
    "        \"\"\" Create a deep clone of this game state.\n",
    "        \"\"\"\n",
    "        st = OXOState()\n",
    "        st.playerJustMoved = self.playerJustMoved\n",
    "        st.board = self.board[:]\n",
    "        return st\n",
    "\n",
    "    def DoMove(self, move):\n",
    "        \"\"\" Update a state by carrying out the given move.\n",
    "            Must update playerToMove.\n",
    "        \"\"\"\n",
    "        assert move >= 0 and move <= 8 and move == int(move) and self.board[move] == 0\n",
    "        self.playerJustMoved = 3 - self.playerJustMoved\n",
    "        self.board[move]     = self.playerJustMoved\n",
    "        \n",
    "    def GetMoves(self):\n",
    "        \"\"\" Get all possible moves from this state.\n",
    "        \"\"\"\n",
    "        return [i for i in range(9) if self.board[i] == 0]\n",
    "    \n",
    "    def GetResult(self, playerjm):\n",
    "        \"\"\" Get the game result from the viewpoint of playerjm. \n",
    "        \"\"\"\n",
    "        for (x,y,z) in [(0,1,2),(3,4,5),(6,7,8),(0,3,6),(1,4,7),(2,5,8),(0,4,8),(2,4,6)]:\n",
    "            if self.board[x] == self.board[y] == self.board[z]:\n",
    "                if self.board[x] == playerjm:\n",
    "                    return 1.0\n",
    "                else:\n",
    "                    return 0.0\n",
    "        if self.GetMoves() == []: return 0.5 # draw\n",
    "    \n",
    "    def Gameover(self):\n",
    "        for (x,y,z) in [(0,1,2),(3,4,5),(6,7,8),(0,3,6),(1,4,7),(2,5,8),(0,4,8),(2,4,6)]:\n",
    "            if self.board[x] == self.board[y] == self.board[z] and not self.board[z]==0 :\n",
    "                return True\n",
    "        return False\n",
    "    \n",
    "    def __repr__(self):\n",
    "        s= \"\"\n",
    "        for i in range(9): \n",
    "            s += \".XO\"[self.board[i]]\n",
    "            if i % 3 == 2: s += \"\\n\"\n",
    "        return s"
   ]
  },
  {
   "cell_type": "code",
   "execution_count": null,
   "metadata": {},
   "outputs": [],
   "source": [
    "class my_node():\n",
    "    \n",
    "    def __init__(self,parent,state):\n",
    "        \n",
    "        # relationship with other trees\n",
    "        self.parent = parent\n",
    "        self.childrens    = []\n",
    "        \n",
    "        #current state of the board\n",
    "        self.current_state = state\n",
    "        self.avaiable_moves = state.GetMoves()\n",
    "        \n",
    "        # calculate the stats\n",
    "        self.number_visit = 0\n",
    "        self.number_wins  = 0 \n",
    "    \n",
    "    def Q(self): return \n",
    "    \n",
    "    def select_a_node(self):\n",
    "        pass\n",
    "    \n",
    "    def AddChild(self):\n",
    "        pass\n",
    "    \n",
    "    def backprop(self):\n",
    "        pass\n",
    "        "
   ]
  },
  {
   "cell_type": "code",
   "execution_count": null,
   "metadata": {},
   "outputs": [],
   "source": []
  },
  {
   "cell_type": "code",
   "execution_count": null,
   "metadata": {},
   "outputs": [],
   "source": []
  },
  {
   "cell_type": "code",
   "execution_count": null,
   "metadata": {},
   "outputs": [],
   "source": []
  },
  {
   "cell_type": "code",
   "execution_count": null,
   "metadata": {},
   "outputs": [],
   "source": []
  },
  {
   "cell_type": "code",
   "execution_count": 71,
   "metadata": {
    "ExecuteTime": {
     "end_time": "2019-03-28T05:02:02.416608Z",
     "start_time": "2019-03-28T05:02:02.259384Z"
    },
    "code_folding": [
     39,
     43,
     47,
     52
    ],
    "scrolled": false
   },
   "outputs": [
    {
     "name": "stdout",
     "output_type": "stream",
     "text": [
      "...\n",
      "...\n",
      "...\n",
      "\n",
      "[M:6 Wins/Visits:1.0/1 U:[0, 1, 2, 3, 4, 5, 7, 8]]\n",
      "[M:1 Wins/Visits:1.0/1 U:[0, 2, 3, 4, 5, 6, 7, 8]]\n",
      "\n",
      "Best Move: 1\n",
      "\n",
      ".X.\n",
      "...\n",
      "...\n",
      "\n",
      "[M:8 Wins/Visits:10.5/58 U:[]]\n",
      "[M:6 Wins/Visits:50.5/142 U:[]]\n",
      "[M:3 Wins/Visits:23.5/87 U:[]]\n",
      "[M:2 Wins/Visits:24.5/89 U:[]]\n",
      "[M:5 Wins/Visits:30.5/102 U:[]]\n",
      "[M:4 Wins/Visits:77.5/193 U:[]]\n",
      "[M:7 Wins/Visits:13.0/64 U:[]]\n",
      "[M:0 Wins/Visits:116.5/265 U:[]]\n",
      "\n",
      "Best Move: 0\n",
      "\n",
      "OX.\n",
      "...\n",
      "...\n",
      "\n",
      "[M:6 Wins/Visits:1.0/1 U:[2, 3, 4, 5, 7, 8]]\n",
      "[M:3 Wins/Visits:1.0/1 U:[2, 4, 5, 6, 7, 8]]\n",
      "\n",
      "Best Move: 3\n",
      "\n",
      "OX.\n",
      "X..\n",
      "...\n",
      "\n",
      "[M:4 Wins/Visits:399.5/658 U:[]]\n",
      "[M:6 Wins/Visits:22.0/71 U:[]]\n",
      "[M:5 Wins/Visits:20.0/68 U:[]]\n",
      "[M:8 Wins/Visits:21.0/69 U:[]]\n",
      "[M:2 Wins/Visits:15.0/58 U:[]]\n",
      "[M:7 Wins/Visits:24.5/76 U:[]]\n",
      "\n",
      "Best Move: 4\n",
      "\n",
      "OX.\n",
      "XO.\n",
      "...\n",
      "\n",
      "[M:6 Wins/Visits:0.0/1 U:[2, 5, 7, 8]]\n",
      "[M:8 Wins/Visits:0.5/1 U:[2, 5, 6, 7]]\n",
      "\n",
      "Best Move: 8\n",
      "\n",
      "OX.\n",
      "XO.\n",
      "..X\n",
      "\n",
      "[M:7 Wins/Visits:65.5/152 U:[]]\n",
      "[M:2 Wins/Visits:188.5/352 U:[]]\n",
      "[M:6 Wins/Visits:183.0/344 U:[]]\n",
      "[M:5 Wins/Visits:65.5/152 U:[]]\n",
      "\n",
      "Best Move: 2\n",
      "\n",
      "OXO\n",
      "XO.\n",
      "..X\n",
      "\n",
      "[M:7 Wins/Visits:0.0/1 U:[5, 6]]\n",
      "[M:5 Wins/Visits:0.5/1 U:[6, 7]]\n",
      "\n",
      "Best Move: 5\n",
      "\n",
      "OXO\n",
      "XOX\n",
      "..X\n",
      "\n",
      "[M:6 Wins/Visits:964.0/964 U:[]]\n",
      "[M:7 Wins/Visits:18.0/36 U:[]]\n",
      "\n",
      "Best Move: 6\n",
      "\n",
      "Player 2 wins!\n"
     ]
    }
   ],
   "source": [
    "class Node:\n",
    "    \"\"\" A node in the game tree. Note wins is always from the viewpoint of playerJustMoved.\n",
    "        Crashes if state not specified.\n",
    "    \"\"\"\n",
    "    def __init__(self, move = None, parent = None, state = None):\n",
    "        self.move = move # the move that got us to this node - \"None\" for the root node\n",
    "        self.parentNode = parent # \"None\" for the root node\n",
    "        self.childNodes = []\n",
    "        self.wins = 0\n",
    "        self.visits = 0\n",
    "        self.untriedMoves = state.GetMoves() # future child nodes\n",
    "        self.playerJustMoved = state.playerJustMoved # the only part of the state that the Node needs later\n",
    "        \n",
    "    def UCTSelectChild(self):\n",
    "        \"\"\" Use the UCB1 formula to select a child node. Often a constant UCTK is applied so we have\n",
    "            lambda c: c.wins/c.visits + UCTK * sqrt(2*log(self.visits)/c.visits to vary the amount of\n",
    "            exploration versus exploitation.\n",
    "        \"\"\"\n",
    "        s = sorted(self.childNodes, key = lambda c: c.wins/c.visits + sqrt(2*log(self.visits)/c.visits))[-1]\n",
    "        return s\n",
    "    \n",
    "    def AddChild(self, m, s):\n",
    "        \"\"\" Remove m from untriedMoves and add a new child node for this move.\n",
    "            Return the added child node\n",
    "        \"\"\"\n",
    "        n = Node(move = m, parent = self, state = s)\n",
    "        self.untriedMoves.remove(m)\n",
    "        self.childNodes.append(n)\n",
    "        return n\n",
    "    \n",
    "    def Update(self, result):\n",
    "        \"\"\" Update this node - one additional visit and result additional wins. result must be from the viewpoint of playerJustmoved.\n",
    "        \"\"\"\n",
    "        self.visits += 1\n",
    "        self.wins   += result\n",
    "\n",
    "    def __repr__(self):\n",
    "        return \"[M:\" + str(self.move) + \" Wins/Visits:\" + str(self.wins) + \"/\" + str(self.visits) + \" U:\" + str(self.untriedMoves) + \"]\"\n",
    "\n",
    "    def TreeToString(self, indent=1):\n",
    "        s = self.IndentString(indent) + str(self)\n",
    "        for c in self.childNodes: s += c.TreeToString(indent+1)\n",
    "        return s\n",
    "    def IndentString(self,indent=1):\n",
    "        s = \"\\n\"\n",
    "        for i in range (1,indent+1): s += \"| \"\n",
    "        return s\n",
    "    def ChildrenToString(self):\n",
    "        s = \"\"\n",
    "        for c in self.childNodes: s += str(c) + \"\\n\"\n",
    "        return s\n",
    "\n",
    "def UCT(rootstate, itermax, verbose = False):\n",
    "    \"\"\" Conduct a UCT search for itermax iterations starting from rootstate.\n",
    "        Return the best move from the rootstate.\n",
    "        Assumes 2 alternating players (player 1 starts), with game results in the range [0.0, 1.0].\"\"\"\n",
    "\n",
    "    rootnode = Node(state = rootstate)\n",
    "\n",
    "    for i in range(itermax):\n",
    "        node  = rootnode\n",
    "        state = rootstate.Clone()\n",
    "\n",
    "        # Select\n",
    "        while node.untriedMoves == [] and node.childNodes != []: # node is fully expanded and non-terminal\n",
    "            node = node.UCTSelectChild()\n",
    "            state.DoMove(node.move)\n",
    "\n",
    "        # Expand\n",
    "        if node.untriedMoves != []: # if we can expand (i.e. state/node is non-terminal)\n",
    "            m = random.choice(node.untriedMoves) \n",
    "            state.DoMove(m)\n",
    "            node = node.AddChild(m,state) # add child and descend tree\n",
    "\n",
    "        # Rollout - this can often be made orders of magnitude quicker using a state.GetRandomMove() function\n",
    "        while state.GetMoves() != []: # while state is non-terminal\n",
    "            state.DoMove(random.choice(state.GetMoves()))\n",
    "\n",
    "        # Backpropagate\n",
    "        while node != None: # backpropagate from the expanded node and work back to the root node\n",
    "            node.Update(state.GetResult(node.playerJustMoved)) # state is terminal. Update node with result from POV of node.playerJustMoved\n",
    "            node = node.parentNode\n",
    "\n",
    "    # Output some information about the tree - can be omitted\n",
    "    if (verbose): print(rootnode.TreeToString(0))\n",
    "    else: print(rootnode.ChildrenToString())\n",
    "\n",
    "    return sorted(rootnode.childNodes, key = lambda c: c.visits)[-1].move # return the move that was most visited\n",
    "    \n",
    "\"\"\" Play a sample game between two UCT players where each player gets a different number \n",
    "    of UCT iterations (= simulations = tree nodes).\n",
    "\"\"\"\n",
    "state = OXOState() # uncomment to play OXO\n",
    "while (state.GetMoves() != []):\n",
    "    if state.Gameover(): break\n",
    "    print(str(state))\n",
    "    if state.playerJustMoved == 1:\n",
    "        m = UCT(rootstate = state, itermax = 1000, verbose = False) # play with values for itermax and verbose = True\n",
    "    else:\n",
    "        m = UCT(rootstate = state, itermax = 2,   verbose = False)\n",
    "    print(\"Best Move: \" + str(m) + \"\\n\")\n",
    "    state.DoMove(m)\n",
    "    \n",
    "\n",
    "# print the \n",
    "if state.GetResult(state.playerJustMoved) == 1.0:  print(\"Player \" + str(state.playerJustMoved)     + \" wins!\")\n",
    "elif state.GetResult(state.playerJustMoved) == 0.0:print(\"Player \" + str(3 - state.playerJustMoved) + \" wins!\")\n",
    "else: print(\"Nobody wins!\")"
   ]
  },
  {
   "cell_type": "code",
   "execution_count": 28,
   "metadata": {
    "ExecuteTime": {
     "end_time": "2019-03-27T03:07:23.194468Z",
     "start_time": "2019-03-27T03:07:23.188483Z"
    }
   },
   "outputs": [
    {
     "name": "stdout",
     "output_type": "stream",
     "text": [
      "[0, 1, 2, 3, 4, 5, 6, 7, 8]\n",
      "2\n"
     ]
    }
   ],
   "source": [
    "state = OXOState()\n",
    "print(state.GetMoves())\n",
    "print(state.playerJustMoved)"
   ]
  },
  {
   "cell_type": "code",
   "execution_count": 27,
   "metadata": {
    "ExecuteTime": {
     "end_time": "2019-03-27T03:07:21.926668Z",
     "start_time": "2019-03-27T03:07:21.921698Z"
    }
   },
   "outputs": [
    {
     "data": {
      "text/plain": [
       "8"
      ]
     },
     "execution_count": 27,
     "metadata": {},
     "output_type": "execute_result"
    }
   ],
   "source": [
    "m"
   ]
  },
  {
   "cell_type": "code",
   "execution_count": null,
   "metadata": {},
   "outputs": [],
   "source": []
  },
  {
   "cell_type": "code",
   "execution_count": 60,
   "metadata": {
    "ExecuteTime": {
     "end_time": "2019-03-27T03:35:53.892990Z",
     "start_time": "2019-03-27T03:35:53.885011Z"
    }
   },
   "outputs": [
    {
     "name": "stdout",
     "output_type": "stream",
     "text": [
      "[0, 1, 2, 3, 4, 5, 6, 7, 8]\n",
      "...\n",
      "...\n",
      "...\n",
      "\n",
      "['AddChild', 'ChildrenToString', 'IndentString', 'TreeToString', 'UCTSelectChild', 'Update', '__class__', '__delattr__', '__dict__', '__dir__', '__doc__', '__eq__', '__format__', '__ge__', '__getattribute__', '__gt__', '__hash__', '__init__', '__init_subclass__', '__le__', '__lt__', '__module__', '__ne__', '__new__', '__reduce__', '__reduce_ex__', '__repr__', '__setattr__', '__sizeof__', '__str__', '__subclasshook__', '__weakref__', 'childNodes', 'move', 'parentNode', 'playerJustMoved', 'untriedMoves', 'visits', 'wins']\n",
      "\n",
      "| [M:None W/V:0/0 U:[0, 1, 2, 3, 4, 5, 6, 7, 8]]\n",
      "[0, 1, 2, 3, 4, 5, 6, 7, 8]\n",
      "---\n",
      "[M:4 W/V:0/0 U:[0, 1, 2, 3, 5, 6, 7, 8]]\n",
      "[0, 1, 2, 3, 5, 6, 7, 8]\n"
     ]
    }
   ],
   "source": [
    "my_state = OXOState() # uncomment to play OXO\n",
    "print(my_state.GetMoves())\n",
    "# while (state.GetMoves() != []):\n",
    "#     print(str(state))\n",
    "#     if state.playerJustMoved == 1:\n",
    "#         m = UCT(rootstate = state, itermax = 1000, verbose = False)\n",
    "\n",
    "my_node       = Node(state=state)\n",
    "my_state_copy = my_state.Clone()\n",
    "print(state)\n",
    "print(dir(my_node))\n",
    "print(my_node.TreeToString())\n",
    "print(my_node.untriedMoves)\n",
    "\n",
    "# if we have tried every moves. \n",
    "while my_node.untriedMoves == [] and my_node.childNodes != []: # node is fully expanded and non-terminal\n",
    "    my_node = my_node.UCTSelectChild()\n",
    "    my_state_copy.DoMove(my_node.move)\n",
    "    \n",
    "# Expand\n",
    "if my_node.untriedMoves != []: # if we can expand (i.e. state/node is non-terminal)\n",
    "    m = random.choice(my_node.untriedMoves) \n",
    "    my_state_copy.DoMove(m)\n",
    "    my_node = my_node.AddChild(m,my_state_copy) # add child and descend tree\n",
    "    \n",
    "print('---')\n",
    "print(my_node )\n",
    "print(my_node.untriedMoves)"
   ]
  },
  {
   "cell_type": "code",
   "execution_count": null,
   "metadata": {},
   "outputs": [],
   "source": []
  },
  {
   "cell_type": "code",
   "execution_count": null,
   "metadata": {},
   "outputs": [],
   "source": []
  },
  {
   "cell_type": "code",
   "execution_count": null,
   "metadata": {},
   "outputs": [],
   "source": []
  },
  {
   "cell_type": "code",
   "execution_count": null,
   "metadata": {},
   "outputs": [],
   "source": []
  },
  {
   "cell_type": "code",
   "execution_count": null,
   "metadata": {},
   "outputs": [],
   "source": []
  },
  {
   "cell_type": "code",
   "execution_count": null,
   "metadata": {},
   "outputs": [],
   "source": []
  },
  {
   "cell_type": "code",
   "execution_count": null,
   "metadata": {},
   "outputs": [],
   "source": []
  },
  {
   "cell_type": "code",
   "execution_count": null,
   "metadata": {},
   "outputs": [],
   "source": []
  },
  {
   "cell_type": "code",
   "execution_count": null,
   "metadata": {},
   "outputs": [],
   "source": []
  },
  {
   "cell_type": "code",
   "execution_count": null,
   "metadata": {},
   "outputs": [],
   "source": []
  },
  {
   "cell_type": "code",
   "execution_count": null,
   "metadata": {},
   "outputs": [],
   "source": []
  },
  {
   "cell_type": "code",
   "execution_count": 61,
   "metadata": {
    "ExecuteTime": {
     "end_time": "2019-03-27T03:38:54.290830Z",
     "start_time": "2019-03-27T03:38:54.281847Z"
    },
    "code_folding": [
     0
    ]
   },
   "outputs": [
    {
     "ename": "SyntaxError",
     "evalue": "invalid syntax (<ipython-input-61-f79107858af3>, line 4)",
     "output_type": "error",
     "traceback": [
      "\u001b[1;36m  File \u001b[1;32m\"<ipython-input-61-f79107858af3>\"\u001b[1;36m, line \u001b[1;32m4\u001b[0m\n\u001b[1;33m    while resources_left(time, computational power):\u001b[0m\n\u001b[1;37m                                                 ^\u001b[0m\n\u001b[1;31mSyntaxError\u001b[0m\u001b[1;31m:\u001b[0m invalid syntax\n"
     ]
    }
   ],
   "source": [
    "# main function for the Monte Carlo Tree Search \n",
    "def monte_carlo_tree_search(root): \n",
    "      \n",
    "    while resources_left(time, computational power): \n",
    "        leaf = traverse(root)  \n",
    "        simulation_result = rollout(leaf) \n",
    "        backpropagate(leaf, simulation_result) \n",
    "          \n",
    "    return best_child(root) \n",
    "  \n",
    "# function for node traversal \n",
    "def traverse(node): \n",
    "    # here we are just going down the tree\n",
    "    while fully_expanded(node): \n",
    "        node = best_uct(node) \n",
    "          \n",
    "    # in case no children are present / node is terminal  \n",
    "    return pick_univisted(node.children) or node  \n",
    "  \n",
    "# function for the result of the simulation \n",
    "def rollout(node): \n",
    "    # until not terminal we are going to roll out - > play out\n",
    "    while non_terminal(node): \n",
    "        node = rollout_policy(node) \n",
    "    return result(node)  \n",
    "  \n",
    "# function for randomly selecting a child node \n",
    "def rollout_policy(node): \n",
    "    return pick_random(node.children) \n",
    "  \n",
    "# function for backpropagation \n",
    "# this seems to be a bell man type of equation\n",
    "def backpropagate(node, result): \n",
    "    if is_root(node) return\n",
    "    node.stats = update_stats(node, result)  \n",
    "    backpropagate(node.parent) \n",
    "  \n",
    "# function for selecting the best child \n",
    "# node with highest number of visits \n",
    "def best_child(node):  pick child with highest number of visits "
   ]
  },
  {
   "cell_type": "markdown",
   "metadata": {},
   "source": [
    "# Reference \n",
    "1. jbradberry/ultimate_tictactoe. (2019). GitHub. Retrieved 26 March 2019, from https://github.com/jbradberry/ultimate_tictactoe/blob/master/t3/board.py\n",
    "2. https://www.geeksforgeeks.org/ml-monte-carlo-tree-search-mcts/\n",
    "3. Monte Carlo Tree Search - Python Code. (2019). Mcts.ai. Retrieved 26 March 2019, from http://mcts.ai/code/python.html\n"
   ]
  }
 ],
 "metadata": {
  "kernelspec": {
   "display_name": "Python 3",
   "language": "python",
   "name": "python3"
  },
  "language_info": {
   "codemirror_mode": {
    "name": "ipython",
    "version": 3
   },
   "file_extension": ".py",
   "mimetype": "text/x-python",
   "name": "python",
   "nbconvert_exporter": "python",
   "pygments_lexer": "ipython3",
   "version": "3.6.6"
  },
  "latex_envs": {
   "LaTeX_envs_menu_present": true,
   "autoclose": false,
   "autocomplete": true,
   "bibliofile": "biblio.bib",
   "cite_by": "apalike",
   "current_citInitial": 1,
   "eqLabelWithNumbers": true,
   "eqNumInitial": 1,
   "hotkeys": {
    "equation": "Ctrl-E",
    "itemize": "Ctrl-I"
   },
   "labels_anchors": false,
   "latex_user_defs": false,
   "report_style_numbering": false,
   "user_envs_cfg": false
  },
  "varInspector": {
   "cols": {
    "lenName": 16,
    "lenType": 16,
    "lenVar": 40
   },
   "kernels_config": {
    "python": {
     "delete_cmd_postfix": "",
     "delete_cmd_prefix": "del ",
     "library": "var_list.py",
     "varRefreshCmd": "print(var_dic_list())"
    },
    "r": {
     "delete_cmd_postfix": ") ",
     "delete_cmd_prefix": "rm(",
     "library": "var_list.r",
     "varRefreshCmd": "cat(var_dic_list()) "
    }
   },
   "types_to_exclude": [
    "module",
    "function",
    "builtin_function_or_method",
    "instance",
    "_Feature"
   ],
   "window_display": false
  }
 },
 "nbformat": 4,
 "nbformat_minor": 2
}
