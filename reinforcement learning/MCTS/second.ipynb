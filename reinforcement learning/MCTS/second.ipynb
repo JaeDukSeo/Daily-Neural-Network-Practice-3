{
 "cells": [
  {
   "cell_type": "code",
   "execution_count": null,
   "metadata": {},
   "outputs": [],
   "source": []
  },
  {
   "cell_type": "code",
   "execution_count": 1,
   "metadata": {
    "ExecuteTime": {
     "end_time": "2019-03-26T23:24:51.810239Z",
     "start_time": "2019-03-26T23:24:51.790294Z"
    }
   },
   "outputs": [],
   "source": [
    "from __future__ import division\n",
    "\n",
    "import time\n",
    "import math\n",
    "import random\n",
    "\n",
    "\n",
    "def randomPolicy(state):\n",
    "    while not state.isTerminal():\n",
    "        try:\n",
    "            action = random.choice(state.getPossibleActions())\n",
    "        except IndexError:\n",
    "            raise Exception(\"Non-terminal state has no possible actions: \" + str(state))\n",
    "        state = state.takeAction(action)\n",
    "    return state.getReward()\n",
    "\n",
    "\n",
    "class treeNode():\n",
    "    def __init__(self, state, parent):\n",
    "        self.state = state\n",
    "        self.isTerminal = state.isTerminal()\n",
    "        self.isFullyExpanded = self.isTerminal\n",
    "        self.parent = parent\n",
    "        self.numVisits = 0\n",
    "        self.totalReward = 0\n",
    "        self.children = {}\n",
    "\n",
    "\n",
    "class mcts():\n",
    "    def __init__(self, timeLimit=None, iterationLimit=None, explorationConstant=1 / math.sqrt(2),\n",
    "                 rolloutPolicy=randomPolicy):\n",
    "        if timeLimit != None:\n",
    "            if iterationLimit != None:\n",
    "                raise ValueError(\"Cannot have both a time limit and an iteration limit\")\n",
    "            # time taken for each MCTS search in milliseconds\n",
    "            self.timeLimit = timeLimit\n",
    "            self.limitType = 'time'\n",
    "        else:\n",
    "            if iterationLimit == None:\n",
    "                raise ValueError(\"Must have either a time limit or an iteration limit\")\n",
    "            # number of iterations of the search\n",
    "            if iterationLimit < 1:\n",
    "                raise ValueError(\"Iteration limit must be greater than one\")\n",
    "            self.searchLimit = iterationLimit\n",
    "            self.limitType = 'iterations'\n",
    "        self.explorationConstant = explorationConstant\n",
    "        self.rollout = rolloutPolicy\n",
    "\n",
    "    def search(self, initialState):\n",
    "        self.root = treeNode(initialState, None)\n",
    "\n",
    "        if self.limitType == 'time':\n",
    "            timeLimit = time.time() + self.timeLimit / 1000\n",
    "            while time.time() < timeLimit:\n",
    "                self.executeRound()\n",
    "        else:\n",
    "            for i in range(self.searchLimit):\n",
    "                self.executeRound()\n",
    "\n",
    "        bestChild = self.getBestChild(self.root, 0)\n",
    "        return self.getAction(self.root, bestChild)\n",
    "\n",
    "    def executeRound(self):\n",
    "        node = self.selectNode(self.root)\n",
    "        reward = self.rollout(node.state)\n",
    "        self.backpropogate(node, reward)\n",
    "\n",
    "    def selectNode(self, node):\n",
    "        while not node.isTerminal:\n",
    "            if node.isFullyExpanded:\n",
    "                node = self.getBestChild(node, self.explorationConstant)\n",
    "            else:\n",
    "                return self.expand(node)\n",
    "        return node\n",
    "\n",
    "    def expand(self, node):\n",
    "        actions = node.state.getPossibleActions()\n",
    "        for action in actions:\n",
    "            if action not in node.children.keys():\n",
    "                newNode = treeNode(node.state.takeAction(action), node)\n",
    "                node.children[action] = newNode\n",
    "                if len(actions) == len(node.children):\n",
    "                    node.isFullyExpanded = True\n",
    "                return newNode\n",
    "\n",
    "        raise Exception(\"Should never reach here\")\n",
    "\n",
    "    def backpropogate(self, node, reward):\n",
    "        while node is not None:\n",
    "            node.numVisits += 1\n",
    "            node.totalReward += reward\n",
    "            node = node.parent\n",
    "\n",
    "    def getBestChild(self, node, explorationValue):\n",
    "        bestValue = float(\"-inf\")\n",
    "        bestNodes = []\n",
    "        for child in node.children.values():\n",
    "            nodeValue = child.totalReward / child.numVisits + explorationValue * math.sqrt(\n",
    "                2 * math.log(node.numVisits) / child.numVisits)\n",
    "            if nodeValue > bestValue:\n",
    "                bestValue = nodeValue\n",
    "                bestNodes = [child]\n",
    "            elif nodeValue == bestValue:\n",
    "                bestNodes.append(child)\n",
    "        return random.choice(bestNodes)\n",
    "\n",
    "    def getAction(self, root, bestChild):\n",
    "        for action, node in root.children.items():\n",
    "            if node is bestChild:\n",
    "                return action"
   ]
  },
  {
   "cell_type": "code",
   "execution_count": null,
   "metadata": {},
   "outputs": [],
   "source": []
  },
  {
   "cell_type": "code",
   "execution_count": null,
   "metadata": {},
   "outputs": [],
   "source": []
  },
  {
   "cell_type": "code",
   "execution_count": null,
   "metadata": {},
   "outputs": [],
   "source": []
  },
  {
   "cell_type": "code",
   "execution_count": null,
   "metadata": {},
   "outputs": [],
   "source": []
  },
  {
   "cell_type": "code",
   "execution_count": null,
   "metadata": {},
   "outputs": [],
   "source": []
  },
  {
   "cell_type": "code",
   "execution_count": null,
   "metadata": {},
   "outputs": [],
   "source": []
  },
  {
   "cell_type": "code",
   "execution_count": null,
   "metadata": {},
   "outputs": [],
   "source": []
  },
  {
   "cell_type": "code",
   "execution_count": null,
   "metadata": {},
   "outputs": [],
   "source": []
  }
 ],
 "metadata": {
  "kernelspec": {
   "display_name": "Python 3",
   "language": "python",
   "name": "python3"
  },
  "language_info": {
   "codemirror_mode": {
    "name": "ipython",
    "version": 3
   },
   "file_extension": ".py",
   "mimetype": "text/x-python",
   "name": "python",
   "nbconvert_exporter": "python",
   "pygments_lexer": "ipython3",
   "version": "3.6.6"
  },
  "latex_envs": {
   "LaTeX_envs_menu_present": true,
   "autoclose": false,
   "autocomplete": true,
   "bibliofile": "biblio.bib",
   "cite_by": "apalike",
   "current_citInitial": 1,
   "eqLabelWithNumbers": true,
   "eqNumInitial": 1,
   "hotkeys": {
    "equation": "Ctrl-E",
    "itemize": "Ctrl-I"
   },
   "labels_anchors": false,
   "latex_user_defs": false,
   "report_style_numbering": false,
   "user_envs_cfg": false
  },
  "varInspector": {
   "cols": {
    "lenName": 16,
    "lenType": 16,
    "lenVar": 40
   },
   "kernels_config": {
    "python": {
     "delete_cmd_postfix": "",
     "delete_cmd_prefix": "del ",
     "library": "var_list.py",
     "varRefreshCmd": "print(var_dic_list())"
    },
    "r": {
     "delete_cmd_postfix": ") ",
     "delete_cmd_prefix": "rm(",
     "library": "var_list.r",
     "varRefreshCmd": "cat(var_dic_list()) "
    }
   },
   "types_to_exclude": [
    "module",
    "function",
    "builtin_function_or_method",
    "instance",
    "_Feature"
   ],
   "window_display": false
  }
 },
 "nbformat": 4,
 "nbformat_minor": 2
}
