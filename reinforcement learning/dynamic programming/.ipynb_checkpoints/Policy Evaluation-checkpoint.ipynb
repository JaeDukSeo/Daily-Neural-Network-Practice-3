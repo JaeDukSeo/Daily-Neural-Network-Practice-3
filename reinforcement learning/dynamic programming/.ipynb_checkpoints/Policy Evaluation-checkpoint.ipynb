{
 "cells": [
  {
   "cell_type": "code",
   "execution_count": 3,
   "metadata": {
    "ExecuteTime": {
     "end_time": "2019-03-19T00:32:14.526633Z",
     "start_time": "2019-03-19T00:32:14.522611Z"
    }
   },
   "outputs": [],
   "source": [
    "import numpy as np\n",
    "import sys\n",
    "sys.path.append(\"..\")\n",
    "from reference.lib.envs.gridworld import GridworldEnv"
   ]
  },
  {
   "cell_type": "code",
   "execution_count": 4,
   "metadata": {
    "ExecuteTime": {
     "end_time": "2019-03-19T00:32:15.324824Z",
     "start_time": "2019-03-19T00:32:15.319836Z"
    }
   },
   "outputs": [],
   "source": [
    "env = GridworldEnv()"
   ]
  },
  {
   "cell_type": "code",
   "execution_count": 37,
   "metadata": {
    "ExecuteTime": {
     "end_time": "2019-03-19T00:39:00.952654Z",
     "start_time": "2019-03-19T00:39:00.945701Z"
    }
   },
   "outputs": [],
   "source": [
    "def policy_eval(policy, env, discount_factor=1.0, theta=0.0000001):\n",
    "    \"\"\"\n",
    "    Evaluate a policy given an environment and a full description of the environment's dynamics.\n",
    "    \n",
    "    Args:\n",
    "        policy: [S, A] shaped matrix representing the policy.\n",
    "        env: OpenAI env. env.P represents the transition probabilities of the environment.\n",
    "            env.P[s][a] is a list of transition tuples (prob, next_state, reward, done).\n",
    "            env.nS is a number of states in the environment. \n",
    "            env.nA is a number of actions in the environment.\n",
    "        theta: We stop evaluation once our value function change is less than theta for all states.\n",
    "        discount_factor: Gamma discount factor.\n",
    "    \n",
    "    Returns:\n",
    "        Vector of length env.nS representing the value function.\n",
    "    \"\"\"\n",
    "    # Start with a random (all 0) value function\n",
    "    V = np.zeros(env.nS)\n",
    "    \n",
    "    # loop until convergence - system is stable\n",
    "    while True:\n",
    "        # this is the change value\n",
    "        delta_value = 0\n",
    "        \n",
    "        # for every state value\n",
    "        for i in range(len(V)):\n",
    "            \n",
    "            # temp variable reset to zero\n",
    "            current_state = 0\n",
    "            # for every action value - here 4\n",
    "            for policy_index in range(4):\n",
    "                # choose the action and prob value\n",
    "                action = policy_index\n",
    "                action_prob = policy[i,policy_index]\n",
    "                # this is not the optimal value\n",
    "                for prob, next_state, reward, done in env.P[i][action]:\n",
    "                    current_state = current_state + action_prob * prob * (reward + discount_factor * V[next_state]) \n",
    "                    \n",
    "            delta_value = max(delta_value,np.abs(current_state-V[i]))\n",
    "            V[i] = current_state\n",
    "            \n",
    "        if delta_value < theta: \n",
    "            break\n",
    "            \n",
    "    return np.array(V)"
   ]
  },
  {
   "cell_type": "code",
   "execution_count": null,
   "metadata": {
    "ExecuteTime": {
     "end_time": "2019-03-19T00:27:28.612367Z",
     "start_time": "2019-03-19T00:27:28.607787Z"
    }
   },
   "outputs": [],
   "source": []
  },
  {
   "cell_type": "code",
   "execution_count": 45,
   "metadata": {
    "ExecuteTime": {
     "end_time": "2019-03-19T00:39:08.092486Z",
     "start_time": "2019-03-19T00:39:08.079517Z"
    }
   },
   "outputs": [
    {
     "name": "stdout",
     "output_type": "stream",
     "text": [
      "[[ 0.         -4.01259081 -4.65070572 -3.48647892]\n",
      " [-5.99715026 -7.39965764 -7.10375324 -5.04520998]\n",
      " [-7.99122337 -8.48513641 -7.3194397  -4.46898804]\n",
      " [-7.28962827 -7.23022505 -5.21988117  0.        ]]\n"
     ]
    }
   ],
   "source": [
    "random_policy = np.ones([env.nS, env.nA]) / env.nA\n",
    "v = policy_eval(random_policy, env)\n",
    "print(v.reshape((4,4)))"
   ]
  },
  {
   "cell_type": "code",
   "execution_count": 46,
   "metadata": {
    "ExecuteTime": {
     "end_time": "2019-03-19T00:39:09.940298Z",
     "start_time": "2019-03-19T00:39:09.934307Z"
    }
   },
   "outputs": [
    {
     "name": "stdout",
     "output_type": "stream",
     "text": [
      "[[  0 -14 -20 -22]\n",
      " [-14 -18 -20 -20]\n",
      " [-20 -20 -18 -14]\n",
      " [-22 -20 -14   0]]\n"
     ]
    }
   ],
   "source": [
    "# Test: Make sure the evaluated policy is what we expected\n",
    "expected_v = np.array([0, -14, -20, -22, -14, -18, -20, -20, -20, -20, -18, -14, -22, -20, -14, 0])\n",
    "print(expected_v.reshape((4,4)))"
   ]
  },
  {
   "cell_type": "code",
   "execution_count": 47,
   "metadata": {
    "ExecuteTime": {
     "end_time": "2019-03-19T00:39:11.846367Z",
     "start_time": "2019-03-19T00:39:11.842378Z"
    }
   },
   "outputs": [
    {
     "name": "stdout",
     "output_type": "stream",
     "text": [
      "[0.         3.48901762 4.30042261 6.31009124 2.3344421  2.43254498\n",
      " 2.81541311 3.96415613 2.50274571 2.35706287 2.45920463 3.13270027\n",
      " 3.01798655 2.76616563 2.6820534  0.        ]\n"
     ]
    }
   ],
   "source": [
    "print(expected_v/(v+1e-8))"
   ]
  },
  {
   "cell_type": "code",
   "execution_count": 34,
   "metadata": {
    "ExecuteTime": {
     "end_time": "2019-03-19T00:37:15.802620Z",
     "start_time": "2019-03-19T00:37:15.796620Z"
    }
   },
   "outputs": [
    {
     "name": "stdout",
     "output_type": "stream",
     "text": [
      "None\n"
     ]
    }
   ],
   "source": [
    "# test \n",
    "print(\n",
    "    np.testing.assert_array_almost_equal(v, expected_v, decimal=2)\n",
    ")"
   ]
  },
  {
   "cell_type": "code",
   "execution_count": null,
   "metadata": {},
   "outputs": [],
   "source": []
  },
  {
   "cell_type": "code",
   "execution_count": null,
   "metadata": {},
   "outputs": [],
   "source": []
  },
  {
   "cell_type": "code",
   "execution_count": null,
   "metadata": {},
   "outputs": [],
   "source": []
  },
  {
   "cell_type": "code",
   "execution_count": null,
   "metadata": {},
   "outputs": [],
   "source": []
  }
 ],
 "metadata": {
  "kernelspec": {
   "display_name": "Python 3",
   "language": "python",
   "name": "python3"
  },
  "latex_envs": {
   "LaTeX_envs_menu_present": true,
   "autoclose": false,
   "autocomplete": true,
   "bibliofile": "biblio.bib",
   "cite_by": "apalike",
   "current_citInitial": 1,
   "eqLabelWithNumbers": true,
   "eqNumInitial": 1,
   "hotkeys": {
    "equation": "Ctrl-E",
    "itemize": "Ctrl-I"
   },
   "labels_anchors": false,
   "latex_user_defs": false,
   "report_style_numbering": false,
   "user_envs_cfg": false
  },
  "varInspector": {
   "cols": {
    "lenName": 16,
    "lenType": 16,
    "lenVar": 40
   },
   "kernels_config": {
    "python": {
     "delete_cmd_postfix": "",
     "delete_cmd_prefix": "del ",
     "library": "var_list.py",
     "varRefreshCmd": "print(var_dic_list())"
    },
    "r": {
     "delete_cmd_postfix": ") ",
     "delete_cmd_prefix": "rm(",
     "library": "var_list.r",
     "varRefreshCmd": "cat(var_dic_list()) "
    }
   },
   "types_to_exclude": [
    "module",
    "function",
    "builtin_function_or_method",
    "instance",
    "_Feature"
   ],
   "window_display": false
  }
 },
 "nbformat": 4,
 "nbformat_minor": 1
}
