{
 "cells": [
  {
   "cell_type": "code",
   "execution_count": 149,
   "metadata": {
    "ExecuteTime": {
     "end_time": "2019-03-30T05:07:49.770503Z",
     "start_time": "2019-03-30T05:07:49.765493Z"
    }
   },
   "outputs": [],
   "source": [
    "# import lib\n",
    "import numpy as np\n",
    "from matplotlib import pyplot as plt\n",
    "from sklearn import linear_model, datasets\n",
    "np.set_printoptions(precision=10,suppress=True)\n",
    "np.random.seed(6789)"
   ]
  },
  {
   "cell_type": "code",
   "execution_count": 122,
   "metadata": {
    "ExecuteTime": {
     "end_time": "2019-03-30T05:02:46.806039Z",
     "start_time": "2019-03-30T05:02:46.673379Z"
    }
   },
   "outputs": [
    {
     "name": "stdout",
     "output_type": "stream",
     "text": [
      "(200, 2)\n"
     ]
    },
    {
     "data": {
      "image/png": "[encoded data removed]",
      "text/plain": [
       "<Figure size 432x288 with 1 Axes>"
      ]
     },
     "metadata": {
      "needs_background": "light"
     },
     "output_type": "display_data"
    }
   ],
   "source": [
    "# create data\n",
    "n_samples  = 100\n",
    "n_outliers = 50\n",
    "x, y      = datasets.make_regression(n_samples=n_samples, n_features=1,n_informative=1, noise=94, random_state=0)\n",
    "X1         = np.append(x,y[:,None],1)\n",
    "x, y      = datasets.make_regression(n_samples=n_samples, n_features=1,n_informative=1, noise=9, random_state=0)\n",
    "X2         = np.append(x,y[:,None],1) + 5\n",
    "X = np.append(X1,X2,0)\n",
    "\n",
    "print(X.shape)\n",
    "\n",
    "x -= np.mean(x, axis = 0)\n",
    "plt.scatter(X[:,0],X[:,1]); plt.show()"
   ]
  },
  {
   "cell_type": "code",
   "execution_count": 123,
   "metadata": {
    "ExecuteTime": {
     "end_time": "2019-03-30T05:02:47.670045Z",
     "start_time": "2019-03-30T05:02:47.663038Z"
    }
   },
   "outputs": [
    {
     "name": "stdout",
     "output_type": "stream",
     "text": [
      "-0.23122999999999996\n",
      "0.23122999999999996\n",
      "32132.0\n",
      "-32132.0\n",
      "-0.0030211480362537764\n",
      "-0.0030211480362537764\n"
     ]
    }
   ],
   "source": [
    "def g (x): return x*(1/3)\n",
    "def gg(x): return x*3\n",
    "\n",
    "def g_grad(x): return ((1/3)*(x*np.sign(x))**(1-(1/3)))*np.sign(x)\n",
    "def gg_grad(x): return 3*x**2\n",
    "\n",
    "print(gg(g(-0.23123)))\n",
    "print(gg(g(0.23123)))\n",
    "print(gg(g(32132)))\n",
    "print(gg(g(-32132)))\n",
    "print(gg(g(-1/331)))\n",
    "print(-1/331)"
   ]
  },
  {
   "cell_type": "code",
   "execution_count": null,
   "metadata": {
    "ExecuteTime": {
     "start_time": "2019-03-30T05:14:23.554Z"
    },
    "code_folding": [
     4
    ]
   },
   "outputs": [
    {
     "name": "stdout",
     "output_type": "stream",
     "text": [
      "Current loss: 33.581027941349  Weight : [-0.466554966   0.9686152409 -0.0503870855  0.8844922067  0.2485649111\n",
      "  0.9987297641]\n",
      "Current loss: 1.4545320758397262  Weight : [ 0.9999938553 -0.9999938553 -0.0035056306  0.0035056306 -0.0035056306\n",
      "  0.9999938553]\n",
      "Current loss: 1.4571836283364679  Weight : [ 0.9999933116 -0.9999933116 -0.0036574175  0.0036574175 -0.0036574175\n",
      "  0.9999933116]\n",
      "Current loss: 1.4602183832828697  Weight : [ 0.9999808785 -0.9999808785 -0.0061840594  0.0061840594 -0.0061840594\n",
      "  0.9999808785]\n"
     ]
    }
   ],
   "source": [
    "# simple objective\n",
    "w1 = np.random.uniform(0,1,size=(2,2))\n",
    "w2 = np.random.uniform(0,1,size=(2,3))\n",
    "\n",
    "def _sym_decorrelation(W):\n",
    "    \"\"\" Symmetric decorrelation\n",
    "    i.e. W <- (W * W.T) ^{-1/2} * W\n",
    "    \"\"\"\n",
    "    s, u = np.linalg.eigh(np.dot(W, W.T))\n",
    "    # u (resp. s) contains the eigenvectors (resp. square roots of\n",
    "    # the eigenvalues) of W * W.T\n",
    "    return np.dot(np.dot(u * (1. / np.sqrt(s)), u.T), W)\n",
    "w1 = _sym_decorrelation(w1)\n",
    "w2 = _sym_decorrelation(w2)\n",
    "w1 = w1 / np.sqrt((w1**2).sum(0))\n",
    "w2 = w2 / np.sqrt((w2**2).sum(0))\n",
    "\n",
    "m1 = np.zeros_like(w1)\n",
    "m2 = np.zeros_like(w2)\n",
    "\n",
    "# simple objective\n",
    "for iter in range(4000):\n",
    "    \n",
    "    y1= X @ w1\n",
    "    y2= g(y1)\n",
    "    y3= y2 @ w2\n",
    "    y4= g(y3)\n",
    "    y5= gg(y4)\n",
    "    y6= y5 @ w2.T\n",
    "    y7= gg(y6)\n",
    "    y8= y7 @ w1.T\n",
    "    \n",
    "    loss = np.sqrt((X-y8)**2)\n",
    "    \n",
    "    dgrad_loss = (X-y8)/(np.sqrt( (X-y8)**2) + 1e-8)\n",
    "    dgrad_w2T  = y5.T @ ((dgrad_loss @ w1) * gg_grad(y6))\n",
    "    dgrad_w2   = y2.T @(((dgrad_loss @ w1) * gg_grad(y6) @ w2)*gg_grad(y4) ) + dgrad_w2T.T\n",
    "    \n",
    "    dgrad_W1T  = y7.T @ dgrad_loss\n",
    "    dgrad_W1   = X.T@((((((dgrad_loss@w1)* gg_grad(y6))@w2)*gg_grad(y4)*g_grad(y3))@w2.T)*g_grad(y1)) + dgrad_W1T.T\n",
    "\n",
    "    m1 = 0.9 * m1   + (1-0.9)   * dgrad_W1\n",
    "    m2 = 0.9 * m2   + (1-0.9)   * dgrad_w2\n",
    "    \n",
    "    if iter%1000 == 0 : print(\"Current loss: \" + str(loss.mean()) + \"  Weight : \" + str(w2.ravel()))\n",
    "    w1 = w1 - 0.000008 * m1\n",
    "    w2 = w2 - 0.000008 * m2\n",
    "    \n",
    "    w1 = _sym_decorrelation(w1)\n",
    "    w2 = _sym_decorrelation(w2)\n",
    "    w1 = w1 / np.sqrt((w1**2).sum(0))\n",
    "    w2 = w2 / np.sqrt((w2**2).sum(0))\n",
    "    \n",
    "recon = y8\n",
    "# plt.scatter(y4[:,0],y4[:,1]); plt.show()\n",
    "plt.scatter(X[:,0],X[:,1]);         plt.show()\n",
    "plt.scatter(y8[:,0],y8[:,1]);         plt.show()"
   ]
  },
  {
   "cell_type": "code",
   "execution_count": 101,
   "metadata": {
    "ExecuteTime": {
     "end_time": "2019-03-30T04:59:49.753868Z",
     "start_time": "2019-03-30T04:59:49.750822Z"
    }
   },
   "outputs": [
    {
     "name": "stdout",
     "output_type": "stream",
     "text": [
      "(200, 2)\n"
     ]
    }
   ],
   "source": [
    "print(y4.shape)"
   ]
  },
  {
   "cell_type": "code",
   "execution_count": null,
   "metadata": {
    "ExecuteTime": {
     "end_time": "2019-03-30T04:55:38.336460Z",
     "start_time": "2019-03-30T04:55:38.198806Z"
    }
   },
   "outputs": [],
   "source": []
  },
  {
   "cell_type": "code",
   "execution_count": null,
   "metadata": {},
   "outputs": [],
   "source": []
  },
  {
   "cell_type": "code",
   "execution_count": 175,
   "metadata": {
    "ExecuteTime": {
     "end_time": "2019-03-30T05:13:34.167891Z",
     "start_time": "2019-03-30T05:13:33.925498Z"
    }
   },
   "outputs": [
    {
     "name": "stdout",
     "output_type": "stream",
     "text": [
      "(200, 2)\n",
      "(200, 2)\n",
      "-1.744011651702943   59.43445833173476   -247.6790298909393   288.82236094566673\n",
      "0.059170886847916895   6.606406184951791   -24.18528386153794   20.688867296907766\n",
      "EVD basis vector :  [0.0087124428 0.9999620459]\n",
      "MY  basis vector :  [0.0053035781 0.9999859359 0.9999859359 0.0053035781]\n",
      "[[1. 0.]\n",
      " [0. 1.]]\n",
      "MY  basis vector :  [0.6672170756 0.7448633257 0.7448633257 0.6672170756]\n",
      "[[1. 0.]\n",
      " [0. 1.]]\n"
     ]
    },
    {
     "data": {
      "image/png": "[encoded data removed]",
      "text/plain": [
       "<Figure size 432x288 with 1 Axes>"
      ]
     },
     "metadata": {
      "needs_background": "light"
     },
     "output_type": "display_data"
    },
    {
     "data": {
      "image/png": "[encoded data removed]",
      "text/plain": [
       "<Figure size 432x288 with 1 Axes>"
      ]
     },
     "metadata": {
      "needs_background": "light"
     },
     "output_type": "display_data"
    }
   ],
   "source": [
    "gt_compare = X @ evecs\n",
    "my_compare = y4\n",
    "print(gt_compare.shape)\n",
    "print(my_compare.shape)\n",
    "\n",
    "print(gt_compare.mean(),\" \", gt_compare.std(),\" \", gt_compare.min(),\" \", gt_compare.max())\n",
    "print(my_compare.mean(),\" \", my_compare.std(),\" \", my_compare.min(),\" \", my_compare.max())\n",
    "\n",
    "print(\"EVD basis vector : \",(good_project*np.sign(good_project)).ravel())\n",
    "print(\"MY  basis vector : \",(w1*np.sign(w1)).ravel())\n",
    "print(w1@w1)\n",
    "print(\"MY  basis vector : \",(w2*np.sign(w2)).ravel())\n",
    "print(w2@w2)\n",
    "\n",
    "# plt.scatter(range(len(gt_compare)),gt_compare); \n",
    "# plt.scatter(range(len(my_compare)),my_compare); plt.show()\n",
    "\n",
    "plt.scatter(gt_compare[:,0],gt_compare[:,1]);         plt.show()\n",
    "plt.scatter(my_compare[:,0],my_compare[:,1]);         plt.show()\n",
    "plt.show()"
   ]
  },
  {
   "cell_type": "code",
   "execution_count": 163,
   "metadata": {
    "ExecuteTime": {
     "end_time": "2019-03-30T05:11:12.849814Z",
     "start_time": "2019-03-30T05:11:12.838844Z"
    }
   },
   "outputs": [
    {
     "name": "stdout",
     "output_type": "stream",
     "text": [
      "[[ -4.9886292053  -4.3503816299]\n",
      " [-12.1837537347 -10.8998528023]\n",
      " [ -2.85375224    -2.5787563917]\n",
      " [ 11.2602201164  10.0603801943]\n",
      " [ -1.6896430068  -1.3599405577]\n",
      " [  8.7894248088   7.693006555 ]\n",
      " [-15.1900830953 -13.264077209 ]\n",
      " [  1.1173323398   0.9228332093]\n",
      " [ 10.6348139096   9.356924537 ]\n",
      " [ -8.285554567   -7.2678289332]\n",
      " [ -6.3956254132  -5.5699788547]\n",
      " [  3.5292411759   3.0965985408]\n",
      " [-14.4443416999 -12.5229366231]\n",
      " [-10.3000378949  -9.032724542 ]\n",
      " [  4.6952042465   4.0477801373]\n",
      " [ 12.4544090957  10.8193196327]\n",
      " [  1.3087126304   1.1819215263]\n",
      " [  4.9998056236   4.1488547971]\n",
      " [ 19.8335476246  17.2923616163]\n",
      " [  1.6122810181   1.5247223897]\n",
      " [ 11.5990025033  10.0938645587]\n",
      " [  4.5732304362   3.7559933986]\n",
      " [ 13.1679922892  11.6888611137]\n",
      " [  1.8309658056   1.5698703207]\n",
      " [ 12.8545985564  11.2344965207]\n",
      " [ 20.6888672969  18.1476930689]\n",
      " [ 10.2718998712   8.7783113909]\n",
      " [ -0.0407950841  -0.0854649762]\n",
      " [ 12.3724611704  10.9732498753]\n",
      " [  8.3466544989   7.1407678938]\n",
      " [-10.097320606   -8.7806090229]\n",
      " [ -0.0373991267   0.0527768254]\n",
      " [ -8.9557398053  -7.7501994071]\n",
      " [ 12.6762293194  11.1337880332]\n",
      " [-17.3322084225 -15.3014176984]\n",
      " [ 10.4059086265   9.1171401119]\n",
      " [ 12.4540574902  10.9723661947]\n",
      " [  1.703860787    1.5638231631]\n",
      " [-13.6520127016 -12.0588983839]\n",
      " [  1.0771243803   1.1364977516]\n",
      " [ -4.2821287598  -3.9362922019]\n",
      " [  1.8599492121   1.5825477517]\n",
      " [ -4.6021930553  -3.8096631021]\n",
      " [ -1.9223339862  -2.0290441916]\n",
      " [  5.7385352662   5.0393477302]\n",
      " [-16.3274906254 -14.3825490496]\n",
      " [ 14.9575667989  13.0213266868]\n",
      " [ -2.1790218629  -1.7969287895]\n",
      " [  4.4703822342   3.6847443846]\n",
      " [-12.1684879397 -10.8024848845]\n",
      " [  7.2179947942   6.5060938837]\n",
      " [-14.3590954588 -12.4649118934]\n",
      " [-13.2034750684 -11.7242720429]\n",
      " [ -8.3880499236  -7.5379910392]\n",
      " [  1.0984185777   0.8007506178]\n",
      " [  3.3408870473   2.8895616537]\n",
      " [-11.2988466909 -10.0313044163]\n",
      " [-24.1852838615 -21.0935061217]\n",
      " [  8.4917342      7.2782352476]\n",
      " [  1.5756322287   1.4186184107]\n",
      " [ -2.2901470498  -1.8925483203]\n",
      " [ -3.8520108652  -3.4451592433]\n",
      " [ -2.0731437181  -2.0082534414]\n",
      " [-10.4346378327  -8.9175175744]\n",
      " [-13.7885270727 -11.7933310833]\n",
      " [ -4.8511320716  -4.066746385 ]\n",
      " [-12.2854421555 -10.8406940892]\n",
      " [-14.6375922343 -12.9441762468]\n",
      " [ -0.9503207911  -1.0200647688]\n",
      " [ 13.2905306165  11.4553158922]\n",
      " [  7.8224647279   6.5688175622]\n",
      " [  0.7326185948   0.7567082721]\n",
      " [-13.942805875  -12.3177532893]\n",
      " [ -2.1637625964  -2.1314788757]\n",
      " [ -0.8929052626  -0.6885400972]\n",
      " [-11.9623067081 -10.3180161639]\n",
      " [  8.9943130823   7.9205379805]\n",
      " [ -4.9556017447  -4.5153272698]\n",
      " [ -8.4330158785  -7.6647459936]\n",
      " [  6.9225451187   6.102494402 ]\n",
      " [  4.8559357522   4.1584195093]\n",
      " [  0.22813534     0.0966642239]\n",
      " [ -2.1830277866  -1.9046169908]\n",
      " [ -3.4919520991  -2.9237964874]\n",
      " [  4.3618567288   3.8656903532]\n",
      " [-11.198718713   -9.8407710295]\n",
      " [ -0.7483786719  -0.6032197639]\n",
      " [  5.9510020661   5.1451395152]\n",
      " [ 10.6231633042   9.3594749358]\n",
      " [  7.5382917242   6.7298986628]\n",
      " [  0.4996443327   0.6240688436]\n",
      " [  4.0182601819   3.5786154204]\n",
      " [ -9.5538386182  -8.3395587575]\n",
      " [ -2.287331794   -2.0422952286]\n",
      " [ -7.1604014986  -6.3275661336]\n",
      " [ -3.4607980345  -2.8823050037]\n",
      " [ 10.3651498557   9.2035104512]\n",
      " [ -1.3154208416  -1.2139933282]\n",
      " [  6.430295258    5.9154829626]\n",
      " [ -8.4665591085  -7.2988039559]\n",
      " [ -0.8653097948  -1.4515998268]\n",
      " [  2.8006173003   1.5864311577]\n",
      " [  1.8222063404   0.8078629999]\n",
      " [ -0.7878871425  -1.3160291568]\n",
      " [ -2.2710272595  -2.6141964234]\n",
      " [  3.0723028111   1.9052213028]\n",
      " [ -3.8552889407  -3.9994266067]\n",
      " [  2.2871220618   1.2144114709]\n",
      " [  2.4811766202   1.4183258625]\n",
      " [ -1.0245326448  -1.5992665749]\n",
      " [ -1.4929718147  -1.9832463387]\n",
      " [  1.5356837326   0.5957586445]\n",
      " [ -5.6056295267  -5.4616814384]\n",
      " [ -1.5114746661  -2.0157379172]\n",
      " [  3.3639226385   2.1315586756]\n",
      " [  5.8183923031   4.2203877133]\n",
      " [  0.3230589749  -0.4291997615]\n",
      " [  7.0832409662   5.2469460614]\n",
      " [  7.4227756884   5.5958130655]\n",
      " [ -1.2933618618  -1.78125327  ]\n",
      " [  5.084530446    3.6022252341]\n",
      " [  7.4009636771   5.5111073852]\n",
      " [  0.6171796546  -0.1313071882]\n",
      " [  1.9797879391   0.9601980132]\n",
      " [  4.4952339835   3.1142938136]\n",
      " [  5.2989447804   3.8213243494]\n",
      " [  8.1254622015   6.1425177579]\n",
      " [  1.8677364301   0.8582314017]\n",
      " [  0.8348618165   0.0474870923]\n",
      " [  6.5788269559   4.8391891723]\n",
      " [ -3.1010504259  -3.3457540427]\n",
      " [ -1.105971322   -1.6315401073]\n",
      " [ -3.4906783894  -3.6670061111]\n",
      " [  3.2303166056   2.0544440748]\n",
      " [ -0.8410909961  -1.4850660085]\n",
      " [  3.2887320636   2.0934684439]\n",
      " [  2.446021111    1.396812289 ]\n",
      " [ -0.3667149962  -1.0050040263]\n",
      " [ -0.3536560306  -1.0609294518]\n",
      " [ -3.1957372086  -3.3763787474]\n",
      " [  3.8107574143   2.4665913423]\n",
      " [  2.2663988345   1.2002939476]\n",
      " [ -5.217434362   -5.093805998 ]\n",
      " [  7.9034603591   5.9035494952]\n",
      " [  1.9118436658   0.9203240435]\n",
      " [ -1.44775266    -1.9886290535]\n",
      " [  6.2259376608   4.5725105594]\n",
      " [ -2.2080826175  -2.5636257234]\n",
      " [  6.9614433462   5.1426638753]\n",
      " [  0.9572801134   0.0431328938]\n",
      " [ -1.4817624454  -1.9145875928]\n",
      " [ -5.2186730079  -5.1373244936]\n",
      " [  1.0376460469   0.1059142891]\n",
      " [  2.9169529138   1.700361528 ]\n",
      " [  4.6027757658   3.1531487145]\n",
      " [  2.4141619836   1.3304590858]\n",
      " [  0.9633153163   0.0519723739]\n",
      " [ -7.1576341616  -6.8035350708]\n",
      " [  6.3860221913   4.67839185  ]\n",
      " [  0.3249570469  -0.4264484048]\n",
      " [ -2.2731543031  -2.6185919123]\n",
      " [  1.4011400656   0.4509718508]\n",
      " [  4.5043727315   3.0569501981]\n",
      " [ -6.6705763253  -6.3358676698]\n",
      " [ -8.8565449938  -8.1807090974]\n",
      " [ -4.4202797758  -4.4274589339]\n",
      " [ -0.4839603886  -1.1640789143]\n",
      " [ -0.1123231832  -0.8631607094]\n",
      " [  4.6772721887   3.2066019011]\n",
      " [  8.143263827    6.1705655418]\n",
      " [  8.9305360923   6.8059144618]\n",
      " [ -1.5645119417  -2.0121082242]\n",
      " [ -0.3340064757  -1.0457436445]\n",
      " [  5.4463816946   3.8452683232]\n",
      " [ -1.4929710494  -1.9592869302]\n",
      " [ -5.6741981854  -5.5082849427]\n",
      " [  2.0656843602   1.0633053364]\n",
      " [  3.4061425283   2.1248885045]\n",
      " [  4.8271434917   3.2995045918]\n",
      " [  1.630001789    0.6895024052]\n",
      " [  4.0663934726   2.7204138927]\n",
      " [  3.1088103059   1.8985120738]\n",
      " [  0.0818489704  -0.6463598409]\n",
      " [ -3.039901311   -3.2657962452]\n",
      " [  0.8653759364   0.0381574855]\n",
      " [ -1.2733063901  -1.8202404091]\n",
      " [ -0.5498462725  -1.1690107514]\n",
      " [  3.7301314333   2.4436408089]\n",
      " [  2.1978207388   1.1810307094]\n",
      " [ -0.1551157343  -0.8024359915]\n",
      " [ -3.1924628135  -3.3761515458]\n",
      " [  0.4755339923  -0.2897401834]\n",
      " [ -2.1979115548  -2.5872196825]\n",
      " [  1.0747163711   0.1844807724]\n",
      " [  0.2477173806  -0.5291551712]\n",
      " [ -3.3445711372  -3.5207504823]\n",
      " [  0.5943427653  -0.1626312911]\n",
      " [  1.8196541638   0.8124240213]\n",
      " [ -3.8600789589  -3.9093022995]\n",
      " [ -3.8743050792  -3.9860740542]]\n"
     ]
    }
   ],
   "source": [
    "print(y4)"
   ]
  },
  {
   "cell_type": "code",
   "execution_count": 165,
   "metadata": {
    "ExecuteTime": {
     "end_time": "2019-03-30T05:11:26.520518Z",
     "start_time": "2019-03-30T05:11:26.511527Z"
    }
   },
   "outputs": [
    {
     "name": "stdout",
     "output_type": "stream",
     "text": [
      "[[  59.5715212668   -0.1594663627]\n",
      " [ 147.1128879508   -2.2584373754]\n",
      " [  34.6093819692   -0.703900618 ]\n",
      " [-135.8834792744    1.9970991213]\n",
      " [  19.5073206416    0.7178565778]\n",
      " [-105.1243101222    0.4720442226]\n",
      " [ 181.4945151727   -0.6040056274]\n",
      " [ -13.0386043348   -0.3147457219]\n",
      " [-127.4831015671    0.9024485045]\n",
      " [  99.1912620262   -0.552666641 ]\n",
      " [  76.329548769    -0.1542175436]\n",
      " [ -42.255692274     0.2412473657]\n",
      " [ 172.0537633036    0.0372365274]\n",
      " [ 123.2951749733   -0.6724467459]\n",
      " [ -55.792102971    -0.1675394481]\n",
      " [-148.4781312376    0.1148320134]\n",
      " [ -15.8676339268    0.3181827652]\n",
      " [ -58.4590929066   -1.2765974426]\n",
      " [-236.8198788041    0.6090292573]\n",
      " [ -19.9530741551    0.8586826988]\n",
      " [-138.384277738     0.2269357339]\n",
      " [ -53.2421348963   -1.432074474 ]\n",
      " [-158.4574310342    1.8186946333]\n",
      " [ -21.7061247386   -0.1239590361]\n",
      " [-153.6472917179    0.5776274394]\n",
      " [-247.6790298909    1.3804514198]\n",
      " [-121.6035789323   -0.8913449991]\n",
      " [   0.7813526194   -0.3404947405]\n",
      " [-148.8287130869    1.6446362204]\n",
      " [ -98.8573865193   -0.6715153752]\n",
      " [ 120.4301855367   -0.1537803789]\n",
      " [  -0.0569560029    0.57936788  ]\n",
      " [ 106.5923346232    0.1198778961]\n",
      " [-151.8406977088    0.9447767327]\n",
      " [ 208.0728734455   -1.823392235 ]\n",
      " [-124.5127803996    0.6220518316]\n",
      " [-149.3782651785    1.1574499504]\n",
      " [ -20.80629312      0.5844727689]\n",
      " [ 163.9303567592   -1.480235434 ]\n",
      " [ -14.0252276423    1.3750415421]\n",
      " [  52.3262033949   -1.5103981069]\n",
      " [ -21.9779388538   -0.2086835935]\n",
      " [  53.7555414921    1.2379750961]\n",
      " [  25.0351005899   -2.4591034141]\n",
      " [ -68.7329122056    0.4214214188]\n",
      " [ 195.8233005931   -1.5009980115]\n",
      " [-178.4821519294    0.3247371847]\n",
      " [  25.4114914654    0.6327235877]\n",
      " [ -52.1227232177   -1.3099858204]\n",
      " [ 146.4349134483   -1.6864683183]\n",
      " [ -87.4410603728    1.6691869541]\n",
      " [ 171.1320095357   -0.0709626013]\n",
      " [ 158.9074943332   -1.8502051181]\n",
      " [ 101.4812768071   -1.7850440565]\n",
      " [ -12.1900838931   -1.0332344913]\n",
      " [ -39.754187485    -0.0556353903]\n",
      " [ 135.9746349887   -1.571633378 ]\n",
      " [ 288.8223609457   -0.7900956855]\n",
      " [-100.6544182927   -0.5924353928]\n",
      " [ -19.0782022783    0.3534150097]\n",
      " [  26.7308916855    0.6379299963]\n",
      " [  46.5056458642   -0.7076765366]\n",
      " [  25.9378328993   -1.4284159486]\n",
      " [ 123.5309209962    0.9045747167]\n",
      " [ 163.2924351608    1.1303567157]\n",
      " [  56.9640818835    0.9581057333]\n",
      " [ 147.4553924831   -1.2565621366]\n",
      " [ 175.8517241215   -1.6871095469]\n",
      " [  12.4764937844   -1.3311963332]\n",
      " [-157.9133241157   -0.4917658502]\n",
      " [ -91.9206612853   -1.4689568728]\n",
      " [  -9.4433351324    0.8244708296]\n",
      " [ 167.4339057084   -1.525333442 ]\n",
      " [  27.2806068995   -1.7318255302]\n",
      " [  10.1311125229    0.5842158827]\n",
      " [ 142.1761727755    0.3915114329]\n",
      " [-107.8590859844    0.8107639786]\n",
      " [  60.3196656952   -1.4756760628]\n",
      " [ 102.5344760562   -2.3816683459]\n",
      " [ -83.0522852748    0.6674482754]\n",
      " [ -57.5373432464   -0.36315917  ]\n",
      " [  -2.1210982831   -0.6881193376]\n",
      " [  26.0737708178   -0.075811906 ]\n",
      " [  40.9831447453    0.7137164054]\n",
      " [ -52.4519207173    0.5602244738]\n",
      " [ 134.1702909012   -0.8666811291]\n",
      " [   8.6453552872    0.3120164962]\n",
      " [ -70.8013077959   -0.1122424776]\n",
      " [-127.4189304025    0.9884926442]\n",
      " [ -90.9385090563    1.3019981568]\n",
      " [  -7.0771897505    1.29653464  ]\n",
      " [ -48.4229530725    0.6346465767]\n",
      " [ 114.1342202159   -0.3600794385]\n",
      " [  27.5948173263   -0.3967822963]\n",
      " [  85.9967022263   -0.7950300415]\n",
      " [  40.5266544541    0.8120945041]\n",
      " [-124.7449975026    1.4496298412]\n",
      " [  16.1023714968   -0.4966762387]\n",
      " [ -78.6027225087    2.2988068207]\n",
      " [ 100.60455085      0.304132332 ]\n",
      " [  14.4433019115   -4.7664641869]\n",
      " [ -28.3963246103   -5.7294551385]\n",
      " [ -17.1529688076   -5.2530967578]\n",
      " [  13.1174468351   -4.3013019751]\n",
      " [  30.8564993833   -4.3812160233]\n",
      " [ -32.123404532    -5.1641859098]\n",
      " [  49.7964799178   -4.4567402546]\n",
      " [ -22.7113127912   -5.2306593815]\n",
      " [ -25.2331605537   -4.9886218484]\n",
      " [  16.396637611    -4.8314856097]\n",
      " [  21.8458481047   -4.6797031783]\n",
      " [ -13.9541456098   -5.0055273772]\n",
      " [  70.3198290499   -4.0765685246]\n",
      " [  22.1632514099   -4.7914969808]\n",
      " [ -35.4408160208   -5.345045379 ]\n",
      " [ -64.4463954719   -5.6175072438]\n",
      " [   0.3345782124   -4.8231732167]\n",
      " [ -79.099618068    -6.0969509996]\n",
      " [ -83.4653613055   -5.7273036948]\n",
      " [  19.2975600587   -4.4834889639]\n",
      " [ -55.8116201393   -5.4926909057]\n",
      " [ -82.8175498439   -6.1745803601]\n",
      " [  -3.4218014322   -4.5322854677]\n",
      " [ -19.1226748755   -5.146657827 ]\n",
      " [ -48.9277070213   -5.3349603595]\n",
      " [ -58.5614366794   -5.2674771103]\n",
      " [ -91.4667886417   -6.154109804 ]\n",
      " [ -17.759547603    -5.1791418541]\n",
      " [  -5.9561555727   -4.6003697886]\n",
      " [ -73.2656040307   -5.8946805567]\n",
      " [  40.8137611974   -4.460290285 ]\n",
      " [  17.1406479215   -4.570660725 ]\n",
      " [  45.3572352597   -4.346784331 ]\n",
      " [ -34.0776959772   -5.0814554043]\n",
      " [  14.4759933346   -5.1368162477]\n",
      " [ -34.7049843656   -5.1606129304]\n",
      " [ -24.8672758366   -4.9275758742]\n",
      " [   8.4198166534   -4.670357483 ]\n",
      " [   8.6608258549   -5.1275969588]\n",
      " [  41.6381204928   -4.1101303793]\n",
      " [ -40.4544970577   -5.7022106571]\n",
      " [ -22.4871662966   -5.2044365876]\n",
      " [  65.5111556769   -3.864638685 ]\n",
      " [ -88.5482160642   -6.4696674814]\n",
      " [ -18.4255911155   -5.0170846522]\n",
      " [  21.5701508894   -4.9829595656]\n",
      " [ -69.2937344321   -5.6267865421]\n",
      " [  30.1303282535   -4.4085803458]\n",
      " [ -77.6565731244   -6.0877049473]\n",
      " [  -6.7627853537   -5.3518812469]\n",
      " [  21.3647523883   -4.2790032243]\n",
      " [  65.7762081712   -4.1532111456]\n",
      " [  -7.6794088523   -5.3989609418]\n",
      " [ -29.8591299559   -5.6408946198]\n",
      " [ -49.8879998025   -5.7049708664]\n",
      " [ -24.2593809083   -5.1908279077]\n",
      " [  -6.855944874    -5.3273726656]\n",
      " [  88.7847039077   -4.0474026677]\n",
      " [ -71.0065173206   -5.8509406159]\n",
      " [   0.305448547    -4.8156601268]\n",
      " [  30.8968813408   -4.3985571054]\n",
      " [ -12.1855838574   -5.1965029237]\n",
      " [ -48.6516815995   -5.7787241815]\n",
      " [  82.7153965661   -3.7399986415]\n",
      " [ 108.4566621064   -3.392061392 ]\n",
      " [  56.161913673    -4.0350949343]\n",
      " [  10.1550273142   -5.0604849322]\n",
      " [   5.8537801476   -5.2061457447]\n",
      " [ -50.7097082411   -5.7808590447]\n",
      " [ -91.7532190851   -6.0683936368]\n",
      " [-100.8524745649   -6.3913257843]\n",
      " [  22.5024407253   -4.4540552568]\n",
      " [   8.4376793927   -5.1402251139]\n",
      " [ -59.7050408866   -5.9741290617]\n",
      " [  21.7045528782   -4.516810659 ]\n",
      " [  71.0608423855   -3.9890665792]\n",
      " [ -20.314703808    -4.952180171 ]\n",
      " [ -35.688529403    -5.6393681832]\n",
      " [ -52.2765171123   -6.0330250062]\n",
      " [ -15.1482147194   -4.9243742878]\n",
      " [ -43.6893410738   -5.4840034537]\n",
      " [ -32.3320497259   -5.4250879383]\n",
      " [   3.2551405667   -4.8771881268]\n",
      " [  39.9265002124   -4.2772670676]\n",
      " [  -6.1086000376   -4.8437441595]\n",
      " [  19.3911148292   -4.8668259441]\n",
      " [  10.6320605562   -4.7054829942]\n",
      " [ -39.7709904339   -5.3827923815]\n",
      " [ -21.9073159373   -4.9309959306]\n",
      " [   5.786624181    -4.5409357974]\n",
      " [  41.614518468    -4.127894962 ]\n",
      " [  -1.5244816559   -4.7741589592]\n",
      " [  30.2003114126   -4.6289720804]\n",
      " [  -8.3947564806   -5.0834030691]\n",
      " [   1.436259177    -5.0584638324]\n",
      " [  43.501392327    -4.2140134907]\n",
      " [  -3.0818162143   -4.6105836768]\n",
      " [ -17.1625134852   -5.2070366082]\n",
      " [  49.2975783821   -3.8157493077]\n",
      " [  49.8470274959   -4.2538186416]]\n"
     ]
    }
   ],
   "source": [
    "print(X@evecs)"
   ]
  },
  {
   "cell_type": "code",
   "execution_count": null,
   "metadata": {},
   "outputs": [],
   "source": []
  },
  {
   "cell_type": "code",
   "execution_count": null,
   "metadata": {},
   "outputs": [],
   "source": []
  },
  {
   "cell_type": "code",
   "execution_count": null,
   "metadata": {
    "ExecuteTime": {
     "end_time": "2019-03-30T04:29:15.741050Z",
     "start_time": "2019-03-30T04:29:15.720103Z"
    },
    "scrolled": false
   },
   "outputs": [],
   "source": []
  },
  {
   "cell_type": "code",
   "execution_count": 164,
   "metadata": {
    "ExecuteTime": {
     "end_time": "2019-03-30T05:11:18.499986Z",
     "start_time": "2019-03-30T05:11:18.275074Z"
    }
   },
   "outputs": [
    {
     "name": "stdout",
     "output_type": "stream",
     "text": [
      "[-0.0087124428 -0.9999620459]\n"
     ]
    },
    {
     "data": {
      "image/png": "[encoded data removed]",
      "text/plain": [
       "<Figure size 432x288 with 1 Axes>"
      ]
     },
     "metadata": {
      "needs_background": "light"
     },
     "output_type": "display_data"
    },
    {
     "data": {
      "image/png": "[encoded data removed]",
      "text/plain": [
       "<Figure size 432x288 with 1 Axes>"
      ]
     },
     "metadata": {
      "needs_background": "light"
     },
     "output_type": "display_data"
    }
   ],
   "source": [
    "cov = X.T @ X / X.shape[0]\n",
    "evals,evecs = np.linalg.eig(cov)\n",
    "idx = np.argsort(evals)[::-1]\n",
    "evecs = evecs[:,idx]\n",
    "evals = evals[idx]\n",
    "print(evecs[0,:])\n",
    "good_project = evecs[0,:][:,None]\n",
    "recon_gt = (X @ good_project @ good_project.T)\n",
    "plt.scatter(X[:,0],X[:,1]);         plt.show()\n",
    "plt.scatter(recon_gt[:,0],recon_gt[:,1]); plt.show()"
   ]
  },
  {
   "cell_type": "code",
   "execution_count": 96,
   "metadata": {
    "ExecuteTime": {
     "end_time": "2019-03-30T04:58:53.796085Z",
     "start_time": "2019-03-30T04:58:53.584046Z"
    }
   },
   "outputs": [
    {
     "name": "stdout",
     "output_type": "stream",
     "text": [
      "(200, 2)\n"
     ]
    },
    {
     "data": {
      "image/png": "[encoded data removed]",
      "text/plain": [
       "<Figure size 432x288 with 1 Axes>"
      ]
     },
     "metadata": {
      "needs_background": "light"
     },
     "output_type": "display_data"
    },
    {
     "data": {
      "image/png": "[encoded data removed]",
      "text/plain": [
       "<Figure size 432x288 with 1 Axes>"
      ]
     },
     "metadata": {
      "needs_background": "light"
     },
     "output_type": "display_data"
    }
   ],
   "source": [
    "gt_2d = X @evecs\n",
    "print(gt_2d.shape)\n",
    "plt.scatter(y4[:,0],y4[:,1]); plt.show()\n",
    "plt.scatter(gt_2d[:,0],gt_2d[:,1]); plt.show()"
   ]
  },
  {
   "cell_type": "code",
   "execution_count": null,
   "metadata": {},
   "outputs": [],
   "source": []
  },
  {
   "cell_type": "code",
   "execution_count": null,
   "metadata": {},
   "outputs": [],
   "source": []
  },
  {
   "cell_type": "code",
   "execution_count": null,
   "metadata": {},
   "outputs": [],
   "source": []
  },
  {
   "cell_type": "code",
   "execution_count": 146,
   "metadata": {
    "ExecuteTime": {
     "end_time": "2019-03-30T02:12:26.509429Z",
     "start_time": "2019-03-30T02:12:26.503112Z"
    }
   },
   "outputs": [
    {
     "data": {
      "text/plain": [
       "array([[-0.02331227],\n",
       "       [-0.99972823]])"
      ]
     },
     "execution_count": 146,
     "metadata": {},
     "output_type": "execute_result"
    }
   ],
   "source": [
    "good_project"
   ]
  },
  {
   "cell_type": "code",
   "execution_count": 147,
   "metadata": {
    "ExecuteTime": {
     "end_time": "2019-03-30T02:12:28.560175Z",
     "start_time": "2019-03-30T02:12:28.554458Z"
    }
   },
   "outputs": [
    {
     "data": {
      "text/plain": [
       "array([[0.17628245],\n",
       "       [0.98433963]])"
      ]
     },
     "execution_count": 147,
     "metadata": {},
     "output_type": "execute_result"
    }
   ],
   "source": [
    "w"
   ]
  },
  {
   "cell_type": "code",
   "execution_count": null,
   "metadata": {},
   "outputs": [],
   "source": []
  },
  {
   "cell_type": "code",
   "execution_count": 189,
   "metadata": {
    "ExecuteTime": {
     "end_time": "2019-03-30T02:59:30.096192Z",
     "start_time": "2019-03-30T02:59:29.785924Z"
    }
   },
   "outputs": [
    {
     "name": "stdout",
     "output_type": "stream",
     "text": [
      "[[0.53163258]\n",
      " [0.84697509]]\n",
      "Current loss: 243.18822607516861  Weight : [0.53163258 0.84697509]\n",
      "Current loss: 303.25917148804814  Weight : [0.5904391  0.80708219]\n",
      "Current loss: 339.95656698581485  Weight : [0.62344997 0.78186324]\n"
     ]
    },
    {
     "data": {
      "image/png": "[encoded data removed]",
      "text/plain": [
       "<Figure size 432x288 with 1 Axes>"
      ]
     },
     "metadata": {
      "needs_background": "light"
     },
     "output_type": "display_data"
    },
    {
     "data": {
      "image/png": "[encoded data removed]",
      "text/plain": [
       "<Figure size 432x288 with 1 Axes>"
      ]
     },
     "metadata": {
      "needs_background": "light"
     },
     "output_type": "display_data"
    },
    {
     "name": "stdout",
     "output_type": "stream",
     "text": [
      "[[0.65277955]\n",
      " [0.75754792]]\n"
     ]
    }
   ],
   "source": [
    "# simple objective\n",
    "w = np.random.uniform(0,1,size=(2,1))\n",
    "w = w / np.sqrt((w**2).sum())\n",
    "print(w)\n",
    "m = np.zeros_like(w)\n",
    "v = np.zeros_like(w)\n",
    "\n",
    "# simple objective\n",
    "for iter in range(3000):\n",
    "    loss = (X - X @ w @ w.T)\n",
    "    grad = (X.T @ loss @ w) + (w.T@X.T@loss).T + 0.01*w\n",
    "    \n",
    "    m = 0.9 * m   + (1-0.9)   * grad\n",
    "    v = 0.999 * v + (1-0.999) * grad ** 2\n",
    "    \n",
    "    m_hat = m/(1-0.9)\n",
    "    v_hat = v/(1-0.999)\n",
    "    \n",
    "    if iter%1000 == 0 :\n",
    "        print(\"Current loss: \" + str((loss**2).mean()) + \"  Weight : \" + str(w.ravel()))\n",
    "    w = w - 0.00008 * (m_hat/(np.sqrt(v_hat)+1e-8))\n",
    "    w = w / np.sqrt((w**2).sum())\n",
    "\n",
    "recon = (X @ w @ w.T)\n",
    "plt.scatter(X[:,0],X[:,1]);         plt.show()\n",
    "plt.scatter(recon[:,0],recon[:,1]); plt.show()\n",
    "print(w)"
   ]
  },
  {
   "cell_type": "code",
   "execution_count": 66,
   "metadata": {
    "ExecuteTime": {
     "end_time": "2019-03-30T02:08:24.267158Z",
     "start_time": "2019-03-30T02:08:24.024786Z"
    }
   },
   "outputs": [
    {
     "data": {
      "image/png": "[encoded data removed]",
      "text/plain": [
       "<Figure size 432x288 with 1 Axes>"
      ]
     },
     "metadata": {
      "needs_background": "light"
     },
     "output_type": "display_data"
    },
    {
     "data": {
      "image/png": "[encoded data removed]",
      "text/plain": [
       "<Figure size 432x288 with 1 Axes>"
      ]
     },
     "metadata": {
      "needs_background": "light"
     },
     "output_type": "display_data"
    },
    {
     "name": "stdout",
     "output_type": "stream",
     "text": [
      "[[0.99518299]\n",
      " [0.09803477]]\n"
     ]
    }
   ],
   "source": [
    "recon = (X @ w @ w.T)\n",
    "plt.scatter(X[:,0],X[:,1]); \n",
    "plt.show()\n",
    "plt.scatter(recon[:,0],recon[:,1]); plt.show()\n",
    "print(w)"
   ]
  },
  {
   "cell_type": "code",
   "execution_count": null,
   "metadata": {},
   "outputs": [],
   "source": []
  },
  {
   "cell_type": "code",
   "execution_count": null,
   "metadata": {},
   "outputs": [],
   "source": []
  },
  {
   "cell_type": "code",
   "execution_count": null,
   "metadata": {},
   "outputs": [],
   "source": []
  },
  {
   "cell_type": "code",
   "execution_count": null,
   "metadata": {},
   "outputs": [],
   "source": []
  },
  {
   "cell_type": "code",
   "execution_count": null,
   "metadata": {},
   "outputs": [],
   "source": []
  },
  {
   "cell_type": "code",
   "execution_count": 190,
   "metadata": {
    "ExecuteTime": {
     "end_time": "2019-03-30T02:59:34.321801Z",
     "start_time": "2019-03-30T02:59:34.026566Z"
    }
   },
   "outputs": [
    {
     "name": "stdout",
     "output_type": "stream",
     "text": [
      "[[0.96485399]\n",
      " [0.26278656]]\n",
      "Current loss: 853.0707262825993  Weight : [0.96485399 0.26278656]\n",
      "Current loss: 0.00504240287753152  Weight : [0.02331227 0.99972823]\n",
      "Current loss: 0.00504240287753152  Weight : [0.02331227 0.99972823]\n"
     ]
    },
    {
     "data": {
      "image/png": "[encoded data removed]",
      "text/plain": [
       "<Figure size 432x288 with 1 Axes>"
      ]
     },
     "metadata": {
      "needs_background": "light"
     },
     "output_type": "display_data"
    },
    {
     "data": {
      "image/png": "[encoded data removed]",
      "text/plain": [
       "<Figure size 432x288 with 1 Axes>"
      ]
     },
     "metadata": {
      "needs_background": "light"
     },
     "output_type": "display_data"
    },
    {
     "name": "stdout",
     "output_type": "stream",
     "text": [
      "[[0.02331227]\n",
      " [0.99972823]]\n"
     ]
    }
   ],
   "source": [
    "# simple objective\n",
    "w = np.random.uniform(0,1,size=(2,1))\n",
    "w = w / np.sqrt((w**2).sum())\n",
    "print(w)\n",
    "m = np.zeros_like(w)\n",
    "v = np.zeros_like(w)\n",
    "\n",
    "# simple objective\n",
    "for iter in range(3000):\n",
    "    loss = (X - X @ w @ w.T)\n",
    "    grad = (np.eye(2) + 0.00008 * X.T @ X) @ w\n",
    "    \n",
    "    m = 0.9 * m   + (1-0.9)   * grad\n",
    "    v = 0.999 * v + (1-0.999) * grad ** 2\n",
    "    \n",
    "    m_hat = m/(1-0.9)\n",
    "    v_hat = v/(1-0.999)\n",
    "    \n",
    "    if iter%1000 == 0 :\n",
    "        print(\"Current loss: \" + str((loss**2).mean()) + \"  Weight : \" + str(w.ravel()))\n",
    "    w = w - grad\n",
    "    w = w / np.sqrt((w**2).sum())\n",
    "\n",
    "recon = (X @ w @ w.T)\n",
    "plt.scatter(X[:,0],X[:,1]);         plt.show()\n",
    "plt.scatter(recon[:,0],recon[:,1]); plt.show()\n",
    "print(w)"
   ]
  },
  {
   "cell_type": "code",
   "execution_count": null,
   "metadata": {},
   "outputs": [],
   "source": []
  },
  {
   "cell_type": "code",
   "execution_count": null,
   "metadata": {},
   "outputs": [],
   "source": []
  },
  {
   "cell_type": "code",
   "execution_count": null,
   "metadata": {},
   "outputs": [],
   "source": []
  },
  {
   "cell_type": "code",
   "execution_count": 161,
   "metadata": {
    "ExecuteTime": {
     "end_time": "2019-03-30T02:25:55.700611Z",
     "start_time": "2019-03-30T02:25:55.431743Z"
    }
   },
   "outputs": [
    {
     "name": "stdout",
     "output_type": "stream",
     "text": [
      "[[0.14193065]\n",
      " [0.9898766 ]]\n",
      "Current loss: 13.11429302103555  Weight : [0.14193065 0.9898766 ]\n",
      "Current loss: 0.005042402877531518  Weight : [0.02331227 0.99972823]\n",
      "Current loss: 0.005042402877531518  Weight : [0.02331227 0.99972823]\n"
     ]
    },
    {
     "data": {
      "image/png": "[encoded data removed]",
      "text/plain": [
       "<Figure size 432x288 with 1 Axes>"
      ]
     },
     "metadata": {
      "needs_background": "light"
     },
     "output_type": "display_data"
    },
    {
     "data": {
      "image/png": "[encoded data removed]",
      "text/plain": [
       "<Figure size 432x288 with 1 Axes>"
      ]
     },
     "metadata": {
      "needs_background": "light"
     },
     "output_type": "display_data"
    },
    {
     "name": "stdout",
     "output_type": "stream",
     "text": [
      "[[0.02331227]\n",
      " [0.99972823]]\n"
     ]
    }
   ],
   "source": [
    "# simple objective\n",
    "w = np.random.uniform(0,1,size=(2,1))\n",
    "w = w / np.sqrt((w**2).sum())\n",
    "print(w)\n",
    "m = np.zeros_like(w)\n",
    "v = np.zeros_like(w)\n",
    "\n",
    "# simple objective\n",
    "for iter in range(3000):\n",
    "    loss = (X - X @ w @ w.T)\n",
    "    grad = (X.T@X@w)\n",
    "    \n",
    "    m = 0.9 * m   + (1-0.9)   * grad\n",
    "    v = 0.999 * v + (1-0.999) * grad ** 2\n",
    "    \n",
    "    m_hat = m/(1-0.9)\n",
    "    v_hat = v/(1-0.999)\n",
    "    \n",
    "    if iter%1000 == 0 :\n",
    "        print(\"Current loss: \" + str((loss**2).mean()) + \"  Weight : \" + str(w.ravel()))\n",
    "    w = w + grad\n",
    "    w = w / np.sqrt((w**2).sum())\n",
    "\n",
    "recon = (X @ w @ w.T)\n",
    "plt.scatter(X[:,0],X[:,1]);         plt.show()\n",
    "plt.scatter(recon[:,0],recon[:,1]); plt.show()\n",
    "print(w)"
   ]
  },
  {
   "cell_type": "code",
   "execution_count": null,
   "metadata": {},
   "outputs": [],
   "source": []
  },
  {
   "cell_type": "code",
   "execution_count": null,
   "metadata": {},
   "outputs": [],
   "source": []
  },
  {
   "cell_type": "code",
   "execution_count": null,
   "metadata": {},
   "outputs": [],
   "source": []
  },
  {
   "cell_type": "code",
   "execution_count": null,
   "metadata": {},
   "outputs": [],
   "source": []
  },
  {
   "cell_type": "code",
   "execution_count": null,
   "metadata": {},
   "outputs": [],
   "source": []
  },
  {
   "cell_type": "code",
   "execution_count": 56,
   "metadata": {
    "ExecuteTime": {
     "end_time": "2019-03-30T01:27:00.313207Z",
     "start_time": "2019-03-30T01:27:00.307222Z"
    }
   },
   "outputs": [
    {
     "name": "stdout",
     "output_type": "stream",
     "text": [
      "[[-0.99090501]\n",
      " [ 0.4142096 ]]\n",
      "[[-0.92263583]\n",
      " [ 0.3856723 ]]\n",
      "1.0\n"
     ]
    }
   ],
   "source": [
    "# simple objective\n",
    "w = np.random.randn(2,1)\n",
    "print(w)\n",
    "\n",
    "ww = w/np.sqrt((w**2).sum())\n",
    "print(ww)\n",
    "print((ww**2).sum())"
   ]
  },
  {
   "cell_type": "code",
   "execution_count": 54,
   "metadata": {
    "ExecuteTime": {
     "end_time": "2019-03-30T01:26:00.180959Z",
     "start_time": "2019-03-30T01:26:00.173977Z"
    }
   },
   "outputs": [
    {
     "name": "stdout",
     "output_type": "stream",
     "text": [
      "1.4142135623730951\n",
      "1.0\n",
      "1.0\n",
      "1.0000000000000002\n",
      "1.0000000000000002\n"
     ]
    }
   ],
   "source": [
    "temp = np.array([np.sqrt(2)/2,np.sqrt(2)/2])\n",
    "print(np.sqrt(temp**2).sum())\n",
    "print(\n",
    "np.linalg.norm(temp)\n",
    ")\n",
    "print(\n",
    "np.sqrt((temp**2).sum())\n",
    ")\n",
    "print(\n",
    "temp@temp.T\n",
    ")\n",
    "print(\n",
    "(temp**2).sum()\n",
    ")"
   ]
  },
  {
   "cell_type": "code",
   "execution_count": null,
   "metadata": {},
   "outputs": [],
   "source": []
  },
  {
   "cell_type": "code",
   "execution_count": null,
   "metadata": {},
   "outputs": [],
   "source": []
  },
  {
   "cell_type": "code",
   "execution_count": null,
   "metadata": {},
   "outputs": [],
   "source": []
  },
  {
   "cell_type": "code",
   "execution_count": null,
   "metadata": {},
   "outputs": [],
   "source": []
  },
  {
   "cell_type": "code",
   "execution_count": null,
   "metadata": {},
   "outputs": [],
   "source": []
  },
  {
   "cell_type": "code",
   "execution_count": null,
   "metadata": {},
   "outputs": [],
   "source": []
  },
  {
   "cell_type": "markdown",
   "metadata": {},
   "source": [
    "# Reference \n",
    "1. Brownlee, J. (2018). How to Generate Test Datasets in Python with scikit-learn. Machine Learning Mastery. Retrieved 30 March 2019, from https://machinelearningmastery.com/generate-test-datasets-python-scikit-learn/\n",
    "2. notebook, S., & Davies, L. (2017). Shortcut key for changing code cell to markdown cell in jupyter notebook. Stack Overflow. Retrieved 30 March 2019, from https://stackoverflow.com/questions/47787721/shortcut-key-for-changing-code-cell-to-markdown-cell-in-jupyter-notebook\n",
    "3. NumPy?, H., Hoogendoorn, E., Feicho, E., Travnik, J., & Hsu, W. (2014). How to normalize an array in NumPy?. Stack Overflow. Retrieved 30 March 2019, from https://stackoverflow.com/questions/21030391/how-to-normalize-an-array-in-numpy\n",
    "4. An overview of gradient descent optimization algorithms. (2016). Sebastian Ruder. Retrieved 30 March 2019, from http://ruder.io/optimizing-gradient-descent/index.html#adam\n",
    "5. results, P., & Rieble, N. (2016). PCA in numpy and sklearn produces different results. Cross Validated. Retrieved 30 March 2019, from https://stats.stackexchange.com/questions/235882/pca-in-numpy-and-sklearn-produces-different-resultsa"
   ]
  }
 ],
 "metadata": {
  "kernelspec": {
   "display_name": "Python 3",
   "language": "python",
   "name": "python3"
  },
  "language_info": {
   "codemirror_mode": {
    "name": "ipython",
    "version": 3
   },
   "file_extension": ".py",
   "mimetype": "text/x-python",
   "name": "python",
   "nbconvert_exporter": "python",
   "pygments_lexer": "ipython3",
   "version": "3.6.6"
  },
  "latex_envs": {
   "LaTeX_envs_menu_present": true,
   "autoclose": false,
   "autocomplete": true,
   "bibliofile": "biblio.bib",
   "cite_by": "apalike",
   "current_citInitial": 1,
   "eqLabelWithNumbers": true,
   "eqNumInitial": 1,
   "hotkeys": {
    "equation": "Ctrl-E",
    "itemize": "Ctrl-I"
   },
   "labels_anchors": false,
   "latex_user_defs": false,
   "report_style_numbering": false,
   "user_envs_cfg": false
  },
  "varInspector": {
   "cols": {
    "lenName": 16,
    "lenType": 16,
    "lenVar": 40
   },
   "kernels_config": {
    "python": {
     "delete_cmd_postfix": "",
     "delete_cmd_prefix": "del ",
     "library": "var_list.py",
     "varRefreshCmd": "print(var_dic_list())"
    },
    "r": {
     "delete_cmd_postfix": ") ",
     "delete_cmd_prefix": "rm(",
     "library": "var_list.r",
     "varRefreshCmd": "cat(var_dic_list()) "
    }
   },
   "types_to_exclude": [
    "module",
    "function",
    "builtin_function_or_method",
    "instance",
    "_Feature"
   ],
   "window_display": false
  }
 },
 "nbformat": 4,
 "nbformat_minor": 2
}
