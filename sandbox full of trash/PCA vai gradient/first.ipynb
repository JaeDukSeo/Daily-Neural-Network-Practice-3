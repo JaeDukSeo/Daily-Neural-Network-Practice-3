{
 "cells": [
  {
   "cell_type": "code",
   "execution_count": 5,
   "metadata": {
    "ExecuteTime": {
     "end_time": "2019-03-30T01:01:38.427996Z",
     "start_time": "2019-03-30T01:01:38.424008Z"
    }
   },
   "outputs": [],
   "source": [
    "# import lib\n",
    "import numpy as np\n",
    "from matplotlib import pyplot as plt\n",
    "from sklearn import linear_model, datasets\n",
    "\n",
    "np.random.seed(6789)"
   ]
  },
  {
   "cell_type": "code",
   "execution_count": 33,
   "metadata": {
    "ExecuteTime": {
     "end_time": "2019-03-30T01:07:37.287318Z",
     "start_time": "2019-03-30T01:07:37.175635Z"
    }
   },
   "outputs": [
    {
     "name": "stdout",
     "output_type": "stream",
     "text": [
      "(100, 2)\n"
     ]
    },
    {
     "data": {
      "image/png": "[encoded data removed]",
      "text/plain": [
       "<Figure size 432x288 with 1 Axes>"
      ]
     },
     "metadata": {
      "needs_background": "light"
     },
     "output_type": "display_data"
    }
   ],
   "source": [
    "# create data\n",
    "n_samples  = 100\n",
    "n_outliers = 5\n",
    "x, y      = datasets.make_regression(n_samples=n_samples, n_features=1,n_informative=1, noise=10, random_state=0)\n",
    "X         = np.append(x,y[:,None],1)  \n",
    "\n",
    "print(X.shape)\n",
    "plt.scatter(X[:,0],X[:,1]); plt.show()"
   ]
  },
  {
   "cell_type": "code",
   "execution_count": 184,
   "metadata": {
    "ExecuteTime": {
     "end_time": "2019-03-30T01:39:34.352308Z",
     "start_time": "2019-03-30T01:39:34.310383Z"
    },
    "scrolled": false
   },
   "outputs": [
    {
     "name": "stdout",
     "output_type": "stream",
     "text": [
      "Current loss: 538.7680397618169  Weight : [-0.0461873   1.31821293]\n",
      "Current loss: 3.2507889103407863  Weight : [-0.03519425  0.99938049]\n",
      "Current loss: 3.271020675766563  Weight : [-0.03537406  0.99937414]\n",
      "Current loss: 3.2913790983776896  Weight : [-0.03555442  0.99936774]\n",
      "Current loss: 3.3118649657496575  Weight : [-0.03573535  0.99936129]\n",
      "Current loss: 3.3324790702878966  Weight : [-0.03591685  0.99935478]\n",
      "Current loss: 3.353222209256719  Weight : [-0.03609891  0.99934822]\n",
      "Current loss: 3.374095184808118  Weight : [-0.03628153  0.99934161]\n",
      "Current loss: 3.395098804010895  Weight : [-0.03646473  0.99933494]\n",
      "Current loss: 3.4162338788799036  Weight : [-0.03664849  0.99932822]\n"
     ]
    }
   ],
   "source": [
    "# simple objective\n",
    "w = np.random.randn(2,1)\n",
    "\n",
    "for iter in range(1000):\n",
    "    loss = (X - X @ w @ w.T)\n",
    "    grad = 2 * (X.T @ loss @ w) + 2*(w.T@X.T@loss).T\n",
    "    \n",
    "    if iter%100 == 0 :\n",
    "        print(\"Current loss: \" + str((loss**2).mean()) + \"  Weight : \" + str(w.ravel()))\n",
    "    w = w - 0.00000000008 * grad\n",
    "    w = w / np.sqrt((w**2).sum())\n",
    "\n",
    "\n"
   ]
  },
  {
   "cell_type": "code",
   "execution_count": 187,
   "metadata": {
    "ExecuteTime": {
     "end_time": "2019-03-30T01:40:22.397309Z",
     "start_time": "2019-03-30T01:40:22.183619Z"
    }
   },
   "outputs": [
    {
     "data": {
      "image/png": "[encoded data removed]",
      "text/plain": [
       "<Figure size 432x288 with 1 Axes>"
      ]
     },
     "metadata": {
      "needs_background": "light"
     },
     "output_type": "display_data"
    },
    {
     "data": {
      "image/png": "[encoded data removed]",
      "text/plain": [
       "<Figure size 432x288 with 1 Axes>"
      ]
     },
     "metadata": {
      "needs_background": "light"
     },
     "output_type": "display_data"
    },
    {
     "name": "stdout",
     "output_type": "stream",
     "text": [
      "[[-0.03683284]\n",
      " [ 0.99932144]]\n"
     ]
    }
   ],
   "source": [
    "recon = X @ w @ w.T\n",
    "plt.scatter(X[:,0],X[:,1]); plt.show()\n",
    "plt.scatter(recon[:,0],recon[:,1]); plt.show()\n",
    "print(w)"
   ]
  },
  {
   "cell_type": "code",
   "execution_count": null,
   "metadata": {},
   "outputs": [],
   "source": []
  },
  {
   "cell_type": "code",
   "execution_count": null,
   "metadata": {},
   "outputs": [],
   "source": []
  },
  {
   "cell_type": "code",
   "execution_count": null,
   "metadata": {},
   "outputs": [],
   "source": []
  },
  {
   "cell_type": "code",
   "execution_count": null,
   "metadata": {},
   "outputs": [],
   "source": []
  },
  {
   "cell_type": "code",
   "execution_count": 56,
   "metadata": {
    "ExecuteTime": {
     "end_time": "2019-03-30T01:27:00.313207Z",
     "start_time": "2019-03-30T01:27:00.307222Z"
    }
   },
   "outputs": [
    {
     "name": "stdout",
     "output_type": "stream",
     "text": [
      "[[-0.99090501]\n",
      " [ 0.4142096 ]]\n",
      "[[-0.92263583]\n",
      " [ 0.3856723 ]]\n",
      "1.0\n"
     ]
    }
   ],
   "source": [
    "# simple objective\n",
    "w = np.random.randn(2,1)\n",
    "print(w)\n",
    "\n",
    "ww = w/np.sqrt((w**2).sum())\n",
    "print(ww)\n",
    "print((ww**2).sum())"
   ]
  },
  {
   "cell_type": "code",
   "execution_count": 54,
   "metadata": {
    "ExecuteTime": {
     "end_time": "2019-03-30T01:26:00.180959Z",
     "start_time": "2019-03-30T01:26:00.173977Z"
    }
   },
   "outputs": [
    {
     "name": "stdout",
     "output_type": "stream",
     "text": [
      "1.4142135623730951\n",
      "1.0\n",
      "1.0\n",
      "1.0000000000000002\n",
      "1.0000000000000002\n"
     ]
    }
   ],
   "source": [
    "temp = np.array([np.sqrt(2)/2,np.sqrt(2)/2])\n",
    "print(np.sqrt(temp**2).sum())\n",
    "print(\n",
    "np.linalg.norm(temp)\n",
    ")\n",
    "print(\n",
    "np.sqrt((temp**2).sum())\n",
    ")\n",
    "print(\n",
    "temp@temp.T\n",
    ")\n",
    "print(\n",
    "(temp**2).sum()\n",
    ")"
   ]
  },
  {
   "cell_type": "code",
   "execution_count": null,
   "metadata": {},
   "outputs": [],
   "source": []
  },
  {
   "cell_type": "code",
   "execution_count": null,
   "metadata": {},
   "outputs": [],
   "source": []
  },
  {
   "cell_type": "code",
   "execution_count": null,
   "metadata": {},
   "outputs": [],
   "source": []
  },
  {
   "cell_type": "code",
   "execution_count": null,
   "metadata": {},
   "outputs": [],
   "source": []
  },
  {
   "cell_type": "code",
   "execution_count": null,
   "metadata": {},
   "outputs": [],
   "source": []
  },
  {
   "cell_type": "code",
   "execution_count": null,
   "metadata": {},
   "outputs": [],
   "source": []
  },
  {
   "cell_type": "markdown",
   "metadata": {},
   "source": [
    "# Reference \n",
    "1. Brownlee, J. (2018). How to Generate Test Datasets in Python with scikit-learn. Machine Learning Mastery. Retrieved 30 March 2019, from https://machinelearningmastery.com/generate-test-datasets-python-scikit-learn/\n",
    "2. notebook, S., & Davies, L. (2017). Shortcut key for changing code cell to markdown cell in jupyter notebook. Stack Overflow. Retrieved 30 March 2019, from https://stackoverflow.com/questions/47787721/shortcut-key-for-changing-code-cell-to-markdown-cell-in-jupyter-notebook\n",
    "3. NumPy?, H., Hoogendoorn, E., Feicho, E., Travnik, J., & Hsu, W. (2014). How to normalize an array in NumPy?. Stack Overflow. Retrieved 30 March 2019, from https://stackoverflow.com/questions/21030391/how-to-normalize-an-array-in-numpy\n",
    "4."
   ]
  }
 ],
 "metadata": {
  "kernelspec": {
   "display_name": "Python 3",
   "language": "python",
   "name": "python3"
  },
  "language_info": {
   "codemirror_mode": {
    "name": "ipython",
    "version": 3
   },
   "file_extension": ".py",
   "mimetype": "text/x-python",
   "name": "python",
   "nbconvert_exporter": "python",
   "pygments_lexer": "ipython3",
   "version": "3.6.6"
  },
  "latex_envs": {
   "LaTeX_envs_menu_present": true,
   "autoclose": false,
   "autocomplete": true,
   "bibliofile": "biblio.bib",
   "cite_by": "apalike",
   "current_citInitial": 1,
   "eqLabelWithNumbers": true,
   "eqNumInitial": 1,
   "hotkeys": {
    "equation": "Ctrl-E",
    "itemize": "Ctrl-I"
   },
   "labels_anchors": false,
   "latex_user_defs": false,
   "report_style_numbering": false,
   "user_envs_cfg": false
  },
  "varInspector": {
   "cols": {
    "lenName": 16,
    "lenType": 16,
    "lenVar": 40
   },
   "kernels_config": {
    "python": {
     "delete_cmd_postfix": "",
     "delete_cmd_prefix": "del ",
     "library": "var_list.py",
     "varRefreshCmd": "print(var_dic_list())"
    },
    "r": {
     "delete_cmd_postfix": ") ",
     "delete_cmd_prefix": "rm(",
     "library": "var_list.r",
     "varRefreshCmd": "cat(var_dic_list()) "
    }
   },
   "types_to_exclude": [
    "module",
    "function",
    "builtin_function_or_method",
    "instance",
    "_Feature"
   ],
   "window_display": false
  }
 },
 "nbformat": 4,
 "nbformat_minor": 2
}
