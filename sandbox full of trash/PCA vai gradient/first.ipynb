{
 "cells": [
  {
   "cell_type": "code",
   "execution_count": 1,
   "metadata": {
    "ExecuteTime": {
     "end_time": "2019-03-30T01:56:05.378700Z",
     "start_time": "2019-03-30T01:56:04.345810Z"
    }
   },
   "outputs": [],
   "source": [
    "# import lib\n",
    "import numpy as np\n",
    "from matplotlib import pyplot as plt\n",
    "from sklearn import linear_model, datasets\n",
    "\n",
    "np.random.seed(6789)"
   ]
  },
  {
   "cell_type": "code",
   "execution_count": 40,
   "metadata": {
    "ExecuteTime": {
     "end_time": "2019-03-30T02:01:50.756868Z",
     "start_time": "2019-03-30T02:01:50.640683Z"
    }
   },
   "outputs": [
    {
     "name": "stdout",
     "output_type": "stream",
     "text": [
      "(100, 2)\n"
     ]
    },
    {
     "data": {
      "image/png": "[encoded data removed]",
      "text/plain": [
       "<Figure size 432x288 with 1 Axes>"
      ]
     },
     "metadata": {
      "needs_background": "light"
     },
     "output_type": "display_data"
    }
   ],
   "source": [
    "# create data\n",
    "n_samples  = 100\n",
    "n_outliers = 5\n",
    "x, y      = datasets.make_regression(n_samples=n_samples, n_features=1,n_informative=1, noise=4, random_state=0)\n",
    "X         = np.append(x,y[:,None],1)  \n",
    "\n",
    "print(X.shape)\n",
    "x -= np.mean(x, axis = 0)\n",
    "plt.scatter(X[:,0],X[:,1]); plt.show()"
   ]
  },
  {
   "cell_type": "code",
   "execution_count": 55,
   "metadata": {
    "ExecuteTime": {
     "end_time": "2019-03-30T02:02:48.241279Z",
     "start_time": "2019-03-30T02:02:48.234305Z"
    }
   },
   "outputs": [
    {
     "name": "stdout",
     "output_type": "stream",
     "text": [
      "[[0.11840995]\n",
      " [0.99296479]]\n"
     ]
    }
   ],
   "source": [
    "# simple objective\n",
    "w = np.random.uniform(0,1,size=(2,1))\n",
    "# w = np.random.randn(2,1)\n",
    "w = w / np.sqrt((w**2).sum())\n",
    "print(w)\n",
    "m = np.zeros_like(w)\n",
    "v = np.zeros_like(w)"
   ]
  },
  {
   "cell_type": "code",
   "execution_count": null,
   "metadata": {},
   "outputs": [],
   "source": []
  },
  {
   "cell_type": "code",
   "execution_count": 170,
   "metadata": {
    "ExecuteTime": {
     "end_time": "2019-03-30T02:56:13.349235Z",
     "start_time": "2019-03-30T02:56:13.037070Z"
    }
   },
   "outputs": [
    {
     "name": "stdout",
     "output_type": "stream",
     "text": [
      "[[0.83211321]\n",
      " [0.55460581]]\n",
      "Current loss: 1180793.4514568255  Weight : [0.83211321 0.55460581]\n",
      "Current loss: 1180802.3402258963  Weight : [0.83211425 0.55460426]\n",
      "Current loss: 1180808.4350611835  Weight : [0.83211495 0.55460319]\n"
     ]
    },
    {
     "data": {
      "image/png": "[encoded data removed]",
      "text/plain": [
       "<Figure size 432x288 with 1 Axes>"
      ]
     },
     "metadata": {
      "needs_background": "light"
     },
     "output_type": "display_data"
    },
    {
     "data": {
      "image/png": "[encoded data removed]",
      "text/plain": [
       "<Figure size 432x288 with 1 Axes>"
      ]
     },
     "metadata": {
      "needs_background": "light"
     },
     "output_type": "display_data"
    },
    {
     "name": "stdout",
     "output_type": "stream",
     "text": [
      "[[0.83211588]\n",
      " [0.5546018 ]]\n"
     ]
    }
   ],
   "source": [
    "# simple objective\n",
    "w = np.random.uniform(0,1,size=(2,1))\n",
    "w = w / np.sqrt((w**2).sum(0))\n",
    "print(w)\n",
    "m = np.zeros_like(w)\n",
    "v = np.zeros_like(w)\n",
    "\n",
    "# simple objective\n",
    "for iter in range(3000):\n",
    "    loss = (X - X @ w @ w.T)**2\n",
    "    grad = - X.T @ (X - X @ w @ w.T) @ w\n",
    "    \n",
    "    m = 0.9 * m   + (1-0.9)   * grad\n",
    "    v = 0.999 * v + (1-0.999) * grad ** 2\n",
    "    \n",
    "    m_hat = m/(1-0.9)\n",
    "    v_hat = v/(1-0.999)\n",
    "    \n",
    "    if iter%1000 == 0 :\n",
    "        print(\"Current loss: \" + str((loss**2).mean()) + \"  Weight : \" + str(w.ravel()))\n",
    "    w = w - 0.0000008 * (m_hat/(np.sqrt(v_hat)+1e-8))\n",
    "    w = w / np.sqrt((w**2).sum())\n",
    "\n",
    "recon = (X @ w @ w.T)\n",
    "plt.scatter(X[:,0],X[:,1]);         plt.show()\n",
    "plt.scatter(recon[:,0],recon[:,1]); plt.show()\n",
    "print(w)"
   ]
  },
  {
   "cell_type": "code",
   "execution_count": null,
   "metadata": {},
   "outputs": [],
   "source": []
  },
  {
   "cell_type": "code",
   "execution_count": null,
   "metadata": {},
   "outputs": [],
   "source": []
  },
  {
   "cell_type": "code",
   "execution_count": null,
   "metadata": {},
   "outputs": [],
   "source": []
  },
  {
   "cell_type": "code",
   "execution_count": null,
   "metadata": {},
   "outputs": [],
   "source": []
  },
  {
   "cell_type": "code",
   "execution_count": null,
   "metadata": {},
   "outputs": [],
   "source": []
  },
  {
   "cell_type": "code",
   "execution_count": null,
   "metadata": {},
   "outputs": [],
   "source": []
  },
  {
   "cell_type": "code",
   "execution_count": null,
   "metadata": {},
   "outputs": [],
   "source": []
  },
  {
   "cell_type": "code",
   "execution_count": null,
   "metadata": {},
   "outputs": [],
   "source": []
  },
  {
   "cell_type": "code",
   "execution_count": null,
   "metadata": {},
   "outputs": [],
   "source": []
  },
  {
   "cell_type": "code",
   "execution_count": null,
   "metadata": {},
   "outputs": [],
   "source": []
  },
  {
   "cell_type": "code",
   "execution_count": 165,
   "metadata": {
    "ExecuteTime": {
     "end_time": "2019-03-30T02:44:25.802768Z",
     "start_time": "2019-03-30T02:44:25.786242Z"
    },
    "scrolled": false
   },
   "outputs": [
    {
     "name": "stdout",
     "output_type": "stream",
     "text": [
      "[[0.56027756 0.33284084]\n",
      " [0.82830493 0.94298302]]\n"
     ]
    },
    {
     "ename": "ValueError",
     "evalue": "operands could not be broadcast together with shapes (2,2) (100,2) ",
     "output_type": "error",
     "traceback": [
      "\u001b[1;31m---------------------------------------------------------------------------\u001b[0m",
      "\u001b[1;31mValueError\u001b[0m                                Traceback (most recent call last)",
      "\u001b[1;32m<ipython-input-165-e77ef3b931e8>\u001b[0m in \u001b[0;36m<module>\u001b[1;34m\u001b[0m\n\u001b[0;32m      8\u001b[0m \u001b[1;31m# simple objective\u001b[0m\u001b[1;33m\u001b[0m\u001b[1;33m\u001b[0m\u001b[0m\n\u001b[0;32m      9\u001b[0m \u001b[1;32mfor\u001b[0m \u001b[0miter\u001b[0m \u001b[1;32min\u001b[0m \u001b[0mrange\u001b[0m\u001b[1;33m(\u001b[0m\u001b[1;36m3000\u001b[0m\u001b[1;33m)\u001b[0m\u001b[1;33m:\u001b[0m\u001b[1;33m\u001b[0m\u001b[0m\n\u001b[1;32m---> 10\u001b[1;33m     \u001b[0mloss\u001b[0m \u001b[1;33m=\u001b[0m \u001b[1;33m(\u001b[0m\u001b[0mX\u001b[0m\u001b[1;33m.\u001b[0m\u001b[0mT\u001b[0m \u001b[1;33m@\u001b[0m \u001b[0mX\u001b[0m \u001b[1;33m-\u001b[0m \u001b[1;33m(\u001b[0m\u001b[0mX\u001b[0m \u001b[1;33m@\u001b[0m \u001b[0mw\u001b[0m\u001b[1;33m)\u001b[0m \u001b[1;33m**\u001b[0m \u001b[1;36m2\u001b[0m \u001b[1;33m)\u001b[0m\u001b[1;33m\u001b[0m\u001b[0m\n\u001b[0m\u001b[0;32m     11\u001b[0m     \u001b[0mgrad\u001b[0m \u001b[1;33m=\u001b[0m \u001b[1;33m-\u001b[0m \u001b[0mX\u001b[0m\u001b[1;33m.\u001b[0m\u001b[0mT\u001b[0m \u001b[1;33m@\u001b[0m \u001b[0mX\u001b[0m \u001b[1;33m@\u001b[0m \u001b[0mw\u001b[0m\u001b[1;33m\u001b[0m\u001b[0m\n\u001b[0;32m     12\u001b[0m \u001b[1;33m\u001b[0m\u001b[0m\n",
      "\u001b[1;31mValueError\u001b[0m: operands could not be broadcast together with shapes (2,2) (100,2) "
     ]
    }
   ],
   "source": [
    "# simple objective\n",
    "w = np.random.uniform(0,1,size=(2,2))\n",
    "w = w / np.sqrt((w**2).sum(0))\n",
    "print(w)\n",
    "m = np.zeros_like(w)\n",
    "v = np.zeros_like(w)\n",
    "\n",
    "# simple objective\n",
    "for iter in range(3000):\n",
    "    loss = (X.T @ X - (X @ w) ** 2 )\n",
    "    grad = - X.T @ X @ w\n",
    "    \n",
    "    m = 0.9 * m   + (1-0.9)   * grad\n",
    "    v = 0.999 * v + (1-0.999) * grad ** 2\n",
    "    \n",
    "    m_hat = m/(1-0.9)\n",
    "    v_hat = v/(1-0.999)\n",
    "    \n",
    "    if iter%1000 == 0 :\n",
    "        print(\"Current loss: \" + str((loss**2).mean()) + \"  Weight : \" + str(w.ravel()))\n",
    "    w = w - 0.0000008 * (m_hat/(np.sqrt(v_hat)+1e-8))\n",
    "    w = w / np.sqrt((w**2).sum())\n",
    "\n",
    "recon = (X @ w @ w.T)\n",
    "plt.scatter(X[:,0],X[:,1]);         plt.show()\n",
    "plt.scatter(recon[:,0],recon[:,1]); plt.show()\n",
    "print(w)"
   ]
  },
  {
   "cell_type": "code",
   "execution_count": 129,
   "metadata": {
    "ExecuteTime": {
     "end_time": "2019-03-30T02:10:59.060735Z",
     "start_time": "2019-03-30T02:10:58.810693Z"
    }
   },
   "outputs": [
    {
     "name": "stdout",
     "output_type": "stream",
     "text": [
      "[-0.02331227 -0.99972823]\n"
     ]
    },
    {
     "data": {
      "image/png": "[encoded data removed]",
      "text/plain": [
       "<Figure size 432x288 with 1 Axes>"
      ]
     },
     "metadata": {
      "needs_background": "light"
     },
     "output_type": "display_data"
    },
    {
     "data": {
      "image/png": "[encoded data removed]",
      "text/plain": [
       "<Figure size 432x288 with 1 Axes>"
      ]
     },
     "metadata": {
      "needs_background": "light"
     },
     "output_type": "display_data"
    }
   ],
   "source": [
    "cov = X.T @ X / X.shape[0]\n",
    "evals,evecs = np.linalg.eig(cov)\n",
    "idx = np.argsort(evals)[::-1]\n",
    "evecs = evecs[:,idx]\n",
    "evals = evals[idx]\n",
    "print(evecs[0,:])\n",
    "good_project = evecs[0,:][:,None]\n",
    "recon_gt = (X @ good_project @ good_project.T)\n",
    "plt.scatter(X[:,0],X[:,1]);         plt.show()\n",
    "plt.scatter(recon_gt[:,0],recon_gt[:,1]); plt.show()"
   ]
  },
  {
   "cell_type": "code",
   "execution_count": 146,
   "metadata": {
    "ExecuteTime": {
     "end_time": "2019-03-30T02:12:26.509429Z",
     "start_time": "2019-03-30T02:12:26.503112Z"
    }
   },
   "outputs": [
    {
     "data": {
      "text/plain": [
       "array([[-0.02331227],\n",
       "       [-0.99972823]])"
      ]
     },
     "execution_count": 146,
     "metadata": {},
     "output_type": "execute_result"
    }
   ],
   "source": [
    "good_project"
   ]
  },
  {
   "cell_type": "code",
   "execution_count": 147,
   "metadata": {
    "ExecuteTime": {
     "end_time": "2019-03-30T02:12:28.560175Z",
     "start_time": "2019-03-30T02:12:28.554458Z"
    }
   },
   "outputs": [
    {
     "data": {
      "text/plain": [
       "array([[0.17628245],\n",
       "       [0.98433963]])"
      ]
     },
     "execution_count": 147,
     "metadata": {},
     "output_type": "execute_result"
    }
   ],
   "source": [
    "w"
   ]
  },
  {
   "cell_type": "code",
   "execution_count": null,
   "metadata": {},
   "outputs": [],
   "source": []
  },
  {
   "cell_type": "code",
   "execution_count": 75,
   "metadata": {
    "ExecuteTime": {
     "end_time": "2019-03-30T02:09:31.603543Z",
     "start_time": "2019-03-30T02:09:31.261934Z"
    }
   },
   "outputs": [
    {
     "name": "stdout",
     "output_type": "stream",
     "text": [
      "[[0.0382198 ]\n",
      " [0.99926936]]\n",
      "Current loss: 0.2115938194836903  Weight : [0.0382198  0.99926936]\n",
      "Current loss: 6.41433787440276  Weight : [0.10628794 0.99433539]\n",
      "Current loss: 14.577396688763015  Weight : [0.14836547 0.9889326 ]\n"
     ]
    },
    {
     "data": {
      "image/png": "[encoded data removed]",
      "text/plain": [
       "<Figure size 432x288 with 1 Axes>"
      ]
     },
     "metadata": {
      "needs_background": "light"
     },
     "output_type": "display_data"
    },
    {
     "data": {
      "image/png": "[encoded data removed]",
      "text/plain": [
       "<Figure size 432x288 with 1 Axes>"
      ]
     },
     "metadata": {
      "needs_background": "light"
     },
     "output_type": "display_data"
    },
    {
     "name": "stdout",
     "output_type": "stream",
     "text": [
      "[[0.18626648]\n",
      " [0.98249926]]\n"
     ]
    }
   ],
   "source": [
    "# simple objective\n",
    "w = np.random.uniform(0,1,size=(2,1))\n",
    "w = w / np.sqrt((w**2).sum())\n",
    "print(w)\n",
    "m = np.zeros_like(w)\n",
    "v = np.zeros_like(w)\n",
    "\n",
    "# simple objective\n",
    "for iter in range(3000):\n",
    "    loss = (X - X @ w @ w.T)\n",
    "    grad = (X.T @ loss @ w) + (w.T@X.T@loss).T + 0.01*w\n",
    "    \n",
    "    m = 0.9 * m   + (1-0.9)   * grad\n",
    "    v = 0.999 * v + (1-0.999) * grad ** 2\n",
    "    \n",
    "    m_hat = m/(1-0.9)\n",
    "    v_hat = v/(1-0.999)\n",
    "    \n",
    "    if iter%1000 == 0 :\n",
    "        print(\"Current loss: \" + str((loss**2).mean()) + \"  Weight : \" + str(w.ravel()))\n",
    "    w = w - 0.00008 * (m_hat/(np.sqrt(v_hat)+1e-8))\n",
    "    w = w / np.sqrt((w**2).sum())\n",
    "\n",
    "recon = (X @ w @ w.T)\n",
    "plt.scatter(X[:,0],X[:,1]);         plt.show()\n",
    "plt.scatter(recon[:,0],recon[:,1]); plt.show()\n",
    "print(w)"
   ]
  },
  {
   "cell_type": "code",
   "execution_count": 66,
   "metadata": {
    "ExecuteTime": {
     "end_time": "2019-03-30T02:08:24.267158Z",
     "start_time": "2019-03-30T02:08:24.024786Z"
    }
   },
   "outputs": [
    {
     "data": {
      "image/png": "[encoded data removed]",
      "text/plain": [
       "<Figure size 432x288 with 1 Axes>"
      ]
     },
     "metadata": {
      "needs_background": "light"
     },
     "output_type": "display_data"
    },
    {
     "data": {
      "image/png": "[encoded data removed]",
      "text/plain": [
       "<Figure size 432x288 with 1 Axes>"
      ]
     },
     "metadata": {
      "needs_background": "light"
     },
     "output_type": "display_data"
    },
    {
     "name": "stdout",
     "output_type": "stream",
     "text": [
      "[[0.99518299]\n",
      " [0.09803477]]\n"
     ]
    }
   ],
   "source": [
    "recon = (X @ w @ w.T)\n",
    "plt.scatter(X[:,0],X[:,1]); \n",
    "plt.show()\n",
    "plt.scatter(recon[:,0],recon[:,1]); plt.show()\n",
    "print(w)"
   ]
  },
  {
   "cell_type": "code",
   "execution_count": null,
   "metadata": {},
   "outputs": [],
   "source": []
  },
  {
   "cell_type": "code",
   "execution_count": null,
   "metadata": {},
   "outputs": [],
   "source": []
  },
  {
   "cell_type": "code",
   "execution_count": null,
   "metadata": {},
   "outputs": [],
   "source": []
  },
  {
   "cell_type": "code",
   "execution_count": null,
   "metadata": {},
   "outputs": [],
   "source": []
  },
  {
   "cell_type": "code",
   "execution_count": null,
   "metadata": {},
   "outputs": [],
   "source": []
  },
  {
   "cell_type": "code",
   "execution_count": 151,
   "metadata": {
    "ExecuteTime": {
     "end_time": "2019-03-30T02:16:11.235126Z",
     "start_time": "2019-03-30T02:16:10.951373Z"
    }
   },
   "outputs": [
    {
     "name": "stdout",
     "output_type": "stream",
     "text": [
      "[[0.89405213]\n",
      " [0.44796294]]\n",
      "Current loss: 724.625962392861  Weight : [0.89405213 0.44796294]\n",
      "Current loss: 0.00504240287753152  Weight : [0.02331227 0.99972823]\n",
      "Current loss: 0.00504240287753152  Weight : [0.02331227 0.99972823]\n"
     ]
    },
    {
     "data": {
      "image/png": "[encoded data removed]",
      "text/plain": [
       "<Figure size 432x288 with 1 Axes>"
      ]
     },
     "metadata": {
      "needs_background": "light"
     },
     "output_type": "display_data"
    },
    {
     "data": {
      "image/png": "[encoded data removed]",
      "text/plain": [
       "<Figure size 432x288 with 1 Axes>"
      ]
     },
     "metadata": {
      "needs_background": "light"
     },
     "output_type": "display_data"
    },
    {
     "name": "stdout",
     "output_type": "stream",
     "text": [
      "[[0.02331227]\n",
      " [0.99972823]]\n"
     ]
    }
   ],
   "source": [
    "# simple objective\n",
    "w = np.random.uniform(0,1,size=(2,1))\n",
    "w = w / np.sqrt((w**2).sum())\n",
    "print(w)\n",
    "m = np.zeros_like(w)\n",
    "v = np.zeros_like(w)\n",
    "\n",
    "# simple objective\n",
    "for iter in range(3000):\n",
    "    loss = (X - X @ w @ w.T)\n",
    "    grad = (np.eye(2) + 0.00008 * X.T @ X) @ w\n",
    "    \n",
    "    m = 0.9 * m   + (1-0.9)   * grad\n",
    "    v = 0.999 * v + (1-0.999) * grad ** 2\n",
    "    \n",
    "    m_hat = m/(1-0.9)\n",
    "    v_hat = v/(1-0.999)\n",
    "    \n",
    "    if iter%1000 == 0 :\n",
    "        print(\"Current loss: \" + str((loss**2).mean()) + \"  Weight : \" + str(w.ravel()))\n",
    "    w = w - grad\n",
    "    w = w / np.sqrt((w**2).sum())\n",
    "\n",
    "recon = (X @ w @ w.T)\n",
    "plt.scatter(X[:,0],X[:,1]);         plt.show()\n",
    "plt.scatter(recon[:,0],recon[:,1]); plt.show()\n",
    "print(w)"
   ]
  },
  {
   "cell_type": "code",
   "execution_count": null,
   "metadata": {},
   "outputs": [],
   "source": []
  },
  {
   "cell_type": "code",
   "execution_count": null,
   "metadata": {},
   "outputs": [],
   "source": []
  },
  {
   "cell_type": "code",
   "execution_count": null,
   "metadata": {},
   "outputs": [],
   "source": []
  },
  {
   "cell_type": "code",
   "execution_count": 161,
   "metadata": {
    "ExecuteTime": {
     "end_time": "2019-03-30T02:25:55.700611Z",
     "start_time": "2019-03-30T02:25:55.431743Z"
    }
   },
   "outputs": [
    {
     "name": "stdout",
     "output_type": "stream",
     "text": [
      "[[0.14193065]\n",
      " [0.9898766 ]]\n",
      "Current loss: 13.11429302103555  Weight : [0.14193065 0.9898766 ]\n",
      "Current loss: 0.005042402877531518  Weight : [0.02331227 0.99972823]\n",
      "Current loss: 0.005042402877531518  Weight : [0.02331227 0.99972823]\n"
     ]
    },
    {
     "data": {
      "image/png": "[encoded data removed]",
      "text/plain": [
       "<Figure size 432x288 with 1 Axes>"
      ]
     },
     "metadata": {
      "needs_background": "light"
     },
     "output_type": "display_data"
    },
    {
     "data": {
      "image/png": "[encoded data removed]",
      "text/plain": [
       "<Figure size 432x288 with 1 Axes>"
      ]
     },
     "metadata": {
      "needs_background": "light"
     },
     "output_type": "display_data"
    },
    {
     "name": "stdout",
     "output_type": "stream",
     "text": [
      "[[0.02331227]\n",
      " [0.99972823]]\n"
     ]
    }
   ],
   "source": [
    "# simple objective\n",
    "w = np.random.uniform(0,1,size=(2,1))\n",
    "w = w / np.sqrt((w**2).sum())\n",
    "print(w)\n",
    "m = np.zeros_like(w)\n",
    "v = np.zeros_like(w)\n",
    "\n",
    "# simple objective\n",
    "for iter in range(3000):\n",
    "    loss = (X - X @ w @ w.T)\n",
    "    grad = (X.T@X@w)\n",
    "    \n",
    "    m = 0.9 * m   + (1-0.9)   * grad\n",
    "    v = 0.999 * v + (1-0.999) * grad ** 2\n",
    "    \n",
    "    m_hat = m/(1-0.9)\n",
    "    v_hat = v/(1-0.999)\n",
    "    \n",
    "    if iter%1000 == 0 :\n",
    "        print(\"Current loss: \" + str((loss**2).mean()) + \"  Weight : \" + str(w.ravel()))\n",
    "    w = w + grad\n",
    "    w = w / np.sqrt((w**2).sum())\n",
    "\n",
    "recon = (X @ w @ w.T)\n",
    "plt.scatter(X[:,0],X[:,1]);         plt.show()\n",
    "plt.scatter(recon[:,0],recon[:,1]); plt.show()\n",
    "print(w)"
   ]
  },
  {
   "cell_type": "code",
   "execution_count": null,
   "metadata": {},
   "outputs": [],
   "source": []
  },
  {
   "cell_type": "code",
   "execution_count": null,
   "metadata": {},
   "outputs": [],
   "source": []
  },
  {
   "cell_type": "code",
   "execution_count": null,
   "metadata": {},
   "outputs": [],
   "source": []
  },
  {
   "cell_type": "code",
   "execution_count": null,
   "metadata": {},
   "outputs": [],
   "source": []
  },
  {
   "cell_type": "code",
   "execution_count": null,
   "metadata": {},
   "outputs": [],
   "source": []
  },
  {
   "cell_type": "code",
   "execution_count": 56,
   "metadata": {
    "ExecuteTime": {
     "end_time": "2019-03-30T01:27:00.313207Z",
     "start_time": "2019-03-30T01:27:00.307222Z"
    }
   },
   "outputs": [
    {
     "name": "stdout",
     "output_type": "stream",
     "text": [
      "[[-0.99090501]\n",
      " [ 0.4142096 ]]\n",
      "[[-0.92263583]\n",
      " [ 0.3856723 ]]\n",
      "1.0\n"
     ]
    }
   ],
   "source": [
    "# simple objective\n",
    "w = np.random.randn(2,1)\n",
    "print(w)\n",
    "\n",
    "ww = w/np.sqrt((w**2).sum())\n",
    "print(ww)\n",
    "print((ww**2).sum())"
   ]
  },
  {
   "cell_type": "code",
   "execution_count": 54,
   "metadata": {
    "ExecuteTime": {
     "end_time": "2019-03-30T01:26:00.180959Z",
     "start_time": "2019-03-30T01:26:00.173977Z"
    }
   },
   "outputs": [
    {
     "name": "stdout",
     "output_type": "stream",
     "text": [
      "1.4142135623730951\n",
      "1.0\n",
      "1.0\n",
      "1.0000000000000002\n",
      "1.0000000000000002\n"
     ]
    }
   ],
   "source": [
    "temp = np.array([np.sqrt(2)/2,np.sqrt(2)/2])\n",
    "print(np.sqrt(temp**2).sum())\n",
    "print(\n",
    "np.linalg.norm(temp)\n",
    ")\n",
    "print(\n",
    "np.sqrt((temp**2).sum())\n",
    ")\n",
    "print(\n",
    "temp@temp.T\n",
    ")\n",
    "print(\n",
    "(temp**2).sum()\n",
    ")"
   ]
  },
  {
   "cell_type": "code",
   "execution_count": null,
   "metadata": {},
   "outputs": [],
   "source": []
  },
  {
   "cell_type": "code",
   "execution_count": null,
   "metadata": {},
   "outputs": [],
   "source": []
  },
  {
   "cell_type": "code",
   "execution_count": null,
   "metadata": {},
   "outputs": [],
   "source": []
  },
  {
   "cell_type": "code",
   "execution_count": null,
   "metadata": {},
   "outputs": [],
   "source": []
  },
  {
   "cell_type": "code",
   "execution_count": null,
   "metadata": {},
   "outputs": [],
   "source": []
  },
  {
   "cell_type": "code",
   "execution_count": null,
   "metadata": {},
   "outputs": [],
   "source": []
  },
  {
   "cell_type": "markdown",
   "metadata": {},
   "source": [
    "# Reference \n",
    "1. Brownlee, J. (2018). How to Generate Test Datasets in Python with scikit-learn. Machine Learning Mastery. Retrieved 30 March 2019, from https://machinelearningmastery.com/generate-test-datasets-python-scikit-learn/\n",
    "2. notebook, S., & Davies, L. (2017). Shortcut key for changing code cell to markdown cell in jupyter notebook. Stack Overflow. Retrieved 30 March 2019, from https://stackoverflow.com/questions/47787721/shortcut-key-for-changing-code-cell-to-markdown-cell-in-jupyter-notebook\n",
    "3. NumPy?, H., Hoogendoorn, E., Feicho, E., Travnik, J., & Hsu, W. (2014). How to normalize an array in NumPy?. Stack Overflow. Retrieved 30 March 2019, from https://stackoverflow.com/questions/21030391/how-to-normalize-an-array-in-numpy\n",
    "4. An overview of gradient descent optimization algorithms. (2016). Sebastian Ruder. Retrieved 30 March 2019, from http://ruder.io/optimizing-gradient-descent/index.html#adam\n",
    "5. results, P., & Rieble, N. (2016). PCA in numpy and sklearn produces different results. Cross Validated. Retrieved 30 March 2019, from https://stats.stackexchange.com/questions/235882/pca-in-numpy-and-sklearn-produces-different-resultsa"
   ]
  }
 ],
 "metadata": {
  "kernelspec": {
   "display_name": "Python 3",
   "language": "python",
   "name": "python3"
  },
  "language_info": {
   "codemirror_mode": {
    "name": "ipython",
    "version": 3
   },
   "file_extension": ".py",
   "mimetype": "text/x-python",
   "name": "python",
   "nbconvert_exporter": "python",
   "pygments_lexer": "ipython3",
   "version": "3.6.6"
  },
  "latex_envs": {
   "LaTeX_envs_menu_present": true,
   "autoclose": false,
   "autocomplete": true,
   "bibliofile": "biblio.bib",
   "cite_by": "apalike",
   "current_citInitial": 1,
   "eqLabelWithNumbers": true,
   "eqNumInitial": 1,
   "hotkeys": {
    "equation": "Ctrl-E",
    "itemize": "Ctrl-I"
   },
   "labels_anchors": false,
   "latex_user_defs": false,
   "report_style_numbering": false,
   "user_envs_cfg": false
  },
  "varInspector": {
   "cols": {
    "lenName": 16,
    "lenType": 16,
    "lenVar": 40
   },
   "kernels_config": {
    "python": {
     "delete_cmd_postfix": "",
     "delete_cmd_prefix": "del ",
     "library": "var_list.py",
     "varRefreshCmd": "print(var_dic_list())"
    },
    "r": {
     "delete_cmd_postfix": ") ",
     "delete_cmd_prefix": "rm(",
     "library": "var_list.r",
     "varRefreshCmd": "cat(var_dic_list()) "
    }
   },
   "types_to_exclude": [
    "module",
    "function",
    "builtin_function_or_method",
    "instance",
    "_Feature"
   ],
   "window_display": false
  }
 },
 "nbformat": 4,
 "nbformat_minor": 2
}
