{
 "cells": [
  {
   "cell_type": "code",
   "execution_count": 1,
   "metadata": {
    "ExecuteTime": {
     "end_time": "2019-03-30T05:17:31.644724Z",
     "start_time": "2019-03-30T05:17:30.511746Z"
    }
   },
   "outputs": [],
   "source": [
    "# import lib\n",
    "%matplotlib notebook\n",
    "from mpl_toolkits import mplot3d\n",
    "import numpy as np\n",
    "from matplotlib import pyplot as plt\n",
    "from sklearn import linear_model, datasets\n",
    "np.set_printoptions(precision=10,suppress=True)\n",
    "np.random.seed(6789)"
   ]
  },
  {
   "cell_type": "code",
   "execution_count": 6,
   "metadata": {
    "ExecuteTime": {
     "end_time": "2019-03-30T05:18:07.343958Z",
     "start_time": "2019-03-30T05:18:07.311522Z"
    }
   },
   "outputs": [
    {
     "name": "stdout",
     "output_type": "stream",
     "text": [
      "(300, 3)\n"
     ]
    },
    {
     "data": {
      "application/javascript": [
       "/* Put everything inside the global mpl namespace */\n",
       "window.mpl = {};\n",
       "\n",
       "\n",
       "mpl.get_websocket_type = function() {\n",
       "    if (typeof(WebSocket) !== 'undefined') {\n",
       "        return WebSocket;\n",
       "    } else if (typeof(MozWebSocket) !== 'undefined') {\n",
       "        return MozWebSocket;\n",
       "    } else {\n",
       "        alert('Your browser does not have WebSocket support.' +\n",
       "              'Please try Chrome, Safari or Firefox ≥ 6. ' +\n",
       "              'Firefox 4 and 5 are also supported but you ' +\n",
       "              'have to enable WebSockets in about:config.');\n",
       "    };\n",
       "}\n",
       "\n",
       "mpl.figure = function(figure_id, websocket, ondownload, parent_element) {\n",
       "    this.id = figure_id;\n",
       "\n",
       "    this.ws = websocket;\n",
       "\n",
       "    this.supports_binary = (this.ws.binaryType != undefined);\n",
       "\n",
       "    if (!this.supports_binary) {\n",
       "        var warnings = document.getElementById(\"mpl-warnings\");\n",
       "        if (warnings) {\n",
       "            warnings.style.display = 'block';\n",
       "            warnings.textContent = (\n",
       "                \"This browser does not support binary websocket messages. \" +\n",
       "                    \"Performance may be slow.\");\n",
       "        }\n",
       "    }\n",
       "\n",
       "    this.imageObj = new Image();\n",
       "\n",
       "    this.context = undefined;\n",
       "    this.message = undefined;\n",
       "    this.canvas = undefined;\n",
       "    this.rubberband_canvas = undefined;\n",
       "    this.rubberband_context = undefined;\n",
       "    this.format_dropdown = undefined;\n",
       "\n",
       "    this.image_mode = 'full';\n",
       "\n",
       "    this.root = $('<div/>');\n",
       "    this._root_extra_style(this.root)\n",
       "    this.root.attr('style', 'display: inline-block');\n",
       "\n",
       "    $(parent_element).append(this.root);\n",
       "\n",
       "    this._init_header(this);\n",
       "    this._init_canvas(this);\n",
       "    this._init_toolbar(this);\n",
       "\n",
       "    var fig = this;\n",
       "\n",
       "    this.waiting = false;\n",
       "\n",
       "    this.ws.onopen =  function () {\n",
       "            fig.send_message(\"supports_binary\", {value: fig.supports_binary});\n",
       "            fig.send_message(\"send_image_mode\", {});\n",
       "            if (mpl.ratio != 1) {\n",
       "                fig.send_message(\"set_dpi_ratio\", {'dpi_ratio': mpl.ratio});\n",
       "            }\n",
       "            fig.send_message(\"refresh\", {});\n",
       "        }\n",
       "\n",
       "    this.imageObj.onload = function() {\n",
       "            if (fig.image_mode == 'full') {\n",
       "                // Full images could contain transparency (where diff images\n",
       "                // almost always do), so we need to clear the canvas so that\n",
       "                // there is no ghosting.\n",
       "                fig.context.clearRect(0, 0, fig.canvas.width, fig.canvas.height);\n",
       "            }\n",
       "            fig.context.drawImage(fig.imageObj, 0, 0);\n",
       "        };\n",
       "\n",
       "    this.imageObj.onunload = function() {\n",
       "        fig.ws.close();\n",
       "    }\n",
       "\n",
       "    this.ws.onmessage = this._make_on_message_function(this);\n",
       "\n",
       "    this.ondownload = ondownload;\n",
       "}\n",
       "\n",
       "mpl.figure.prototype._init_header = function() {\n",
       "    var titlebar = $(\n",
       "        '<div class=\"ui-dialog-titlebar ui-widget-header ui-corner-all ' +\n",
       "        'ui-helper-clearfix\"/>');\n",
       "    var titletext = $(\n",
       "        '<div class=\"ui-dialog-title\" style=\"width: 100%; ' +\n",
       "        'text-align: center; padding: 3px;\"/>');\n",
       "    titlebar.append(titletext)\n",
       "    this.root.append(titlebar);\n",
       "    this.header = titletext[0];\n",
       "}\n",
       "\n",
       "\n",
       "\n",
       "mpl.figure.prototype._canvas_extra_style = function(canvas_div) {\n",
       "\n",
       "}\n",
       "\n",
       "\n",
       "mpl.figure.prototype._root_extra_style = function(canvas_div) {\n",
       "\n",
       "}\n",
       "\n",
       "mpl.figure.prototype._init_canvas = function() {\n",
       "    var fig = this;\n",
       "\n",
       "    var canvas_div = $('<div/>');\n",
       "\n",
       "    canvas_div.attr('style', 'position: relative; clear: both; outline: 0');\n",
       "\n",
       "    function canvas_keyboard_event(event) {\n",
       "        return fig.key_event(event, event['data']);\n",
       "    }\n",
       "\n",
       "    canvas_div.keydown('key_press', canvas_keyboard_event);\n",
       "    canvas_div.keyup('key_release', canvas_keyboard_event);\n",
       "    this.canvas_div = canvas_div\n",
       "    this._canvas_extra_style(canvas_div)\n",
       "    this.root.append(canvas_div);\n",
       "\n",
       "    var canvas = $('<canvas/>');\n",
       "    canvas.addClass('mpl-canvas');\n",
       "    canvas.attr('style', \"left: 0; top: 0; z-index: 0; outline: 0\")\n",
       "\n",
       "    this.canvas = canvas[0];\n",
       "    this.context = canvas[0].getContext(\"2d\");\n",
       "\n",
       "    var backingStore = this.context.backingStorePixelRatio ||\n",
       "\tthis.context.webkitBackingStorePixelRatio ||\n",
       "\tthis.context.mozBackingStorePixelRatio ||\n",
       "\tthis.context.msBackingStorePixelRatio ||\n",
       "\tthis.context.oBackingStorePixelRatio ||\n",
       "\tthis.context.backingStorePixelRatio || 1;\n",
       "\n",
       "    mpl.ratio = (window.devicePixelRatio || 1) / backingStore;\n",
       "\n",
       "    var rubberband = $('<canvas/>');\n",
       "    rubberband.attr('style', \"position: absolute; left: 0; top: 0; z-index: 1;\")\n",
       "\n",
       "    var pass_mouse_events = true;\n",
       "\n",
       "    canvas_div.resizable({\n",
       "        start: function(event, ui) {\n",
       "            pass_mouse_events = false;\n",
       "        },\n",
       "        resize: function(event, ui) {\n",
       "            fig.request_resize(ui.size.width, ui.size.height);\n",
       "        },\n",
       "        stop: function(event, ui) {\n",
       "            pass_mouse_events = true;\n",
       "            fig.request_resize(ui.size.width, ui.size.height);\n",
       "        },\n",
       "    });\n",
       "\n",
       "    function mouse_event_fn(event) {\n",
       "        if (pass_mouse_events)\n",
       "            return fig.mouse_event(event, event['data']);\n",
       "    }\n",
       "\n",
       "    rubberband.mousedown('button_press', mouse_event_fn);\n",
       "    rubberband.mouseup('button_release', mouse_event_fn);\n",
       "    // Throttle sequential mouse events to 1 every 20ms.\n",
       "    rubberband.mousemove('motion_notify', mouse_event_fn);\n",
       "\n",
       "    rubberband.mouseenter('figure_enter', mouse_event_fn);\n",
       "    rubberband.mouseleave('figure_leave', mouse_event_fn);\n",
       "\n",
       "    canvas_div.on(\"wheel\", function (event) {\n",
       "        event = event.originalEvent;\n",
       "        event['data'] = 'scroll'\n",
       "        if (event.deltaY < 0) {\n",
       "            event.step = 1;\n",
       "        } else {\n",
       "            event.step = -1;\n",
       "        }\n",
       "        mouse_event_fn(event);\n",
       "    });\n",
       "\n",
       "    canvas_div.append(canvas);\n",
       "    canvas_div.append(rubberband);\n",
       "\n",
       "    this.rubberband = rubberband;\n",
       "    this.rubberband_canvas = rubberband[0];\n",
       "    this.rubberband_context = rubberband[0].getContext(\"2d\");\n",
       "    this.rubberband_context.strokeStyle = \"#000000\";\n",
       "\n",
       "    this._resize_canvas = function(width, height) {\n",
       "        // Keep the size of the canvas, canvas container, and rubber band\n",
       "        // canvas in synch.\n",
       "        canvas_div.css('width', width)\n",
       "        canvas_div.css('height', height)\n",
       "\n",
       "        canvas.attr('width', width * mpl.ratio);\n",
       "        canvas.attr('height', height * mpl.ratio);\n",
       "        canvas.attr('style', 'width: ' + width + 'px; height: ' + height + 'px;');\n",
       "\n",
       "        rubberband.attr('width', width);\n",
       "        rubberband.attr('height', height);\n",
       "    }\n",
       "\n",
       "    // Set the figure to an initial 600x600px, this will subsequently be updated\n",
       "    // upon first draw.\n",
       "    this._resize_canvas(600, 600);\n",
       "\n",
       "    // Disable right mouse context menu.\n",
       "    $(this.rubberband_canvas).bind(\"contextmenu\",function(e){\n",
       "        return false;\n",
       "    });\n",
       "\n",
       "    function set_focus () {\n",
       "        canvas.focus();\n",
       "        canvas_div.focus();\n",
       "    }\n",
       "\n",
       "    window.setTimeout(set_focus, 100);\n",
       "}\n",
       "\n",
       "mpl.figure.prototype._init_toolbar = function() {\n",
       "    var fig = this;\n",
       "\n",
       "    var nav_element = $('<div/>')\n",
       "    nav_element.attr('style', 'width: 100%');\n",
       "    this.root.append(nav_element);\n",
       "\n",
       "    // Define a callback function for later on.\n",
       "    function toolbar_event(event) {\n",
       "        return fig.toolbar_button_onclick(event['data']);\n",
       "    }\n",
       "    function toolbar_mouse_event(event) {\n",
       "        return fig.toolbar_button_onmouseover(event['data']);\n",
       "    }\n",
       "\n",
       "    for(var toolbar_ind in mpl.toolbar_items) {\n",
       "        var name = mpl.toolbar_items[toolbar_ind][0];\n",
       "        var tooltip = mpl.toolbar_items[toolbar_ind][1];\n",
       "        var image = mpl.toolbar_items[toolbar_ind][2];\n",
       "        var method_name = mpl.toolbar_items[toolbar_ind][3];\n",
       "\n",
       "        if (!name) {\n",
       "            // put a spacer in here.\n",
       "            continue;\n",
       "        }\n",
       "        var button = $('<button/>');\n",
       "        button.addClass('ui-button ui-widget ui-state-default ui-corner-all ' +\n",
       "                        'ui-button-icon-only');\n",
       "        button.attr('role', 'button');\n",
       "        button.attr('aria-disabled', 'false');\n",
       "        button.click(method_name, toolbar_event);\n",
       "        button.mouseover(tooltip, toolbar_mouse_event);\n",
       "\n",
       "        var icon_img = $('<span/>');\n",
       "        icon_img.addClass('ui-button-icon-primary ui-icon');\n",
       "        icon_img.addClass(image);\n",
       "        icon_img.addClass('ui-corner-all');\n",
       "\n",
       "        var tooltip_span = $('<span/>');\n",
       "        tooltip_span.addClass('ui-button-text');\n",
       "        tooltip_span.html(tooltip);\n",
       "\n",
       "        button.append(icon_img);\n",
       "        button.append(tooltip_span);\n",
       "\n",
       "        nav_element.append(button);\n",
       "    }\n",
       "\n",
       "    var fmt_picker_span = $('<span/>');\n",
       "\n",
       "    var fmt_picker = $('<select/>');\n",
       "    fmt_picker.addClass('mpl-toolbar-option ui-widget ui-widget-content');\n",
       "    fmt_picker_span.append(fmt_picker);\n",
       "    nav_element.append(fmt_picker_span);\n",
       "    this.format_dropdown = fmt_picker[0];\n",
       "\n",
       "    for (var ind in mpl.extensions) {\n",
       "        var fmt = mpl.extensions[ind];\n",
       "        var option = $(\n",
       "            '<option/>', {selected: fmt === mpl.default_extension}).html(fmt);\n",
       "        fmt_picker.append(option)\n",
       "    }\n",
       "\n",
       "    // Add hover states to the ui-buttons\n",
       "    $( \".ui-button\" ).hover(\n",
       "        function() { $(this).addClass(\"ui-state-hover\");},\n",
       "        function() { $(this).removeClass(\"ui-state-hover\");}\n",
       "    );\n",
       "\n",
       "    var status_bar = $('<span class=\"mpl-message\"/>');\n",
       "    nav_element.append(status_bar);\n",
       "    this.message = status_bar[0];\n",
       "}\n",
       "\n",
       "mpl.figure.prototype.request_resize = function(x_pixels, y_pixels) {\n",
       "    // Request matplotlib to resize the figure. Matplotlib will then trigger a resize in the client,\n",
       "    // which will in turn request a refresh of the image.\n",
       "    this.send_message('resize', {'width': x_pixels, 'height': y_pixels});\n",
       "}\n",
       "\n",
       "mpl.figure.prototype.send_message = function(type, properties) {\n",
       "    properties['type'] = type;\n",
       "    properties['figure_id'] = this.id;\n",
       "    this.ws.send(JSON.stringify(properties));\n",
       "}\n",
       "\n",
       "mpl.figure.prototype.send_draw_message = function() {\n",
       "    if (!this.waiting) {\n",
       "        this.waiting = true;\n",
       "        this.ws.send(JSON.stringify({type: \"draw\", figure_id: this.id}));\n",
       "    }\n",
       "}\n",
       "\n",
       "\n",
       "mpl.figure.prototype.handle_save = function(fig, msg) {\n",
       "    var format_dropdown = fig.format_dropdown;\n",
       "    var format = format_dropdown.options[format_dropdown.selectedIndex].value;\n",
       "    fig.ondownload(fig, format);\n",
       "}\n",
       "\n",
       "\n",
       "mpl.figure.prototype.handle_resize = function(fig, msg) {\n",
       "    var size = msg['size'];\n",
       "    if (size[0] != fig.canvas.width || size[1] != fig.canvas.height) {\n",
       "        fig._resize_canvas(size[0], size[1]);\n",
       "        fig.send_message(\"refresh\", {});\n",
       "    };\n",
       "}\n",
       "\n",
       "mpl.figure.prototype.handle_rubberband = function(fig, msg) {\n",
       "    var x0 = msg['x0'] / mpl.ratio;\n",
       "    var y0 = (fig.canvas.height - msg['y0']) / mpl.ratio;\n",
       "    var x1 = msg['x1'] / mpl.ratio;\n",
       "    var y1 = (fig.canvas.height - msg['y1']) / mpl.ratio;\n",
       "    x0 = Math.floor(x0) + 0.5;\n",
       "    y0 = Math.floor(y0) + 0.5;\n",
       "    x1 = Math.floor(x1) + 0.5;\n",
       "    y1 = Math.floor(y1) + 0.5;\n",
       "    var min_x = Math.min(x0, x1);\n",
       "    var min_y = Math.min(y0, y1);\n",
       "    var width = Math.abs(x1 - x0);\n",
       "    var height = Math.abs(y1 - y0);\n",
       "\n",
       "    fig.rubberband_context.clearRect(\n",
       "        0, 0, fig.canvas.width, fig.canvas.height);\n",
       "\n",
       "    fig.rubberband_context.strokeRect(min_x, min_y, width, height);\n",
       "}\n",
       "\n",
       "mpl.figure.prototype.handle_figure_label = function(fig, msg) {\n",
       "    // Updates the figure title.\n",
       "    fig.header.textContent = msg['label'];\n",
       "}\n",
       "\n",
       "mpl.figure.prototype.handle_cursor = function(fig, msg) {\n",
       "    var cursor = msg['cursor'];\n",
       "    switch(cursor)\n",
       "    {\n",
       "    case 0:\n",
       "        cursor = 'pointer';\n",
       "        break;\n",
       "    case 1:\n",
       "        cursor = 'default';\n",
       "        break;\n",
       "    case 2:\n",
       "        cursor = 'crosshair';\n",
       "        break;\n",
       "    case 3:\n",
       "        cursor = 'move';\n",
       "        break;\n",
       "    }\n",
       "    fig.rubberband_canvas.style.cursor = cursor;\n",
       "}\n",
       "\n",
       "mpl.figure.prototype.handle_message = function(fig, msg) {\n",
       "    fig.message.textContent = msg['message'];\n",
       "}\n",
       "\n",
       "mpl.figure.prototype.handle_draw = function(fig, msg) {\n",
       "    // Request the server to send over a new figure.\n",
       "    fig.send_draw_message();\n",
       "}\n",
       "\n",
       "mpl.figure.prototype.handle_image_mode = function(fig, msg) {\n",
       "    fig.image_mode = msg['mode'];\n",
       "}\n",
       "\n",
       "mpl.figure.prototype.updated_canvas_event = function() {\n",
       "    // Called whenever the canvas gets updated.\n",
       "    this.send_message(\"ack\", {});\n",
       "}\n",
       "\n",
       "// A function to construct a web socket function for onmessage handling.\n",
       "// Called in the figure constructor.\n",
       "mpl.figure.prototype._make_on_message_function = function(fig) {\n",
       "    return function socket_on_message(evt) {\n",
       "        if (evt.data instanceof Blob) {\n",
       "            /* FIXME: We get \"Resource interpreted as Image but\n",
       "             * transferred with MIME type text/plain:\" errors on\n",
       "             * Chrome.  But how to set the MIME type?  It doesn't seem\n",
       "             * to be part of the websocket stream */\n",
       "            evt.data.type = \"image/png\";\n",
       "\n",
       "            /* Free the memory for the previous frames */\n",
       "            if (fig.imageObj.src) {\n",
       "                (window.URL || window.webkitURL).revokeObjectURL(\n",
       "                    fig.imageObj.src);\n",
       "            }\n",
       "\n",
       "            fig.imageObj.src = (window.URL || window.webkitURL).createObjectURL(\n",
       "                evt.data);\n",
       "            fig.updated_canvas_event();\n",
       "            fig.waiting = false;\n",
       "            return;\n",
       "        }\n",
       "        else if (typeof evt.data === 'string' && evt.data.slice(0, 21) == \"data:image/png;base64\") {\n",
       "            fig.imageObj.src = evt.data;\n",
       "            fig.updated_canvas_event();\n",
       "            fig.waiting = false;\n",
       "            return;\n",
       "        }\n",
       "\n",
       "        var msg = JSON.parse(evt.data);\n",
       "        var msg_type = msg['type'];\n",
       "\n",
       "        // Call the  \"handle_{type}\" callback, which takes\n",
       "        // the figure and JSON message as its only arguments.\n",
       "        try {\n",
       "            var callback = fig[\"handle_\" + msg_type];\n",
       "        } catch (e) {\n",
       "            console.log(\"No handler for the '\" + msg_type + \"' message type: \", msg);\n",
       "            return;\n",
       "        }\n",
       "\n",
       "        if (callback) {\n",
       "            try {\n",
       "                // console.log(\"Handling '\" + msg_type + \"' message: \", msg);\n",
       "                callback(fig, msg);\n",
       "            } catch (e) {\n",
       "                console.log(\"Exception inside the 'handler_\" + msg_type + \"' callback:\", e, e.stack, msg);\n",
       "            }\n",
       "        }\n",
       "    };\n",
       "}\n",
       "\n",
       "// from http://stackoverflow.com/questions/1114465/getting-mouse-location-in-canvas\n",
       "mpl.findpos = function(e) {\n",
       "    //this section is from http://www.quirksmode.org/js/events_properties.html\n",
       "    var targ;\n",
       "    if (!e)\n",
       "        e = window.event;\n",
       "    if (e.target)\n",
       "        targ = e.target;\n",
       "    else if (e.srcElement)\n",
       "        targ = e.srcElement;\n",
       "    if (targ.nodeType == 3) // defeat Safari bug\n",
       "        targ = targ.parentNode;\n",
       "\n",
       "    // jQuery normalizes the pageX and pageY\n",
       "    // pageX,Y are the mouse positions relative to the document\n",
       "    // offset() returns the position of the element relative to the document\n",
       "    var x = e.pageX - $(targ).offset().left;\n",
       "    var y = e.pageY - $(targ).offset().top;\n",
       "\n",
       "    return {\"x\": x, \"y\": y};\n",
       "};\n",
       "\n",
       "/*\n",
       " * return a copy of an object with only non-object keys\n",
       " * we need this to avoid circular references\n",
       " * http://stackoverflow.com/a/24161582/3208463\n",
       " */\n",
       "function simpleKeys (original) {\n",
       "  return Object.keys(original).reduce(function (obj, key) {\n",
       "    if (typeof original[key] !== 'object')\n",
       "        obj[key] = original[key]\n",
       "    return obj;\n",
       "  }, {});\n",
       "}\n",
       "\n",
       "mpl.figure.prototype.mouse_event = function(event, name) {\n",
       "    var canvas_pos = mpl.findpos(event)\n",
       "\n",
       "    if (name === 'button_press')\n",
       "    {\n",
       "        this.canvas.focus();\n",
       "        this.canvas_div.focus();\n",
       "    }\n",
       "\n",
       "    var x = canvas_pos.x * mpl.ratio;\n",
       "    var y = canvas_pos.y * mpl.ratio;\n",
       "\n",
       "    this.send_message(name, {x: x, y: y, button: event.button,\n",
       "                             step: event.step,\n",
       "                             guiEvent: simpleKeys(event)});\n",
       "\n",
       "    /* This prevents the web browser from automatically changing to\n",
       "     * the text insertion cursor when the button is pressed.  We want\n",
       "     * to control all of the cursor setting manually through the\n",
       "     * 'cursor' event from matplotlib */\n",
       "    event.preventDefault();\n",
       "    return false;\n",
       "}\n",
       "\n",
       "mpl.figure.prototype._key_event_extra = function(event, name) {\n",
       "    // Handle any extra behaviour associated with a key event\n",
       "}\n",
       "\n",
       "mpl.figure.prototype.key_event = function(event, name) {\n",
       "\n",
       "    // Prevent repeat events\n",
       "    if (name == 'key_press')\n",
       "    {\n",
       "        if (event.which === this._key)\n",
       "            return;\n",
       "        else\n",
       "            this._key = event.which;\n",
       "    }\n",
       "    if (name == 'key_release')\n",
       "        this._key = null;\n",
       "\n",
       "    var value = '';\n",
       "    if (event.ctrlKey && event.which != 17)\n",
       "        value += \"ctrl+\";\n",
       "    if (event.altKey && event.which != 18)\n",
       "        value += \"alt+\";\n",
       "    if (event.shiftKey && event.which != 16)\n",
       "        value += \"shift+\";\n",
       "\n",
       "    value += 'k';\n",
       "    value += event.which.toString();\n",
       "\n",
       "    this._key_event_extra(event, name);\n",
       "\n",
       "    this.send_message(name, {key: value,\n",
       "                             guiEvent: simpleKeys(event)});\n",
       "    return false;\n",
       "}\n",
       "\n",
       "mpl.figure.prototype.toolbar_button_onclick = function(name) {\n",
       "    if (name == 'download') {\n",
       "        this.handle_save(this, null);\n",
       "    } else {\n",
       "        this.send_message(\"toolbar_button\", {name: name});\n",
       "    }\n",
       "};\n",
       "\n",
       "mpl.figure.prototype.toolbar_button_onmouseover = function(tooltip) {\n",
       "    this.message.textContent = tooltip;\n",
       "};\n",
       "mpl.toolbar_items = [[\"Home\", \"Reset original view\", \"fa fa-home icon-home\", \"home\"], [\"Back\", \"Back to previous view\", \"fa fa-arrow-left icon-arrow-left\", \"back\"], [\"Forward\", \"Forward to next view\", \"fa fa-arrow-right icon-arrow-right\", \"forward\"], [\"\", \"\", \"\", \"\"], [\"Pan\", \"Pan axes with left mouse, zoom with right\", \"fa fa-arrows icon-move\", \"pan\"], [\"Zoom\", \"Zoom to rectangle\", \"fa fa-square-o icon-check-empty\", \"zoom\"], [\"\", \"\", \"\", \"\"], [\"Download\", \"Download plot\", \"fa fa-floppy-o icon-save\", \"download\"]];\n",
       "\n",
       "mpl.extensions = [\"eps\", \"jpeg\", \"pdf\", \"png\", \"ps\", \"raw\", \"svg\", \"tif\"];\n",
       "\n",
       "mpl.default_extension = \"png\";var comm_websocket_adapter = function(comm) {\n",
       "    // Create a \"websocket\"-like object which calls the given IPython comm\n",
       "    // object with the appropriate methods. Currently this is a non binary\n",
       "    // socket, so there is still some room for performance tuning.\n",
       "    var ws = {};\n",
       "\n",
       "    ws.close = function() {\n",
       "        comm.close()\n",
       "    };\n",
       "    ws.send = function(m) {\n",
       "        //console.log('sending', m);\n",
       "        comm.send(m);\n",
       "    };\n",
       "    // Register the callback with on_msg.\n",
       "    comm.on_msg(function(msg) {\n",
       "        //console.log('receiving', msg['content']['data'], msg);\n",
       "        // Pass the mpl event to the overridden (by mpl) onmessage function.\n",
       "        ws.onmessage(msg['content']['data'])\n",
       "    });\n",
       "    return ws;\n",
       "}\n",
       "\n",
       "mpl.mpl_figure_comm = function(comm, msg) {\n",
       "    // This is the function which gets called when the mpl process\n",
       "    // starts-up an IPython Comm through the \"matplotlib\" channel.\n",
       "\n",
       "    var id = msg.content.data.id;\n",
       "    // Get hold of the div created by the display call when the Comm\n",
       "    // socket was opened in Python.\n",
       "    var element = $(\"#\" + id);\n",
       "    var ws_proxy = comm_websocket_adapter(comm)\n",
       "\n",
       "    function ondownload(figure, format) {\n",
       "        window.open(figure.imageObj.src);\n",
       "    }\n",
       "\n",
       "    var fig = new mpl.figure(id, ws_proxy,\n",
       "                           ondownload,\n",
       "                           element.get(0));\n",
       "\n",
       "    // Call onopen now - mpl needs it, as it is assuming we've passed it a real\n",
       "    // web socket which is closed, not our websocket->open comm proxy.\n",
       "    ws_proxy.onopen();\n",
       "\n",
       "    fig.parent_element = element.get(0);\n",
       "    fig.cell_info = mpl.find_output_cell(\"<div id='\" + id + \"'></div>\");\n",
       "    if (!fig.cell_info) {\n",
       "        console.error(\"Failed to find cell for figure\", id, fig);\n",
       "        return;\n",
       "    }\n",
       "\n",
       "    var output_index = fig.cell_info[2]\n",
       "    var cell = fig.cell_info[0];\n",
       "\n",
       "};\n",
       "\n",
       "mpl.figure.prototype.handle_close = function(fig, msg) {\n",
       "    var width = fig.canvas.width/mpl.ratio\n",
       "    fig.root.unbind('remove')\n",
       "\n",
       "    // Update the output cell to use the data from the current canvas.\n",
       "    fig.push_to_output();\n",
       "    var dataURL = fig.canvas.toDataURL();\n",
       "    // Re-enable the keyboard manager in IPython - without this line, in FF,\n",
       "    // the notebook keyboard shortcuts fail.\n",
       "    IPython.keyboard_manager.enable()\n",
       "    $(fig.parent_element).html('<img src=\"' + dataURL + '\" width=\"' + width + '\">');\n",
       "    fig.close_ws(fig, msg);\n",
       "}\n",
       "\n",
       "mpl.figure.prototype.close_ws = function(fig, msg){\n",
       "    fig.send_message('closing', msg);\n",
       "    // fig.ws.close()\n",
       "}\n",
       "\n",
       "mpl.figure.prototype.push_to_output = function(remove_interactive) {\n",
       "    // Turn the data on the canvas into data in the output cell.\n",
       "    var width = this.canvas.width/mpl.ratio\n",
       "    var dataURL = this.canvas.toDataURL();\n",
       "    this.cell_info[1]['text/html'] = '<img src=\"' + dataURL + '\" width=\"' + width + '\">';\n",
       "}\n",
       "\n",
       "mpl.figure.prototype.updated_canvas_event = function() {\n",
       "    // Tell IPython that the notebook contents must change.\n",
       "    IPython.notebook.set_dirty(true);\n",
       "    this.send_message(\"ack\", {});\n",
       "    var fig = this;\n",
       "    // Wait a second, then push the new image to the DOM so\n",
       "    // that it is saved nicely (might be nice to debounce this).\n",
       "    setTimeout(function () { fig.push_to_output() }, 1000);\n",
       "}\n",
       "\n",
       "mpl.figure.prototype._init_toolbar = function() {\n",
       "    var fig = this;\n",
       "\n",
       "    var nav_element = $('<div/>')\n",
       "    nav_element.attr('style', 'width: 100%');\n",
       "    this.root.append(nav_element);\n",
       "\n",
       "    // Define a callback function for later on.\n",
       "    function toolbar_event(event) {\n",
       "        return fig.toolbar_button_onclick(event['data']);\n",
       "    }\n",
       "    function toolbar_mouse_event(event) {\n",
       "        return fig.toolbar_button_onmouseover(event['data']);\n",
       "    }\n",
       "\n",
       "    for(var toolbar_ind in mpl.toolbar_items){\n",
       "        var name = mpl.toolbar_items[toolbar_ind][0];\n",
       "        var tooltip = mpl.toolbar_items[toolbar_ind][1];\n",
       "        var image = mpl.toolbar_items[toolbar_ind][2];\n",
       "        var method_name = mpl.toolbar_items[toolbar_ind][3];\n",
       "\n",
       "        if (!name) { continue; };\n",
       "\n",
       "        var button = $('<button class=\"btn btn-default\" href=\"#\" title=\"' + name + '\"><i class=\"fa ' + image + ' fa-lg\"></i></button>');\n",
       "        button.click(method_name, toolbar_event);\n",
       "        button.mouseover(tooltip, toolbar_mouse_event);\n",
       "        nav_element.append(button);\n",
       "    }\n",
       "\n",
       "    // Add the status bar.\n",
       "    var status_bar = $('<span class=\"mpl-message\" style=\"text-align:right; float: right;\"/>');\n",
       "    nav_element.append(status_bar);\n",
       "    this.message = status_bar[0];\n",
       "\n",
       "    // Add the close button to the window.\n",
       "    var buttongrp = $('<div class=\"btn-group inline pull-right\"></div>');\n",
       "    var button = $('<button class=\"btn btn-mini btn-primary\" href=\"#\" title=\"Stop Interaction\"><i class=\"fa fa-power-off icon-remove icon-large\"></i></button>');\n",
       "    button.click(function (evt) { fig.handle_close(fig, {}); } );\n",
       "    button.mouseover('Stop Interaction', toolbar_mouse_event);\n",
       "    buttongrp.append(button);\n",
       "    var titlebar = this.root.find($('.ui-dialog-titlebar'));\n",
       "    titlebar.prepend(buttongrp);\n",
       "}\n",
       "\n",
       "mpl.figure.prototype._root_extra_style = function(el){\n",
       "    var fig = this\n",
       "    el.on(\"remove\", function(){\n",
       "\tfig.close_ws(fig, {});\n",
       "    });\n",
       "}\n",
       "\n",
       "mpl.figure.prototype._canvas_extra_style = function(el){\n",
       "    // this is important to make the div 'focusable\n",
       "    el.attr('tabindex', 0)\n",
       "    // reach out to IPython and tell the keyboard manager to turn it's self\n",
       "    // off when our div gets focus\n",
       "\n",
       "    // location in version 3\n",
       "    if (IPython.notebook.keyboard_manager) {\n",
       "        IPython.notebook.keyboard_manager.register_events(el);\n",
       "    }\n",
       "    else {\n",
       "        // location in version 2\n",
       "        IPython.keyboard_manager.register_events(el);\n",
       "    }\n",
       "\n",
       "}\n",
       "\n",
       "mpl.figure.prototype._key_event_extra = function(event, name) {\n",
       "    var manager = IPython.notebook.keyboard_manager;\n",
       "    if (!manager)\n",
       "        manager = IPython.keyboard_manager;\n",
       "\n",
       "    // Check for shift+enter\n",
       "    if (event.shiftKey && event.which == 13) {\n",
       "        this.canvas_div.blur();\n",
       "        event.shiftKey = false;\n",
       "        // Send a \"J\" for go to next cell\n",
       "        event.which = 74;\n",
       "        event.keyCode = 74;\n",
       "        manager.command_mode();\n",
       "        manager.handle_keydown(event);\n",
       "    }\n",
       "}\n",
       "\n",
       "mpl.figure.prototype.handle_save = function(fig, msg) {\n",
       "    fig.ondownload(fig, null);\n",
       "}\n",
       "\n",
       "\n",
       "mpl.find_output_cell = function(html_output) {\n",
       "    // Return the cell and output element which can be found *uniquely* in the notebook.\n",
       "    // Note - this is a bit hacky, but it is done because the \"notebook_saving.Notebook\"\n",
       "    // IPython event is triggered only after the cells have been serialised, which for\n",
       "    // our purposes (turning an active figure into a static one), is too late.\n",
       "    var cells = IPython.notebook.get_cells();\n",
       "    var ncells = cells.length;\n",
       "    for (var i=0; i<ncells; i++) {\n",
       "        var cell = cells[i];\n",
       "        if (cell.cell_type === 'code'){\n",
       "            for (var j=0; j<cell.output_area.outputs.length; j++) {\n",
       "                var data = cell.output_area.outputs[j];\n",
       "                if (data.data) {\n",
       "                    // IPython >= 3 moved mimebundle to data attribute of output\n",
       "                    data = data.data;\n",
       "                }\n",
       "                if (data['text/html'] == html_output) {\n",
       "                    return [cell, data, j];\n",
       "                }\n",
       "            }\n",
       "        }\n",
       "    }\n",
       "}\n",
       "\n",
       "// Register the function which deals with the matplotlib target/channel.\n",
       "// The kernel may be null if the page has been refreshed.\n",
       "if (IPython.notebook.kernel != null) {\n",
       "    IPython.notebook.kernel.comm_manager.register_target('matplotlib', mpl.mpl_figure_comm);\n",
       "}\n"
      ],
      "text/plain": [
       "<IPython.core.display.Javascript object>"
      ]
     },
     "metadata": {},
     "output_type": "display_data"
    },
    {
     "data": {
      "text/html": [
       "<img src=\"data:image/png;base64,iVBORw0KGgoAAAANSUhEUgAAAsAAAAIQCAYAAACPEdjAAAAgAElEQVR4Xuy9B5wdV3n+/24v0mrVe+/FlmVLlpEsuRcMoZkYHEyAAIEAof7yJwmYGsAklMQQCMUxGENCsR0XcJFtIXcVy5IlWZIlq3nVy2p7L//P98hHHl3dMnNn5s7s3vf4sx9L2innPOfMzHPe85znLejt7e0VLYqAIqAIKAKKgCKgCCgCikCeIFCgBDhPelqbqQgoAoqAIqAIKAKKgCJgEFACrANBEVAEFAFFQBFQBBQBRSCvEFACnFfdrY1VBBQBRUARUAQUAUVAEVACrGNAEVAEFAFFQBFQBBQBRSCvEFACnFfdrY1VBBQBRUARUAQUAUVAEVACrGNAEVAEFAFFQBFQBBQBRSCvEFACnFfdrY1VBBQBRUARUAQUAUVAEVACrGNAEVAEFAFFQBFQBBQBRSCvEFACnFfdrY1VBBQBRUARUAQUAUVAEVACrGNAEVAEFAFFQBFQBBQBRSCvEFACnFfdrY1VBBQBRUARUAQUAUVAEVACrGNAEVAEFAFFQBFQBBQBRSCvEFACnFfdrY1VBBQBRUARUAQUAUVAEVACrGNAEVAEFAFFQBFQBBQBRSCvEFACnFfdrY1VBBQBRUARUAQUAUVAEVACrGNAEVAEFAFFQBFQBBQBRSCvEFACnFfdrY1VBBQBRUARUAQUAUVAEVACrGNAEVAEFAFFQBFQBBQBRSCvEFACnFfdrY1VBBQBRUARUAQUAUVAEVACrGNAEVAEFAFFQBFQBBQBRSCvEFACnFfdrY1VBBQBRUARUAQUAUVAEVACrGNAEVAEFAFFQBFQBBQBRSCvEFACnFfdrY1VBBQBRUARUAQUAUVAEVACrGNAEVAEFAFFQBFQBBQBRSCvEFACnFfdrY1VBBQBRUARUAQUAUVAEVACrGNAEVAEFAFFQBFQBBQBRSCvEFACnFfdrY1VBBQBRUARUAQUAUVAEVACrGNAEVAEFAFFQBFQBBQBRSCvEFACnFfdrY1VBBQBRUARUAQUAUVAEVACrGNAEVAEFAFFQBFQBBQBRSCvEFACnFfdrY1VBBQBRUARUAQUAUVAEVACrGNAEVAEFAFFQBFQBBQBRSCvEFACnFfdrY1VBBQBRUARUAQUAUVAEVACrGNAEVAEFAFFQBFQBBQBRSCvEFACnFfdrY1VBBQBRUARUAQUAUVAEVACrGNAEVAEFAFFQBFQBBQBRSCvEFACnFfdrY1VBBQBRUARUAQUAUVAEVACrGNAEVAEFAFFQBFQBBQBRSCvEFACnFfdrY1VBBQBRUARUAQUAUVAEVACrGNAEVAEFAFFQBFQBBQBRSCvEFACnFfdrY1VBBQBRUARUAQUAUVAEVACrGNAEVAEFAFFQBFQBBQBRSCvEFACnFfdrY1VBBQBRUARUAQUAUVAEVACrGNAEVAEFAFFQBFQBBQBRSCvEFACnFfdrY1VBBQBRUARUAQUAUVAEVACrGNAEVAEFAFFQBFQBBQBRSCvEFACnFfdrY1VBBQBRUARUAQUAUVAEVACrGNAEVAEFAFFQBFQBBQBRSCvEFACnFfdrY1VBBQBRUARUAQUAUVAEVACrGNAEVAEFAFFQBFQBBQBRSCvEFACnFfdrY1VBBQBRUARUAQUAUVAEVACrGNAEVAEFAFFQBFQBBQBRSCvEFACnFfdrY1VBBQBRUARUAQUAUVAEVACrGNAEVAEFAFFQBFQBBQBRSCvEFACnFfdrY1VBBQBRUARUAQUAUVAEVACrGNAEVAEFAFFQBFQBBQBRSCvEFACnFfdrY1VBBQBRUARUAQUAUVAEVACrGNAEVAEFAFFQBFQBBQBRSCvEFACnFfdrY1VBBQBRUARUAQUAUVAEVACrGNAEVAEFAFFQBFQBBQBRSCvEFACnFfdrY1VBBQBRUARUAQUAUVAEVACrGNAEVAEFAFFQBFQBBQBRSCvEFACnFfdrY1VBBQBRUARUAQUAUVAEVACrGNAEVAEFAFFQBFQBBQBRSCvEFACnFfdrY1VBBQBRUARUAQUAUVAEVACrGNAEVAEFAFFQBFQBBQBRSCvEFACnFfdrY1VBBQBRUARUAQUAUVAEVACrGNAEVAEFAFFQBFQBBQBRSCvEFACnFfdrY1VBBQBRUARUAQUAUVAEVACrGNAEVAEFAFFQBFQBBQBRSCvEFACnFfdrY1VBBQBRUARUAQUAUVAEVACrGNAEVAEFAFFQBFQBBQBRSCvEFACnFfdrY1VBBQBRUARUAQUAUVAEVACrGNAEVAEFAFFQBFQBBQBRSCvEFACnFfdrY1VBBSBqBHo7e2VgoKCqKuh91cEFAFFIK8RUAKc192vjVcEFIFcIADp7enpkY6ODuns7JTS0lIpKSmRwsJCJcO56AC9hyKgCCgCCQgoAdYhoQgoAopASAhY4tvV1WUIMP+HBBMBhvwWFRUZMlxcXKxkOKQ+0MsqAoqAIpAMASXAOi4UAUVAEQgYAYhvd3e3+YH48ncIL38nAsyf+Xd+KPwdEkxUWMlwwJ2hl1MEFAFFIAkCSoB1WCgCioAiEBACTuIL2bXklv8T9SUCDAEm8muLjRKnIsPOYwOqpl5GEVAEFIG8R0AJcN4PAQVAEVAE/CJgia+VOljim7jZDVKMBCIVqU1Ghm1U2GqG/dZVz1cEFAFFQBEQUQKso0ARUAQUgSwRcEt87eUzEWBnNVKRYadMIstq62mKgCKgCOQ9AkqA834IKACKgCLgFQEn8eXPFKK9mezNvBDgZGS4rq5ODhw4IPPmzTN6YSXDXntOj1cEFAFF4BQCSoB1JCgCioAi4BIByC4yB4isF+KbTQQ4WZWOHTsm27dvl6VLl5oNdNZNInEDncvm6GGKgCKgCOQtAkqA87brteGKgCLgFgHIpnV1yIb4Bk2Aly9fbi5pnSRscg3cJJyR4UwRabft1+MUAUVAEehvCCgB7m89qu1RBBSBwBCw3r024mtlDtkSy2wlELZBNgJsCbD9dwiw1QwrGQ6s+/VCioAi0I8RUALcjztXm6YIKALZIRA08Q0rApysdcnIMK4TTplEtgQ+OzT1LEVAEVAE4oeAEuD49YnWSBFQBCJAwBJHp8bXb8Q3sRlhRYBTwZWKDNvNc5BiJcMRDDa9pSKgCESOgBLgyLtAK6AIKAJRIpAL4uuMANtMcNm0OZUEws210pFhCDFRYiXDbpDUYxQBRaA/IKAEuD/0orZBEVAEPCOQS+IbBwLsBCgVGS4tLTVSCSXDnoeTnqAIKAJ9DAElwH2sw7S6ioAi4A8Bu1nM6eoQtNQhVQ25Z1QR4FR1SkaGnXphJcP+xpuerQgoAvFEQAlwPPtFa6UIKAIBI2CJr01XbN0S3CSwCKoqfjXAx48fl23btkmiC0RQ9bNkmHpSsFWDAFvNsJLhoJDW6ygCikDUCCgBjroH9P6KgCIQKgJxIL62gXEnwM6OSJaK2ZJhCDHkWDXDoQ5dvbgioAiEiIAS4BDB1UsrAopAdAhYAtfS0iJ79uyRKVOmGH1rLiO+ia3vSwTYDRm2mmElw9GNc72zIqAIZIeAEuDscNOzFAFFIKYIJEZ8m5ub5ZlnnpHLL79cysrKIq11EAR469atcskll0TWjsTIsJ1QlJeXG6mEkuHIukZvrAgoAh4QUALsASw9VBFQBOKLAMTMbmwjkQV/h4y1trbKk08+KZdddplA0qIs/YEAJ0aGibCvWbNGLrroIoOv3UBnyXCUeOu9FQFFQBFIhYASYB0bioAi0KcRcBJf5+YtGkV0sq2tTVatWiWXXnqpVFRURNpWiHl7e7vZWJZNYRNc1BHgxHozwXjuuefk4osvNuSXNlKYfECC7QY6/q5FEVAEFIG4IKAEOC49ofVQBBQBTwhY4mtdHSzpStyYBeH885//bGQDlZWVnu4R9MH9kQATAV69erUsW7ZM0ARTkm2gUzIc9GjS6ykCioAfBJQA+0FPz1UEFIGcI+CW+NqKdXR0yMqVKw1BGzhwYM7r67whBJj6ZBsNjWMEGI01Egis2SC5iSWRDBP9dvoMZ4tFpB2pN1cEFIE+j4AS4D7fhdoARSA/EHASX/5McePoQIT4scceM0v0VVVVkYLVnwkwEXaIbbpi+9B6MEN+lQxHOiT15opA3iKgBDhvu14brgj0DQQgS5BY9L1eiK9tHec9+uijsnTpUhk0aFCkjSb6i2QgWylGHCPATU1NsnbtWiMxyUSALfjJss8laobVYzjSoao3VwT6PQJKgPt9F2sDFYG+iQDRUme6YrcR38TWcp0VK1bIkiVLpLq6OhIwSH+8b98+2bt3ryHzRKJHjRplfrxYs8WRADc2Nsq6devMJsNsNvclI8OJMgklw5EMW72pItCvEVAC3K+7VxunCPQ9BCCszoivlTlkS4IgWI888oix6RoyZEhOASHiC/Hlhw1iJOPAiQIie+TIEWPRNnjwYEOER4wYcXoTWapKxpEANzQ0yPPPP29s5vzqeVORYeskYROZ5LQT9WaKgCLQLxFQAtwvu1UbpQj0PQSCJr5OBCDAF154oQwdOjQnwEB8ifZCfInwTps2TcaMGWPubTfBQfaInh49etSQYf4dgm7JcDI5QZwJMIlGsp2kJOsUJcM5Gap6E0UgbxFQApy3Xa8NVwTigUCYxNe2EAnEwoULZdiwYaE2GhJL2uVXX33VJIWwxNcSw1Q2aJC9+vp6Q4QhxEg/qCtkmP9baUEcCTD1Xr9+vcm0FyQBdnZUOjJMdBh8wrp3qANGL64IKAKRIaAEODLo9caKQP4iYAlNkFKHdGiyCW7BggVGZhBGwWsY4ltTU2MkDhDf0aNHn0XK3PgAc8zJkycNGT527Jip7vDhww0ZBrdt27ZFmgo5Eb+6ujp54YUX5IorrggD2rOumYwMO50klAznpBv0JopAn0dACXCf70JtgCLQdxDINfG1yDz++ONy7rnnysiRIwMFiyxzlvji7DB9+nRDVFNFI90QYGcFiQTX1tYaMkz0l+tyDcg82uE4RD0h6xs3bjQR4FyXRDKMBhkCbDXDSoZz3SN6P0Wg7yCgBLjv9JXWVBHoswjYZAhOVwe/m9u8gEEijHnz5hlyGkSB+O7evVv2798vAwYMMMQXcp2JkHolwM66Ei1HV0yUmQLJs04SuEpkuncQ7U52DQj6pk2bzCa4KEtiwg0rrWGiAFaQ46gwihIXvbcioAgkR0AJsI4MRUARCA0BS0psumKbAMFNAosgK0Uq5Dlz5hhZgp+Ca4ON+EI6Ib7IKtwSK7+JME6cOCEvvfSSsXRDHkFkmAgsemNLhnOd7Q4CvHnzZmODFpfCOENLvWPHDnnDG95gyC/RYJw4kEsoGY5LT2k9FIHoEFACHB32emdFoN8i4CS+REohflOnTnWVuS0MUFatWiUzZ86UsWPHZnV5iK+N+JJMA+KLLtct8bU3DYoAk3TCFvTH1kkCSzIi0pBhItLZJtzwAhKkfMuWLbEiwNSfycErr7xiEqCAOz+UZNnnvPajF3z0WEVAEYgnAkqA49kvWitFoE8ikCziu337diERBLrVqMqTTz5pNqaNGzfOUxXI2gbxPXDggEmiwTWyIb5hEmBngyDq1kmCDG3ZJtzwAlIcnSmo/+HDh03fQYBtSZRJJJLhbBJ5eMFKj1UEFIH4IKAEOD59oTVRBPosAsmIr02K8PLLL5uED+eff35k7XvqqadMEorx48e7qkNzc7MhTwcPHjSbzSC+2JH5jRQGEQF2G22lDZDhbBJuuALptYOQYjDJWb58uZfTQj+WvsOODglEspKMDNvNc1YzHHol9QaKgCIQGQJKgCODXm+sCPR9BCARdmMb5I6/W+JrySI6TBI+4MMbVXn66adl4sSJ5iddgTTu2rVLDh06ZJJSQHxJnuGX+Np75pIAO6Oe4G8jw3gV0yYkEuiXkyXc8NJPcSXAbFCEBC9evDhjc1KRYUuI/Wa4y1gBPUARUARyjoAS4JxDrjdUBPo+Ak7iCwGmJBJf20p0mGzUIhNbVOXZZ5818odJkyYlrQJyAUt8ifRa4ht0faMgwM42uE244aXddrPZsmXLvJwW+rG4ZSCD8DruEskwsginz7CS4dC7Tm+gCOQEASXAOYFZb6II9A8ELPG1rg6W+KaLkCIlgCSlWorOBTLPPfecSUU8efLkM25HZBTiC1GC+LK5jchvWCVqAuxsV7KEG0SEiQwTIXZL9Oxms4svvjgs2LK6Lmmo0Sf7WXmw4926lyTbQJdV5fQkRUARiBwBJcCRd4FWQBGIPwLZEF/bKrxrWYp2bkbKdYtXr15tnBHQAVMgvkSmIW+QPiK+aH3DLnEiwM62JibcIOoJLmCWKeFGss1mYePo5vqMOyzaLrjgAjeHpz0mWfY5yDASCSuTCEom47uyegFFQBFwhYASYFcw6UGKQH4i4CS+/Jni1cOXjUj8RLlEvmbNGuPeAKmD+BKR5s9EfHF3yFWJKwF2tp/oPpFTJgcQyEwJN+JKgFl5wBYuaPcRJcO5elr0PopAuAgoAQ4XX726ItAnEeAjDxEiMpgt8bUNZzMSZMTpXZtrUJBAYMWGrRlL/ER8c0l8bXstAfY6ibDn59pzF8yYLPCDjruiosLgR2TYJtxgwyDRVpJzxKkgbWFT4/z580OrVjIy7EzFjHZYI8Ohwa8XVgR8IaAE2Bd8erIi0L8QgKA50xVnE/FNRAT5A04QUaTKraurMxpfnApIEHHeeecJiSyiKn2NADtxSpVwg2OIAkep8U7Wnzt37hRSVp977rk56W4lwzmBWW+iCASGgBLgwKDUCykCfRcBiJnd2MafbYQyiOgVS+mk773iiityBhDRSogvS/mkP4a8oWWdNWtWzuqQ7EZ9mQA725OYcAM9LJn+iAyXlZVFirG9Of7TjOl58+blvD7pyDCSEqLEQTxbOW+Y3lAR6EcIKAHuR52pTVEEvCJgia+VOgRJfG1diL6++OKLctVVV3mtnufj0axCfJEK4PqA1IGl+g0bNpjl+9mzZ3u+ZpAn9BcC7MTEZspjuR9izETDpmKG7EVVSM4B3nPnzo2qCua+ycgw/85EobS0VMlwpL2jN89nBJQA53Pva9vzFoFcEF8LLmR0/fr1cs0114SCNwTDEl/+P3bsWBONtBpVbrpx40ZDOObMmRNKHdxetD8SYJtwAr/dMBNuuMXYHrd161Zj5Rb1pMdZb0uGcSUhKQuTNKdmWCPDXntZj1cEskdACXD22OmZikCfQsB+fJ2b28KI+CaCghwBF4Zrr7020GVfS3xxdUDra4kvWt/EQgSaaGTU0cD+SICTJZygb+gTu4GOFQZ8lokM83+IXtgF2Q19PnPmzLBv5fn6ZCacMWOGcSZhTFAg60qGPUOpJygCWSOgBDhr6PRERaBvIBAV8bXo1NfXCy4MRIDdJldIhyztQduL1IFrk+GNiG9lZWXK0zZv3mzI9znnnBNpp/VHAozFHUR30aJFSbFNlXADMkzSkSDGRLIb0+fl5eWGaMatPPnkk2YyBgGmJEvFbMkwJB6MVDMct17U+vR1BJQA9/Ue1PorAikQsB9Vp6tDLiK+idVhWfyZZ54xGmB0otkWS3yJ+OLvOn78eJPYIh3xtffasmWLIRm5cgRI1Ua/BBiJB8Tu0ksvzRbGwM/LRICdN/STcMNrxYn6I4NBBx63smrVKuNIkizrYCoyjF6Y50fJcNx6U+vTVxFQAtxXe07rrQhkIL5IHSCLbP5Ca5it96xfoPFifeqpp4wLBB9xrwVCwEY62gKZnjBhgiG+tMttYTkc8hWmJ6ybuvRHApxtymGvCTfc4Os8Bt03lnesDsSpMJ7//Oc/mxTNmbyok5FhSLDNPpcLKUmcsNO6KAJBIqAEOEg09VqKQIQI2I+ltTPj75AANLFRbgTCGeCJJ54wPsAsSbst1J+ldaQOTU1NJuILmfFyDXsvNkR1dHQEnhXMbVvscRBgkktQslnSjmMEOIiUwzbhBpZ5aIeTJdzwivULL7wgQ4cOlcmTJ3s9NdTjmYjxPCxevPiMjZqZbpqODFuZRKZr6O8VAUXgdQSUAOtoUAT6OALJiK+N9rIMTNQ1ys1fePAS8Vq+fLkh45kK7YEI2UxeNuKbDfG198ISCyJ+/vnnZ7p9qL8PggBv2rQpkqQiqYDZs2ePIa1BYZsq4QaaYS9Rf5xHSHeN20KcChMxNsGROMSNfCdZ3ZORYUiwjQyHpauOE45aF0XALwJKgP0iqOcrAhEhkIz42g+fjS7GQftKdO/xxx+Xiy++WKqqqlKiRXvIKAbxhaxa4htEYgWSIiDFuOCCCyLqrVO3VQLsDX6bcIMJEf2HpMF6DGcaF+vWrTNJUBhHcSpkp3v22WfN85CpDW7qrWTYDUp6jCJwNgJKgHVUKAJ9DAE+eHZjG4SKvycSX9ukOCz9U8cVK1bIkiVLkmoeqf+hQ4cM8YUcELFj2ToIcmBxIBUz+mF0l1EVHCvQMSNjwAoMcsYSvZdoHefGLQJMIgw2JS5YsCBUaJHBIImBDLtJuIH1HrIZXELiVCDy1I0VkaAThSSSYTTCTs2wl7EWJ8y0LopAGAgoAQ4DVb2mIhACAk7iCwGmpCK+9vZEPiEOURI/6v3II4/IRRdddMaud4ixJb4se0+aNMkQ32w2ymWCG+KJHzHJGnJdIL6Qe8jbyJEjDfklOQhWbhAU/o2oJhuiMumC40iArUYbV4NcFMZTsoQbYIitmHUasckm8IeOU6HuRKdx8ghzExvPl50gM654V1iJBP/PNNbihJnWRREIAwElwGGgqtdUBAJEwBJfu7nNEl83H7AoiZ8TAggwPrGQPz7KBw8eFCKH6CEhvvyEQXxtHWx6ZDYe5aoQFQV/iC/kzKZlps30HZMYSDARTYgt7ec4IsNopZP1bxwJMG1saWmJxGEjXcKNnTt3GszBM04FvTQb9C6//PKckFDrA56MDFtC7OZdEicMtS6KQBAIKAEOAkW9hiIQAgJ+iK+tDhuUIFhsuImyPPbYY8aDF/IH8UUXTLQX4hv0MnCydnJPrNSIQoddIL4QbnAnujt9+nSjXaWkskEDF7u8T8QYAgwZTtz4FVcCjCQhDh7LRPnBnb5mgjF48GAzxsJMuOF1PEXZh8nIcKJMQsmw1x7V4/sqAkqA+2rPab37LQJO4sufKdl6+JKkgFS1bLiJqkD62ATHh5b2QHzR+eaC+DonAmywQ4ccVmFpm2hoMuJr7+nGBzhx4xfSCLvxCzlL3DTARFrRbkdNgJ39CvnFaYGJBJhZqQkTEkhxlCQPco4rCRrgKEsqMmyjwkhJosQpSmz03vmBgBLg/OhnbWUfQIAPEjIHPt5+ia9t7oEDB0w08pJLLsk5ArSD+xN9hSCxFE0qYj/Z4LJtBMkaqMvSpUuzvUTK85zEF9stIr6pEhy4IcDOG0HeINSQd6LEZDbj3yBPUeCYDAQ2GFK3qNNMJ9aNdMPz5s0zfZEoNbG6a1xJck3y6E8mSlFOShOxcpJh3hfgQvIca63GBCLXOAX+oOoFFYEEBJQA65BQBCJGAFLkTFfsJ+Kb2BSI07Zt24zeMFeFtuzfv98QXz6sZG0jEg0xjGpHfhiRcIgvZAGMMxFfLxHgZP0EjkgjaAdkjg1NbPgiMoyuOsrd/Wy0ZOIG2YxTId0wmf9w2rAlWcING11ncpGLgv6dfoxalpSqrWzQY4LAs8q4g/hCgG0qZiXDuRgleo9cIKAEOBco6z0UgSQIOIkvf7YyhyAjLSy3kgzjqquuCr0PIL7ILdAdUyC+eLDywWQ5Gi1mVJ6s1Iso8LJly3zjQASWCJ4X4uuXANvz0Y/Sn8gNiCRChhkvNqIZxfI+BJi+jzLZSrJOXblypfF9BpNkJaiEG14HFJNDSHAuN2R6qaPTPSOZTCIxFXOQ7ysv9dRjFQG/CCgB9ougnq8IeEQAsuuUOoRBfG2VsNt6/vnn5dprr/VYS/eH0xZLfGmLk/jaq2D8jx1VVGlpg5CCOIkv0Vci2qnIVSr0vEogEq+TuIEK4skkJ9FJgqgmEc1ckBP0rLQrTgQY4kb2QZxH7AbEdCPaT8IN90/KqSOJ/tJnUVoTpqvzM888Y8Y2Y8hZEskwqw5Mbq1mWCPDXkeCHh81AkqAo+4BvX/eIJBL4mtBxXKJiM4111wT+DI5xJePORFfPn4QXxIPJPM2pQ58UDkmikLEjc1aeK96LRBfpA54FmdLfO09gybAzrbY5X0i08glSLOL7tprCmGv+CCxocyZM8frqaEdz8TgiSeeML7P6bIPJquA14QbXhsRdOpor/fPdDzaaSYzjPVUJVn2OUuGIcSQ41xMvjK1RX+vCKRDQAmwjg9FIEQEbNQkVxHfxKagUyWigwQiqE1TtAU5wd69ew3ZnTp1qiG+6XSoa9euNVpVfFmjKJBXluovu+wy17d3El/qTlQMOy0/JUwC7KwXmw6JCvNDO2wKYchw0H7LZBuk72fPnu0HmkDPZYxC5LC9wwkim+I24YbXazOZIhsc+uS4FRs5TycdSaxzKjJsNcNKhuPWy1ofi4ASYB0LikAICERNfG2TSFAAEYD4lZeX+2opEUaILz+QaYgvG2XcbMBChgEJmzlzpq86ZHuyl82AkBNIClHjoIivrTcEGBwp2UTI8LlFA+yVyFsyjO4VEg8RZuNeEJOil156yVxn1qxZ2XZP4OfhSoHunI1mRML9lmQJN4iQ2sx+XjK6xdU1A4z8RM45PxkZTkzFnM2499t/er4ikAwBJcA6LhSBABGwHwCibnyEbUavbH18/VYNwoMWEhu0bIkAhI1oL8SXqA7EFz2vG+Jr60/mK+4fVZSQJBObN2+WK6+8MiWkYRLfKAmwvTdjkyQdTAbAA7IThJNEHAkwEXB059je+Z34JQ4YJjHOhBv8nskEkwo3CTfiqJm2bQxy4uAkw/b9l7iBzu/7Tc9XBPwgoATYD3p6riLwGgL2ZW/TFaM3RY2/q4kAACAASURBVH7ARpcoIx7UhyxseI561ULyMbTEt6yszMgX8Ab1QnztANm4caMhz1FtlErnhmGJLzIJCAxSB6d1VpCDPIoIcLL6WxIHGbZOEpA4NMNenSS2bNli+jaq6H6y9rGp7bnnnjOuH0FLPpz3YxLBRlMi7PzfTcKNOE4YbJtYMUKvHzRuySLD1mMYUpzNOyXI51KvlZ8IKAHOz37XVgeEQCLxtb6ZbHSBWOQi9W66plCfRx55xCwFu3UsgPhSfza4ET2zxNcPkSd7GR+5qJIl0BcbNmyQq6+++jRcfOyt1CFs4huHCHCqcQKJs4kiIHEQRpb2IcNunCSIrDNOZsyYEdBT5f8yTGrWrFljEobkKuMgk003CTfiiJdFnEk7PsBsFvUi6/DSY0qGvaClx4aJgBLgMNHVa/dbBFIRX7vUF0bihWzBXLFihYlEo2dNV5BLEPGl7hUVFYb4QoL8EF97P6KERB2j2viDfRgfduzgnMSXSQER30zYZIt94nlBRICJpoeV2CQxUQSyFZb2+UkloYHQMV7AMS4FCRIbL8MkcunayiTS2tPhxAI+Fkc8pFmNQUoUt4K0g/GFxjyI5z5T+xLJMKQ7UTOc6Rr6e0UgWwSUAGeLnJ6XlwgkI752+c75wcB3lg9dNrZbQQP7+OOPm8QJRPWSFfSSRHzx8oXkWA/QID+AWGVBsBcsWBB081xdjw87EUHcKugbS3yROgTZzkyViTsBdtY/lZME4whJjC1E9+24ydT+XP0erTMbLyFyUS+vJybcoD6kZ0YPDzGOUyGCjatHFKnTebfaNPA8k+CkZDhOo6P/1UUJcP/rU21RCAjYlzMvaEgMf09GfO2t0QQS9Uy36SqEaia9JClh2aGPfjeR4Fjiy2Y9iC/kJgxCiAUZy9LYK+W6EPFl4xEbvyC+LNXnmvjaNvclAuzsJ/oOvTDjGmKMZITVAXTDaFqRSkRlcZdsPBF1ZeMlkfIwxnO2YxhtMvXi/UGU2NrTJU4qsr2+3/PoXybu7BmIqiTLPse71qkZjlOfRoWT3tc/AkqA/WOoV+jHCDiJL+SXko74WijQUq5fv94koIi6YINmvXqpCx9hiC8pWSEuEF+ITJgfFTYFkpyBzFy5KrQTjS8RX9qJvhENcFjaRjft6qsE2LbNOklYWzWeCfBkYsEGxyixdeJvl/LDkoq46etUx9iVCKLAFkcmFWCITAIynCvdcmIdeVZ4L0S9d8E53uyqm91fwYSWiQO6cyLEYb63/PSznht/BJQAx7+PtIYRIGCJr3V1sMTX7csWsscu9DAysHmFg0QYLP3zYd29e7f5wPEBgfhig+W2TV7v6zweIsqkYPHixX4u4+pciK9tJySDdrKxC1usIBOCuKpMwkF9nQA7m2OdJJC3oB2G/DrtwHIxrlL1AWONFZg4SJAS68h7gZTgdkXGmXADQgyWrFBAhnk+g/BqdjtW0f+zUpLLiarbulkiTIY/9hIwYXCmYlYy7BZJPc4ioARYx4Ii4EDAL/G1l2ITDkb8V1xxRag2TG46DwJM1BpdJISQpepcEV9bPyLOfNxxowirOIlvIsG3/YEkJaroGu22S9/8ORuCGMfIJu4a4M3GLmQSkE8wtpu++Pds2upnnKBlhZjjAhG3wnsBy7hkmnybcINnhU10Tq9mSHHYEfa4p2m2Gf5IcY1sy8rRGF9KhuM20uNfHyXA8e8jrWEOEHASX/5sCUq2H26WNNHe+klA4bfZ1u2AZU2WC7Egw+0g2zb5qQ9JNKgHiQmCLmBNxJdNfKki22hYn3rqqcgnJP2RAKNphZwR1aQQwYS8QYbR4rpxkgh6TBDFJOMafrZxK0iSkIswCU1X/CbcyKbdSJV4ntg0G8eSLMFJMs2wJcNMxPhzFO+8OOKndToTASXAOiLyGoGgia8F008CCr8dkpjYgQ8py4VRZWGjPZBTSHCQhMQN8bVYEh1m6TSIlNB++qc/EmC07pC5SZMmnQUNfQQZJaKJBptoMJvnwt70BflmUhTGhMtP/3MumRlxQ2EjoduSKuEGUXZWdYIieHHOUgdW1t6OwEIyaUgyMpyYfS4orNz2nR4XXwSUAMe3b7RmISIAKeSjYm13uFWQ6YptAgo2k3j50PlpMh8HtLZkNCPSi9SByNyLL75olqSjysJGm4j+Urcg7JUs8fWyic9G5NGERmk91R8JMHZjENqJEyemHb5MzOymLyYkPBd201fQOleeATytlyxZ4ueRCvxc+h8CjC83xDWbwuSaCDsTC/ytbeISsPQrN4lzljqwYkUByY0bn+JEMowMzCmT0MhwNqOvf52jBLh/9ae2JgMCTuLLny3pDSMq8Oijj5pIDxuDwixE1iCXRL0gvmz6cpJuNgPxMYhyWRNCQnTJz658p1+xV/cKvFghHlFKUhgD+UyA7TNgN30xXiFxEDrGLQSO/wehc42bm4Ftu9WwshmUMey3pEu4gUbWa8HTmfPiZGnnbAPEn/eIV213YsINJxkmOMDfw/gGeMVfj88tAkqAc4u33i0iBCC7fHycRutBRnyTNQvCNWfOHLPkG0aB+OLZSVSNJWiIb7J0x1EnoaDtfnyR/RBfiztEYeXKlUaCEQTxyLY/+yMBJsMeY3zChAmeYeG5JKoHGYbcUIgmQ4aZxGVLSlgdYNLFZqk4FcYhm+DYDJoqs1629WWSx3PGpIINr4xzi6XbVY9EPXe2dQnrvCAi+6nIMJF0ViKUDIfVe/G7rhLg+PWJ1ihABKIgvrb6bLqaMmWKsSALsvBxI+LLx47oMsQ33XIqSSiQR7DsGlWB3JBiFR9et4UPut3c5jdRR5SabGd7+yMBJuXw2LFjfY9zp84VFwc/ThJxtfNC+oENGokmnNn03D4Tbo9jA6zVXiM9cZtww89kxm3d/BzHXgImS0FNbJKR4cTsc9lOwvy0U8/NDQJKgHODs94lhwhY7VeuI76JTcR3FmJgd8f7hQBvYYgvHzYiOyxTutER5tKDN1UbscZCK3rttddmhAHiix0TJMYv8bU3g1whSWFTFGQgqsKYpP+oAxEnryWONmgQ4HHjxpmfoIp1kmCSR5uJYFpbNTdL++h/0cdGkXkwHQaQURJhsISfKzs+Jr/OhBtWe83kObEOq1evNlpu3ltxLGHatGUiw0FIc+KIaT7XSQlwPvd+P2t7XIivhRViwCY0IrR+CkvEkFiiqJAAiK8XEsdHg6hJlBuCaAMfVwhwqoiKk/iyPAxutDeICAwrAStWrDAYuJk0+OmvZOdyf6JXRLRZBqcgW0E6gO7VZhfMdF+7CciPljrTPbz+3mY2C5IAO+tgl/adThKWDKeKooZJlLzi4zwe2RJRVjZxue1zP/dznusm4UY6j+Kg6uHnOljb8fxg6RhmSUaGmSzY6HCu+y7MtubztZUA53Pv95O225cVL0YiP2RY4sMYtsY3E3zo6YhWzZo1K9OhSX9P5Aviy3IwRAniyy5vr4VIKj9BWpB5rQOyDSLiyVIR02824kukL0jia+sZhSsH94b4WgcM/owkhug9eNhkB4xTq9VEw52O8MeRAOcyapjoJAFePBuJ0UyeGyKf5513ntehGurx9B/vBSYwQUzssq1sqoQbvGvmzZsX+sbdbOu9detWM3HIpaVjIhk+ePCg3HLLLfKzn/3MvN+19F0ElAD33b7L+5rbF5NNV8wy9+OPP242mCTbDJZrwNhRzbIZHxQvBeLL5jZkA5B5iK+fjVtBWpB5aYfz2GSZ2HJBfJ11eOSRR4x2kKh82AWyy4Yd+pHxCfFlaZnxYCPAECDGLKSDCL21tILQ8ZPs4xpHApyY2jdsbLl+smgmkXQbUWdChd42SueTZDjQx5s3b45VimbGKvWyMgkIpnMjYpyinbxT7epQLsZZ4j0Yd2TWfPOb3yysTORKxhJFW/PhnkqA86GX+1kbE4kvf7fRXnSebPbiYxh1wVMT8uM2CgXhJXLFxwgN3tSpU30RX9t+yBVOEFEum7MphwxYNvLljPhC8CEuYUfEkECEPTYYi5b4QnTRf/NjfW75PfpWO2adY5Tj0QfTX3YXP7iw3G+X+m0EkRTbcSlE9hmrYbmdZGonWDJptA4IHA9ekJPzzz8/pdSgq6dX1u49KWv21kttc4eMHVwuS6cOkfljU6dubm7vki2HGqWutUsGlRfLOWOqpKq8OFMVT/8+Wxsv1zfwcaC1aGMFhv0GvI+YsFkyHGTCjWyrGQeXigceeEA++clPmolr2O+sbHHS89whoATYHU56VAwQSEd87YsobOsxLzC4cV+gTRBeIoWQG0t8g1xa46NLMoyrrrrKS/UDPdYmosAqiyVEUjPzoQ2C+ILhkYZ26ezukeEDy6SitChp3cP0ZTZ1OHLE9CORR7KiEfVNjBClI8DOSjNh4HqQYZs0AqzYOEdfKgFOPjytkwT9wJhzJolAN2/fE909vfLrdQdk5cvHpaWjW8qKC6Wts0eGVJbIO88fLW+cO/KsG+w42iy/W39QDtS1SXtXj5QWFcjY6nK54YIxMneMO2mSHSO4QMStENEkuolOHilSmAk3sm172HpzN/W644475NZbbzWptpUAu0EsvscoAY5v32jNXkMgGfG1y3KJLyCsx4i4ZeNJGjTg6dwXaBMRFj7URFvYQEQULWhvUNoEwWbjjRsHhqAx4HpENsGCVMh8WGfMmGGkHUF8PPaeaJHHtx+TvSeahYjekMpSWTx5iCyfPkyKCgvOaA7yGJbEiWgFVehHJhg7d+4U9KmW+KZyeHBLgG397FI/RBjyBCnh3+bPn2+kHHFYnoY0Wd12ULj6vQ4rHizt43hgnSSYdNmI+it13fKDP+8xtxlVVWrGIrjuO9kmgytK5MvXzZBRg8pOV6OhrUv+Y+Vu2XOiVSYOrZDK0iJp7eyWV0+0yoQh5fLpy6fI0AGZXT2Y/KHHR6YVt5LOoSLohBvZtj0OY+373/++PPjgg8bNQ0vfRkAJcN/uv35dez5INl0xHzP+nor4WiDYkMOSMdG3qAsb8vjgYb3lJDQsnUF8WebGI5i6hkF87T0h2Og0r7nmmpwSJpb6wYAflqSJagZpQ3a4vk3uWP2qQIJHVpVJSVGhWcouKBC57pxRctXsM4kuiTDQYzM+/BbGou1HdvYz4WICk8nb1SsBdtbTOkkwmbCZrCDzkDpndNNv27yeH0fngMSUvkQ3rbyE/nruRLmsOVYgc0ZXnZan0G5WEV492SYfWjpBrp79egbHZ3bVyh1r9su4weVSXvL6CgOR4FdPtMh7F4+Xy2Zmll2RoIN3Apng4lZ4H2FVmMmhItGVI5uEG9m2/YknnjAOEFFK3G6++WYz4YUEa+nbCCgB7tv91y9r7yS+EGBKJuJrgVi/fr1xSpg5c2bk2PCxw/aK9Ls2UgjxtYQJ4us2Q5OfxiTbgObnepnOtcSXiC+RUBsdRIIQpA3Zg1sOyx83HZaZowZKcVHh6WpBiIniferyqTKoouT0vwcljyFyzweQiQUTGDTMRBfdFD8EmOtbDTBjisgz0U0i/NYnFzIc5mQqWRtZdWFXftgpv+29TzR3yLbDTVJcWCDzxw0y0djEQvpvxl6y9wATsf9cuVNW7aqX0RU95riK8nIpL68wk6edx1rkfReNl7ec+/pE6YHNR+SejYdl9uiz0xdvP9wkbzl3pFy/YEzGIcAzwcQpyqQ0qSqZjcd0tgk3MgKV5AAmgKtWrTLYRWFlaKv0iU98wrzP77zzzmyaoefECAElwDHqjHyviiW+1tXBEl8vS+XoI9Fdzp07N3I4WbbGtoeoo7VlgjARKXRLmIJohN2ARmQnzPsmEl+IIVIHJi/0LS4MF110kVmWDqLcunKX7DvRIlNHnGlFxEalY00d8uGLJ8ns0a9rM4keIb/I1uQfggDx5f/ZSlaCIsBODXBidNNm/SLSnU2yDa99kysCTHT2tmdq5IEtR6SlvduQVWQHH3jDmWSV+mdyC3jopaPyy9X7ZdTAIunt7JDWtlbp7emRzoJS6Soskc9dNV0WTXp9nK7accJohicNrZDS4tcnW13dPbLreIvcuHCsXDPn9YhxKgzj6k9Mff1u0POScMPrGON43i+MtTDSSHupz4033mjeI//xH//h5TQ9NoYIKAGOYafkW5WCIL4WMwgnL0q3zgthYU2biPba5WqWyIn4hklAU7UFgkT0k+xTQW6us/cDbyJbSB0gXE7i66wTLgxk5iIBRBDlR6t2y46jTTJj5JlRuYa2Tqlr6ZS/XTb5jN/hQkHdvCZsIOoK8SXyC3nmGtniaAkw0axs9LuZXCDQcVq9MP2OThgiTHQ2rExW4MqEM6h+TTU2bnvmVblz7QHplV4ZWFYsPb290tjWbSLAN79xulw643UJAhNhVoKYbCYrSGW+vWKX7D7RYjTAyBpONrbJscZWmVjZLddP6ZUxo0YY7Jiw1bZ0yb+v3C1HGjtkyrAKs+LARjpWG4YNKJVPXz5ZRg/KvArAO4EJKRruuBXGDStWTslWNnW0unVrq8b7wY5Dxoh1RPF6bXBD4oafeS4mdqnqx16K6667Tr70pS95bYIeHzMElADHrEPyqTpO4sufrcbXS8Q3ES925qJlW7RoUSRQ0gY+JBBfXtgQnbAjr5kaSkT9scceE3aeZ5NII9X1ua7V+BJ1hxhCEFMRO+rAhz+oTWh/fvmY3L3h4Gubkk5ZUYE/u/WJ1H3ysqlS5tBrEj1iEkIU3k1hHEF8iYwhLUDK4ceP2dYPQhAWAbbtAgckGpaE8HdIsCV02ZDvVJjlQpfJJrT3/nKDnGzplOEDX99sRruONnbIBROr5Yc3zDu9sXLDhg3GCzzdXoBdx5rl12sPyN7aVuno6jHuIbNGDZD3LR4nhe2N5jm2VmDgdrBrgDyys1GONLZLb+8pNEZVlclb548y9mluSq4ymbmpS+Ix+IUj22KVJqhC/zBpsxZ1jHtIMHh6yYBIfdxqlIOqe7Lr0B68xD/96U/Lxz/+8TBvpdfOAQJKgHMAst7iTAQSiS+/DSprG0uMvGxzvcuaNuH/CvHFfomkB7zocV+48sorIzVMD1p+APG1EV+iOZmIr+39oDS49noNrZ3ym7X7ZcvBBikvKZTSokKpb+syBOlt542RhRMHnzHw2EFOJJ6+SVfQaBOpYxzxoYb4BjVxCDsCnKxdkA6InCV09BntgtRD6P1MOLkfukzrShHWu27j/gb53N1bjfVYos1dXWunlBUXyT1/u/C0Hpi9ADx/uHKkKziHvHykSSDYIweWytThlWfgYa3ArNa6RcrkRMEgkbKBMqJ6gMwfVyXjB1e4bjbuFJQ5c+a4PidXB4atT3Ym3LAeupYME2XPNClD6460hYBCVIXnl/fBj370I7nhhhuiqobeNyAElAAHBKReJjMCvACtqwMvkiCJr707EQxIMMv9uSg24xfElyVnPrjYsLFEh38r0bGoI8DgEEQSiGyJr+0HiBKbkrLV4CbrT6QOq/fUyqYDDdLZ1SMThlYYGzSn9teeR8IG5A+pSBEaRogvRJFoKR+6oDfb+CXARHUhd9n6ANOH1g2ByBwb5qw1WLoNmfWtnfLykWY52thuNLBE2KeNGGA2ouWCAENSP/67LYKzHfIHZ6lt7pSB5cVy70cWGicQCm4GrDRkmux4eUdYrTVk2CYqYSLBj1tpU6I7hZf7h30s8gfatWDBgrBvZb4DTMrA0m3CDcYtEfQoU7rzvidyzfs022cwdHD1Bq4RUALsGio9MFsEnMSXP9tor9/IU7L65CrrGe3AzoiPBh6ZkCp+nNo0lrrxnuWF7XfpPFvs7Xl+PHCdxBcdqdXRZorYJNbZqwTBS5vRY/Lj3KCUeD5WcGzKY4LiLEhVIL70Jx83NriElUo7agLsbDcrFTbZBtphyD5kGOLoTOBxqL5N/vTSUXm1tlWYtvb29MqAsmJZMH6QXDV7uDz95BOGNAW1uTFZv6P3/dCvN5lo7YiBpVL4msczG+MgwG87b7T849XTTp+6du1aM9FyK3fxMtY41iYqAT/+zHiBCCdil3hd0iAz0WByFbeC3Icxkev00ckSbtiJhXOFIgyJhtc+IArN+wOJTS4mCl7rp8d7Q0AJsDe89GgPCEASebkx2+fDHybxtdUimkCEDM/bMIolvkR8Ibi8DCG+yXLCcyyRAuQYYREqt20kSjdr1ixDAN0W+g7TfiLqfoivvZ9bCYLb+nk9LtEjmgg9/ciHlf6B+LJZJ8wSJwLsbCfRb7t5jgkdEwHI8JChQ+XujUeNzAS3DTKmUY43dUhjW5fRvx5/+XmzuTHsMb52b5189cEdZoMjkV5IcU+vyPgh5fL96+caj15bSFKA3CXI1YZk44L+dLofWOwgcCzvJ2483Lhxo/FsTrU5L8yxl+nayDNoT5QOOokJN1ihsKmYkU1EbSHH+4L02qw0et1Mmwl//X3uEVACnHvM+/0doyC+FlSb9OHqq68OdNc7bYIo8QKE0EN8WV5NRnydHRy080G2g8dL9DWR+PKxJpLmNeKbWNdUEdhs2+T1PKKCEDs+XETua2pqTNTTEt8wViQS6xhXAgyZ3Xq4UY41dkhne6sM6mmUopZaOdlRIGtPVsjQ6oEyZmjVGfpYorHnjq2SYXXbc+bN+tKhRrlrwyF5oabB6IGXTxtqUhGPqT7TgYGxxjPqZcLndTwl61vnhi/6GhJsJhKvaVxfeOEFM8lKXIXwe+8gzk/nnRzE9b1eg2g0sgei7Ojyedfyg8NPLvzTk9WXdwgp5Zk8u5W9eG23Hp87BJQA5w7rfn0n6+KQ64hvIqjW8/byyy/PmJXLTYdAfG1CC4gvu8ohvm6tfILMPuamvqmOyaR/5Tz6DlJIxBeyGxTxtXUiKoe2NqroF/enP/mYsrQK8YWg5IL4WgziSID317XKPRsOGzcEZCSUIQNKZMmkahlS1C7/+/xBqehtM5vP2AxIBJOMd/tqW2V0ValMbnvFuK7w73EpUafMtRsPIW9ELYkEE8lkCZ0JmBdtMn3y9K5aefKVWqPBHltdbizflkwZHOjYxTqO5wKJU9wK73X00/yf97D1ugbTTNkXg2zLQw89JB/+8IeNs4XfgECQ9dJrZYeAEuDscNOzXkMgLsTXdkhQultespb40kaIL0uqbomvrU+23rNBD7B05JO2WqkDZJAPYBAR38Q24IhBJCzX+keWVSH1/KDRJpUqRDyXxNcrASaZx4nmThlUXiyDK1/PZud3E1xin+CC8N/PvipbDzUZf1v8cJEWHKxvlwIRuW7eSFm7r046u7qkUjqksaHRJI0Ax+Nd5bJ81kgZXLczdgQ4TumZE50keIdAgpFJZNobwLvn9udq5OGtx6Slo9u4XbR3dUtVebG8bf5ouXHhmMDGMdIxVkjiGJ1m3NoINbIWa+9HlJh3ivW6zrQi5/e9+pvf/Eb+9V//1awgRfH+8Ft/Pf9MBJQA64jIGoEopQ6pKu3X8gsyaKOgfoivrR+RKMhkJjumrDvB5YmQT6tztackEl8b8Q0rYUKu01TbzHR4FbNkSsSG5WfS9kZVMkWAWzu75f82HpandtVKc3u32dS3cGK13HD+GGPvFjQBxgv3F6trjLMC6aOdhXTDy6YPlYGlRfLs7pPm/kMrS6SlrUNeOXxSejtaZeHQDhlVIaclQV4niGH1Q66Sc3itP+8DCBuRTBwXSKhiNx4mW9bfcrBRvvnwTunuERlZVWpIl7FcbGiXytJC+dqbZxnrtiBK2BsH/dYxUT8NDmBoZRI87xB4osJ+Em6kq+cPfvADueeee8w+Ey19HwElwH2/DyNrAZE1ohu52NzmpZEkXEAnRpTPbXEu/9MeG/H1SwaJvPIyjnpZEe0hG0ogf5bk2yhG2MTX9gE7p9HNhe2B6kzQQaSSiDNaUD6gkIy4EmA+6D98Yq+Qdhd7May9Wjt7pKW9S84dN0j++Zpp0tXWbD6+SHyCiEBhH3fnmv3GPg4fZWfZfbxFZowcIDddOE4e3X5Mdh5tNn65RQUFMqKqVJZOGSKTBvaYHfFE3hhX2SY5cPucuj0O+0HcDMLe1Oi2PvY4Z2QaHal14YAQo0e3ThLWTeaO1fvl9y8clMnDKqWQ3M+vFWQRr55sNWmg//J89xtb09U3Ct20F/zSWdsFmXAjXZ2++tWvmkg0ad219H0ElAD3/T6MrAUQDUuAI6tEkht78ZtN3PBlM4X5Jb62WpAVljlxYIiyoO+jTdQFKQAlKJLvtl3UAaIU1i5zZ18mS9ABAUYvGDYBT4dHugjw9sNN8q1HXjFWY1h92dLU3iW1LZ3ysWWTZNGYkkAJMDpeltjZUEZKX1uo57YjzXLlrGFmqZ2/H6hvk+NNnVJSWGCy77EMD+ZEWxcvXmx8sHGSsEkObLIN9JpBkHW344zjSLoStjWbl/rYY5NlzUvmJGFTB9+7o00e2HJUpg4fcMbtOGfPiRb5q0Xj5L2Lx2VTlbPOYaMsk0MvgYNAbuzyIri4oJ3O5OyRLOGGzYLIKpgf7e6nPvUpYxX3v//7vy5rrYfFGQElwHHunZjXjYgPH8C4FTd2W4netkFv+LKYQLqI5oRF+txgTz+xvMnmL4ghbUXPHBTJd1MHjsEDlRK0z6gzos3HLZVPcdgE3A0O6QjwfZsOy+3P1sgUon2v+dzaa+481izXzR0hN503JFACjN73V2v2y4aaBhlXXSaDKkoEb92ak21GFnHThWNNwotUhWVniBPpc1nOp9AfpI+22dOYdNhkG/YYN1hlewwYQ4AXLlwYeCKTbOtkz8tEzBMjmeuO9Mijh0pMyuVBA3C6OBUFZlJENP4zl0+R5dODse7LRUITP/hlQ9CzSbiRro7vfe97jaSNTHBa+j4CSoD7fh9G1gJm2nwA41bSyQ6oLyk/+bFkkA0pfqIC6drPchk4kSo218W5kY92Qz7wJM418bXtZhc37ZSb/gAAIABJREFUEw/kKUEUcEWvjZSDYol9qr6EgBOJZBNcVCUdAX5g8xG57dkamTy0QoocBJhzXjneIm+aO1Lec97gQAkwOODp+38vHhYkD60d3VJQWGDSAl82E6eBIWmhQgbFsj7jColNYuH3dpmfCRguEpYMO5PGBNkfjAvIXNycKbzWi+P3HTomX394t+yt65BBpchiSqWnoFgaOnpk7pgq+Ze/mGk2Lvottm5xnDTQNp4B+tRPVN+5GfHkyZMmMJEs4UY6LN/0pjeZDHBf+9rX/EKu58cAASXAMeiEvlqFuBJg9K6QPafswG6Igvjy4oMssZQWFvG1fbp9+3bjGYl5eq6KkxjajXwsT5Ptiw9cVAWjfZYP/WLh9GTmz9aaLhOxZzICHkFHoL3gmY4AsyHt6w/tlK7uXhk1qOz0ZYn0NbR2yt9fOlnOG1kcOAHmRkR9dxxtlhNNHWbj3fQRA8ymt0yFccWKy5IlSzJ6s6JzRSLBD+exGQwyHPSGJacsI5PLQqb2Bfn7bOuF1OGnT+2TnUcapKWtUwqlWyYMLJD3LRop86eNz+gk4aYNySL5bs7L1TFM5pGPXHjhhWYS5bekS7iRapWCZ3fp0qXykY98RJBCaOn7CCgB7vt9GFkLeCHwIolbcUb6qJ+N+EJ8WR5nQ1TYxNdiQopdog28uMMuTs9iSwytdRsJPMiSh1YzqvLyyy+brFnZknDadOjQIZO2GDLh1ZOZCDQf0iii8RbzdASY3xEBXrHtmPHjRWNLRLaju9c4Qfx/V02V9pamUAhwtmPCCwF2YsDufYgwO/jpEzSazoQR2dbHkPnXZBmpotJ+ru3n3EzR8nTXZjxsP9JksuBVlxVIdW+TwQ5XEAibjWRmmyCCiSle4RC8OCZ4yGacue2rxIQbTJrsZkQnnjyfBFW++93vyk033eT28npcjBFQAhzjzol71eJKgIk0Em3iRYa/LS90iC8f2FwRX9t3bDjjQ0+ELKySmKzDSgGcllRYgUEew6xHpvbt3LnTGMh7nQwY26fXiC8kAp9SfrxabjEu+JCyjBpVyWSDRiT2wZeOyqodtVLX2ikVJYWydOpQk3IYT2BrgxaUC4RfHPwSJ7thyW6eI4pvN88R6ctm85yTLDV0FgoZ68jvMWlYhZGXZHNNvzhxPitBOC1cfPHFgSVvsE4SyExY4UnmJOGm7pyLdGz58uUZs1u6uV7QxzBxZh/DJZdc4vm591IXvhtgyeTC4omtGsETu5Huvvvuk2uvvdbLZfXYmCKgBDimHdNXqsXHJk6F+mDLBNGyWY0gvlF99NCoQj75sARdvGSpYyLAz7Jly4KuhuvrodVlcxQbptwUyCIfIyK+fOjxUibqm63ZfRRylMR22h3/EL10BB4ijPRhQGnRGRrPuBHgIEmd1WhChlk1QVNsybCXyCZ1eubZ56R+yEx5ene9SSjCZr8hlSVy/oRqec+isYHoZt2MYecxYZJMxhXXBzueGSaK1knCjcTEjqvLLrss50ECNzjyPkfalquJn8UTLNk8+8EPftBMnFlFu/32240O2E/5wx/+ICTVwCWI7IAEaD72sY/JRz/60TPwf/DBB+WLX/yiMHln893nPvc5+fjHP37WrYlK/+d//qfpfyRe3/nOd4S+1JIeASXAOkJ8IcCLlpdF1AXiS7QVkgdBItJLtCAq4mvxIHLJ0n+QLyOnBtZteuaDBw8KEdhLL700sq5yG4VmPEGUqS8fdUt8/W6aoh+43gUXXBAJBkSxduzYYaJLjNFsIp1xI8BEzLCnYmLlt3+cncLzbDfPgZuXyCZ1+sVDa2RjG+4IBTJ6UJnx0GWzX2N7l4mmB+Wd62UgIfvAyzZsksnzwzix2dJ4X0CCCQRAipOtgkHCNm3aFOh7ygs2mY7FWm/r1q3mnZ7rAn5Y/f3yl7+UP/7xj+Z7d91118mNN94ob33rW0+7n3ipF/Ic3mvveMc7zHsAd5BbbrlFPvOZzxjySmG1gPa+733vE9wn0Np/5StfkZ/+9KcmHbMtkN8vfOEL8q1vfcu8237+85/LvffeayLmUe538IJHVMcqAY4K+X5y36gJMEuwEF8irWjhSHqABpBoYxQvy8RuhcgRQbjqqqt897glvrSNaBkyAF6ibqQARAaIIhBBiaowOaGfWAJOVviw8KEj4otjAPpl5BzYaAVRIJ9cN1sNcrZ1gJDRJiYhEBH6DCIOQbGRTsgJP5n0l4kEGG1oe1ePlJcUnpEoIdu6ej3PEuAwl84hwJYM874h2xekASyTbXykj//59+ulrmiQzBgx8IxJcM3JVpNa+svXzTAa61yWXEcxaZvTE5d3EeSXJX3wwxPXBgj4HSskYaxUBYExgQTe82iUoypEoJm8/OlPfzIE86677jKSKojmvHnzPFULvBP9lonu/td//ZdZveSdB8lmYoI0xRY24EHC9+/fb/qS+9OX/Pu//du/mcMIikB82evw29/+1lO98u1gJcD51uMBtxeyyUs21wXiCxHkRYDUAeLLC4UXOhE2NsJdeeWVua7WWffjBcYLEs1YttFo8IU8sZHNK/G1FeKFiyfx1VdfHRkm9BUfsWQfWZYWifhC8CzxzUQGvTYklxsSqRtjlD6j3TgezJgxw5AO+8zwAeMYS+4gxfzepsZNNrGxUcQlyy6RJ3edlHV760xUkxTFb5gyRC6eNtRkkctVCXNZP7ENiR65/N2SOfC1z9fR2jr53O82StXgoTKmuuKMy9S3dkpLR7d8/pppxm85l4UxjhNJVKswvDuYYFp/ZqcNGJMGNgtHuUcgXV8wcWYS73X/QJD9++ijj8pf//Vfm0k0zy6Tsccff1yuueaaQKwl77zzThPt5V1PpJ4EMt/+9rfls5/97Olm4IQBCWclgYk8kWPkGJBzp7sONm3f+973zPs02+9OkNjF9VpKgOPaM32kXrkmwOj7LPHlBYF2yhJfC1kQpDMo+CEs7K4mAuwmUuu8r5P4gjP6V7cR38T6g8m6devMyzqqF2IyGQYRUIgv/8ePmf70ovf00k+5csLgw8gYJeLNRi6IL1FLcE+1Cc5qg61NmE0rjGMJ5M4uWzOe1qx9XvZVTJfn9taZtAjohCHBJUWFctWsYWZ5P1d9nKvNSYn97ExwAKlDUmL9hds7u+Qf73pReisGy+RhZybxONLQLsVFBfLFN06XkVXBrCy4HYNxirIyRgkUQIYhSVa+AqkK6/lzi1Oy45g4Exn1a6Hopw6/+93vjP8vz3UYzxdR3Lvvvtv0C3ItosoPPfSQvPGNbzxdbcYQkz7IMrKIH//4x/KJT3zCbPp29hsa43e9611mxQ3tsJbkCCgB1pHhCwGiCnyMwi484JCKAwcOGD0gRIkl0GQvImbo6KWyIZ1Bt4N6ox9j1u42ommJL+21rgcQ32w3f9EmPnJoyiDAuXbCsJg6ZRh8zCC+RMXwY6Y/w84S5nUTntexYL2m0TrzMZo5c+ZZk7NMLhDck/5nQgBefPCYOFm9ML+7e9V6Wd82UsqLC8/w6j1Y32aiv5++fIpMzlF0k2eNiRVRzUw+zF7xdHs8uEMawItxznP2ZE27bGmpllGDyqW6osRcqrWzW0j9fMn0ofLRZRNDITHp6kz9GINRLuMnqx9BBQgXzyTji8CCXYUIUtfttj+THce7gtWSKDWtkM3/+Z//MZK2oAsRXaLvaHxvvvlm8/1CV887G72wLXxv+Q7ceuutxov4m9/8pvzLv/yLwcZZHnvsMbPaR12jtH0MGqegr6cEOGhE8+x6YRNgCCSRO6KHLA9DlGw0LRXUvAzIGsRHOepoBgR25cqVZtk/E8GzPre0NyjiazEiUkfGLmQhfoi0n+ENSWGjDRFNiB0fWaQruUpW4HYTntc2OtNqgy1tInKbbHLmhgA778+1LbmDoEDuVu5rl+1t1SYTmPMe6IFfOdYi77lwrFwzZ4TXZmR1vCXAYW/scls5yBz9vKfmkDx6oFD2txVLb2GJlJaWSHEhCT4q5SPLJsroQaQV9lbAFzcJIu3ZFN5hRA+dhCab64RxDu8c3hG8X+3mOZushMkXq2xeV7CCrCf7Fyhz5swJ8rKervWNb3zDTPZ4nwdZmBjhjEOklu8W7xBLgNlg6nTNsQT4Bz/4gXzyk580BJh6Me6dBbkGwQ7et1FOGoLEKYxrKQEOA9U8uibRXx7KoAvaQl7KbH6A+EIq0EW5WXqiPsyA2WwVRNYgP20DH15GzO6JXCcricSXaC8b3IIkqrwgrX7MbSTaT7sTz4UokYgCEscHlf7Mdd+gcWQFIagIHP0GoSGqR1SdNmXKLuiVADtxpA+53+/WH5T1xwtk2tAyqRxQaSZ5hQWFRl7x8tFm+atFY+WNc0cG2X0pr5UrZwMvjUESwVibe+4CWfVSjbxYUyudXT0yc1SVXDZ3nEwZN9L1Kgikl41z9754WJ7bU2cSlJw7rkrecd5omT9ukJdqGS0477ModaypKswGUSbdNk2400nCJithxY1nlwBErleRIHLY4vGMRVXYpMb7C3lBUIUVCyaPBG0IUIAtBccLLxII3g3O97pKINz1kBJgdzjpUSkQCJoAE4WwxJeXAREJiK+Xwst7xYoV5kPj9Vwv93FzrK3LokWLTr/c7HnOBA9EW2yChyCJr72Xl0i0m3a5PYb+ZPMZUQ4mMnxAnJo2t9cJ4rhMLhTJJye98uKBetlYU2/0tudPHCzzxgyUQ69tSoQE41QxceJEV6TADwGmfhDO/3l8vaxtrJbKgi4p6GozxBcS3Cal0ltYLB+/ZJKJDueixM2WjTYnam3BxykpYRKNjpIVCCalySbVkN7Hth+X1XtOykuHmqSju0eqyoqlpLhQ2jq7ZdiAEvn81dPkoslDXMPMBAxynmsXEjcVTBdhdTpJUH+LX6KThJv7ZHsMm7x4l/OOjKp84AMfMJHwn/zkJ4FUAdLL5mjkHUgdCHzYwvdAN8EFAnPaiygBDh/jfn0HXo5o8PwWIoQQX4gSxJeZPkvl2RZ25xLN4CUddaEuLEPx0aVY4kt7eQlaO7Mw9XY2Ek30kxdr2MVp/UV/shGMwpJeVDpkr0lJcAv41sMvy5o9J6W5HZ17r5QXicyo6pa3T+6RWdNPEV8vS8NBEOBn1zwvWwomyeaDjSY7XFFvt9Q2NktDa6fMHVog779wjIwbO8a1tKSrp9dkS6O9E4aUe5IHWGsvv4kBghyPNnlKMrs9ngNIHO8ZNoZiN2X11VaitPt4i/zoib1GL1zb0iEnWzqlqLDQWM2NGVQmpUWFcqC+TeaOHig/fNc5UpTGdYOI8f66U5OUrrrD0thQH+lGrlQ445pDBNE+p6mOs/iBMfp93ll2MoGUyc0KXTZ9jZMOqytRbujC85f3J7IDv4VVyuuvv97sD+EnmU4XGzSeL8ixLX/3d38n999//1k2aPw7jhEUm+6db47aoKXvKSXAfkdynp/vlwA7iS9LbBBfIoV+Cy8Vosc4C0Rd0HWxIQpdKEuglvhaqUOYxNe2nQ/wI488YvRkfiYWmbBkKY72ITXgPla6wnl+HDEy3dfN76kTdXPrD/1fT+yR/1m336Qjrizulda2Nmnq6JXegmJ5/9JJ8tFLprq57RnHBEGA2TAzf/HF8qctx2TLoUYTkawsLZIFYwfKwhEijbVHzWYwCIl1RkjlpbzpQIP8as1+qTnZJmSfG1BWLEumDJb3XzTe/DlTIbKKvV6U/tKJdeQZQwe8YNFiOVTfLpWlhUlJvXVCgAwzNi1e9+zskKd218vkYRWyek+dwaXMRH57ZFBFsSHBjW1d0t0r8u/vnCszRp7pNGHr88yuWvnDhkMGW0p1cZdcMr5YPnD1wkyw5vz39CETY1Yz3Ba7+RAyDFGzmfuYUPDnIAtOOtSN8RxVYR8HNmVIIfwWMr797Gc/M969ibaQc+fONX1hE2EQeb7pppuMLvjLX/5yykQYJNIgEcZtt90m99xzjybCcNFJSoBdgKSHpEaADzofEq+FDw5khJcny0oQpVQaWa/X5nheHhDOKJfMbL2feuqp08v/RHxzSXyd2KFFxkaIiUbQxfoyE2WlH631l/M+diMe0cIwSH9ze5dJCjGwrFhKi8/eqOQlGx7X+utfrJdjjW1SVdQt3T3dUlZaJmXlZXKkoUNGDSqTO/9moeeUukERYLvp7ERzhyFjpPm1bgdgzkTEWqrxZ5aPIQ88a9at4dXaVvn6QzsF94jhA0oMZg2tXdLS2SNXzR4un75scsaIXhwJcM3+A/Kr5/bKlsZKwfe3sLBAzhkzUD60dGJKssqKhYkc1xyS2zZ3GCnJ6MGV8vyBVunu7ZWy4iJDhJHBTBpaIW1dPdLR1SPfececpHITpBPfX7lbTrZ0STUJNwpEjje0ysCSAvn8dXOME0WcCil5bZKWbOpl/azBkOccAgcRJjocRCIb9i+womc1stnU0c85PLdoctlw9v73v9/Ppcy5fJeQxCQrePvazKGkQibLmzMVMrZnzkLdbCpk8CfyC7GO06TUN2AhXUAJcEjA5stlvRJgIlMQXzZW8HIkShsk8bW4s1uXSHKmJb0w+wlsICEsL/JnXnp4+YZB/ty0I1GK4eacTMegVWMTGMSXCBp4p7Kny8YSLtP9+T0kZ+2ek7Lj6CmtZnV5iZw7bpCcP6Faih079r2kpd6055B88g9bpZfrDSiV8rLy0xpf7ke5/X0XyNjB3twEGAfNbR0ivT1SWlzkpnlnHON10xn34xzGIR9H/g4Jhgzf+3Kz3LXhkEwaUmFIIqSfJfvG9m4ZUFYk33zLrIx2anFLoYtLwxfvflFW7W6Q4qJiGVRZLLg0tnR0ybjBFfKd62fL+MFnJsdwAnyssV3++d6XpK2tXcqlU16p75WGzgITRe7uETMhQCZyvLnTRIJ/9p75JvqeSEj+8d7tsqGmQSYMLT+doa+5qUkONffIgolD5HvXz00rnfA8MHyeQLYx5AVBrJjZzH2MN4gxky8/ThKMWUgh2ukwvhVuoKMOSDDwAn7zm9/s5hQ9pg8goAS4D3RS3KsICcpUWCKD+LJBhZchxDdMLSpLekQeorDN4WVpdYhE32zGpdmzZ2eCKdTfWykGL3K/hag/5vRsLGO5E+KbmJAk8R6MEz5kSBCCWiJFt3rviwdl26Emo4etKCmSOkNQe2XZtGFy2azX7cDoE9wB0ulVIYtsStl78Jj8ZEeZdEqRjBp0JmE62tgu1RXF8usPLjLRZrdl9/FmeelAgxyqbxFkozNGDpRzxlR5SsnrlQBTNyKXO440S2tnl1T2tkp34wmjg/31K0VyoLVIRg6qkKPNnWaJHwJpE3b8w5VT5a3z0y85R53dzIn98aYO+eETe+VPm48IumZkC0S1hw0oNf7Ix5o65MZFY+Vjy1/fbJTYd0wAvvnwK7L5YINMH14ph+tbZOvhZuno6oX9CsHc8pIiKS8tkb95w3h518KznyVI9Cd+v0W6untl6IDS07fA2aaxo1fKy8vk1r+cJ+M8Tp7cjrNsjgtDYmAnX9ZWDW0qEVwmX16cJJBasIqGfCuTlWQ2bXdzDpN36p1oS+bmXD0mvggoAY5v3/SZmkGGeNklKyyRQnz54PICgfjmwv6KlKPok3NpAp5IfNkgRcQX0sUGkyjIuLNP+IhQHz8bSRKTPSBdYULjZvML5xKFxuA9KO9f3Bnue/GQIROVpa+T0QN1rYYA3bR4ggwbeIqEpEuRTdQK4svHmvZA6H/8zEG578XDRl5go3zNHd2GYP/lBWPls1e6t2TafrhRVm4/JrUtnTKw9FS0tbO7V2aNGihvnDvCld6WNnglwBv318vv1x8ym7YgdxD2xZMHy1/OHyHfeHCbrKtplO7uXunsLTDEjqh0W1evSRpxxcxh8s23zk4bqeS5xrLJra46rJcahPc7j+6SVTtPCAQUBUxxEbKFXiktLpAxg8rlRHOnTBteKbe9d37SavD89vSKrNlbJ794rkYa2rtkxIASc97uEy2G0FYU90p1SY8sG1ssN1wwRsaOGXPWZA5Zysd+u8VMPCDftjDGmjpFKsrL5Ifvmudps2FihXcebZbn9pw0RP/csVVywYRqXxFl3g1M0JnEhlFscheeL4IgvC+4F8+aM411snsTREDSxqbGIOQU2bQPCzu0ubwjorRiy6buek5qBJQA6+jwjUAyAgzxxf6KCBFaXIhvUKTHTYXJbETEhU0BYRc+nJAr2ss9LfG1L2skEJSoDcmJ8rDE6bTbcYsNu5bZWMQPEe10yR5SXTMMJ4o/bT5sXBpmjz7T9gvysfdEi7zzgrFyzthTrhd8eMmMRIZAW5xuFUg3IL52mfV4U7t86f5tsu1Qo3R09wr/Qaq53tffMueM6F46HNGK/m79ftlf2yJN7d3y4oEGI9soKSww6XhJzLBsmjtNqBcCjJvB9x7fLaT/HVVVahI4QN7R+F4zZ7iMrS43v4eMDygpkJ7ubunp6ZX23gJDhCFWn7p8qiHpqUpcCDCb+f595R5p7uiSXcdapLigV0pLioV5ObpwbMvQ7c4cOcDIFpylrqVTfrV2v6zYdtxgAUk+Z1yVHK5vl6ONp/Y3DB9YarS+542rkonVxdJcd8JMltjEm5g5jffBV/60Q57dfVImDKk4TUzpu6OtBfKGqcPklrfNcjVpTMSdSQztfOilo8JkjEKUe+rwSvnUZZNlwfhBpyUXbp9tjmNlZsGCBaFukLX1SXSSwPYRIswPwZHEybQd81FmG+S9wWY1VjKjkmF46U891h0CSoDd4aRHpUGAyB4zfAqaQIgg/2epnZ27uSS+tpo26uzMohN0J2YivvZ+bGBACxdlHnvqgs6PqIuXnd4QX2QOyB2w+2IikynZQyqcrRMFmbCCcPrgPg9uOSyrd7sjwJA1/ESxYaM/GCNEdqgLLh3J3DEgRE/sPC4baupNsy6YOFgumzFcKhJ0n+nGVk1ti9y1AZlGo0DUIOdYaXVhIdjdK1OHVcrtf33eWVrSZNf0QoDvWF0j928+agid06rrcEO7IU2fv2qqfOmPL8vOoy3m78gyqFtJQa+Mr+yV9p5eeefcannT+ZMMRsmi/Imeu0E/Y26v9/DWY3Lbs6/KxCHlgvsCuBK1p85IO2wE/30XjZcPLZ1w+rJMRD75+5eMDRwb1YoKCk7LJz60ZIIsmXrKipGNb0TIEwsTXquvRuJjNxse6iiTf3tsjyCXwU2DzXO1Ta1ms+HNb55jIrbZlN+vP2hkHlxvQGmRNLZ3mUkVb9+q0iJZPHmIad85Y937QPPuRh6FV3mYsrRk7XXjJBEHnTkThBtuuEGYMEeV8jub8aLnpEdACbCOEN8IEAGGXEB8mSFb4huVXosGQdr4Ybk96JJIfCdMmGBIZarlOZbN2PzHBybKgn2WdWjIVA+iNGxss1nOrKWc3wxQWLEFmaBk04F6uW/jIRlVVS4DEWi+ViCdlWXFctPi8acjtXxI8RNlMyJjg4kZxDdTau1MWGX6/b4TLfLfz+6Tx7cfM8voA8sKT5NJHByIUn7xjdPlunmZs7d5IcBfvP9l2XOixZA3Z8E27Uhjh3z68smy/XCT/OGFQ4KACdI4uKJYJg6tkKqyItl7rEmumSgyuqDBRP2RMPHjfK5Z+SCLmJvnjIj0ypePy67jLUb3/IbJg2X59KFZpxZm+b+9s9tMRp56pVZ+8tQ+GVNdJruPNMj+hk7plQJD/InelxYVyJzRA41rA1F3W+5YvV9+/NQ+Y3VHdJ/C813f2mXq+LsPXXBaxsDkgKQYTIpGDyozUVc7KTDn1NcbMgwmRv9aPFieO1oou2pPbZocVtQqb58/Uq654JQntteCPvumX240KxvDB5Qaf+Kmjm5DhrkfdcFxYvyQciNdSez3VPeLg8aWujEptWm/kYsQDWa88c5hAu5mjHnF1O3xd999t3FjwErRjdzL7XX1uGgRUAIcLf794u5sOINQsLwOEQxqg5MfcLzs+Hd7Hz4yRLwg+rygIb5oajOlFoZE8mIn8hll2bBhg8kYlm4zHtEgS3ypK/1JO/0SX9vuoK3YIHMPbDosmw80mCgfUTqiepCZ5TOGycXTTqUW5SO/fft28wGzbhW4kOTiYwZh+uJ9W+WJnSeMntjmTYD4sjENgvbGOSPky2+amXF4QICfXP28zD1/sQyuLD1LhkHyhqd31ZoNXy+8Wi8s789LiAY2tXdJXWuXfO6KKWZz2G3P1hiiiEwCPCBakFVI3j9cNU3KC3tOExPuDzFB1gR+THiZ4CVLOuFszJq9J+WHq/aaehFlxVqMDYsXTxsin7l8iicSTP/+/oVDsnLHCWnt6JZRVWVy+cxh8szuU+0eUtwpR5u65ERHoYmOQhCXTR8qbOpL3Hj2gTtflK2HGk2/OAtkt7WjR7543XT5i3NGyUuHGuWXq/fL/pNtxmmEscYGxg9fPOEMnS/X4BlC+gUZ5v8dUiTDh4+U1vrjZvKVrdMC/fb2nz5vJiqQfqLLjCH6kD5DvzxlWIU0tHUZffJHl6Xe7Odsaxw0tokDn8g6EhMwhBjz/mGyypjzkngm4wPl8oCf//zncvvttxtHn1y8M1xWSw/ziYASYJ8A6uliXvK8oOJAfG1/QFQh5ldffbXvLsqW+NobhxmN9tK4TZs2meU7/CwTCx9tmyiCP0Ps0TIHvdwXhhUbxOCFV+tMNLO9q1uGVJYaG7Rzxw6S3t4e47dJBIkxyjJ1FJnovv3IDvntuv0ysKzIkD0IC9FgiHprZ4/xhf2Xt8xK250QafxtV2zeL6WVVcabdtGkannPonFGo/rkzhPy38/VCG4IRHRxyOBn4pCK0/63aHzZ0EWSh6//xSwjxbh74yETQSXbHal+0SyPrCqV6xeMPivVr5OYgCWTCQgUBDjVWKEOn7nrJcF32GpieaZOtnZJe2ePfPKyycZ32E3hWl+4f7u8uL8BwVJ4AAAgAElEQVTBaF2RbrBhDxwXTqg2mwz3n2g0GuAifJuZCE0fJh+5eGLSTWI33v6C7DneIoMTCLC1g/vHq6fK0qlD5OsP7pSaujZDtsvxS25jEtEpF04abAg8hJlrUKcziHRnp5k0Q+SYLBBJZxMqelcmo14KdXrHz56XE00dUlZS9FqGOpQbp2Qb3Hr2qAFm0970EQPkR+8+x9XlmcyzMsJGxijIZbpKMk6YYNmounWSAD9WboJ+P6WqC1nW2ChIgiUt/QcBJcD9py8jawkvJbSicSp8bPym3eXla6UdRL6s1CFTxDcRBxIwsExszc2jwimZMwZkl/qhh6UPLfEN60OIlg43jDAyOkHc+CE6ViC9pyPZRGys+whjgklRrj6ctq9frKmXT/9hk9mQBemkfmw0Y2m+vq1L/nbpRGPRlapAmHE5IIrc1dEqI4dUm2tBWuePGyQfv2SSfPXBHWbTFj61RAXBgsglEWakAThAoIcdMbBUPvCG8fKGKaf0rRCrjfsbjD6Z6CrexosmDjZL/KkKzwbPGBML/s94sSlxkdk4o2RsBvvXFbtMFjV0q7Zwjb21rXLx1KHy5Te5kwU8sPmI3PrnPaYt9lrmOW3uNDKGz105VZ57aY8cae6WKWNHyqJJg43rBXgkK9SLCYBJKe04hsgxf//5e841mxZ/s/aAkYYwebHlUH2bHEJPXVQoxUUFMq663EwacPVIFiWEQEHa2DjHRAKceA7AjY1gbsqPn9wrv157wPg2N7V1na4zBJg2TB9RaVIvzx87SL73zrluLmmkGyTCIHFCHKObvJsg6WwiZnO1dZKgcWDnxknCFRBpDvr85z9vJjH/93//5/dSen6MEFACHKPO6KtViSMB9pN1LCjia/sznf1WLvvcuRmPNiITQc6BhpulWX7CIr62nWR0wkEi22XgTHhZQk+7+LOVcEB4IR6kE8UFIux2JtaTyOuXHtgmT+w4bsgYZI1UukSvpwyrlO9eP+espXTnNSCn33j4FSno6ZGCzqZTumUpMOcjZ1gyZYg8vbtWxg4qOyMLHiR5x9FmGT+4XMZUlxuCdOn0YTJ7dGpnh0wYO3/PGIIEM8GAIKCzRgtv9cKsCj26/ZhxLqBuzsQkXKfmZKupC4kh3BQ27T25s9a0x1m6unvkaFOnfOryyTKrpNZE+934bu861ix/99sthviXlxQaQklUmr65fMYw+fbbZ8u/PbrLbKybNuL1lMdIb5g04MQwsLTIJA7BXaOypMhsQnt3En9gm82MjXI2WQSYIc/BgcRNVBPN+Ofv3SabDjSavkcCAW8n0j11RKX5e21zp5FmvOsCd37fcfJyTjYGcPRhcu5cueKb45SZZHKScDO20h3zoQ99yGwQJM2wlv6DgBLg/tOXkbUEosFLPE4lm6QLQRNfiwcvajagXXvttZFCRBSaSDZLsBBElq6xRCPq6zYC5bcBRMEg2kTTgyw26x7LpRB62kTbnETXToquvPLKnLXX2UYidj99ao+s2nHcaFdLigqMtRY2aJDgdOX3Lxw0GtTxg0qkoaFehg0ddjpax6YyopP7T7Ymjdqi533TvJHyiUsnBwm5uRarB0h8rL4d7K1201qENZUMkR+uPSnFhYVnaG2ZFOw92SpvPXeU/L3Lun3hvu3yzO6TZxFgrnWIBBSXTJY5pSeM1ADNqJuybl+dsYMjcsp1kFWgKUYzjIPDfz6xVx7ZesxMHmyEFOKMpKMAK7uBpWbDnNkc29RhJjJ3vG+Bicg6SzKrMSMFeS2quaPmqKw5WiA7moqloKhEFk4aIm+fP/qsyQqSj8e2Hzc66FeONhv3iiEVJdIjvSaaP29MlXztzTPPSI2dDgcvGxnd4Bn0Mfio8xzPmpVcIsS3xykzQVrCZIJJWFCyvOuvv964+JBiWEv/QUAJcP/py8haEkcCTJ1WrFghS5YsyejbyEcIkgp5sgSRyKFXjV6qDmCJESP3KLSntk60EQ2w1dJZ4pvrtMx+vIiT4Wv12fQdFkXpCD3LzhBwlnqjMtSnDYdONsv+ky1Gq4xcwc2yMymLb3+uRsZXlUhD4+sEmPbvPtEq88YMlFeOtcjwgSVmc5ktaFP317XL+y8abzZGBV2cBBii/ci2Y4I0AD3skgkDZERBo4kM37GtS3Y1FsmQAaUyZEC5dPb0mk1cYPDl62a4jkj/Zt0Bue2ZGmMnBlG1BUcENLC4PHQf32s2pnpJg46EYMvBU1FVbOOIltuChOMHq/YYqQNaawre0zgwoAdGMmIlFkSGmzt6DAHF4cKWTFZjWNP9833bBGLdi6Vkb4909RbI0Mpi+aerp8jyWWf3HX3PZOBPW44atw82gKIlf8d5o8/a1Jeu3+lDdPK8K+NY8OBFa84qQ6ZC4MNmnmMCxoZN6zHs55lHvvbud79bkEJo6T8IKAHuP30ZWUt4ERP5iVuBAJMIg+XFVOQJ4ks0FJJKZDRI4mvvaYkXKXhzTTgTo9pEeqPMqMREgMgMEVq/hb4jqs2HLpMVHfci4s0yNB8zrzpuv3V1nk/EiiVcL84abPD72oM7pLOrW4q7mk9HgFm6Zxn+I8smyf2bDhtN7ZhBZcalADJ2sL5dRg0qk2+9dZarzGPohskyhksDG6msf26q9rNxEi/lxupphiTiOmFzQqLThXR/4KJxsvvgcaPd3XmiTdq7TyXaGDWoXD548SS5bKa7DXDUgQ1+n7tnq+w70Wo0wJBgNsZB9C+dMUy+8qYZZqLnljC56Veu/ZOnXpWndtUa2zU2Cu453io9vWwWLDsj0ovkpLG9W776phmmPrawhM8GqsWLFyf1RQe7uzceNvZmyBm4dkd7pxxu7JBxlT3y/y6sMFnnIHPJiBx1hIS7mUwlthnXFyYp2BPGsbB6htaXTbleit2wCSHm2cfnG/zwQvey4sU79LzzzpObb75ZkEJo6T8IKAHuP30ZWUviSoBTbbiivmgVrT8velSiC0FFfBM7AhsfjObZZR3UkpybzrZRbcg9BBHSR7QnSj9NknEwIXETzUnVRjZdQXxZOvbSd7YfyCgVVl+76ZdsCDBj9kdP7pNHXjoqLa0tMmJwlUlZTORy8aRq+cdrppvoIcccrDtl1YXeluX5v714otkIlqng0Ysn8OHX7LXInoYF2NvPS53qGvK7bc8B+fG2IuM+wP3Q0dqNaURIv/nWmTK2usJcd9fRJjlSWy9lnY0ysrBJhlVVSOWQEVInA2VAZblx7rB+vKnqS7QTz9+th5pMJLmypNCQzQ8vnWAkC9j9scHMTcKX2uYOgxWyBecGt8R7QzBxyiD9MNFmIravHG8xkw3nBjsIOn7Uv3jveaejxVyLyCT6c6KsiWOPPvyr218w13V6FHMeml/u/fmlg6Wy46RZ5bBELihLMLI78j7MRdbMTGMw2e/ZuAr5xV8+m8JYZJJsPZq9aK65H+fz/vzVr34lb3vb27Kpgp4TUwSUAMe0Y/patXjBx608/fTTZknc6k0t8bUJO3LlW0z057HHHpOlS5fmJNMSxBByn0gQIb/8OwQwquIlGUdiHZGnUH/0fvjQspnOS7KVbHThYeCUDQGmHhChP6x7Ve5fv1eKK6ulsqzILLOjE0WDSsEqbe2+ejnW1C6DK0pk8aTBZ1l8JWsTy/z/sXK3caQYWlli5AQnW7rMEv8Hl06Qt5w7KikURA//sH6/3L9XzHlOEolzBXIIsqnNHV1lrMOIDleVnXIrmD+6Qn666hV5eEedtHb1GgsxIqAfXT5J/mJ+erkGz3LNyTZzTRwuILC2kO2PjWZozVMVNt8RcUX2gG4WaQNWbFfPHu4qlTByj3+4Z6tJKMImOEg/aZiLCgvlxoVjja7bWdJ57RI1fvd/v2Ds3Jzt4Hyi2/z7v759jknDbIkcUU1WEZhMsqJCe72sKDjrZlO4E+WMY+E9bj2A/dYPKQoTaMgw7xEKEWEwJNthMgxZ3QRn6pHJ79pv/fT83CKgBDi3ePfbu/GS4KMUp0LkgCUvltut1IGXX66Ir8UCXMiAxvInH6qwik1KQFuJlkAQnRFnPppsKEGKEVWBnEBaU21oSVYvNq/xkeajRX/SLrR9XgvEEx9iIuBRpOemvjbDHh9aPrxe7dggQKvXrJMFFy2VQRWnlsv9FsbnF+5/Wda/Wi+Thr6uSTYks65NJg2pkB+865yk94IA/+K5Gnl0v5hoaOIS/KsnW2XC4HJ587mjhIgyZmREOvk50dwhj24/YTyRK4oLDMEn+URZUa98bGGVXDt/gnG78Erski2Zo+39844TxhGju6dHXj7SbOQUg8oh7QVS19ZlnDn+8vwxRkPrprx0sFF++syr5ppsnquuKDYThfdcOO4s27VMXruQ6XX76mVs9ZkYHkEnXVEi//3e+WdsaoPIMcG1RI5xZG3ocCvwIoVI5rLgpv25OobVs/nz5wf+7rROErwXsbtEFmFt1ZwYgjEEHBcdN84iucJF7+MfASXA/jHUK4gYDXDcCDDeluweZunbpmhm6T2XMgQ7OIgAE2GB9ARdnJFRIhkQxGQEL8jkINm2geQkaBjxAs5UiJpBfNGZQoT4CLG0nW2xkXiiONkQ6Gzvy3nWnu3pF3dKTWO3FEqvTKsukGnjT+1Wd0taIMDr1q0zUXyv5DlV/dER/93/bja+wnaTlz2WlMAQ009dNtnYfGG5dc7YKhk/+FQSBxwg/rjpoNy9S0ySDzZi2YI12f76NpMx7Z3nnxnRRa7xu/UHTTIQNsbZYlZpmjtkzvBi+Ztp7aaNdkc/feaG2IEPmNqVHyQTpIUmi1tXT4+RPCA7wLcXCzbs5GxEedjAEvn222a7dlCw5xGlJclHKs10phTW2KzdsmKX2YRH5B6cTZpsEfmrReOMtVqqwriGwFkbOqROtB/c3KyQbN261bVtnJ9nIJtzIano9tEnh/nMWicJyDATC2QqPJP8O/s2cDkBY95DWvoPAkqA+09fRtoSXhR85ONS0LRBtiDmNuLr5mMQVv3RIxM9YOk+qAIZgiDy0nYTGeXFjgYXOzY3RCKoejqvky4bnT2OCQvpo4kusizJbv4gIud8TEnFHIYUhWV0iCIRWSe2ECT6Z/O2HXL3jg7Z01Ii7T2FhuBUlRbIpWNF5lQ0yYABlae9c9Nt0AuDALPM/re/2SRNHV0m0xmFekN4jzS0GSJG2mUkCkRLIWjIBW66cJzsr3lVag4fk//aViQ1ta1GboFsgnS9x5s7TDvfft5omTXqTN/hTQfq5a4Nh01CC6drBffmfuB430fOl8a6WkPsGLtMXC2xS6fhZoyzoZXnnugy5B6pQ3VFiUk8gmyBDYLIFiDAYwadcnwAh9qWDvl/V041Gd6CLNSf9xEOJKnKQy8dlTvXHjidyY8JBUk1PrhkgutU0ch8cHoBM+uCYDFLtQGX9L5eXTOCxCbdtdJpp8Oqg3WSuP/+++ULX/iC0ZIzGbdaZD/35X393e9+11yLxER8E/h/YrnjjjvklltuEfTZBDS+8pWvyA033HDGYXxzv/zlL8svf/lLs4n7oosukltvvdVEy7W4Q0AJsDuc9KgMCMSFAFv9KwQYwstHc+HChZH3X5D+t05JABFlCCLRikwlDnZsvOwhV2R1SixMVkiqgCUTEWzahfYuKLJurfGI5kCsgyj4+T6z+4RsfLXeEEg2MS2aNMSk5T15stZs1qO/nqyrlqdqOkyEsKqsyEQ+SdvL3z972USZXN5qSAs719nkZDOEJUZ5wyDA4IAPLl634waf2tTFhjYILBFgZAtlJYVGu4s9GOSRyOSHlkyQGRXN8vL+E1I4dIIhb5BLIqyQyyEVxSYTG7pWfIqdBbkFWd2QHVSWnumXS0QaYvzgJxaflhJASsDHYkT/WYwSk5o4N02Rxe2zd22VogIxG+QoyApwu+jpFWMXdsGEU6sKYRJgt8kmqANknckUk4bEiLyXMZuYttqOq0TpDZsGwTMIZxYv9XNzLG1gQrN8+XJPzg1uru3mGN5X3//+9+WBBx4wwRRWXm666SZ55zvfaZ5Tr+W+++6Tv//7vzdklXcD76REAnzXXXcZsvtP//RPxjrz3nvvlR/+8Ify8MMPm7/bwnXYmPe9733P6N3xKGaSxYQmjEybXtvaF45XAtwXeqkP1JFlOCJsURWIL7Nrq39F6sCmL0jfokWLoqrW6fsGYf/FDnDaSLtYioMgeiFyfrLjBQUgy618SBYsWHD6kowdIh38II+gXUS0gyK+9kZWi83HJ5uP11mEvatHfrO2Rp7fd9JsfiKS2dDWKcXSI7MHtMr08iYTiawaOV4+ddc2s5kJgoxe1MqF2MjFJrFvvGWW+TfnJic+jpAVVg3oZ/AIiwDvq22Vrz+4w2wso9S3dRqS/v+zdybwcVbl/n9mksm+r22SJum+t7SU0tJSyg6yCX8BUVAEVC6Ku6JXcQFxvfeqqAjCRS+IVET2TXYKXWhL6b43abPv+zJJZjL/z/eZnDCdTpKZZCYJdI6fSNu8877nPO875/2d3/k9vwcGFVkD+taOLqcCdiqiHa3vULbX1dMlpS3dYrNFSXJMpII2EtwAvSTolTfZ5a2DDZIaF6lgkzEAcHFRoJhDbVu3/jvsMg3ZREuXUy6ZnyU/uOD48sjEiOcYIAyzzrPjnQiG1zSsHSDg5b21cueLB9WqzCTocX2S/TgXY6MUM38uabRLZoJNfh6ABMLf7wXyo3379imQG+3G2JBgmJjxdxMzvgfo8odjMzYa4xgPZZoffPBBueeee+SRRx6RRx99VH/MgiwQOzXixXfaaNqvv/56LZDkDYCRh0EQPPbYY/0hZteOWLC4oyELI8H77rvvlltuuUX/jbmBRcxNN90kv/jFL0bj9nzorxEGwB/6Wzg+BjBWANgb+PLiM/pX2EQm/fFg8I4ukZcN21mBNrbfDh8+rJMe5wAgDgfAjQcfXEAA/aCqEgsmNKTIHWDxiA3Je8EGvp7xJhkRPWEwJBVbS5rkoY0lCgQp6NDd1S0NDfVypL5D0hLj5DsXzZOCrBTZfKRRvv/0HnVqAEAaAMw4KQbBv//9c4uOcR/gRWlKvaI9NOWF0UHC8ARTA2zigzPCMzuq5bmdVdLQ4ZAJSdFS39GjcgR+AMQwp7C5JLBVt3SJ1eISm1UkOsom9p5e9eX92NxMyU+Nk01Hm8TucEpydKTqfJFP8L+4KKuCaKfTJb945bA6V2DZBjCjBDHJdHdfOfc41tj7e+OZCFZTUyulHVZpiUiS7rYWufiUaTKjIEe2lTXLN/619xgGGJBNAhwSD2I/Iytemjp71FeYEsYDOV4E+r31PJ55iOcc+U0oGrIRFi3IU2DPB2rmuTKJX3zv+DcjEwvld2844+bZZ9GMheRYNSQLSKdYWNGYt0gcnDPHv/LdA/XbFwDmncU77IknnpDLL7+8/6NIIj73uc+pvIXFy1/+8he54YYbdI7wnMs4BlDNHBFuQ0cgDICHjlH4CD8iwKQACB6t5ul4AEMG4+ud+IVHKRPKWLAu3nFgmxHdYiBZxJ5aWJK/AL4jScKAeX399dc1HmOlhzblmGGcAPU07h1MaaDZ/sN51iiOgiRmJHE01338vXJ5eW+NTM+IUY1qW2ubxMXHSVJyqpS19Mh1y/Jl+ZQ02V3RIt/+1y6JjLCoDhWgBwgGbMCQAigf+PTAuj3uGy++yspKZXloPAswnIEyUIPFbG9Vmzz0bpngB9ztdKm9GElZsLMAd0xe+DsyiOK6Dk2aS42xSGykSFxsrNqJAYwdvUgLIiU60m0PZu92Smq8TS5bkC1TMuJ1Wz+3r3ralpImeXRLhWwraxGb1aJ+vtcuzdWEMn8b1/zhs/sFuQOFKiyCN7BFrluULp9cNkW+8sRB2Vvl1gC7i0y41IUCKQf9oJ8xNqssmZQsn1ySI5l9Omh/r+/Pcd4lo/35jD/HwGY/vaNaNh1p0vFwn04tTFHdtZF8DHQe5mueK8AczyRyMZNwOJY+2Z79DfXCwZ8YowNmdwoZRDCbLwD8wgsvyEUXXXSc4wQECi5CSOlwsaEiHfIH4uPZfv3rX8v3v/99Tfwejfk0mPEYi3OFAfBYRP0jeM3RAsAAX2QAMAMDAV8TXiYH2IOxtP0yfSH5iwlp3rx5Q959ttdMElgwtbChTAIbclB9239o1Lh3aFthOjC4D5abgT99CKYbx982HpEXt5VKekSnJhEBqvkvQPBAdZtct2ySrJiarn//8prtCoQBXIBCADB6z8ZOh5YpBvTRYCa3l7WoTjU2KkJmZSfIzOz4fnYYwMKWKQlNZvuf7wE7AiN54e0ob5GvPb7H7dXrchfYUFGCxSLRCtwjVffbTfENp7vaGX+PtopEWEXSE2IURCJtaOtyqgwCEIvsg+pwaIOnZMTJf18xW9I8XB/MPSNGqCCMFMKfe8kx9PXr/9ojG4qbFNySgNdpt4u91yJRVpHPTHNKTnqi/GWPU2o7nHovaMR29fQ0LW9M5bsuh0sXKIBzEs/OmpEe1J2IUFRbQyf8m9eLZfPRJpXfAH5h0+2OXpXVfGX15OPs2HzFlQp17L6QxwEzjMSEBbcpIRzMRZa/99UcB4nB4gHwN1bt5ptv1oUmyWbBbL4AMDKLa6+9Vhe7njpe3nksetEQX3rppfL5z39ewTA7ap7tgQce0N8hl/AnLySY4/kwnisMgD+Md20c9pltNCbQUDVP4DuY1Zfn9dkewgrNM3EgVP0b6ry+tK/enzFJYMgCYGOY8NCABmtbMtga2KHGbH5vnBAoYoH8AfAGi+GdvOTv+QY7rs3ukA3FDVLS0KmAYGlhqgIvE0N8gNHXwUAPt/Gcwwi9tO2IrKuJkOk5aZKRlKBgkYZzAmzpzasmS0F6nP7bjrJmuevFA1oYAmcEgBiAa35Ootx+4XRlJwFiWIPhvQu67BWXbmmvnJqq2/KAQ08/WV5yxgeWWPK94Gcwj2OALRZkgG/AXl6K2/cXp4QtJc1a1AGISHll/HLBizgnANr5LH/nfjI+RousgX9H+pCZECXlzV0qbZg9MUEiLBapbOlSphjQTHi4H19aVXCcK8Rw7wUlor/46E7tk2E87fZOBSzN9l5ZOTlZvrgwWorLqmRrba809MZJRnKCnDN3omwuaZF1RY3qfJESG6nOFeXNdpVCUD0Pu7dgNRI7WfgFMyEX1vf3bx1R+zmeE9OwkQMEf/2syXJS3uC2gcQNn100+UZW5amxZk5iYcdzxX9Hc7HKeNjBY3dlLKvUXXXVVSp3INksmG0wAGw8z831mDuxgcSZ4pJLLlGQS2EOvIk92/333y9f+MIXVPMdStu4YMZhLM8VBsBjGf2P0LVDBYB5ybP6JYmESZjtcn+/2EwC6LbOPffcUZ+4vW8t24y8WHy9AAFUxv2ArUfYmFAkgdEntGzob9GRhbrxcuW+MXmTwAfbC1CDZQqFFrKorl3+59VDqsHtcbgRGglWly2cKJ9ckqtADwnI3LlzNb6BNk/NMgArp2CKPH/YLhREgNUEcLMljTPE6dPT5ZNL8o5ZvNCvF3dVy44y2EqLLJ+cJufOzlDNJtrau98sloM1HTI1M04TtogfAJL/whLPz03qB8CeGmCzlQ1rVFbXLDWOWOmJSpSM1BSZNTFJZk9I0PMBfB9/v1KTvbgejC06Xyy/fvLCQQXlxscWdhFNL44OAN3CdLfEAXaXBDfGWd/RLZEWNxBGeIBLBNICwPKc7AT1AAYc4/SALKLb4U4CBPRTunkgz1xf94UYUH1tX3W7REVa1LmBfrywu0aT3IihKUnMIgvNNMl0jO/JLyxRnSvOMAALgGhjT4Q8Xx6ljP3ElPj+S3Kd/dVtcuaMdLnhtGOruQX6vHgez44O85Fn8udIzsdnH9lcLk9sq5LpmR8s8Ph3xnCwtkMr0l25eHDbxcF8djmPqZrGzgPNFIoALAdrYT5YHJg72M735Roz0vj5+/lzzjlHSyAjhQhmC0sgghnN4Z0rDICHF7fwp7wiwGQJWxCsNhLga/oA6GJ7b/Xq1fqiG8uG3pUXLw4Epnm6H8CKAnzZzg7li2UkADCQ+MG+8/LiPgJ8kTsASmC3+YEBDmaDYfzuk3sEf9mcFHdBAgAbjCtb498+b7qyj7BdVKFLz8zW3wMCh4o34IkERBZiNE/Ncl1bl7y0u0ZBU5fDqUAMcHbO7KxjikIYYAKI21nWJJ3dPcoOz89J0v7trmyVB9aVakIdjgWm8b2C5Vw9I10rjBkG2FcSHKz3P7aUyqHKZunqsovD6ZTEuGhZOjldzpufJ/e+UypHGjolOyFKLdgO1bVr5TXYWxhf2FxArGloZWGKaXdePENYU/zfxjIFXEg0sOvqpDgGoEtErFaLJpsB7ickxUhlc5eyk8QX4EysF+QlSXNHj3xxZYEsLfTPio4+/PaNYtlY3Kj9hAnHcYKEtezEKK1ixxhMVTwDgJvsTgX/f73u2BK/LDjf3FUiD7xbKYlWh8TH2HTHJTY2ThfKRxs6VL4BMx+sxrPDfBRMj9a/by7Xcs7eAJj7dqi2Q65ZkqOV7QZrzNkwiVgDDlYgyFRNYwHBd5v5yuiFQ1lV0TCc/hTOCda98jwP3z/Y529/+9vyxS9+MaiXGGkS3I033qjvlHAS3PBvSxgADz924U96RCBYANgT+PpT3GGwmzAeSt+a/rEFip6NKmQAX0AgrK9xPwD4jkTD6e/DCABkKw23hVA0k5wI20ZmOWDRM6GGGMCGBTur+/3SJrnz+f2q7URO4AkgYT7PnZ2lIPjF194Ua0qudETEqw43LS5KpmbFS36aW6rg/fLjhQ+Q51nCYgjrIe9tYJ79hvYe6eh2F4zAWcC7AbYf31oubx6ok/o2qib2qv/tjOx4+dyySUK1MkoKJ8XalEEGTGb0scr0n+34m08vGBAAc/6/bCxVNhqHBcCsvdMu5XXNUtvaKZmxFjnSbt5IWM4AACAASURBVJOp2YnSZO+V7eWtuk0Oe8uPkTd4VnNTW7Yuh+SmxMrjNy1Wne197xxVlwbAJg4WB6papL3b7d6QkWDTOKMnxiYNSQH3Q1lki0WmZsTpz/6adrl+WZ6cO8u/qoiAX9wp0PeyOOBaFKxA9/rV1YXyx7VHlSlPiYnUuAGAXVabdKO9PqNQC3Z4N8oX3/1GsURZXWJz9UhnZ4c4ehwSHRMtlfYIOW1qhnzlzClB+4qEotzw1tJm+d0bxRoXT101OnLu57fOniJzh5BxAMqx1mJBOlChDO8g8F0wxTaYr0moNcU2gk00jHWRDr4DfO///Oc/q/dvMNtgNmhUDV2zZk3/5S644AJl471t0P7whz8IGmUai2P8gMM2aP7fpTAA9j9W4SOHiADJW8NtbA/CkjCxAnwBTiMV8Y+V5tVXDAyDCBsK8AXsMkZA4mgAX9Mn2B5AnCkTO9z75f053AkAitw/wDxsti+nCbbpAQOw8sFsr+6rkf959bAmmRm/V3N+wBgVv35yyWy5/5m3pSc2VXIy0xUkspWfFGOTUwpTFTjSeG5gVhgPRvzEi5fgSJKB1h2ul/9dd1T1v1ptzeVOJIMlxS93+eQU+dHzBxVwqr7WIhJni1CHCKQDH5ubJZefNPEYDbCnhhof3wc3lEicze2369n2VbVKU1unNHfYJTPSIe83WqWzz7CF68De4sAAYOXvhgUGIBMjtKRXLc7RWCGVqGi2y+T0OJU68FKuaO2RuLh4Pe7k/BR1krh/XYkW0WC83I9JqTGyMC9JGWUS5QDCSDFgK5cVpsr/WzRBJQ3erba1SzW+7d29qjE2jXuEXndJfrJcOj9b7njxoFaQo/8Oh1NstkgtRvKry2f7lFqwYKD4x86KVpmcHquAnvmrrKFN2jq65axcl6yakanALhjb/aFgMgG5f3zriOqYkX+gXcalA532qulpcvPKAr1Hg7WR+kqz2EDSxEIRMG0KlJC7MJLvi+kzHsXEf6yKdJhEU3bO2HUZaSNGOD3Q/vjHP6oTDoU2aJyfuP3zn/+Uq6++Wr73ve+pfI/ENyq8+SqE8fDDD6s2mTkKuzZyXkiSDRfC8O9OhQGwf3EKH+VHBNhO48UUSPMEvujLAE4jBb6e1w9m1n8g4/I8li303bt36zY6MgDkAADQ0QS+pj9oomF/YQqC0QCILFwAttw/EvcG02jzsiQWwXbmGIwBPtTHAF80L1v+9tp7Mic/S3Ky3UlwPK+Ax+ykaDlvdpa0tzZrhSaAHfeIRQr3bKTt1y8flPdKmjT5y22D5mZFkRKwpT8lI1ae31WjCWNs70darQqG0eLOnpAo3z1vqhSmxw0IgJFgIE9gHN6lhdEeYxUGiIy09srWsjZFvXj4wv+6/18URMGukvRG32Cyr1uaqz9GJrK+qFHYesfVIdIq0t5pl7hIkUsXF6iFGFZqv37lsBbUAIwBNAFh8dERMj0rXjXC/A7LLvdV3f9Pv3/7iTn97hMsRgClVIz7/rP7Fdx5j4tKdfz7mhsWyeHaDnlye5XsqmiRno4WuezkyXLFyXnHfcbzPsK6/3VjmbLVjJupC4Z5+eRkOacwWupqqnUhFIztfuPcwe5LMBsLCkooA4KRh1BlcMXUNLlwTuZxEhxf1+U5B2RSonkoKdBg/eaZ9i5Q4pk8N9y5btOmTTpfYZM4Fo37z3wNE+2Pg89QfSR5diAw/8Ybb/QTA/j+/uxnP+svhfzjH//4uFLIvG99lUKGPQ43/yIQBsD+xSl8lB8RCAQAwzwAnABEoQC+pruh3vIfLCxGO8oq3xQKIaFitDOpPftIWVFYBib1kTTP4hxo0PytSkdS3Pbt24U4BLOhAf7OE7sVALFlz9Y74Kuqxa4M5LfOnSYtnT3yzvt7FQATA9OwjqpubJPJtmZxtNbpC5eF2GCayED6DjjABxjdLdpStRlzOhVwoKFFpwz4hKxrsTvVigzgCzCElT1tSqr87LJZeklPFwhPBhimFNYVVhD9rWlca291mxSmxalOma1/qq9xLYC30+W2O4uw4PBgkYlJUbr1jxRjQW6iz6IK6JjR41Y0d0l3W6PMSouUj5++QMoaO+W2p/ap/pTz4yUMwwuw5O+AS4pgAJ6j+jyC6Sf3Cf9e9M8krRlADLObkxwt33pyX9/nj2W2K1vskpMcIw99ZmE/eCNhikUeSZb+bMcDyAHZ5U2d6gc8Z2KCzJ2Y2M+cem/3o3c12/3+Loy4BwAonqfhFMLx51lj4cRzjAYdPbS/DYDHgjQY7Ka5pilQwtzO953nnDmeuGGvFgjQ9qzq5++Ygnkci2EqiXq7MgTzGuFzjV0EwgB47GL/kbsyLwsmv8GaN/CFYWNSDFVbt26dMnlID0arEQO8Kw3wZcXPGDEzx5JtuGxIMPpPlSBTVGM452ObmHHhazqc4hyhtKZDK4sLhFt/6n4OqUB2yfwJ8qmlefLvPTWyYftemT0pUzIz3Qww4ykurZCymkY5a2a6LFsw02+XkUDi98t/H5Btpc2SlxorZY0dUtvqThjFCg2XBMBXTkqM/hnpAMBYGdZup2QlRGl5Xk0ma2sTWDE01J4AGHnCn9eVyM7yVpmUEiO5qTFuW68mu3r4XrlooqwvbpI/v3NE2rt6hegANAGmCphcLulyumRGUq98bZFNZSz8DFUQwWztJ+dMlp/9+5C8W9wkjt5edX0wzWzCkwTHdwPIHW2L6P89ixccJ2gn5SaJLdIqsLsw4V88PV8LZTAutMdUjKPBfFK97fKF2SoTAYzDBs/LipbGop1y+un+a1r9vY9sXwPq2O3guWHhh1yLxZT3opb+vXWwXq3lkGbE9DTL8sJkuXDpbH8vNyrHMR6ICHITQtFIngMEcx3yAlg0mOQ5f4rxkMSMBdlouNb4Gj8l7NHfsrDyVyMdijiGzxmaCIQBcGjiekKedTAA7Al8eWHAhIQS+JobAFhgKw6gHeqmtlWVlfpCgQ1HZsAPQAXggv727LPPDoo2brhjGU5FOq7l7VHMVi4vpUDYHM6DpycsNLXtA/2sP2OG5V1f5PYBBhCh7WXrnWvtLG+RNW+8LzNz0yUrI63PEqtW2i1xMjN/olx+yuRjgJk/1/P3mLUH6+RPa4ulXC3InAp82XYn4S093qb2YHi54s3r2fAGhpX87nnuEtreAJhn7qkd1ZokhswBsIWkIT3OpnZqsME4SOBMwaLgpkd2yI6yFveWfx8IxrmBPwMuf3D+ZDk5vVefY1MQASAMg+fLtxl/a2K7uSVRLdYA9m19zhEAX3MN+o4+lx+b1aogV5vLpWDfFMI4JT9FpRdqe1bfobrhqxZNVHBNohusNb9DVgHQj7KRjNetTDOQPinaKtOimuV7n1gRMsDC9ZFuESM07/zdMJxoYNFO3/f2UXmvtEUXGUg5qhubJTMhRj67cqqsmpbm72MT8uNCVaHOV8eZQwDC/BifWlNswxebTlyRBWAdORrvCl99fu655+SWW25R54uxJC5C/iCcoBcIA+AT9MaHYthmm9/z3ABfGEO2kEYT+Jo+oG9j6zGQEsSBxoaJ2jApSAMM8PVMAoFBQI7BVuNQrFqg1w/keCrSwVbhhetP87Rq4yWF1GEkHsVkjcOqjAUTDjh84IUNUt8pYnXaJS4mSmKTMyQ9OVGWTk6TGdkJ/oRkWMfAcn7tsR2ysbhJK6fBvEZYrarZ5O9RERFitYoml8XYKDtMWeEe1QFfe0qunDXT7dvsDYApW/ynt48qgwp4BnDVtHUp+3vB7Ez5/Mr8fhkDAPibT+yVdYcb9FwWi0uQ4oId6QNJY3/+9IL+amxcC5DHs81zwPeXbWyYT7N4MQD4z7vdUg5s1tAa0xgj5zYgGPDrBtsWlai48a9LFwEkbiEDWTEltZ/lRapBEh7V42DCX9xdKzsrWhRQLilIlvWHGzWRLj81VllsQHB5Y4d0drTJDy9bKEsKUod1rwL5EIw2MgJPe7ASZ7K8cLhbMpOi+x1JAMp13TYpzEySH1w43adTSCDXDdaxuNFwf0855ZRgndKv88CmEzOuzZzpyaabhRaECtXOsI70hy3268IBHkS54d/85jeaEBuKBXuA3QkfHuQIhAFwkAN6Ip/OEwDz8oQJZZKDKYTxhR0Z7Yb2jokrGAkM3n3n5W0KPXi6BfjaKjOWbGw1+lvIIxSxQu/HtuRQfqSeRR+CadXGgghZChrgUFSCGyhmjAcrum17DkqVPUKi03IkISlJHROmZSUo8AzlCw6N67ef2KWuDySZIRNAr4nzAaWCO3rcBSaqW7qUDQU0YklGkYrPnJrX73HrCYBZyNz29D6VBxSmxR7T/9LGTpmYTGLZ3H4XBLSuf1x7RGpaulSP3OMu66YgNdpmlR9cMF0unHt8hTyj6QQMA/ZM1TmYYZJ66Mc9O51S29YlpQ2d0mx3ewcbBpg/A3wBwDhgAGz5C3HgO9TRB5hxipiR9cEiBLcINMO/+cTcY7yROd+7Rxq1DHBqrK2/Ahz/Dsu4p6JJrlhSILesCk6ip7/fQ1NK+I9rS2RnbbcUptgkLhZ/4Vh3+e/oOGlzRsgtZxTIkvzRnwt9jQNHGhLhKI4zFs2w6bwnWCTwPWWhxSKbuLFbxJzpr9462GMA/MICs5MYbh+9CIQB8Efvno7ZiJi8mExhfHlZjiXwNUFAowj7GswJ3thkAfABdGiMTaGHgYI/XizZqB0P4zJQPAA7ePVyD2meRR+C8WCxUIDVwQViNDR13uMx4C23YEp/5bOhrKKCMW40obc9sUs6enplQmJUvwsE5yYRi8pst5xRqAC4pLFToiKsKn2gapqnrZsnAG7vccmX/rFLuh2u46QTLXb3OdEOG3u3x96rkCe2V8mMrHhllwGigO2EaKuCUAptXL5wwqDD9U4KI54khr3XniYv7K2Tzh6nVDR9YIeoBTIsIrGRVgXcV5w0QdncV/fVKUtNA+5HR1jl5Pxk1ULTYKtx5zhnVoZ89czJx/Xp5b21ynxPTotT71/Tenq6ZV9Fo6yanSvfvyB4hSwCeQZwwdhe1iQTYkU6OjsU1FnEIraYWGl2Rsl/rCqQ5ZODw06zeHpsa6W8cYDY96rU5arFE9X2z58WigId/lzX1zHe1fqQHECqMFdBnoRygTpQn2+//Xa1bXzxxReHO6zw58ZxBMIAeBzfnA9b15Rh27ZNgS/AydSWH8txMMGjOw3WFp9nhTMDfP3JNicGo1mGeKCYm+psZDZ7NgA6ekDixUsHQE/iYLAdKwDfb731VsilIJ56bECbGQ8aaGz2ArWj4nxvH6qXp7ZXSnFdh3rSfmxetlw0f4IC1KpmuyZlIV/A6cEbVPP53752WPXJ0zLjlHnlhc6/H67rkCkZccrADpXB7wmAHS6L3Lxml1ZWg+0FT4IFAVvogQGGyAdwSqA9trVCS+fO7NNEm/uPdACtMZXVPj4EAPZ8ZtjGRlJDQlh1e6+8UBEjpW0uaex0qhsFDdYXppe+kdRGVTYq4GGXtq6oQfUR9B0Nc3lzl3of80mANKz2t86ZovZv3u390mb5r1eLVOeNY4Vp9i677K9skWuWT5Eblk8ak6nnyW1V8s/3K9XaDr0zrHRdfZ00dVn0ubh5abosmJobsCOC92C4xyyAsIAzMhOzc8DCxx+QHYoCHcEIupFeIdGgwQYb941gubP4088vf/nLuoD529/+5s/h4WM+ZBEIA+AP2Q0bz93lhUhyw3gAviZOgHL8d7FFGkkDRAMe+a+vCmf+nJuEDkp6jqVJuXdJZm/9Mo4VJnHPnzEFegxgiTicfvrpIdH1GXYe+yKeR289Nppw9ISUQw6k/XVDiTzwzhEFZiRiARoBvmdMT5fF+SlyqKZdmU0ALJrUc+dkKRD2bJRpvnftEaltsWviG620ya4ShJVT0+TKxRMlPzVmUKbLWwP8p7VHZM17lSqpgAlGR5wSY1OXh5VTU+WHF07vP9+2shYtnIAbg2fRCSzUAKxfO2uKlg4OpCExYnvalpAqz71fIhtK2qSk1SLt/dpi4LhLK5X9x6rCARlmrNVe2lOjFergc2GDL5iTeVwMTd9giH/8/AEtxzwxOUaBMIxySUObRDjs8rMrT1bP5bFoWO/99vViZfIzE6iaZ5HiilqVQKwsSJCVmV06jxA35gJ+hgPqkIDgycz9NLsEPJf4L/MMPnbTyaqrHqwhiYLFD/T7MBpxRRLB9xjywhTb4PlnAUvMSDwM9S7SNddco2QOhSjC7aMXgTAA/ujd0zEbEVtYsG3jqZkKbMP1uTSlfWF+R+oPi6UPTORYmbpzX9BswvQuX768v9oZLxVT7SzULxSYHYqThEILDagwRSxgr33JUobjglHa0CHX/uU9td5CM2yYW5Lq7A6nzJmYKHMmJinDCUBG5zs5I06uOzVfvW092+YjjfLM9gopqm2XsmaS1XoVvFG+OS3eJmfPzJCPL8geEAR7A+D73ymR+9aV9PsGwwACqBNjIuTuK+dqZTbTALn3v3NU1hU1qcWaVg7rS0DDmeDG0yb1J8D5+g5jtcb46KspSoGn8/YGq+xsilTWmWQ/a2+PWJzdYnU6pEsogJEgly8pkAWTPnA/wI8YGcOeyjYFcMsKU+S82ZmSFOsuI80iY6iG08c9a49o4h1JgID/5CiLLE5ql1svXzXUx0P6exj1f22rVDcS/JDtLQ1y5rw8+dSyyRo744iA9hUZlQF1aF/9qaDGQu/CezZrWW3v0tt4AgOE/3j1PJVEDNZg8EPpTzySIPtyqOD5N2CYGJI8Bxhm1zHYu1X0HQs0fpBChNtHLwJhAPzRu6djNiImZSal8dRgEWCpsB8LpMFkw/iS5MYESxIfWseRtGBXYRtOX/DvLSoq0iIBptoZQNFfGcdwrun5GRZJL7/8sgLwYFkbed6roRYpSHRg3mDi/W0PbyyR371eJMlxtmMYNezMsOBCvnDZwon9pwOAUH2N0sWnTU0/7jId9i6568UDsq28VZm6lNhIdUHARQFniJtWTNLkN1/NEwC3drvk+oe2SUNHt2qG0YACgN1Jdi75wsoC+eypx1bQAsACPHGjgCkEPLFVDvjEXcFXa2jvllf31ylYZWwUtGDMgKz1e0uktFUkLSlOi1awxY++uK3LKRfMTJVlWb39ZXIBKyTOlXTa5I9rS9WtIibSqn1l/HP77N68SzkPdp+oKLe1tFnLK8dFRUpBXI/UlxXJypUr/b29ITuO+Byp75SOLocc3rVFzly+xGeVS3TxAGF+mD9NBTVA3UDWW2i3V/92g4JrFjKejUUV//7ry2cPabk21qWGBws+8gfmb2+5Fp/hXcP8BRg2VnTGpSQYpavNNXCgQAbxpS99KWTPSfjEYxeBMAAeu9h/5K48HgFwoL6znn7FsDEA32C5NpDRbPTRY3HzsSBjMQCIMjKO4Wy9jqTvwUwGROLAIsXfMsz0ezAbuN5el+CewBY2QLQwPVYyEqLl3rXF8ue3j7htxjyYScAX8oFpmfFyqQcA5jp7K1tl5bR0uXxRznHhOlzdIj9/6aBYrBbVEgOUSFjj1Eca7HLa5FS5dfUHDgYwr8/tqpF3DjVIi71bUnpb5fPnLpT6Dqf89KWDCmK9wWt1S7fMnBAv939qgc/bxfVgtClR7Jlk530w1cUe3FgmuytataAGgHVfdZsU4yXnwkbN7VgBiIdtxgMXANbe5ZTclBj5/gXTFDCzSAHgVVRWy1/2iVTaIzS+0dFu6zb6QoW4T5+SK9csOT5m/j5zXIMF3kglT/5ez5/j2PVg92coOy8D6owjAs+aKRoBQ+ydBIanM7IWrPQ8f6dSnAiLPHbjYpWHDNYozsMCn3yG8da4jzw3J5100qBdY1HNDh1xw20DBt3EDdJiuMlz3A9sH++++265+uqrx1t4wv0JQgTCADgIQQyf4oMIoPEcT81f2y1P2zaYBCY+XjrBbO+9956yyKOttyMGAEWYErKpYZwCZcSDGQcYYMztYbqG03D1QMuMWwVsDwlt/lrsDWSLB9B7cVe1lgsGcPLSzEyMkmWT07RM7/ef2assq/Gvpd98BgeHJQUpcvq0dP1zXVuXHl/b3iMXz58g15xyLAPL5zYV18vvXjssWUnRWvWNkr66ha+7/haZnR0v//MJt08zZZF/+Nx+1boCNOH62u1dkp0Sr9d8ekeVgk9vEAszPTk9Vv76mcHBw1Dx31DcqDpTqrDFR0dKTWuXvHGgXplgPHqdTjfr7HC5bc/oB2wuHsPxUZHyi8tmydLCFE16o0/1bXZ5ZFOpWHudEiUOsUZYJSY6WqKjYzQJjqpuv79q3lDdGvD3o1nYwd9OMidi/ceuh78e4J4V1AB3vpLAXttXJ7c/t18XIchIkI1wX2CHL5qXJT++aMaQXdy4caMmu7JzMt7acBL0kOCxawcYhiFG72+KbfgbexMHgDWEBQ4QwS7dPt5ifaL2JwyAT9Q7H6Jxs4XHynm8tKEKUMAi4nzAizPUtm3oJUk48bcIxUhjCNBlbDCkBtRzf9DBnnvuuSM9/bA/jwZ44cKF2qdAGi83WCESG1lIAHwB0YEwPLt27ZKadodEpOapfjc9PloTv6jU9uaBemVkSVADRJQ329VJASD7q5cPyoHqNtVv4pkL6Giz9yhTvHxKqiRGR7q3u7udel4+v7QwVT69dJLMnph4zDC3FVXKb944Ki3d7mIXHGsKOQCISZ6775r5yjgDPh/cUKra47ioCAWczS2t0i5RWuVNLdScvZIWZ1PgyXePBLi6tm6toPYVHxZigcR8zZZyefNgvcye4B4DgPhQbbu6NbjBlrvscZ+jmdislDm2isPp0nFh5VaQFqtOF+6Kb706ZoBuelyk2O1d0t7ZJb1Oh7T3Rkh6Qow8eN1JfulgfY0DzT8LI9jW8dJwPqH4C7KM4Wjs1WWjulpBnanOZ5LA/rmtRu5fV6IJmG75i1VOn5omt1847Rh/5IFiQXVKvkcklI23NtIEPeJuKs8xF7JIBgwzVn901uwekhuBTCSYNprjLc4ncn/CAPhEvvshGPt4A8Am6YotUU9Gl8kRFpEXJiwijG+o3Sv8LUIx0tviPTZPhjRQSYg/fQF0Fdd3yHtH3brSzMRoObUwVf/rq73++uu6COBl5E/jHgJ6Me0faTW6h199T7aUd0pvtBvQATwpzgBwBUhOTI7VAhQmBWtvVaucNClF5Qw/emavMsQcR3b9hOQY+cSiHK1Otq20WSUMSARgQSnqwH9zU2Plc6cVaNELs9gqK6+QJ4qtsrXeqiWR0+KjlT41JYGTYmyakHbJ/Gz5jzU7hYSxvBT3VjYAGEY/MjZej58zIUHePdKkPr70i0bfAc//++n5MjkjftAQw8z+e2+t4MIAk3z6tDRZPT29n1Fe816FLgwAsSS5bT7apKw0els00E6nS3o81ruoiElGi7BYxBZpUSDMeNiKJ648H/uq27UwBhKJpk6H9tvV62YuF6a55Jppvbo4Qi8cqJ4TjTtAMRDbQ64LsF9f1KjPASWkz52VKROSfD+//jyznsd4Jy4G+nnvcxm9MAtCFu2xKRmyv9mqut8FOYn9vs/+XAdLQooEDXc3xp9rDPcYCAMWuiMtY8/8xD0wledM3Jh/BtNZs9hGfsEzNZaJy8ONX/hzQ0cgDICHjlH4iAAiwOTC1tF4aUx+bLnzQiQJB0aYiY1JjSQsgO9oTf5s6cFELF68OCThgSkyY0O3bBhSz4uhqSMZDwY4GFnTxPfF3dXy1LZKZR1pbMUCbm5YUSAL847PQqckNDIQAM5gzbOIBSwvemy2agdKDBoqqIdq2uTul3Zo6V18WAGxHd0OeedwvZQ3ovu1KCDNSoxWa7Pc5Bgpa+xUn9kvr56ip99W1qw6YWy9APkA6L9vLpVnt1eqFheGODsxRsETwA6bsysWZEmcvVZI6oGFYhxvF7XIr14rVu0vMUQPHGuLVMBMP3BO+M/zp8lnH9qmCV4GjBkAHB2foPKJL6zIl1++cljBsHfDB/frZx1fRMIc99r+OvnDW0eUReaaAEF8jM+Ylqb+uwB4AO99bx+Vli6Hst7IGNrsDi2drI4TvaKMs8HAKuNwIYWwKGtd09atcTTFOLg2iyViyLFcg2urBlpEFuYlyXdOz5LuljrVc8KYGqswf8rhDpY45ev5QK/8368VqayD58JduMMi2UnRcvsF02R+7shlUHzntmzZIqtXrx72s+vdd54ZFrOAOrb8+U7AbPKd4rvvz64I58CSkPnIXwnRUN+xYP4eyRgAFRY2WM07bsSJuAGGvYttoI9GKsbCNVD5RLD6Gz5PaCMQBsChje8Jd/bxBoC5ATCOgEGYM4AvLwhACJOrPy+KYN1E5AgNDQ2ydOnSYJ1Sz0PMYUdhSUlqA9TDoPkaG0wI257BqsSGLOC/XjkorV3urXsDZgA5hWlxcsclsyUhxm1tZRoJQbA6JOL5aqaIBbpl2F+OJUlnpID9qW0V8uTmIslPEMnJcV+7uL5d3txfJ23dblaTimRIGJA0rJ6RoWWK5+QkyhdOdwPJiia7bC9vVqYQoLwoL1nWHqrTc2CH5tnY7t9yuErmxbXJSTlx+gzyzAHstxTXyx/WHlXA1d3jEEd3t0RJtyREWqTBaZM5E5Pl9otny69eLVJ/XBhggJkBwD0RMQpW5+cmyhPbqn3GEUD58GdPUlDp3dA53/zoTqlu7VJ2lnNrElanQ4EwABhLtqaObvnOU/vkcG27JrPBMpb1eRcDYPlhvesufixqr8a5WEiQmAdIn54Zf0wyFsmDm0ua+jXDXA+pCW4GMMefPiVHbjgtX59rs/UPiPTHKgybP75j/i4yX9hdoyWVYaRJ8uM7AyimSt60jHi571PzB00S9OeLDFDFfeTMM8/05/CAj+E7wmIBqRPXYg4wSWCDATeTnAc5EKxE34A7P8gHSBrmex8qfTI6tFY10AAAIABJREFUa+LGIoJnxiy2AMTE46WXXpIbb7xRtcTDXXQHMx7hcwU/AmEAHPyYntBnZFJlYhkvDUkGgIs+sZ02GDgMdZ+NB2+wMtQ9pQFM3owNtmwwUD+UJjrQGJDQ9PjWCi2v61mSFoBY09IlX1o9ReUDng0ATuINP54NAAabhZcvMg6KWFCYA910MNqD647Khv3lMiHWpS9V3Bee3VElNa3uYhS2SKtKFfh3/FVhd0nkwvILlwc0uC/trtZEMD0+wqpVzU7KS5JNR5okOzFKGc/ypk5pbO2UTnuXYGv7xZX5cvEpHxSkaLN3y/qDtfLQ5gpNfiPpDQZYAWhruxTXtsupGT2yujBOWm1pcs+WJmnqdKrOl6ISdc3tEhEVLR+bm6WWZiSPDdSoOvfbT8xVCYNne2Vfrfz6lSK3s4PtAxst+gDAPXNGuvzoYzNU8vHI5nJ1dahr71amtqGjR7BG63K4HSD6SF/9r1ai02p0IpERbq30oklJGkfTGtq7ZG91u6TGRmoc0Q/HRVm1gl1jZ48yxn/65LxjJDTeVmEsJGA72dXxBCfsgOB24q9m8xv/2iNbSpplYtKxDh8kONodLrnmZO57pMRGWZWFR44CY86fZ2UlSKfDqWOj9PBARSdIYkN7Plwv8kCefXaBjETC6F6NXtj7ezSc5LxA+jLSY0dTn8x7giRhYvfss8/KM888o0QFzD07d6NFlDD3feUrX9Fy8ex4UIjjF7/4RZiBHunDNMDnwwA4RIE9UU87XgCwJyvKS52XwPz580dtIvN1/0nOgamlCtpIGmDe+Pny8g9EGsBEDyNOQs5IfY0Zwz1vFsmr+2plplcFMWK+v7pdblpRoOWCPZsvP2QYGCZ/wAvAGNZ3OAlDg8X16W2V8uSWIsmN7VVNH/65z++sUgZTS/biSYvGlu1+B6WKRaZkxiszaRK4qKBWkBan4A6Qf7ShQ0v1NrV3y37AUTvFLdyCANjwxFib2oN985xpCpYphPHQxhKpaOpUIAmwJGmM8sQ09LUzshLkxlMnqAyAF/LWSru8WRMlLT04LFjE4uiS8+bnyi1nTJZL7t2ssoSBGrreK06aIF8/yy3hMO3J7VXy+zePKJDzLttc3mRX0PrfV8yR7eUt8vjWStXFgnY7Hb3Kgu/FCq2uQ8dqQ8pggzlHzuEuxEHj2shHAIYw2KaACLsD9BnwDVuMNpiPkFQHuCSR60tnFMhVi493JjBb2LCdLJbYFTASCVg7dP3scpBk6U/7zEPbpKzRLlmJUcccjhyChQUJkfSnvduh3sZIO/g7995t/2ZT6Qua788tnyQLfUgmTEWz0fYmZsfL6F6Zl1k0ECuzaGBrHxeI4Sbn+RPfkRyDVGrBggXa39FszEMPPvigPPnkk8qq4wDx6U9/Wq644oqgOwN5jgumGT02kg8Kb/DcfOMb39BCHOFSzKF5AsIAODRxPWHPCjhjsh2rZmrIw7YCoACHxi4LhnQsGy+jvXv3DnsrlK1zkvZ4yQMEKGDBFmEg23Pcn1deeUV9UoNh8/bYlnJ5dEuZTM+KPwZIoRMl2//WM6fI8inHvsB46bJFC7vL1jYvHLYikURwv0Klt2Mb/w//3iktHXY5adok1bWi3e3pdWnFNpLhAGZuhtelW/irpmfof7eVNkltW4+snJYmqXEfgKWWzh4pqu8Qp8MhlU2d0uFwaRxwh4ARp9AF5z9jeoZcsWii/PylA6rpzU6wKeAGfOF/CxjEjWJ+TpKcPydDHR5o9INFwdGyCtlcVCs9vRbJiHLIOcsXaYLYD57dL0/v8C2B4PNxfWVyP7c8Tz55ck6/MwAJX997ep8gRwCYYqMFmAPgVTTbZcXUNLn1jELBG5lEOH4P0Ht9f72W+AX4AlhJcoP1zUywqRsEiwcAMMmAq2eky7LJqfp5A2yRFxBPkuEAkVyTOCGVoEgH5421WdV27curCzUhbyD2je86IBiQAnhgQQfLCSj2FwDf/ux+eetQvV7P8zqAdEpLz8iKU4C+u68IiNvlIkJdF4gNceEes3Dhnv3k4hnHse2j4U1MLLHK457A+nv6/zJveOqFiQ/fPxYMzEcw0yOVFwV7XqXPAGCKYARjnhpO/3784x8rE4t93aOPPqoSuptuukl+//vfD+d0Q37ml7/8pdxxxx0qZWOxQvv73/+u4HvPnj0BFe8Z8mLhAzQCYQAcfhCCGoGxAsC8DEmAgWHlJQiQYosUcDic6l9BDUrfyXhZ05dALciMJhYNMcw2wBGWYDgvrWAWomBYVDz75b8PaAIc1laAOhLLShrsMjM7QT6/skBts1o6HVrmdu7EJKk4uFPBCmw04ICXMYuTYDDSQ923f769U9461CDWuFQFMNvL3HreqVnxKgWA3cTLFxCHy4MpJburskXB6qJJycoAm9Zht8tbB+olLsIpPRabAtTYqEhNEgOMsH2uLGKkVRZPSpGX99SopAIpgwFcFNMAJH/rnKkqpxioeTL/HKMxjE2Xrz5fodrcoRos7F+vW6j34a4XD8q/99WppEHLDjPgPusLpB3cS0DhyfnJEmW1yK7KNpUn7CxvVX0vxyPbaOnoUQkDwFkrklmQM6CltsiUjHj59eWzZEdFq7x1sEGlFRnxNgXXuytb5eFN5dIDiO51W6bRDwpzsBigzZ2YKNcvm6QLg6EakhmeJeYA4kRiK99//ssc8MLuWvnn1go52tCp2u2PL5wgn1g0QZP87nzxkHQ5kJhE6X1r7HToQgjge/KkJDnaYJfSpk4F9Vptr2+8LHToP8w+CX9lTZ3KWpN86NlCbc1GMuOjWyq0KAtWeMQQKzScRDzlLfTJLBqIFaCYxkIaZni0qkEOdS/5PXMDEohly5appnks2le/+lVNgFuzZo3Ou9g3slC/7rrrQtIdFiIk4j399NP950emQrL2XXfdJd/85jdDct0T+aRhAHwi3/0QjJ2VO5PFaDVedgb48qIzyVWerCj6O/rFdtpYtkAtyACrbIORDGY0sehi/fGwHGycMMBoJA3LMNKYvH2oXv6xpUyqW3gBu3SLeFJarJw2JU3eL23WfzctIz5S8l21kh/bpeCExLBglUT2ZxxoRPeVVElC7gwFqAD4p7dXKoOXHBOpVl8kiKEFxv4M3S3tYE2bAnkAcGF6vAIJLcXa1CElHREyLStRKlq7FcihFTaV1vgsYBJQSVW5I/XtyhCSzBYRge5VNOkKcPilVYXKmg7W0HWSHETikkl82lndJQ/sjxD7ENJ7rrVqeppcPC9L5Q+A8ob2HmUzHWpD5tbwso2fnxYjdW09ujg4f06myhjwI4bJJTZRkQDeSKlsbFfmFw+HRApyWK16bLO9R/JSYtWFAhbYu2Edh/62trVbQRuB4HPogik2Mjk9TvXRaJE/dYrvZElfcYLRBDQA5kigY5HxcnWcvHC4s1+aweeIBef+5cdnyWNbK+XR9yp0keZWNYt09fTKvJwESYyxqe6XZ5j7Sqzc99hdeII+5qTEqG4ZZnx+TqL88uPHltkejjWbP88yx/D9+sXLh/WZxfoOaU5TZ48+f5ctyJYvrhzYQQHvc3Zf2HExemEWDSTQBkt37+84vI8zzzlysZHOd8PtA0CXXIF77rlnuKcI6HMk391www2q+fVsWEbCQj/wwAMBnS988NARCAPgoWMUPiKACIwWAOY6RgdL9waTA5DEgC6Q6mNj2fytSgfwBdwAfOk3mljGFyxNbKA+vP7EDPaJl3GLvUcZNkDeXzeUKpsKE4hfVn1DoxyobpGkKIt8amGqnLV89O8H0hi2zHmhmPbWgTr559ZyKWnoVK0nutypGXGS78H0An6xRMtLiZbsGKd0drSLJTJaGh1R0ulwKcgtb+pS+USvq1e3z2E2VVscYVE/3tnZCWq3BcgyQBkNLswp7OrXz5yiVdN8NZ4JvGpf2Fkle0trZHpetnrVrp6RJi3NzfL4pmL5x+5W6e61SOMgxRgBfhfOzZStJc3KXHJeZAv0HTkE5C7WX4ApWN3K5i61fPvP86bKjY/skNYuiofYlFkELB+pbpYWh4jDKaqjRdLQ1u0+D4CfOH7pjEJlSE0jLj//9yFNHGS3AOeJ6Ag3iOZ3OckxcmphikpFYMu99cuDPY8AYNrs2bOVCd64v0xuffqoxhuAbfTOVK6j/fry2ep2AXu7/nCjdPRJQp7fVS0JUWiY3QVODAOM3zIxQ6bBzTUMMAVUWEwB9r0rsPHMkQgXivnnZy8dlDcPNkhBeqybye9rxC4hKkJ++4k5A/pxwwIjp0IO5akXJm6AYFhhZDaBSKz8mSv8OQbZDzZoOGeMVgKad78uuugita5DljAaDaB/5513yne/+91jLodGG3D8xBNPjEY3TqhrhAHwCXW7Qz9YXg5sX4Wqeepg+bMBvoPJAWD9kB+MdXUottNwpGBSHWi7EZYYVgZ2EX0v4wv21iTm90gOQmUvxL1/62CdrNlcJlPSY6WjrVUam5okMiJCklPSZG9lk1w4PVGuPXuRMp9lDR0KwpJjbQo6PfWLwX6O0NexJe3txIEcAtDQ7XTKI++Wynslzcr44esLqOe5TotySkNzu1Ysi42JUWYK7TDg53Bdu8RGRsjW0mbVsgK2+EyEygXcZZXjbRGqFwaoAC4Be/w6LjpSmcOfXTpLr+mr/W1TuTz0LgysQ3p7nRpLCkxcPD9Lbl1dqIzm3zaVySObyqS8ZfAdmMK0GGUukXjAPtOQftAfEtkA5DDWWJphBwd4/c8Lpst97xzVuOSnuhPaaA1NLVLWDovt0uNglRkDDG5ucrQcbbTLtafkHgPsKb6B9y76ZLTAJA8iKwCcoimGUT1tSorsq2qXlVNT5bPLjpUUDPZMeFcPu/vNYnlwQ5lEUaFDRHco3FSwRchUOH925nGMLTH5/jP7tXxzbkq0guedaID1vvJRq/6bGwhHqP0dSXPsItyyqkAunHtsVTXmH7TuFFUIZuP6n31ouzSr/vjYoh0w9+jTb//YdFmS73tR5UuawZxKQirgmEU4TLCxVENyM1pgdDSdM3zdE2K7YsUK1fwihRiNxnzy05/+VG677bZjLkc/WIz861//Go1unFDXCAPgE+p2h36woQLATMxs2cFYsP2MDhZm1J+tOiQS/Ix2FrZ3tAdzYIDxgPHlpQMwRcMcKu0b2jo0xADsUDWYyjXvFku6tV1fmmRyJyYmKVDbuL9cVhXEyGkLZsquihbNrieZCOCYHGOTRfkpqh8ORfPnWcD795kdlbLpSKOyopG93ZJva5NTJ0ZKSs5kqbDbVBNb3WJXuQegCna4tatHypq6+h0kALfx0ZHKiNe3d6l+1F0NzZ1ABYZEu4u2FNbwvNm+S0OTkHX9Q9sU/LqbG8DBwKYnRCmLyZ/vWXtUdcoU3xisJUZblaEGqAJ/wXTE3uiIkTjAcAJGAcSpcZFy3zUL5GBtu9z9xhGVS2TEu/WylfUt0tSD7tkmi/KSVCKg53IADi2qbf78afmyavoH0o4tJU16nglJUZoQt6eqTRMmAdt8lhhNy4xXacRnTs2Vk3wUUxlofDt37tQFo0l4/cXLh+Qf71XqgqMfvFEumoW60yVzUl1y+xnuqnOehRAO1rQL4Lm00b0wwBYNZjvSYtGkPQAm909lB1b3vcDt47Zzpx63iEG7z+I3FBIsKgWia8aD27MBxpH43HnRDJmbc6w/tTluqKIhzLPGGowFObZcxnGDioyhbIadBvyNReM9NmvWLPnVr34l11577ah0ISyBGJUwH3ORMAAe/Zh/5K+IBi9YzTMBDACJBpYff4Cv6QNb3sggYF7HsgHiqUrH9rvRvSJxAPiiV+TlAvANdTLYhg0b9IVPHIPduF8sVJ7bfEBeL3XKtAnJkpWW2g8+AJS7jlbLirxoScnCi1e06pbCOpdLsOACAJ0zK0sttILd/LWioy9FJeWya/8hibE6Zdb0af2OG7srWuQp3COcLmWrAYIwqLvKW1QHipYYJhQgCauNXGBjcYOyhEsKUtR+rbGd5DH00jDFIredN001qb4aIO7vmyv0V1pprQ8AEztA2NWLJ2qiFtv4VOADEFX49AZ2aaENpMJdTrfmFr2txeV2byCZjf70V53rdak7A0lVd148Q7f3SVx7dme1yhYAkVZnt0xIiZV4GPEIq/oGq4yAss3IDiIs6j7xH6cX9D8DSE1+/vIhvd8sDgCXh+vYBXDqn3HZgBFfMTVVy0F7bu0P9Tzs2LFDF458j5DlAH4fWF/SV+WvjwbuY4K5f9cuSpfzc90FEQB1BuBxDvTO64oaFATH2SLU6gwtMHIVY9mGdISkPZjqC+Zk+WTwmXsAk2g5g93waGZ3gIWQJiH2xZ1Ke1jr/c8n5g7oTxyIZzI5CKYoCWAeaQSxCpVemO8p80iwiwb5G3+eTZhvrNCwIRuNFk6CG40oH3uNMAAe/Zh/5K8IUGUCGUnj80y4sCcjTQAbrvvCSPo/0GcBwGgBSTxhbEzyvERgrEbL7ockKhLgSBgMVvNO2MvKLZAXS1yqn0QPDBMKuDlKaWGxy8JMq7TFZGqJXE+Agw8vAI4qbJQDDnYzNnKrVq3yeWqjv0aGwouenQbvBdffN5XKjvIW7TtgDt0vQBQ969H6TslLjZHMBLeNmWnrDtcrkwgA5hqGAWa7vaqlW756ZqFqen21Tz64VW24YJTdXrq9YrFY9TyAVqy60OBmJNiUZeacJY12ZSk9G84MuUmRUtniBt/xNos4XH1aVmevFraA+QW8m+ZO9rKql/DnV7gLlwCuKB6B/rWzqkiWzpks/9jTLrgR8LVnAeBwufot1mB2z5qZLgtyk+S0KanKeMNWrz3UoH1GOtHR5ZRDdR0KVM+blSHnzOLZiAsI/NI3XFYiYhLkhRJRtw+kHhTtYLHAsEg85M/En4XWP29arPZlphACi2X0sCxQTQGJkSZheeqSg/08k/yGiwWuGjRTiRE9NtppXDwGaiy8KYyDP7q/TTXjHv7CLOo99cLBkkgEWtHP3/77exzEBDtxmzZt0oTT0WjYoKEBRqZFgjANBwqKYYRt0EJzB8IAODRxPaHPOhIAzAQLYGVyBoAgcwCEjCQBjO07vGfPO++8MUno8HwYsNLh5YrODhYF4Mt/R7ORXIIHKA4MwWjo9QCMvBg9E/bw3X1yW4XKAwAiyBzyUmNlUXKX1Ld0SGN0pk+Qe6imTf13Z03wvXU7kj6z4ODZ8lWVi+eEcaDDRh7CAsF7q5fs+nveKhaqmVHoo6rF3qejZRvcva2ONhfwzvY+zzNMIglSPb29WuSC7XgDgAHPyChwDiCRzle74s9b5GCtGxxq1TUvADw9M04ZWfoGM8nSU2UN2DP0NZhjPk+pZ/oRE2mRJRNjpKmtQ6UOna5IOdrSq3pmWGGANZpXJA3cOwDVlYsnyicWTVRm2zRTreuFoi55cH2p2CIB6BZlHVkUAND4PKAaNjwnOVq+d940ZZn/srFUdbZs13M814bxhQkfLpB6b+tWeXBPr2yv7tbKfiqt6XbqPQCca/lmq0U9n39+2Uyf8gocCADC24sqpaLVKTkZybJydp5kZrgt1QJtuNAwfwXr++Z9fWL88t46TZJkhwVNMtpmvLkHa/v27VN3nDlz5gQ6JD2ez/LdN3phFgqGQR/pLlYoZSP+DBYQysIAlpz3z2g0UwiDBbdnIYzzzz8/XAgjRDcgDIBDFNgT+bTYoDE5BtIM88bEB5AyCWDB0JrxQsPQ/KyzzhoRkA5kPN7HsihgMoXZgP1lO5RV/nBf9CPpy/vvv686STLlR9LQLQMYAfMUsQAwehexAHzsq25VkJMUEykzsxOl/GiR7C1vkLqoCQqEPL1KW+0O4efMmRmSm+IbEI6kzwAbXvxkl5vG88E42HFAGsKiZCD9NcD1gXVH5N97aqSy2a62X5pYhcdqL84PgEWSxNy5VjzXaG3nTMRPtkPZU7bMKahAAhgYFbBCIhvH7qtul43FjWrHlpkQLcsmp8hfNpbJC7tr3IlinBcPYbEoSAXQrZqWJhS24PMUaeDf3ExwX0U6KrVFuI939v1bYVqsLJ/qXnjBApbXt8i26h5JjrLIjMxYBcP1HRS1cPsDp8baVNKAxAKQCqOLVMEA4FeO9shfN5apHITrIqXAYo2Y0As+z/2v7+gRrn3vNfMVnLKIQPYCQJ43MUEdJ0bS1ry6Se7b2aMSKQp3mNbd41Sd8enT0uTSBdnqMoFkw1dDA45EY2Nxk3RDrYtLUm29ctV0q6yYMUGfkUAAnqcsYyRjC/ZngwnMmfONXph5gfgAhpERDGcOhzXn2RsuOB9prJgjWSSTvAhZMFqNeejWW2/V7xVzEOwvzHCoigON1rjG63XCAHi83pkPcb8CBcCwCLByTJyhcD5Ak/zGG29oCWISOUazEQtArwG+WAyxwicJbawaL2RcM4arSWR7kIUKzM9wdMskMlbW1ElHcqFKJEgkAiQCCAFNM7LiZeW0dPU0DXYD5OIUwGII4Edf0BsaT+L4BHdGPyyod4lg05eXd1fLHS/sV0kH6BAA7LY2cwNSXAzOm5OlzGpMZIQsyk+WZZPTpKShQx5cXyL7qlqlx+GUhJhIZTvRyLIIeG5XtTz+fpVu2SML4byUXl6cnyyPbCrXBDE31u4zzrWIJEWzqIhXdwY+Q1ll/ssiwoiQiCKsJw0QCzifNzFRdbZmAUZCH24MvX2VHBvsyCzctmEwt8gqmjudKp3A+YB7dtXiiTK5u1imz5gpd7/bIK/srdVrcC1KSQN+o2GEhUpx0Sp1YAz07TvnTj0u6Q/AgysIJZZp07Lij6vQNtTzcNfjG+S5YqdkJ8ccJ5+oarYrAPb26fU8J3249bHdWiCDRQMsPuNgQZEUbZWvL7JJrKNVAR5AGIA31O4UYIoEu9FiEoeKkfn99u3bdRzBlEJxblOUhPmBP5MAa/TC/hbv8U5m9HdMwTqOnToqsDHXDYf1D1Y/wucJbQTCADi08T0hz07CB0BvqMZWM8CX/w7EIA51Dn9+7yv5zJ/PjeQYYsA2GsCXrUFTmQ5NGZo57M3GqgEAuT+BZqUDGAG+6Gh5qQ23iAXV+ng5zl64RLaVNUtlc6du3wMCYRgpQOG5zR7MOMFSsQBAqsG9AQDMnDlTEpJS5JkdVfLmgTotJICfLTrkSxdMUFbVs+2vapXr/2+r2qNFWq0KKGE9AaxuralFCjPi5PSp6fK1s6f2M9xu7W+vFNe2SVO7XcFdanyUvmDR7N754kFlytEQGwBMAhaa2hnZ8fLMjhoFkJyDzwDQ0FeTiOUG4+6mALSP6QX8xkVHuItNoBFVBllk7oQEwQuX5C67w6nSCFhRQPmjW8pVy0xBtrhIl7R1u6TNYVFZBZ9V9wg+GxUhl+R1y9xpBfLA5jopb7Yr6Ac0oj/ucsJUu48jgQzGVZMkm7vk+mV58rnlkxSQk1QH+MfBgljCLCMLSYu3qWaYqm3E1J/2i3+tl2eKeiUzieTEDz6jOQUt3XLmzHS565KZA54KL+uv/HN3f7/NgfSTe3PNKbmyoiBBnt5aqgl/UdZeWZIbL5ctypPC3GyfYAnJEZr7sVz0+hrw1q1b9XscimRYrkfMYVD5rrPw5O/Mfd6OG776NtaLhn/84x/yk5/8RN2DxmKXzp9nPXzMyCMQBsAjj2H4DF4RGAoAo3UC+ML8htryy3Qt2NXPBrrpgBMmTeQOgBSAL2M0LMKWLVs02S1UekB/HkYkADAzVIPzpxn5BuMy2mGTpOHP572P8fTiRVKAKwLaVZhFWMJQvXAA/Wytwviyvcg9gMEDzP32tUPyxv46tQUjmx7tK/DprJkZ8rWzpx0DpnACuOLed5WxBtwBSuk/gAugxH8np8dqUtl1p06Sa0+d1Jf41qvg1QBh82fi8+SOGvn7lkopTI9zlxruayQFUlb6+uV5MjUjXp7dUSGHSiolKS1DKpqRSUSptIKCFcgI6AcAFMaS2AKGYWuNQwB6Uc7/gwuma2U7wDMxPzk/SWZlJ2gC4tM7quXtQw0yPdM9BkoZ67gsJN1RAc6qY2y2OyXG6tJktbrOXslPiZHi+k6NB9eHOQU0ZyVFaz9pMMmUzUbyQUW6Lzy6S7aXteixpkVaRJZPQZ6BjVqvfHJxjpw9K8OvR+3J1zbIH3e5xOGyHPMsAcjp17fPmSIXz8se8Fy4Ktz9RrHKVLzdJxo6etRujPgiUSGZr6vHvdjPj3PKVdMsCoIBeHxPzHPMopc5IC8vz68xjNZBo9kvnnWcNgDDzPuw5kYv7GtXbvPmzfr7UFo1Dhbne++9Vx5++GFdLIfbRzcCYQD80b23YzYyXgiAYO8GGwDwJcmNlwRbb4Fo6UYyICQQaF6ZVEPRfBXogGX03j4jS53Jf6y0bYzdyE2WLFkyaCi4h7CkMLZo0NDG4lU5UoBKBT9A8Gj5MhtrNsZtns1zzz23/968X9okP33hgOpXqV5mGlXskDX84GMzZNGkD4oJkLj2uf/bqhpgXBNgBgGIhrWFMZ6Xkyg1LV1abOKPV8/rT4jjeTDxMwCYPv1lQ6k8s6tGK6eh79Vj+nDwodoOuXLRRLl2aa4mhq5bv1Feb5sgFS3dWnACDe3OilaVXwAjYUthWwGa/DknJVqZahKk6Os5szLkjos/YEGJDxrif++tldq2bpWhoFVOjIlQ946iWrckwTSugxSCZDcEDjDRULdIKmDusU7DKswU1yDxDVaXGFW3dml56fuumS9/fZfCHeW6AOGcLD4YMn8HZFLKFznE5Iw4+e55UwfU7Hr2DYu/N+oS5JWidnWpQBICG84YKfH8q8tnD1hshPP86/1K+fWrReoQ4c06A4ABvcQERtsAZNh3fnflvGQ5KalTNfEssJhrmOdgM5kLQll4ZjhzGrGC/aWPo9mQhRlLNaOxNXphIydZv369SkZGu28mDnfddZf6doe+AAAgAElEQVSWHOe9EW4f3QiEAfBH996O2ci8ATBJbWydM+nBuMGKjmZiAYEIVfEHT59iJvahCnSQeMJnArEeCvaNHKoynieLjWbPsNgjBb5mHEgoeB58OTEEc6zGUYTEEuQb3BvY942bt8rsJSuUdcSD+OntVYK1GbZmnmPk8zhZfGrpJLl+udsCjIY7wnef2iPvlTRJV0+vSiFoxqWBZK8Z2QkqpQCR3n3lXAXCnHugGD63s0ruf+eoyiKioED7Gg4KNW096qMLcAUAv/b2Rnm5KVOT2vDRRXqBLRt2ajCsfFqBnwMG2G2dRgPQUVr4lx+fpdZfpu2uaFVHBiqKUYYYPLuhuElqWQA4YVOPvSuczVSyi7TgLSxaDCM1NlJBpqWvCh6a4prWbk12I1mQhrTkljMK1OrsvD+8q7IE7Gt7+nJm6arJn11amKyAGqD5gwum+ZUgt27dOpkydaqsr3TJMzur9fqw9OfOypBPnZKriXiDNaoBfuov76ulHdITEzsWDx1ayCRSZTqGUTfngjln0UNREnIOYDpJuOR+cQ6z0+WvBjaY34OBzmUSGFnUjlUjPsSKH+Jm9MLsUpGjgHRkLNo3v/lNXcg8/vjjY3H58DVHKQJhADxKgT6RLgOAAgx6JkuNttetd7yxQWOiD5b21tv31hToGMozlC14wJi/8oNQPDcDlQNmTAaccg9h6NmCDHYSiC8nhmCP07OkNOwbY4FdWre3TB57Z7fEZeQp65gcF6VJZ4BZqo/5AsBXL8mTG1ccm7T49PZKLfWMRIEiDoBp9c91uRRcYhtW0WxX0Pana+ZLQvTgRT3ow+3P7lMJQo46Y1ikvcup5ZkL02PlRxdOk5S4KJWubNi4Sd5snyhlzV3KANMAwWhrD1S3S0ePo6/csluqkJUQpUURTi5IVq9hT3cEPvu/60vkncONmkxnxs+4Xt1Xp84JBv8CjGFnjc0aSDvJxnij5Uhjt8ZgUiJln6Olx2KT+naHSgaIK4sBmGD8fUly5NiV/71OpRKEracvZaDfPUNE5kxIUBkDPz/82HSVyAzVcHuhghfzDTEhoRFGfiANMWw+cUOiAbCl/XVjqfzv+lKVk/A5FhqA/vzUWGnvcUhWQrQy1J4NFh499h+untf/z8YzF62tiStzEGynZ9W5ocYUqt+/+eabuhAfiZwpWH0jViRBA4TR6bP7RL/47o5FrG644QYF4/fdd1+whhg+zziMQBgAj8Ob8mHvErZSGHfjucoKHgaRSWwsW7C8b5mojWuFt++tP+NjGx4N9GiZq/vqk3c1NAPmYUphYWBKSdgJpNqeP2M3x/CCI8v77LPPDuRjfh3LootxcA1YN2QbxkJoR1mz/PyFvXKopkViY2IkMcamDDDOClRwA8jheGAaelm2t7917nR1pfBssMAPvVuq5ZJxdcBnlu1xwBpAr727V//tE4tz5Asr/XP8gIn987qjKmng/LC4eckxcuPyXMHrl/sEAOZZbk2dKU/srFUmEo0vAK2mDSDfrFIDWE+0vuoL7BI5fSruB7OOY6A55w+fP6B99Syny7/jLQu7jYUZ9mWc10OqK3E2q2RHOyQ9JUnqOhxS3dotKdEWcfU6xWZxSUGKTW5ekSfzpuSq64hn4/zn/n6jVLe62XNfbWFOgi6+LpmfJVcuzvHr/q9du1blRUMxh4z3v14rkrUH3QVKYJmX5CerOwX377X99fL4+5WC/CQlNlIumJOp5Zx/9NwB6XI4lXk3jbjw/Fw6P1u+dMbx1RXfeust7RNjNhpYU3WOLf6xsLiiL2zvU5THVKX0K8CjcBA5B7DTvDMAxd4V+kahC3LZZZfJqaeeKj//+c9H43Lha4xRBMIAeIwC/1G+LNtasB4A39Eu8jBQXEdq/cV5PV0rSGiBVcRPN5BmHBAohzxWjYUJIJHS0J5FLAC9Iy064s+YQlGZzzhUAO5h/0hw85TZkAR108NbZU9lq1h7HRIXGyPdzl7VlQJ4uh0udS6AHcU1gcpkgN8lBanyw4tmHucEwTgBEQdr2mTr0UZ5akeV1LR0qx0aDUcLKp9R4tgTVA8VH/qwrbRZNaXp8TZZNClZz4WsiLghXwEgLDhpsazZViNbS90ey7S2Lqeyzu7yyx8wlCTrodb93ZVzfBZ++NUrh+VgbbsytabBAOM9jAZ6WlacdPf0qn7XXQLZ7SYxPTNeertaVVZS245kwCbXLc1VLW9ypFPSXC1SV1ujiX8wn4A9wJZhQ7/8j11arW2gNndCvCwtTJUbT5vkdwxhNXE3gb0bqCETufnRnbK9vFUZcjyZ3R7OLmVx/3rdwuNYcnOu379ZLC/uqVUGGIkE+mLj2QxL7V18wgDNxYsX95MA3D/kYOyEsGAjJsSGGIVq0ekdCxhWFguUGh6tPIyhnn3ze93l2LBBVqxYoc+K0QtDOPCsmQp9Q9nP+Xs9X8dhmXndddcJUohw++hGIAyAP7r3dsxGxqTPJD+eGow0fTrppJMC7pZn8t5IXStwUuBntBLAfA22tKJS3tqyS6LiEsXe2izzpuTInJnTAwbzAQey7wOAbtwwqHA00obUZt/Bw7JuT4m0SYwCiXkFWZKXEit17d0KVNi6fmlPtfzkuX0qe7A4uyUqOlb3tdHwwpSelJeiZXlxJEALCyg6uSBFvn721GMS40x/ecY93RzQiG480qwlaWFjSdxS2y8RTWzzllcEMm7z/LEAY+GVkpUru6rapaWzp4/hdWmJ35f21KljA4ywZ0MK0NjhkC+syFcw6d2wf3tgfamCOZULu0Tauh3S1OHQv+emRCvjyXiaOrqlqK5TWWXcH+ztrdIbSSwtcvXJOfKZU491OjDVwgB73HcWjCY57BtPHdTkuz7HtmO6RTcW5CbITy+epZZy/jZYTb7jgy283zpYL7c95X4WPIuwAIxhzL959hQdi6/GAoWExXVFjbpAwqt6YnK0fPbUPDml4PhdLsYPKCfh1FepcwCw0cACSk1ZYQB8sDT3vsbBgpFEMxbiY8FAD3Y/Abq4QJAj4LlzwM6iiRVzORIJniXY/mDKtPhez5s3T+644w65/vrr/X30wsd9CCMQBsAfwpv2YegyW+njqfnrfODZZ15OfM4k77GdPlK2xJN9HYv4FFc1yBPr9kh5Y7tExyXIhKwMmZSeqIUaKOAwGs2UpgYAD/clDyOKlnnXgSLZWBshDa546bXaFJTiQtDl7FWGLjoyQsEozgZvHqjV31OEwmKNUHCHTZizt1cmp8er7+yhmg61NyMRbWJyrKyeni43rizs9yX2BL7mz57ODsTv+V3VsmZLuTKDJHQlxETIyfkpcuvqyQH5G8OEmYIjJI9OKpwiO6vt8q/3q6S61a7eyUgdClJj5IZlufKHtSWy9nCjZJhqan25dAYA37wyX713PRulnL/z5D4tSQwj7ilxMMcRp8ToCE2gAyCiS6bAByxzW3uHZCTHy/lzshT8DlRdjXMBWkxyGGDmlzts0tpjke5elxt89yUSmgQ7FjE3rZg0qG2Z51j83db/zevFgt0ZY/J+/mDTz56ZPmixDK5J3CjiQsEUtMoDjZsFGrpkttMHK8IDUGaBw0IBuzCYYLNQCEXxHuKPywFM51B5C6MxJ3hegzjglsMOla/5gfvMHGL0whxjtNWeOwzD7Tfnh+hYs2aNXHzxxcM9TfhzH4IIhAHwh+AmfRi7yMuOiWS8tECkB0g4AB5GwwzwDZZOzhRiOOecc0Y1NICpPfsPyvM7KqXFFSMJYpelixdKp6NXyho7Nfv/wnnZAQG04Q4ARhP2CSuyQLPiAQrcFxYmtGJXpmyq7NGyyWz976polj2VbeqGgKduWlyUuhnA6ta22t1AS0sGR4qLksFdTt2y92xs72OJFmG16jk/v7JAPr3UDRwB3p7Al3/zfEmjCUZS0GZ3aCIcSVRcG1ANSPzG2VOHDBugieeVnQKeu5jMfFlf2qklkg/VtCtoJ5EMpre1yyEVTV0yLydBZmXFy+/ePKLA1CRpIX3gGLb6sWObO/HYsq4/fv6AJrslxUQoS4z/sfnWxtrUkE0T1WhxUVZN8MPt4EurCuRofbts3bZDLjxtoUyeMLDkwHvAJjns5n/skQN1btkIAJJ4E0vuHX0AcK+YkqoLB38a9wa9Lfr6wVxm7n6zWB5693gArP3qcsr5szPkrktn+XPJIY+BCMCZIhCm1busMGMxVeeCBVb5DrILA8gMJns6ZED8OACpDy4QgPOhGvfc+Avj2sAOA4tFFg8DlTMf6pzMlZwDGcayZcuGOjz8+w9xBMIA+EN888Zz18cbAPZO/PIVO8/SuCRgoCMNtoaZSZrtvfPOO2/Y7Gcg9537QLlfwFR7RKIUO5I12auk6LDMX7BAX34wifi+njs7U2ZNCH3de5h1klxIgvP3he6dqIebR/qEXPnd68UK8EjgYnv6rYN1mkBmtVglNsoq83OTtCAE4LG2tUsiIkjSopJahDh6KdbgO5okl7F+c7p6VTf72yvnSmJ0pIJfY2fmi52688UD8taBei2E4fl73AYApv/9/+b1uw14X7msoV3W7joiRytq1K7rjAVTJDYxWX73RrGUNrgLTBhv37joSC1ckRJnE5L1KC/8xdML5d63j8i+qjbV6JokOBK8zpmZLj/62PRjFhyc6zMPbVMZSHx0hGp8sV0zjf5nxNsUFANKWUz85/nTZOW0NLc7gp+Ak74hGaByGiwvOw1IQqi6dv+6Eh2XTa2E3d7CPS5Rr+D8tFhZPiVNpRuDNe6J6pPbu+TAjvfkrBWD61q3ljYL+mNTzc6cG3YbHfCPPzZdLpwbHGswFtM40CB5Go5m1diEwQzzXWa7H3DH9v9IgCvzEHkRAODx1ljgMl8FCj59aauNXtjfeYZY4ISDZzx5EpAf4fbRjUAYAH907+2YjgwWA7ZuvDRkDJQAPuuss47rkmelMyQOAF9eMMPdnh9szCNhPwOJJXpCWEQKWaDxY0wVXVGC/jE/OVL27d0nc+fN60+6IZlrxdQ0TfoKdeOlTgLOmWeeqRneQzVe1ryMiJ1noh4V2X73+mH1pE2Pj9LCFBuLG9QZAWDL1j0AmLK628ua5Uh9R59u1yUui8Xndr/pi1qkxdqkratHshNj5N5r5iujPJiXL5+9/qH3pb6tWyYmxyggh302oBLQ+NNLZymo82zquPB+kTz9fqk02V0SFx8vsbExyrYCPvdWtaqO+CC+um3dWqSh1e5UBpjiE7QDNe3qNrGkIEXue/uovLa/Vn2AKWZx0dxMuXbJRHfBCi2VbNUfqrb9x5pdfWDZqiASEOjZkFMgjWAxQEGNP1w1r98BwZ9EKu7R/7xepP0jHoBhQCba24K0GGWXuS+UUHYXlnBJdITIpLhesUZGyqeWTJSLFhUOuFPAPf/n1krZU9WmhT662prk3AUF8sml+QMWvCDe33t6v7x+oE7HxUKB69MW5iX1Fy4Z6rn05/cs9qi4tmrVqhEluJltf4AwDCn3zzCdnlXn/OkTxwTCsvp7zmAdB/hlp2yoQj2DXc9oq5n3A1044FBDAh5SjLF2LwpWTMPn8R2BMAAOPxkhicB4A8Am8cqTeaWPAEQDEoNV6WywgKK9QxPoL/gL9ObAylFpDdYXHSFjYvsU4IZd1yt7a2ViYoQc3LdPZs+Zo6wUNk7Fde1y5sxMBYyhbjDtJAaR5DJYAg7JMABfXta5ubnqKuJ5PB6vv339kNS2dis4BWxtKG5QOzK7o1cZ27k5iQqsdpa3KMtNaV1HHzr2pXf1HHucLULsDqcy5o/ddLKkxQ8N1r/y2E6NM5XXyprs6kX7Aai2yKULJsgdl8zsryLGc7l51wF5+kCn9NriZW5+htgiI/Se7K9ulb1V7SqlgA1F/sA5YYex4iKLb3F+soI4GOYvnzFZTpvqBtckaKFnRdeMDprFKIDVs/xyW7dTbnhklzo7UKACMGnkDpwD2QROFABXYrggN1F+d+Xcfr3rQPpWxozmmip5+Om+vK9OfXaJP2y9VfDWdekCAys1xoPfcEePUy3HGFdje7eIq1fSonplfrrIpfMzZXp+jiaSmYUpzDdyk53lrbooSIiySnVDk1ij42VKZrxcNDdLlham+JT1sOvxf++WyVPbq1Qzjpb3wrmZyjZT7CJYDRsvbOuCKTXgPvKdQAMLSEMjbMoK+7OgZGwAaRbIp512WrCGGrTz4HTCYnc4CcvenWDhQIyIlVk4GL2w57Pk+TlkNFdccYVaDgYq0QpaEMInGpUIhAHwqIT5xLsIkzRgbLw0T+aVPpFAxQuArTGAlQGJoe4vmkAy1dG3BTO5xWhj0S7zZ8aEY4DnNim61Od3VUlVc6e0VRTJ7NmzxBYVrcAE4IEGmJK1oW4wMq+//rpuC/tKKuTFg8aXrVBeVrDXAyUfvrynRp7eUSkpMTZJiYtU+QHuD4AvQNBEWNQuhzKQlDYGnNlcDrHa0AYP7EFLDPoMEVQG8Pur58vCvOQhQ/PIpjJlpfEBNtDXOCvANOITfNels2VBlk3HCLtdE5Eh66stMiM78ZhkqlZ7jzy7s1oyE6JlRna8evWSrObCtxaKWkQZYJjbSalxcuclM7VM72DNs/wyf/7T2yWyZmuVe2FA1TcPAjg6wtJfohiA/OUzCuXjCz8oJW78WtmqRm8J2MAiDFBZ2dKlwBx5Q0pMpBYJgXFmcQKwBuy6HTpilInHdQFJxhsH67X8MaPjmshUuh1OKUwUuTzPLulJcfpdBfA9+n6NAmxzrzhvV1e3tDrcseH/kXZQRc/bncLECGkHrDT2d4Ml8A1540W0auDW0hbdecBTmEWZSehiwRuKxmLSOCOws4J7BPFBKjEYeEMSxvcLG7Tx1lj08mzhxBDMZqwEiRffOxbTZuHgubB+4okn5LbbbtNFQih2AYM5pvC5RhaBMAAeWfzCnx4gAuMNAJttd4AhDCkTGz6+MIsj0dIF+gAwCb/yyivKvPiyRQr0fKp/rK5WMOVPEQuY3g2HG2TD9j2SNylPoqOiFWCdUpiq5XtD2ah2tr6oQaqbO6W86IBcc/bJMj33g1KnRorC4sRfDTZ63ye3Vcq2smatNsY1YIIBQ+iC2W6H7WP7v7G9RwFVY2unREfbpKHD7Wk7WKPgFxIInCTuumyWxmqwhgb3z28fEXtf/WADot2ALlL7syzHJhdPaFNwz/P49tF2eWFntcz2SlDj3j69o0qdJBblJylzSqW4sqZO9fxFU0zp5JyUWLnxtHz1DA6kAYCP1rfJ5/++S0sGIz/gWp4iCHC2qSZ3/hw3Q2pAtjcAXrOlQllVQC/uFPZup/oZI3dA01vf0S0JUW6AjtQCoAirXNZolxtOmyQrp6bJrY/tVqCPN7MBHyxgYKlvXJYjS9IdCvhKGzrk/gNRUtfZK0kxNi35DJOLXMMNfd0SGFYhLBbQ9XqC90DiNNSxPF8U1Xhtf51WnuP6JAyiI752fqLs37dXJRChbDwrLPKJDfMBbTBnBL5jJI9RCGO8NSwrmZOp6Beqxlxp/IWNF7NJoHvqqafkgQceEMrWhwFwqO7A+DhvGACPj/vwkesFQA8QPB4aL3pAL2WIYXxNid+x2N5SvefLL2um+mBm/f7EjRcYbAkTeCBFLACJj7/4hkyePksy01IUKKZ7ecf6c/1Ajtla0iT3ri2WyuYutR1rb2+T/MwUuWHlZDl9amo/I89LCMYXP1R/Xz4kuR1t6JCShs4+b1+nFrwoqutQlpFiClXNdll7qF7yUmNk39EqkSgsvUTKm+0+h4FcFuA2MztBpRSAzptWFMhlHgyo9wepmva1x3ZpaWQs0MBfjAEQqVpTalO4emV2eqT84ZML+vWFJOhhm0YRBk9fWoAk0g0kCD29LmWicWUw0goKbZw6OVVOLUzVxLqmjh51m+BeDlU2GOaT+Lyxv07+vadaSza3dDpELG6XjMP1neqYAYOelxKtgB6mFBB88+nuynaeDgddrki56ZEdCnizE6N03Mg40PcCdpNibZqcCHgmLmibYWdnZ8dLWVOXfH5FvjtJ8LUiSY+zHVd4hHu7pCBZfnbpLGWaH3z7sDz4bqXbCs5mUcBU3wnrzorGDYBx8uBPLHKQkDzzxSV+P1OBPNv3vXNUHn63XEE48gl6AGjnnn9yQdr/Z+88wOOorrd/VFa9y5LlIvfeG8UGjDE21RgI4FBDSyiBQCgh+QOBjx56J/ROguk1GGODTTEG4957kZua1Xv7nt9ZX3m0lrR9Jdt7Ez0W2tmZW2buvPe973mPDI/KC6jvN3Mv0hoYTOOM4Mh0+lJm4E5fuXLs0qVLdceHeToQBakVC4fHHntM3nvvPRk+fLjuXmIT507wnKt1hQB57bXX9PyMwzXXXCPPPPPMfl9HYnTHHXfI66+/rhnxsNJ78sknNdGLtVD366+/Xr766it9DqZOnSpPPPGE1+8XV9tzIB8XBMAH8ui147q3BwDMi5LJAXYUtgpATmCFszSp/u7WWbNm6SQGQ+NJwQMT4GsSI3iSkY5JGI0dQNPfBWD2j49XyraCct2qB5Tu2LlbykNjJDEyRH7XrUrSY0KVDYWRdxX4Oqs3IC8MABoaIkglXpu3VcF+bvZO6Zieri83pBGb8sqkuLJOwRL+v1iqoUtFDkLgGmVDbqmcNixDrjpm/1S3ph6Avb9/skqzyCErQTcLe1rfYJcXAIhwocABAbZ2YEa8HNe/gwLkl37cpiC+e0qMsqcAKEAfSSBGdk3UoDZSJAOu0CSfPLijjO9jT5YA4/32r9tlwdZCIYMbYHPygDQ5a1QnDQB0LCxG3vl1h6zaXaLaYQW6iZEqp0AGsGJnsWQX2xlhgKOysRKiqY4BqfdN7a8BeiaZArsZv2aVyT0zNqi3rhXEI2vgGpyXBQD9QT/A0wL4KYD1u6f000C2x7/dJB33Jt2w1pv+BPA/fOZA/fM/P18rv20rVNuyMGnQRVVRleGu7WPG9QwQ599vrztCgb4vC4uTc19dpBpm9NbWQjBkWmyY3Di0To49+ihfXtblcxnvZeZBFsrsrACGYYuZD30tM3C5Yq0ciGaaOZpFfSALffXFF1/Is88+q5lMISjOPfdczQjHe8NX89KNN94oM2bMUJeLjz/+WC644IJmAfC1114rb775pjz66KPSo0cPeeihh9QfmSA9xpBi3mnUnbTNgOZbbrlF51ECjX1V50COQyCvFQTAgeztQ+hasK48jG1RAL4EPAB8kT4YdpTgBlb3gQB9rbWbADBYTszW3SkwFbSJCGl0fgBGT3XEaHAHDx6skeT+LoDPZ+ZsUuBmwBHbjzgxZJeLnDO8g1w9eajfAk5gRb9emS3oc/ewDd9QIZkdEqQ2xKYevTDEV4/vITNWoindpiDZqgfVIMH8Mjn/sK5yweFNM53Rd/gow/riQvDG/Cz9d2dRlYJYmGTgGCYD/MASkqAjIjxMwXXvtFj568ResnBboW6h8x1YUiQDAPHTh2Wo/ALpBlIBwGOX5KhGYIvs447P18jqXaUKnFlcEGjGNU8Zki7XTujVZHjXZZfKfTPWyYqdJQp8aZvhTNm2P6ZPqtqTEQwHs46uOjo8TBcGBKyVVtfLLZN6afAdDLBJWfvz1lK5d8Z6DWwzHsQ8h7DY1BvgT3tNQB0LjITIMMHObcrQjnLBYV2ULf7bx6u1XtZsdixk2Dk4/7DOcsmRdj/mu/+3TvW2BNMRcIe2G1mIah72qre5Hv/jGBYjP9w41qcBbtQDFh3mG7kF/W8tjCXz4C2jwuSUY9veT9YwnYBhgBO7Lf3791erx/YElGBGiV8AxLVF+dOf/qTBwdg0vvXWWxqvcOWVV8q///1vn1SHe8LI7gC2JNtwZICxYuO99dRTT8mf//xnvS7jR6r6P/7xj/Kvf/1L/zZ9+nQF6cg1mM8peKzjYgEjfNJJJ/mkzgfrSYIA+GAd2TZuV1sBYLb+YEeZLDIzMwW/WBMZDQDGFcFd4OnrrsQDl8mN+rlSrIk5AO+0wVv9cCD74t0F2+XN+dukT3qcMvGMTW1NjURGRUluVbhMGZYh1zgANVf6xZVj0Dzf+7+1Cq4AY/zU19VLXHi9dI0PkxHdkuXSY/pIWmKsuiDc+ulq3cbvlhStzHFVXZ1syi2XSFuo3Hpi3yYWZgbwImHAcQGQBfgsq6yRuLBaySlvkJoGu90awBWQRMKRjgmRKgugLrCEOBjER9k02AvwBwA+rl8HzdrWUlAbMpYfN+6R/63IliVZRZIWb09XDMNKMazrw78bpMFYpjw7d7OyxYAzQD5HUxejhc7cG5RGtjc+02P2ZpSDTE6LjZB7p/TRRBwwwCRTIJgRwhggyGKDevAvwBSJAucnzTSgl37CFo5zZiRGyR8O7yqnDklvrDcM8Ner8tSaDDaZ/gDksyiBeab/KF+syJbXft6uLhX0eV5pjTLhBs4DRUNCUZzwlxAZ2SlCnsbLOd63Ptd4S5//+hJtZ4I6WOwruFTYQhrkjsNtcuy49hNsxty8ePFifRYZQ8CekUh4uqB25Vl09RgSh7C4D8TivLk6nXXWWUqUPPzww/oxAYPMWXgD+7q0BICRSFx22WUqZbFK5S699FJ95mCBKRdffLGywshGrAWgDLB++umnfV3lg+p8QQB8UA1n+2kM7A8TbKCKVRYAc4AswNFii4kVZiHQW2uOfQBrxguHSaq1AsOGRgxfTFeDwlztb3dBuKvnbe44GOAnZ6+XuNAakboa9bitqqySmLh42VVWJxcd0U3OO2x/ZrW5cwGsSNwA2HAWtQ+7ef30ZbJ0R5HacOFAANDDoSBEGuT3g+NkYFSxMpnIUbhvfsuuk3cWbFdHgrKqOk0yQYHd4xyTBqbJlUf3UFeDN+dnycdLd2vAE0kiqrDVyy2Roso6uwY3LMzuBtFgZ1oTo2wKfgny0rTDBOSV1yozDDhEXjGDrqsAACAASURBVIDsgrohYyBrHNv+jgVpxDNzNsvGvDIF7fQJzDrn6JYSo0wrwXYw0385rqecNnSfc8OV/1kqv2wu0FPSf7CrHGsAMLIBro1shfMkRocrsOcYNMLJsTaZfukIibPZnVRgqtjKBUS9Nn+HvLd4tzLggHvDLiPDMAFpfdNjVfrA+QsqalS/jLuEAe58781ftsvc9Xu0/wHCfTrEaJAcemxT0CM/MmuTLNtZLLbQULGFh8juwgrJKavRYEH+38hs20LlH4dHSnxdiWpLTVY1TxJTNHdP/t+na+S7dfmSGBPeyMwDiAH7R2dGyXl9Q2TUqFHePEI+/y6giUU0i3ATDIYsgr8xNwE+/aF/daUh7JAhEfM2RsKVazV3DI4d55xzjjpB+Lu0BICRMSB/gK23FkD5bbfdpgsXWGRcPCB5SNtsLaeeeqrOa8jtgqXlHggC4ODd4ZceCBQAZtJGFoDkwZksAEN6ElwEKriipY4lExyAtqUsQ1Z/YuylkEugifPlNiUgnP5iAvZngb1etGKtPPpTrhTVhUuvtASJiYqQ3dk5UlAXIbFRESotGNY1UfqmxzUCIcc6wXh+szpH2U7AI4kvxvVO1S17A56s3+H+W5xVKLd+skqBHuDQzmSiQW2QbQUVcmyfVPl/U/proBBADmkJuwXV0R1kVladfLe+QGUAbMdjq4YTAWFWFxzWVc4a2Ulu+Xi1YFWWER+h+krs2+pCbZJTGaa+sjCfbPkDLmFcAZIxkWESERainwMoOScFcA7LzPVgg5ERnD68o1xxdNPxoe4Pz9oo8zbuUSCJhlmzzIWHSrVqeUmgEalaYAL8rp3QFABf/d9l8tPGPdoXsKuOBQA8KjNR9bjQ1rCnHAuDDeiHlb1kZLJ0qsvWFzDPEkCFegGSP1i8W16Zv0PBny00RMF0XFS4ZuHjHEgkjuiRpGPGmOLXfN2EnjIwo6kDCZ+heYYBd8yqZ+rM4mTGqlz5eXOBSjY6RouEVxZIdkiy/LKlSAH8xP6p8sdx3TStMuMDoCA4DHDgq6xqLEhu/ni1LjgYa/qLWw3m/foxsRJZV+4TT1tfPqfN6WzxKDeWaiZ5BHME4xsopxwWhQBgNLfe7nJ50l/cx8RG3HrrrSo18HdpCQAjw8AvnpTQ1oI7BZ8RFEf/8A5BqvH88883Oe7CCy8U3DTQMgdLEAAH74E26AFeMv4qAA48b5mwYSvYMnO2vcm2H6ywP+11XGkv9UB/57ilRuAgbC+sr7/9if29GLCmYAbsV8R1lncW5yljScBSYUmFhISFSeekGEmKiVBGl9S+00Z31fS+1gLb98L3m2X5zmJ1ZIAphUUFkBEMNnV4p8bDeYHxw4uUpB8PfbNBE0nYwprqM6kHAPKlC0eoPALd667CcpHqckmqL5IvNlTJ5rIw6ZIYIYVVotv5dqa0Qf1p/3lKP3nt521iq6+WhppKaQgNl6LacCmvFSmusDO8sMCGjYXNNAZdSTFhqkXFeqyqFohpDwRDCsEiB9CMQwIyCK5DAUAC9gCvK3cVq29tv/Q4Bb+AYDsArpeo8DDplx4jW/dU6nl6p8Wovd2ZwztpUpC3f8lSAN0c+DWdiF0YC43EGDsTDJNLfRMjRbbmlcmEzg1y8VG9lD0EGFm9hYsqquWvH65Rxwj6PdoWLpv3VKjUwxYeqpKEw3ok6YKEviS7HVKP4/vvs8Nz5RmyHsN5qOOePLvuH0mGSVnd3LmsWdVY9OAGA+sJ2GvJb9pZndgxwLP5162FutAhAcfUoR0lb8cWZeuGDh3q7BQB/ZznHykYO2KOxZo8wto/9JGzOdbbRjha63l7Pne/T9u7deumLg1nnnmmS18HjLKoclbY8XNMVNIaAGaXDucia3nppZfkiiuu0CBGxgIAPGnSpP30yQTWAZ5Z6ARLEAAH74E26AEmMyYUXxZYHIAvjB1sLuxoYqJr/qfopgAYbR357FgPAATtoV0UWDXHJBa+7EPOxcTIBEr/+bIQXENmPZKMOLLXJKLABxhrr59Wb5fkuGgZRuYzPHrLa1SaAKP7hyMzm7Dd363NVeCG1ZdVE7ttT7kCs5sn91UNrEoN6ur0X36WbC+WO75Yq0AZr1hTDAN8TO8UmTI0Qz5bvltyiqt0+xoWFSC6JKtQpL5WKmoapDFfRojdUouC9VZceIMkRYh0To2XrOI6bQPMLZpVwGiI7sHbk1/w3/jUUgDFAEAYTEhY2g9bGhNhTxhB+uWGhhAFhleN76GOEnd/uU4D8QCufA+WETYV5nRddple01itcY+T5Q0pAJJgjqVeN03qI5MGdJAzX1gguaXNy5M4nnTKADoYTOpaU1MrpaUlUlpRI+Vik+uP7yMnDdm36LDeP6WVNXLt9OUqy8iIt3smb0OaUFKtTDx17N8xVusOE75DLdAyNQ23t4WtfJ4hAoBcLdyvgDwADECGZ8JIJHwhAVi7dq0GnJkAJVfr5e/jCJQCkNHW1orJOkf/IDNjgWD0wr6SkFivz47R/PnzdRHjj/M761d233ivwL5SB1cKNmVoc50ViA/H7HZBCYSzXvPv50EJhH/795A+uy8BMCwKzCh+vkY+4K5GjBUxAHrkyJFtOi5sTdE3BFpYbdrQcqFPDoQ/MRpA2AhfBXYYr2VSMFN/awpmx85+a/42+XTBBhnUKUGSk5IaP95dXKnA97rjekvnJHuwEwX2F+YTHS6MJ4AO4Ms2/+6SajmqV7IGUg3vSrIIu/WV2l81NMj1762QlbtK1FoLnSxsIeAOoPfn8T3VOiy3tEq3yGHuAMf47BLYBjOLzZZJZ2z/d29EmIhEhpFpzCZ90mJky56KRss0tu8NUOYrsLkwvABktvw5g92dDI+CBq0rkgDaBOAEzHL8s+fas8/dP2OdzFqTp/IG6k3GMYA69WFR0Cs1Vrbk29Mk833YZgL4APK0iePKq+uVOf/gT2Pkue+3aLY2xwIIR/RwRI8UdZ1gwZJkq5PaqkoJCY+Qwtpw6ZEaKw+cMVABbEvlSQ1ky5HuqdESHkJ7qmVjbrmCcoqxpgMQD+kUJ/86Y6AuErwtgDQWX2PHjvXoVIAvI5HwlQSAZ53x9dVz5lHDmvkSAI+dMHcccYyEhD5iPjZZ5wCMvpqz/JE62p0+YxHF3MW4BWLMWguCu/zyyzVZSTAIzp0RdO/YIAB2r7+CR7vRA6ymAUbeFF5EsIkE3MA+MDl5qoeFHULv2dbpP2GFiO6loLszNm2+YJxc7etly5bp9rW3bLjVa5nxhr1mC7E1zeCDX6+T5Zt2Sq+0uCYAmCxasMBXju8hQzrvC/56fNYGTRRRWVunGlm7q0KDgr3oiFB1BgAcHtUrRc4e1VnCLd63bLEDIGFRNUmYoLENl1OGdFTfW/xw8bo11l0cAWCcuTq30SMX0Ml37eSvXbJAIVUw1wJYk9iBcwB2AJI4ExBgxn8DPMmAhiYYaQCgNCMhQtlfAsb4Lm2CCYYi5e/H9k2VR88arI4UV/1nqTonwHJTkG8A4pFkRIWHyOhuyZp4g3pSFyzVYiPscgpT6DfSD58zqrOmU16UVaQfcQSBZvZAtQaVZJw3prN0j6qW6UtypLQ2VGwRERIRHi6dkiLl6mN6OE0JTSrjB79ZL9vyK/Yy9g2yIdeeEAPcz/XoY3oyPS5CXrlwmLo8eFtI7csCmYQB3hQjAQBQE1sQHh7eKJFw1yUBeyqYTF/vtHjTPr7rTaAZ/QNQNVnnuM8IIoVNRpfqTawC8yJ9duyxx3rbRI++j+SA+4dxD4RfvDMbNOzRrrrqKm0Lsj+Od7RBO++882TlypWNgB0GnUVg0AbN+S0QBMDO+yh4hIc94A0ANlvpMDowlQBftL7eTK4mah3j/rYqJK8AfMKmABQBjI66sEDUDYaD8YGF9rSYTHSAeCZmtlQBC87Kiz9sllnLtkr/9FhJSU5uPBwQB8i95the0rNDbOPfr3xnsfy4YY9umQOeAMqARAApnronDOwgpVX1Kg/ALQDW1FqQDMxdny8AM1jkI3smy5DO8TJnXb7897cdMqBj7H73FQF0a3PKpKTSzloaTwG7NZjdFQEnhFBpkA7RobKnGqlDpHROjtY6zdtUoB7DAFpkG4BjAGgERsCaYMLOOG/ZU64JGwDldXX45tar7++dp/ZTtpUAq+vft0t30B5T0LsCgmGa6Qe0zLhLnDQoXeasy9O2wiY7FkC5OQd9rQFbe1MGA9LpP1uoyA3DRLolhEliRnfZXG5T6Qbg+8ieSepS4UpBV/3F8mzVVqNFJpEIV0PiQf1ZJOAtDFs9bVSGOkFo1jztH88KdlWAYF8ucJmHjEuCCTwC6AH4XFmw8qwjBSJGob0UXwaaITliHjBZ52irkUgQ5+Bu8UTG4u41Wjse3S32YcSvuDKXeXJt3kMEQlPw+CUdNWwv5eyzz248JYkw8CEmEQYkySOPPKLSNRYIjokwmMtJhMH9+re//U313cFEGM5HJwiAnfdR8AgPe4CHkQnSnWINBGMC4sXBw+wN8DXX5+VIkExbsAvWJBZolumbY445xp2u8emx3shBAAJ4LcOmEwjlLoj/dUuBPD1jmcRF2aRvF3vKY5hQbL1GZibJ1eN76hY+BZB39ou/ahCVcSMgLbAml4ABtYXKOSM7qYRgdXaZnDAwTc4d45qBPhnPXvlpm1p9Wbf0sbD6aWO+FJRVyZ6KOgvny/a9PZsZ8ooeKaRTrpOjMqMkK69E8strpUdylMTHx0luRYPM31KoUoXIsFAFzbCzcVFh0iE2QqYM6agOCaRsXptTqkAQaQBMNoCW9sPiDsqIl6fnbpKsgsomLCkgZnN+hbphXD2+u4J+/Hcfn71R3pi/Xa3ZANimwEbb0w/bgw1J24wsASBP4UgkHWf1Ejn/yB66OPPFtjZ9+fny3fLorI0Kvq3sPBIWIz95/YIh9nrsBcGeXJsAUvS8OAj4oyCRAOjBfAI4YAiNS0JL8xO6TyRbziwP/VHfls5J3ZFAwHS6y2i3Vk9AIwCWPmJRTIINgBoyC1fBJLEQLGS8ZfE97c/PPvtM0wrDAPvindNcPVrTDFtjZtj9bC4VsiNpQX9TZ7LLUWeTChlpSrC03gNBABy8Q/zWA+4AYF7oTHxoSCn+CATj5UgAGrYxgSqOSSzYCiWCFzlGWwBx024WAgBZd8ACLzW+BwDgxQYr78kLFODzxGe/yJo99dJgi1ZgC1iDtRyemaiShkGd4jUT2vqcUrn8zcXK9rJtjp0YoAoQat++D5UpQ9IV2K3JLtVgqkvHdnNpeAlMe/GHrbJsR5FqhAGkBG+t3r5H9bRxthCpCQmX3LLaRk0vJwabwyT37hCj2ceun9hLbdKm/7pNdhaUSn1NjZBYOSzcJqV1BH7ZtbWwvADcc0d3kfF9972cyqprZWdhlRDU99my3Zr1zC4RENXGkhVu+c4S7Sf8hvk7CwP67E9Hd5MzLC4YsNwXvLZQNb/UyS7fsDPLfI9EFx0T7Mwc/ZhTUikFpVUSFtIgtxyVKlOOHOjz4KMvV2TL/TPWa/uRWrB4KCir1jrW1NdLdHioZq277MguailnQABssPlxZUBh1mAjYdT8Wagfiz+AB9eDCW4pkURbpfVtrf3sPmGDyE6YJyyts76lf9iup38AxMztgGAWCywGWgOW7Pghg/D3GLbUBtwfSIUMQeAvAOys/4KfB64HggA4cH19yF0JNhcQ3FphcoSZBfhyLIFgvmKfHK+L/IA0myeeeKLfJzfYENpkgvYAvjAiFF4KbGMFEog79gUBhbAcrjAt1rYQkOGO80ZLY794yRLZXipSG5eu7O7S7cXqqQtjCmjrEBepbO6RvZJl2ksLlCEFDBJERjAZx8BqEiyG3RTgjnTEaFxPHJTu8rOGvdj7i3fKxpwy2VNSJtUV5Qp299TapF9GgoSFhsq6nFKVIpjANizHYGlhVAHq900doAAcsE5Q3Y6CcgmpqZSOYWUSWlUqy0ujpUyipGNyvJw6tKOM6Jq43/1HAoi7vlyrrGyP1GiVCgCCAcOIAnBkwAYOf10KrhYE/l10ROZ+PsgEoN3z1TrtM8AIQBnwCWjnvLDGPHcAIca2siFMIiOj5Nlzh0lXixaX76I1hnHHW9jKKLvcwXuz0l30+iKVk6TE4glcLeVkgxO7nhvbO/TcAzLi5MHTB6rDhnHz4DqGFXYmkSBWAKeCQAa5wqYaFwmTSMK4SMB6tmY35k4f+vJYwCn1Gj9+vMvMrKfX5z4D0LJoZrGA3MssFpBLOBaIAUgDEmG0RUFu8PXXX+sCIVgO/h4IAuCDf4zbrIWtAWBergBBGEVewmwRonNydavMk0YhQyAbHMDTFf2eJ9fghWiC9mBHmwva44UAM3TCCSd4cgmffMcVPTQLEtoCK0NbTEIOX1TApPIkCO+ZOZvk500F6miAPRiMJUkFyO51+dhuMmNVjny6LFtibKEK4gDAxlGA7XzS8u4sqpJuydHy52N7NAaLmXpyPuQO2SVV6iOMXIDzUDSILztHfly2Xr1+e3frLGVh8fLqz9tVi2uSbCAZ2JBTJgXl1WpXBjtNZjLkB/zeXFm6vUje+nmrbM0rkaqqamWB0xOiZOrwLnLaSLuHrikLthTIU3M2S0qsrYl+l/qtzS6Tkweny6lDOqqjBWVo5wTV/bZU0PjOXGUP5APUTh7QQe763zpNDpIeHSJVZJIKC1Nf7F0ltQrkHz9nsITvrdOibYXy/A9bZdXuEpU/E6R2ydhMtxYX1rq9Mm+bZs5j0VBVg6zELrsgIUiftNjGlMfX7c1cZ/UWNr8bMIw8ojmtMIs6nnFvdO3e3NvskBiJBM8OrCeAHH08WQbbSzFOC2Q8CyTLydxoJBKMEwFzjnpqmFfGe9CgQW3SXWRZ4z764osv2uT6wYsGtgeCADiw/X1IXY2JjEnPWnihwzwCfFnpw/YCfgPh+Yh1D9HPSA8c0yR7OzCAfUAlgBFwDfCF6WjuBcMLCIYBAOxN0I83dUZuQl2b0yEzbugpYbCdtcXTOhC1DEhI6NJHHp21QfWvxstXE1k0NKikYULfVHV2uP2zNbJ8R4lqbgFP2IsBlrEvA8x2TYqWM0ZkaDY5A2zZ9gcAvjpvmyZcIBgLBrRTYqRccmSm9E4MUS0z42HuQ9q7NrtU7v1qnUoO0uL2gczK6lrZlF8hkwakydRhHRW4tQQgcHt4aOYGySoo14A+tScrK5eNOcVSX1sjAzpESFJigmSmp8hRfTsoyH3+hy3aHsfMdtiejeqWJLdM9jyQij79YsEGeebH7VJWI5ISFyk2W7gUltdqEpK/TOglE/cmowC4X/feCrVjg/VF98x4REeEyz9O7NMktbKr48/1SRTx3NzNKi9BCgHzi/SEMaEQODdlaEf5m0M7uR95vvjX6irjKJFoa/bQ9AV1RCIB6wk7zD0FAGY+aI71dLUPfXUcC3AWoBMmTPDVKd0+j+NiwWTlYwEBS9xWrhlXX321at/feOMNt9sU/MKB1wNBAHzgjdkBU2NHAMzEa7SnAA7kDoF0QOAl+s0336j2zVdpNh21ywTt8bJrDdiyBUm08cSJEwMC/Ju7YXjRYMdmfQkCUvg7Y0RfocM22b58fdNhN8SCpCG1pzLAnRLsPr0miQXoc2t+uVqU/fOU/ip3IP0v9l2AzsO7J6qWFZAGO8t2/+7iKpVEoH1FOrB1T7ks3VGswBcGk5TGBNvtLKyU+LBaOb1LhQzukaGBltYFEXV4/NtN8v36fGUoAdrYkKG77ZMeK7ef3E9lBK0VEn4QYIefMXUyBa/jXzYXqNtCZIhdotAhzibj+3SQ33ZVauCbNRMe9mWAd7KzXXhEpkfDABgD6LPgzA1Pl++22/uKRURGYqScPbKzJsgwYP78VxdqEhFrMfZlmSnRcsPEXpoqGT02UhBs2Pqm73PtaK2SJDR56adtyvbjA2yKSU4ydViG3Hh87xZPwfPGwsmRFeZ5AwCz4PbW2s+jTm7hS0Ti4xgB48kPAbCG9fTnbldrbQCUcz+4mujBl/3heC6jp2axADHCf5OMBI9iT7PyeVPfadOmqZ3YY4895s1pgt89QHogCIAPkIE6EKvJZEYkK9uAgCpexIBDgJWvGVhX+of6zJw5UwO/vI2QdfS/dUe7bJhoNHhtxQhZAwJV65mX1wiSYOTZtvXnCxrwzUIgoWs/eWz2RvXUTQZUNtgTQyAXgBUd2ytZE1a0VNbsLpVv1ti3+pE3AG7X5JSqbjY51qayBQouD91TIqW8vEJKyyulpC5M/nBEplxydPNgC3CHRRrSDMMcI7W44PCuqsd1VkjD/OYvWeq4YIAl7DUJPZBadCWBRVqslFdUydb8MokKqZWU6BDJq7ZJZmqcJMVGqN6X4Li0+Ai5eVIfl0GmqZsJWgRYmOeOBSdJLjbnVehhJKuAjTUFvfMZz9stmporEaEiIzITNWAQ5paFBymPAa6ju+1LatLaeN3y8Sqtg5Vdx6oOn+B/nNhXPZCdFQOAAcNm0QSoo7B97qudFbTZLBawtktxsuhprs5Wv10TGAbYY4FpvHOdBYY56wt3P/c2YYi713P1eMaSGA11hamsVABs9NSB2CGknpMnT5bTTjtNkEIEy8HfA0EAfPCPcZu1kEkMGyDAFhMZTJsnrgG+bMC3336raUnxFPakOIJFgCI/7miKmehnzZqlKVthO9qiGB0ynqkABwIEA8nKsyBiYTR8xAh5YvZGWZRVLD1TYyQ60p6tbXdRlWqBLxvXTQ7vsc8r2NpXuBi8s2C7Bqj1TYtVacS3a/NkW0GF6oVhb7fkV0hCVJgUlldLaEODYI8bHm6T8poGGd0tUR47e0jjFnxz40AQWHZxldqXoTF2VTP529ZCefHHrco6G09eGOll20lAEaLMNo4QFFwx2P4f3z1KNmcXy8aCGimsCZWa+hAJCwvV6146LlOt01y5PotOdIzIXEzQoqtsGmPx4k/bWrwl0e2eMChNeu31aWasWGTAsF87oWejtrqlE/D8PPndJvlqZY7qfmNsYer9TBnbM0Wum9hTthfYmXBYZVfaC7DkfmIRxxxjPFLZynYWONdSPQHjz8zdIh8u3rU3YE9kfJ8UuWVyb2WvXSm09bvvvpNRo0ap+4EpRiJhXCRMYBhzZCCIAQJzubYv/ZJd6Q9XjkEaxnxKfxk9NTEiEBaMK1IJXy1uHOvDeEGO3HjjjY3JJ1ypc/CYA7cHggD4wB27dl9zJnpS7gKs2groOXYSW5KwtV27dnW7/wCJgEWAmyf+t+aCTLREGuPAYJwh3K6Ml1/AeQOTfgovXjTLgWCjjcUV+mNAGvdGfUyKvLs4Vzbnl0l1rd2XFseHY/qkyFkjOysghuFlyz49IbKRsQQ0kiEOazBcDghQI2UwklLcJABrJIwIkzrVvQKGcDMICwtRJwKC1648prvHgV2tDQFSi0dmbVQ9MeAQQEdA2epdpeoYkRRtT1RBggyYxZ1Flap/ndg3Vf76/grJKa0Sm9gBe21DqMRG2eSPR/dQlwvHgvXZT5v2SF5JlYRWl0p6/R7pnhKlOkp3dzpu+mCFfLUqt9W769KxmSpXQZayo7BS9pRX67j99bieclgLixXrCfkeemDcKlhgwNwf2y9VFxoAY1hXtMe902Lkb5P6KOPcXDEBp+jVeY769++vANLohc295om38E0frpJZa/N0UWVPXWIP2kOnPv2ykS6xwdRj7ty5cthhh7U4/7FYMYFhAHmAn5FIeOKF7Mq0QFAru3EA8/ZWHFM0M4bMt0ZPzVhCXtBHvFNcWSC52kauxbvh3//+t5xzzjmufi143AHcA0EAfAAP3oFQdSZ48yJqD/WFYWDyhGVwtaDdA/iylUxSDlgmb8EiWuQRI0ZopHggC6w8WknYQcqRRx7ZhJ3yZ124D4y9FSw4IBzje7SpMYmpsic0SUoaIhRcDe4Urwzg8h3FMndDvjLCFADs0b1TZGRmoqbXfW/hDvUN5jtodGevzVVv4MqqGpHaKtlT2SAVdaTeFWV6OyZESFk1FlyizgeA08vHdXMJ0LjbNwD0t3+1M9SAOiQNpGQOJ7rO/n8t1AsgfOUxPSRrT4V8smy3dAaoh4aoprWyqkpyy+skNTpMHpnSXXp369K44zBrTa68MT9LsosqVG5E6ZgQLX8c30smD3TdDs607bbPVsvHS3a32FTs56aN7iy1dQ3y65bCxpTP9C8BfATqjenuXArBBVjYkNWPsSPoEA9kCn2BVzCgmuQZL184XHqn7dMYs7DmvjFBmsadpGnqZ3vAnLnfzBzkirfwyp0lcsEbS3TesgYkUl/aec347nLl0d2d3g7uJpxgnrF65xqJBLphXwI9+g2w3VZuGS11HP2NZIR5sTligLFkDgYMA+C9zTrnWA/Oz4Jx9uzZbRog6PTGCh7gsx4IAmCfdWXwRM31QHsDwKSghGWB8XRWAGZsrfJS4mXEd3zFZLM1SrCF2a51VhdvPzdsGewPbYB5JRI8EIF4VuDL77zMzQ//jQsDgBwmDCkJiww0q5sKamX6wh2CpRdZzsCNOcXVkhQTrkxo99QYefuX7RrYBpuLlGDGyt2yq6BMpL5euqVGSUx0rCzYVqiJIMgaFxUepgCrX8c4GdI5TnYVVcuFh3dVD1p/FIDvih3Fkl9eIzsLKuXFeVukuqZBA+tI60wmNlIN42Tx0vnD1b+X7GgZe5NVmDqVVFZLcXm1nN+nXnrF1dnTgsd1kPtmbZOconJJjqiXuNgYiYyKVlYW/fMDpw9s0aKtpbb+uCFfrvzPMmU8myv0HUw12fwKK2olLiJM9bzw7WS7y0yKlod+N0jHq7UCC4y+mrqi9376u83aF7Gko9tbCAAsqaqTs0Z20sBDCtId9ONsi7uaLKc5F4nWvIVf+HGrPDt3qyCNdgSeyHKGdo6Xty8Z6fR2oY7YLo4dO9YtrwGhjAAAIABJREFUaYPxzmXeob0kq2CeYOHui8QVLOaZl9tTsCCdyaKYHTqkGc4kO/QtQJg+Yp4GMNM/EAqeMuf0NfEP7IwNHTrU6fgGDzjweyAIgA/8MWzXLQB4Wa2L2rqySDIIqGjNZxKWFJYEUMbECsNk1fD5og1s9THZeiLFcOf61tTSgEvaAnjiBeKKJRwSgk+X7lLAQ0GPe/rwTo361dbqYoKTjH2VFfg29z3uFV5qsHtFxSUyryBWtlfaZFhmSqPuj3MiK8AH909HdxcA29wNe1TmUF9eLOtzSmRrmU0iI2wysFO8Og3gHFFeXSudEqIUGHZLjtGMaICrwvIaueiIrk0YRnf6151j/7Ngu3rhkswD5tO+rR4iEeEhKgO4eXIfeenHrc0CYALxyBh395T+CoDZ9v9ydYHM3hkqnWJD1VIt3GbT6pDcg6QgBG7hWoF/MJnWjMevszH7/csLZcVev2GOtTLVBO/BWOPTDGhHlgJbiysGshXcN8hOh3SlpbIuu1Ru+2yNnoMkGzCrVTX1qpWOJsrOUmDNueZ//zDEvguTly8N8R2lY+cu0rdjgspJXC2uegvjf/zc994DYIDZ/Pnz1W3B0yAugKoBeia9sLdAb9WqVQrsWYC3p8K8O2/ePLcy1DEfWJlz/huyggWDu8GFkB1koGNnij4OloO/B4IA+OAf4zZtYXsDwPjPAgqbyzREXdGl4ucLA2E0lL7cfjSDwUQP0+mOFMOdgeRFAJBE7sDvjmwZbWWrj5dzS2zL5rwyufWTVbqFD/tKAfAQwPXAmYNbdENwB/gCsEl0sWpXiWp7yfyGz25eQZE88vVaKS2rkOSoEGWt+bFFRCjAo2gK4rAG+XT+Glm4OU/qwiKlQ0qSSBgpje0gMwS7sbBQlR8gqcANgqL2YrllmuzisrHdWg2Ec6ffrccSpEe/GbuvF37YIl+vytV+g+UF9Nkzs9kkq6BSE01syi2Tj5buVls48z36k0QfyDf+/fvBkrNjm2YY/Ck/Wn7YUSfpUfVSV18vETab7KkJk6zCag0gZPselhkPYvr0ntMG7Ocx3FzbdhVVyFX/Xa42dHUNoj7AML8EvpFo5M3522VxVpGytZwbH2GC/dDtokfGEYKAuOYKIP6CVxdpoBtgl/aXVtbqYoRbjEQgVtkB7HjnuFC5YVCV7G5IkNk7w2RncbU9g1y0TU4fniHnjeniUrus9bGywuZ+5XMkEit2lcklby9rUQJx9THdhR9nxZcZ1wzQAwzzw38bLSyWju7MUez8wCS7sgvmrI2+/Nzb/mJMCYSkf2BznWWdc6w7ixW82QHigbTn9GUfBs/lXg8EAbB7/RU82s0eYFsLwNleirHfsuaaN0ksAL8wNYYldeel4m77SEVKhD56Yl8WXozo5GDLmMhbyrDHywJLOLZn0RhaC1ICvGcf/ma9uhYQeBYXEa5UIKCOgLRJA9Ll7qlNGSRH4GsARUv9uHp3idz95TrZUVRpt7Kqb5DQsFDNsHbT8b3kvYU7lblNCK+VkuIS1cJGRUVKVWi0xMVEy9n9IiV/1zZ9WXXq1ktCouMlIjxMdcJsp+cUV0loaIgGnKEvXbajRNlGgDaMKseRmnhghvtOHMgyyEhHIgcC8KyFlMiz1+RpIg80s8O7Jsjx/dPk162F8s6v29XtwuqBS9KMgopqTUZBnf7vk9Wyo7BC2U3AIJ/Dtp7RP1b6hdvTyQJe5u+qE7br0QuHSL0UlZTLyjzAIbyyqHMFHsSkHabcf/oArYcrhYDCL5bnKPNPn6HrRfqAddkHi3bKv7/fImlxEVpHQDYF0M1iCUadFM3Nlc+X75Z7/7dOIm12KYr5HvcUoBb3jri9/VlVUyvl1fVyUvcwmTK6pzw0Z6fsKa9R+QiXBDQDwC8+MlP+cKRnHslc39FbmHvx5k/XyfcbCvYLgkuNi5D3Lh/l1Aea8/or45oBekYi4a4WFmcennkCvtpTIciYHTq8yb2dex2DC13xX/7yyy/V/QF9sb+cJtpTfwfrIhIEwMG7wK890N4AMCAXgIgDgzWJBRMuYBRWNhCT36JFi9QSjsh1XxWrSwVppXnBtbb1ihMFEeoAcVMAWwSWLdlepPICmFLAF6AExg1GM7+0WgHM25eO1uAxK/A1v9OHrb3EAFXXTV+uiSoAkYAnklqQKhd96MCO8dItJUoBz4AMu5Shprpa9hQWqQSiX0K9HNclRHr0sLfT2ZihE162o1gA3YAqJBDDuiQqm+1OAag98e0m+WFDvtaZAK6TBqXLNRN6SGxEuBBA9dJPW9WPGGaUdpZW1SnoPWd0Z3l9XpaQDIPMdWiS+QwHCDTId5zST88HgH7zl+2ybHuxfh8GfERipYxKrW9yj+Kg8I9PVum1SLiRW1otZI0DtZHROCasQQMC6ZvS6gY5aXC63H+699ve1PdvH67UscESDJBOPTXBSFS43Dd1YIuSEvoO3TY6buv9wX0HS8+CgUQmLMIAxJ0TIuT1i0fJcz9sVYcPwD6LGgr3WnZJtbLPr/1hhCRE2dl9T4tVIlFeVSNPf79NPlueo0lQqCue1P93Qm8NnHSlGEBHymF/FUctLM8y2/fYhbWkhf3tt99UJkAcQHsqzMukQm4uO6U39YRZNsy5SVGNRIK+st6Db731ljz66KO6a+YtAPemvsHvBq4HggA4cH19SF4JdpVJp70UtJNIHJAEoPmibu4ksfBVOwi04AWFJ7G3hQkexhe/ZQA87KArfqJ4ERMJbnWieH/hDpm9JlfiIsPk+w35WjW2tpE+sFUPECZpAXTwyxeOkK7JdtspwIgyU2W1UlpVqx68BHI5pvU1bSWBxQ0frFCLKY4FWFbVNghJ02BnSbvbn+xiISIRYSESHxUh1VWVkl1QIim2Wjl9ULKkRtarfzFbwCbVrD+Td9Cuy99aIhtyy5R5hPnEqQAt77heyfLY2YPl0VkbZeG2IiFphmk7gH5DTrkCUNhgAOCu4iqprq2TmIhwBeFXHN1d/120rUhZVxjmCKmTlPpCCautkOyQJKkKi5UOcZF6LVwweEkjRYCNBVQDgIsrarVuAFEIVsamrq5eymobZERGpDx1zhDtL29f8FiYvf5zltbTBMyhAUaOcOaIlvWTpKV+7vstdhZ3L5DlnrDfOzUSFWb/HSZ/4oB0uWp8T01dfebzC/S+AuxaC/cKgYb/OmOQ+jrnUR92QUqqtY/RFY/omqALC3eKkUiUVNQoG88ugso8Qu0LCmcLLq7Fdjx6WxLe+Ls4amG5HhIJgJ7jeJNsgtgDnpn2VPydoIMxZb4w/svMFfQPiwH66Mknn5RPP/1UCJQOlkOjB4IA+NAY5zZrZXsCwLwkAIo4IfACQ3+LRMCfoKmljkeLDPj2xoqooqJC2Qq0voBYpBvuuFQ4OlFgI/bktxvVVQHw+umyXVJUXqtgmMAtmOD0uAgFFoA17KlsoYBje7T+/M0FavMFw8r2dqekSE1u0JwjwIItBXLrp2tUR0rSAbKjRdns7hBod2F8sTurrquXvqkRsjYrVyUdg7skyZTD+krP9ATtWgKNaD+BK9xrvPR5sfvaOgrw9a+v18tny7KVpaR9gCpAMCCM8s+T+6m/LZ87AjUCvuKjbPLAGQOV4V6SVawWYsgIAMXIMvA0RiNM0o76mmopr67RezM0HGYzRAEj0g6YeHS2547prP3FggRLMhh7rq9uFxbAh2VZSVWNnNQzQiZ2KFPNNwslmEJPg7NoLzIZFklostkJYLywlmutYA33h9cXK2hNjLazwACTYhZVDfXylzFxcsKYAZKcECuR4XbQCrt89ou/qc+z473EuLAIuWRsV5m7fo+wsCqtrtW+wqGCjHUA6D+O6+6yPZtj/VtLv9xaoo22SjnMcwD4BugZuzDGGrCHfAZnCgiAQDnQuPryQdcOU8uulL8LMRCMD9d78cUXhR05ggIhE7Co9GVhPGCWkViwIGLex2XizjvvlOOPP36/Sz3yyCPyzDPPaN047uGHH97Plo3Av5tvvlk++OADDWjGzefpp58Wdv6CxfUeCAJg1/sqeKQHPcDLg8mmrQsvAsAvujwKOrO2DHRoTovsah+hbyORBEw2zAXA1ypjcPU8WA7xIjRMEEFvz83drMCE7eSVu4pl4dZCZX/Zdg4LCZEIW6j+e8VRRPpnKIDBBWDmqlxZtbtUAR3sIyCWFLLdUmPk1MHp+0XrE/x2xTtLFfwC0Mprau2grQFtZ61qYY/pnSSrs/JlbEq5HNYrTfr07i2JCc0DLKOLBAzz8gfk0S5e/O5k6Wuu7wBZMLv/W5ktpZV1ao9VV49FFgFuIQo42SbHmo0gtuIq0vPa3RMAhoBhGG7ahzVZc84FBAGiuS4tK5eYhiqJiIwQW1SsLMgq1XONyEzY67pgD4iLCg+V20/p10S/jD77/FcXyqb8cv0cUA1gLq+pU8b1jYtHSseY0Eb/ZV6csF+AYfxPvWWFXbnvWGT945PV8vOmPSpxoA/ZBcDM4ZRBHeTOqUN0x8GxkC77o8W7NO2y0U8DjHGdgHlGSsJ9g3SCNlNgwrunROvijQUdQYDuSl6s9TBuJq56C/ub0XSlv1k0mu1/FouMMywoLjiMfXsqyNOYn0eOdG4x58t6A0pfeeUV+eijj7Rvpk6dKhdffLGccsopXi0QTR0B1TDunJNUy8xHr7/+ukyfPl0+++wzmTJlSmNzAL+33nqr3H///Zqo5KWXXpJPPvlEiBmxWrPxHUA7wJp3wB133CHFxcVq4ebK7p8v++9APlcQAB/Io3cA1L2tATCTAsAXUAQgYtInCIRoX1e2Mf3VxdisEansTjpSa7Ae4B3gS3s8BS4//vij6gCNFjCvtEqe+naTMpSk6YXZZYsdzS3aXAAFbNppQzsK2cDC9up8SfH75fJsBVkwbqYAbmE+TxiYLoM77w9cYVT/tzJHt+ixwwK04ddLgNOQ9AiJqC2XsvpwufLY3jJugOvbtbz0DSvMYoE+YuyxtPOkrz5ZukuTTcBSo7tVZNuwLzsYbCN9hcYXb9vskioJDxGBFybpBdIRgtGO6Zsq1x/Xa7868Iw8O3OFfLg8XzpEiaQmxktkZISsyy1XXW2INEhGYpS6MAC4AX6b8srl96O7aACYtaDdvu3T1br4AAcyZgBw2Olxvfdpvakvi0KYc5gwmGCAMD/+eoECfv8yfbm6bwBUSYVMHWnTBYd1lZsm924W/NI+7qO/fbRK01zDvnOPENwXHxmmC4vt6I8jw1SXrKysNOj5WYwNyoiTrMJKvYY3wXKOYNhknLPaPFrTL3MPYqVIvEFbF8abuZDxBphTT+Mt7OuMap62ta39ic877zx9Dtg9ev/99/U5ePDBB+Wyyy7ztEn6Pe4T+t6a3IPxIO0y4JWdOAoLUnawrrjiCnnooYcavwvwxbXo3Xff1b8hYSGBEYwyIJ2CtA8yAxaYQL5gca0HggDYtX4KHuVhD/CgmwxVHp7Co6/hmYnGF/aDSQVdLKwgf8eDNxAJIFqrODIMXkbjxo1z2j6T+Qq5A4W2+CJYzzErHmP13wXbZe76fA0SgwUGbAFwAWJjeybJOSM7ScfE6CYgjuCymaty1GbMEWACno/qldIEfJkGF1fWyIMzN8i8jXsUXEpIg0SGhkjX2AbplRgixSFx0iM9QUGjO36v5vy0h0UGQIQAG6yfAML0nWH/2b4nEA/Q3z0lRoPRHBlIXBnWZJfotjqpjE1aXIhK8zvXHNYlQdP5wkQC/sHJJnsYIPThMwc1SRVsHDvmLF4rb62ulV0VIRKz19cW8FZTW6/ngQGOighTdh0LNQAjOmT8fa85dp/d2Hdr8+STpbslp6RSiipr9frdUmLk1hP7SGZKTIv3GTs0gCLuR7ZW2U2gn5wlFUCe8vPGPardJQscWtvWFhjsLrz28zaJDK2XMGmQ8HCbhIWHSUF5rS6s3vvjmFa1utyHyETmbSrQAETut4n9Oig7zy4E3hcEUtI/FJhgfkMvDVNMENudp3oXdMp9whgDwkmL3Jq3MP3JfQfQaS/FpGdG+kWKYRhPgnGNRMIbSYy3bYSJhZQYMGCAt6fy6Psnn3yyEiOwqbwnYITpJ6wi/VEuv/xygYRgN5ACEOa9BLNrZcHvuusuZXphx3m+kE489dRTuoC1Pm8EW/KO+/zzz/1R3YPynEEAfFAOa/tpVKABsDWJBS9ywKI1iQVg/Ntvv9VIYyb+tiowQ2z5tRYgQ98ZHSHsAMF6aLw8zXTk2Fa21dgShTkwBZbu3d+2C8kKkDGQ44uECqMzE+X0EZ0adZnWc+GsMGNljm4vW+29AH/oRCf0TW0C/KzfRfv5wNfrZc66XCmvqld5QUJ0mHRJilWP3tOHZbT4XXfGjv4D5AGG0U4nJKfKqrJY+SmrXME3gAq2cGiXBE1za/yCucb17y1X3TMaaALcONZs0gOA0fzyWXR4qLKtu0uqGnXBfB8nDYL6/jqxl5w7xs5km52JrTmF8l1+vGwqalD2EhaTDGsA38hwe5AdMDsxOkJBHmmfYZRhPEnhjA8uzg+/bCmQz5ZmS1VdnfRIiVE2Hg9dmODDeybJjce3zK42GY/iYu0jFo68XGEJAcOO2nIkDCSzgBE3fcDi4dHfDdbASMdC/5/5wq+yu6RGkqLCxGaLkJC9QXBozmnnI78b1OxCyfFcSD1q6uslxhamDhrnv7pIFxosXEhswkKFxYkBwGisAcAnDkqXmybtu9fduX94Fj9cvEumL9ypchauxXmvPKZ7owzF6i0M0ITRpN2k9nU1cM6dOnlyLPMfoAsGEfs05kueC8ab35kPAMP8G+gdMrbvqZOvrSFd6SfGlz7585//LNdee60rX/HqGO4VAqBxAULiQHnuuefkmmuu0bgG6y4MbPS0adPU+xspBb/D+OJbbC18F2cfQ5R4VcFD5MtBAHyIDHRbNpOXgL+LVRdrklhgBeRYWvO/9XcdrefnhbN69WppySKJ1T3MAIycsTTzVsvq2L6FCxcqsEFKYQovAgDJ8h1FsqOgQgFpn7Q46ZMe16KjAxZWny7dLXvKqxUEGwYVcIJeGK9dgJtj4Vr3frFS5qzLk3CpF1uETcrrQqWsqk6Dnf5+Qh85uk+qT4dlS16ZvPXzZpmzLl/yK+o0iK97coR0TY2T4sp6BaHHD+ignrymPDt3swJ8kjSszS7TwDxAmOp8Q0SZY/oJMEiAGnZeBA4ClCnVdQ0Kxo7smSw3TsiUgl3bFHSwM7GxNlk+WpYrXRIjZemOEvUWrqm1Z4kDOOPgCxBNibHplj5Bd4BtbNToH3TJy3eUyLIdRRqIiJ6WRQhaWQApwJJr/21yb+mb7nq6ZwAciy/AsHHagDkHEO8orpFpL//WKFehD2gqPz1To+XDKw5rXAiZTIRo1u9ZFCrldSGSHNs0TTKsanlVndzrhk+xGRuA7yVvLJbVu0slOSZcckvtixkcMOgvdg7IJMfi4abje3t8P5HBD3s7FibYtJEghEQmafER8vS0oU1s32B9eXYJduLZMlvfraVf9ulN3srJWPyx83PUUUc1iYHgWYRh5L5k3AG/JtGGO4G13rSD+Qjg7a/kQK3VjfYzVo8//rgghfB3wXHihhtu0GychgS577775J577tGFiLXg1oN2eOnSpSqF4HdIkBkzZjQ57vbbb1cQzbsjWFzrgSAAdq2fgkd50QOAUyYYfxReMgSD8YI1CQKYuFvbiiXKly2m5gCyP+rY3DnRJKNFZjKzFgCvpnzNzdXVPmwIW/f+KJjO02cmJSpjZA3wcZa62FonWGD0r9hisT0MUIBRhTkmiYLjeBAYMnvhGnlxYbFERNqkS2qChIXao/4BRCRUuODwrnLeYftrf6knmmSuY2WcnfUR57z9s9WqIwXkV1QDL+1gqXN0vYLusgabxERGyD1TB6rHLYW2PfLNRiFwjy12gB7kJbrlrolRCn5IeoGulWAsACEgDHcIE+gFgO0WHyrHpZXL4M72wEW0hmSH+3HjHk3+AXuJnASGkcIjA6jDEgzXBH5soaEysluistRIAXBhwDWCzGrmWnyXRQhs8mHdkyS3rFquGd/TJXa1uT6EkWI7nx/kDp9kRcnC3dXab3YduP1btJk6YAd3fP8OjbsXjBf38RO/FAoyDdJR8xX03nb2F1AZJtP/OFolG+6Wb9fmyd3/W6t9r9rgajyEYYRFkmJsmrRiQr8Ocu2EHi6lg3a8PlKdaS8vVBcKxtHcyywsWLCcMTxDbjupn26bA3wBIOjq2T4HqJjnysglOD/n4LNAs6zML9h8Abpacr8xix/AMDIJCAVYYeZVf0ok2tKejbFB8oOu1nFObu5+NIsFZ/cq94BjsPXcuXNVanH99dc3an05DwD43nvv1R0qa+F9xfEw5OiBqR9j99VXXzU57rbbbpPnn39eZV/B4loPBAGwa/0UPMqLHvAHAGbCYkuIYDJeIu4ksUBrhc6sLfO9w6ox4Z944ol266+KCtUsAzII2gIgtZSi2IuhaPJVUqJybbbiPAW+1hPC+MKw7tlrnYZelSh8K/g1EhXaubkmUT7dXCc9UuM0WMtaNuWVKXC2ajYBNWxDowPlWgBgklD86ejuLmXmemL2Rvlk2W5lo7HjgiEkFS9ANTYiVAakhElxeaWU1oTIVUekyaQRvXRLlsKWP5np0AsDVJVlTYiQTglRyvwifeiVGi2fLstWv9q95K8dyIoI0D4zQeSuk3vLmH6ZCtYWZRXJ/1Zky5rdJTIqM1HCwkKlqqZO5m8pUBacrXz+3jEhSkExUge23W87uZ/63D44c706PJB8AxcKgBbfsTOghM6JJm2ApfzrxN6qUfamLNpWIP+Zv0XmbCiU8lq75hbwy7VMICBs90VjMmRih1KVecDm8QPY+21rodz80UpNfawaZ0snGa3uv88btl9mPVfqPGtNrrw2b5sGu+EqgnyE5CBk+RvXK0WO6ZPi1mLJek3s5f7+yWoN0oy02bPXmQIATo62yeOTk3U+gsHk2W1OXmWVSFgD59zxFnalL1o7BkCLxpSdJ1cCQpmX2K0CDLOTB2nALoA/JBLYszGPA7QDXQC0mZmZAguN+4KzgovDpZde6uwwJTmQwJgCiGXxwbxPUJt1DIwEgj63kh5BCYTTbvb4gCAA9rjrgl90tQcIsrFO+K5+r7njeMkDntA5wf6iX4VtcYdJQQOHrIAJr60KTAwTPlpk9Fz8oFW2bpn6u254ETM2Q4YM0fFpjfEFJK7YCTtZrVvwQzrHN+vv21KdGSsC/2DrjURlaW6dZlUjE5xjooINuaVybN9UueWEvo2nfJIsYr9u1y19QBeAGJa0T3qsvHTB8Ca6Xcd6AAoveHWhFFTUqCUWlm+wyDCPnI/PR2Qm2pNGVFTKtN4iCQ2lun1t3EPIKLx0e7GC1s355cpyk2mtU0KkWqDhdHHuKwvVoYFioNJe0wjNDPf1X8ZqP771y3Z1iyBxBQwjCRsO75GkW/Zb88tlxa4SBVxH9EhWcImWFwnGpWO7qdcuPsrPzN0i9Q31smJnqUow7HphAHeDSk8otvBQOXlQulqmYYvmaYH9fGz2JmXBt+ZX6ALEtAuorQsY1d2KnJJZJxeN7qhgxtFRYubqHLnj8zVSXLkvPTq1wmaP8TxrZCe5a8q+ICg8jmG3yRzXJan1DGwmFTNtRIrTUhIWd/ugRQDcQFbEKokJq5d7x0WontPVXSVPvYXdrbvj8bCDK1askGOPPdatUzHvAp6NRMLqIuGrhTrMKHMR4DrQhXgMgCrzk78y5EHWEFDHjhvyBUc2PRgEF+hRD6ZCDnyPH4JX9AUANhHzyANYIbO1BLPkSRILmFe2uwgqa6uCBAAgzosEkADwpU6usDLe1pm+5IdJH+kIjA5yCyx5miskt0ADuWVPhTKUgBUSYpw2LEOOcaLRNemmuRZjRVCisW4DVN384SplUK1MMTIDdMWkFz6+f5pWCRusc17+TbfLYyPCGvsJuQQ+r9dN6CmXjG05tSvHESwFO4vUAakGoHKvYYAytoM62WUII7slaVristJS1cDy0mdc2DEADPPCBwjSL7DQaG1N0oZpLy6QNTmle23S7ECUYC/+hTUmCGvGqhxldGGiYaAJFOS/WVgA5tGWalBeZHij7zK+yARxwYpTYH2f+HajOk6gSyZbHqwq+mQj0eA4QPNLF4xQhpoMc3gI038wyQM6xrl8v32/Pl/e+iVLJQq0e94mu86QfuFeUjC8V3bw6KQUGTesb7MsKOM64fGfdPGgwWp7z8G5GCP6c84NR6nWGUu+L1eSirhOJR24OaBlxg4ukAUQ/vtXmkogWChVVlVJSbXI5L4J8sDZI91ahJv6G1kEC0TzXPKZv1jh7Oxs3WnyxtmAuqIT5rmAOUUjbCQSnsYp0A/oYUePHq3SoEAX0kPjwICMxez6+LIOsOjorpljAfrNzbXGBg0bs3/96196eXbm0P0ifXC0QUMCcdJJJ+lx7D7wPgvaoLk3akEG2L3+Ch7tQQ8wYfIge1pMEgu2VFmd86B7o0VjmwsQA2MT6GIAIQw20hAAIe0JJPA1hv78a2zC6GNePCalsHGaAFA9NmujAq7MlGhlKvlb1p4KZVzRVTYHSIyDhTXdNCDbkamHTX1nwXbVUhLVDzACYBMwdsPEXo3MMLKHh77ZoMc4MnsEnWHB9dofmjfQx9mCIKm3f83SgDGkGRCkOworFWhX1dYpk5uZFK3OE9dO6Cl90vaBLO5dgANgGBasuX7iPkLeccbzv2o6aJJj1IfAbYYo8xoWZs9wN7F/B1myvVivY2QfsNhZe8olv7xGhndJkFHdkpT5zUiMlB0FlQoGe6RGN3HgYAwemLFeNcNomtVTt94Ofk0SDtqI9+91x/WUV+dlKXAlsI5C8ohJA9Nk2ih7Njln5csV2So/ATQDztHd7iyudPBiBvakAAAgAElEQVRDFjl3WIpMyqhSYMSOBvcTW9rmfsK+7Xcv2FPNOo6jCRr88Iox8sIPW+XbdXkKkFk48BlMPQuBNy8eqRZkgSyv/7xNXpm3TaUmttB6qSOBi9it0J45d1iT+8XTerUkkbB6C3t6bvM9ds/YbcLxwBcFfbiRSDCfwYADhnHgcWdXztGdwhd1c+ccuCcgaeC+daferlwDwmbs2LEq13v77bf3k3hYx8IkwnjggQdUivHyyy+rHVtziTCQV1gTYVD3YCIMV0Zk3zFBAOxefwWP9qAHPAXAPNAAKEAaL1LkDr4w6WeS4KWC9jVQBUAIiILBhhGHweZ3Jj+rTZs/6mOYJcM2KVO3N4mFuR7MBy9HQB6fG1Z4S3GDPPf9FrXVslqDAaQI/Dp9eEc5Z1TTQDX0zYybcbBAbtISM8S1sBabvTZXNueV6zWO6p0ikwemqTzBFCQDZAPDXcHRpxcADHv7zqWjm3Qf58YXF5CNuwMANKe0WhNLkOgDVja3tFrB1ZAuCXLqkHS9dlpcy+CKfjJJNuhP+okfFhBsn76/xSYLcxsUGFnrCYsIkBvbM1mW7yxu4hpApTW5RW65XDW+h/r7ulIIznt13jZZuK1QpSmG+eW6KBKQleCVi2sBVm89OsQow2oyqNH+a47toYDbWflp4x5NBoKjAuctr6iUpdvyJaukTqrrybgWI9dM6CknDrTvYrDDYdhz0088w/W2aJn4xM8aMMiiw1r4G3303HlD5fr3VypYhxU3BQDMGF5xdHftp0CWmtpaeWn2Svl0Rb6U1IaKzRYuI7omqQ2as/TPntSTRZdJtGECiI2LhDc2iP5KN0wdee5hhQngZbfHJNpwxW4SII2tF8y0N+SGJ33Nd/773/9qEBoyLVcWhO5ch3My37dUrAHi/G5SIfO+gPklKYajWxBkkEmFzOIhmArZnREJAmDPeiv4LY96gIkcEOxqaSmJhavfd3YchutMGtbgBGff8eZzADxgF0CIbIPJEEA4c+ZMXeW7qhv0pA7uOjsAVoz9lYK66liZtSNUBndJ2s9/eF1OqRzePUn+vDcZgxk3XoBYZrFg8ZWDBQz0ZW8vkQb11N0HiozbwkVHdJUbjm/q8QqofvnHbcpYEwgG3Nq6p1LIeMc5YLOJ6sdL98wRnVrMQtZcv5t+QtpBu41EojI2Q/7+6Vq1QsMFA5BJoBqBWScPTld7si9W5EjfNFjofcwrwA4wft1xvVT7bArb/58vz5bZa/JUK4zc4szhndSvmIIU46PFO+U/C3aoqwKFRBCwx/3TY1UegdZ5YKd4XcSYwn3BZycMTJMrj3EOJrn247M3yabcUkkKrZbaqnKxRcdIUV2kdE2J0WQlyCwcC/3E/QAY5jkADL2zySbfby61Z2zb2wV25rpBTh7SUTO3Pfnd5hYXOyMzE+TViwKTLtfsZPD88nuvPn2lNpK01OFuaeA9eXb5jrvpl51dB8kTQNWVQC9n52rpc+Z6wBvMMCQG2/2wwkifWloIA+iQIZCi3tcMrCvtePbZZzU1MaxqsBw6PRBkgA+dsW6zlroKgNlCRhrAy5ItNGMV5euKw04yMfs7Q5NJdsCLn+1/R0BIQg5YaH9EPbsLfJvrY4Ddt8s2y5u/5UqcTSQ1IUalIzA0sIhrdpfKlKHpcubQNNUTM24EsBD85GvvUNpzwwcr1fZLvW5hMuvRvDaozpVtcWuQFMD49s/WyMpdxZqlzAo2CTKDaQa09esY14RldPVeM4sa7lnGVsHorl3K7mfVJclHG6qloKJO6uphYkNlQr9U1f+SSQ4mm/5jO596wWxSJ+r/0JmDGl0QAL//+GS1LNhSqMcAFvkewPrvJ/RVlpyCtveZOZslPgrLLbv1lwkqXLStSPXO43ol78e44ioxomui/OPEfYGGrYGa7xavk/cX75ai2nCJjIqWSNInJ0XKWSM7u+QwQV+xy7Bmyw55bFGN7K6wa4DtAuIQ6Z0WI69cNEIZewLu4iKwCWsqz2BhMaZborx04b7IelfHzN3jWLBia8ZcYXWzcPc8vjreSCSMY4t2HYuIvbs5rgBH5lfYVnSlgShcyyTa4NmwSiSszySLbXbmAMBtUe6++251x5g9e3ZbXD54zTbqgSAAbqOOP5Quy8TN5NdSgY0FQKFNM4kZ/BkJzJYUkzK6LH8UJn1Atkl2YNIwO17r+++/V1DM1rCvilXu4MzZwZVrAsIemrlBVu4okFRbrdTXVGnCiuL6SEmIiZLT+0RIaPEuDRxhwcLCxV+lrKpWHpm1UWauztVgOMBRv/RY+ccJfdWBwVoIZrvhgxUaWOWoF+UzNLP3Th2gemB3Clv7sIG8sAG+Vj26VVO9KydPdlZHSVxiihzev6v0TLcztgBYAgppA+mKCcKD/QQMk9ltbK99/ff+op3yxOxNEhEe0pgKmu/nl1Yr+/ju5aP17zhjkGbYBJYhHSGYrmtSpCzJKlGNM17FAGNTOM+67DI5bWjHVoMHuZ+4j7mfAVidu/eW3TWRmmUORhnpCMk/3Cnq5JKdJx8u2CK/bCvR847rlSS/H9tHUhLiNM3zha8tUpmENQW2CXhk4XLxkf5zcGE+Mgtxk0bdF9Ird/qotWNbS7/szFvYJOgIpPyLtjDmPDPcS3igwwQbiQRzB4wxfU6gWFuUv/71ryrbgQUOlkOnB4IA+NAZ6zZraUsA2FhjAUjZKrc6BPizsq6kIfbk+kTxEuiAzg77LABha/pebNAAUWhkvS2+Br7W+uBSgAMAQVTVNXVSVV0lkfVVMjylXkanh0qvXnZHDl9r51rqk9zSKrXiAoChcW3uuiSNuP69FZq4wiS0MOfDcYGEEg/9bpDL29hmbGG5cevgXm1J21hbXy+/bcqThRt2SXFxkXSMqJZRPdMks2tXXSAQhgYzu2BrgQJJUgcf3TtlPzB+1X+WyuKsYpVvWAtAF1u6u6b01wA7/IBxtABIk5wCKzKVQSRE6rmxU9u6p0J9cUmOAfgnlTIprvEHRlbRXGGrHMDEgg7ZDgGo3uhPm7sGC2NAEcwwjCv9w4LwpUVF6qkMy08QoEmyAZsPS+wu6Hbl+TIBqjzDzEcEyfpzQedKnZwd4663MNaHjCE+6G1VGHPjIsEuGUGl9Dfj76vgPHfbdvHFFysgx4s3WA6dHggC4ENnrNuspYAzWBVTmLRhe2F9YX8AE2hGAwWgYBt4ERA44ItigDz6OsOEstXnrD3YsXEcLLCnxRH4ch7HADdPz239HqwpwVabd+dLUX6udI6qkSHd0tQcH6DUkjOCL67tyjlghPP2ZqEz2bpe/mmrpmgGABvdMOCRjHDobG+e1NvpGLHdTHAbizRXWG5cJf79/RYNdMNyDUlCbLhI34R6OSKpVOJjovRe58eZPvr8VxdqYGCqg7YWOURReY3cckIfmb0mV72JScqRV1qjlmF8DshNjA6XO0/pLwMyYuXln7JkY16ZBpHhSEGg35kjMhpt5qx9TNQ6LDcgxQSfOmazcmVM3D0GMMQCA+0o0pHfSuJlzrZqKaysU0B//IA0+fP4Hi4vWty5PpIWwD7zFBIe2u3s+XXn/IE41hVvYWQG3Me0sT0UZFYsgBh3njWTfhkCIZD9P2XKFPVkJxNbsBw6PRAEwIfOWLdZSw0A1q3PnTt1O5XJGuBHMgpXtGu+rDwvOwIuSC/pzSRrzUYHqwKQJ9jD1XNix2YkH+62zxVnB3fP2drx2H8xbsaKDsbXBLRYnRGsDhK+1gE3Vz+28rHkwqcWP2HYwoEZcXLqkAx1P0AygVaZ5BC4I9QRyJQao9v+bKnzt34dYyUhquk2vtn6Z1uWwtjCEDkbW+yyPluWLR3ibMpSwvZSLwLRzh2VIaNT6/RlD6vK4geg1VJWLdL7frk8WwGw1VECkE383D2nDZAHZ27QADtszWgj6Z0J+gMI4zH84gXD1aEBGQRAeVeR3W8Y2zhHaQgLORZxAH52LmBAAzGGjuNqUvHST3n5BdIQGSe9u3WWnpmdWwyi8vReZxwA+2zLMxchafHUy9bTOvj6e615CwOAAZetuRL4uj6unI/njIU0UhOCJokzYC7lmfOHL69jnZBeXHbZZYIUIlgOnR4IAuBDZ6zbrKWACWQBACgCYZh82fb3JImFLxoBiJs3b57mVPdkS9eqi/Q0Gx3tWLJkiU70gwYNcrlZxjLHmrrYLCCcgTOXL2I5EHDLywk2kBdSa1Z0jg4SgWCF8af9aMkuTR6RHGtTUFtQVqO+rDgqYPv13bo8WbK9SLfRB2XEqysDEgTkEcRYdYiLlJMGpzdaeBnfaXe3/jnf/32yWr2FHWUXMLndU6PlgTMGqjMECwoAHrsRAC4YYcCwVWuKx++NH6zQ8yVE29Q3FwaXxB9H9rAn67jkzSWqh06JjVAADOMMWLa3LURevGCY0wxq3FPUha1/nodAJmVxdk8yBiya+WHrHIaQvvKWIbSCfRNw66uMZs7aFMjPrRIJ+pL05/QfchYTQBfI+rR0rTVr1igpwlzIOPNcwAwji2AeMS4S/nhncP+TnY3kExdddFF76I5gHQLUA0EAHKCOPpQvw8sGxwNeXt4msfBFP/IiIACNiGNn29DW6zFRmuh/gKGxNPN0UiYlKZO+qxHZvnB2cLX/TGAiemmjZ3aHDQwEK4y37t1frpP88qaZ5ACEpCMmPTGpda3ls2W7ZfpvOzSADtsuGOTs4mqJsYXKhWM6SnJVtrKBnmz9b8kvl//3xVqJtIXup1ElnW9VXZ1cNrabHNYjqdFrmJc9W/4AUKOBRReOzpiFDamDn/5us/oYo4fl3CTL+Ocp/bX+AO656/OU+S6tqlMAHBlOdjaRI3omy5PnDGmVtQbss/XPwpRnsy12ZFy5J7n3GReAMAwhzy1jBDBy9xk2QX2AfZO+2B+LR1faFYhjWCwj4eEHSzLabFhuX3gL+6INzIWQASy+rIXANOMiQTuwUmPM2aHw1ZiZXasPP/xQTj75ZF80J3iOA6QHggD4ABmoA72avGB9NWF52xeADuxuMF13lfXBCslE/wMSYEK91UXCeqC3HDmydU9TI3cwrC/9aH687QvH73MN9NlshZsUzd44cviTFV6SVSRPfrdJOsRHSGzEPo9b2rQpr0x6d4iVO0/dl+2PwLF/frZGM5j1tLg/1NbWyaodBdIlqlquHGMPXnT1vrD2Hzrpf3yySuUOpDmmAEQ355drfWBk0+IiVK6A3+15Y7o0ZkNjjAHALDgAxOq4sJcVlvBI+XlzgWqKadOQzvGNzxLSD1hiPICRRWAapsFwYSHyx6O6yV8mNJ/u23g2W8F+WyQg8OT+RXduAudoh5GS8G9rcipYd8A+3wHsw4IGWn7lSXs9/Q73FIsF2szvAF8AJL8bZtjMLVzDX+mXXak/u2GA85bS01Nfq4sEc6+RSHjr0AHI5lkjJuPwww93pbrBYw6SHggC4INkINt7MwCdTGLtoTDpk/ryiCOOUHaztWJNyoEerbXof3fbZnRvhx12WLNf9aezg+MFjT6bbXDANQDfHT2zK213ZIU5PyyeO8yy9TpLtwOAN6sPMEktrAWPWyzSYEpNgaG9+8u16pGLJRjsb1lpqZSWlklxTYgkJ8TJE+eO2O9crrTNHEPgHbKMjvGR6lKBc8a6nDLVHndJjFLWlqxsgOHLj+omU4dl7Hd6k0gAVrillMLmS89/v0UztIF8SdNLgc2mbd1TY+XVi0Y08TnmOST4FEnSgb71zz1L/xgpCYyuuaesDh3GXxzQDNAhAMzbxas790RbHMuzxgIbXa3ZqWpO7hWI9MuutJ+YDMA5ixJnhd0pI5EAvMIGG4mEJ5I2FvxDhgxRCVBLANxZnYKfH5g9EATAB+a4HXC1bk8AmM6bNWuWSg+YdJsrsEwAVBg5fyXlgGWF7XP0Iw5kgJvZWkafTZvRZ8Nwe/IicfWm9BUrDCN615drJbukShlds8NAABg2aeeO6aJZ3kzZXVwpd3y+Vurq6yU+vF4ZV9ofn5Ag+ZWiOtqHfzdIIsP3ZZpztU3mOFjgZ+ZullW7SpQJ3llYobZkZIDLTI5Wxpdr4kTRq0OsPDFtiFqZtVSsKYX5nuOiAb/c7YUVkpEQpRIJgu64Bmw3emG8jpFC0OdG5wvTy0LOFacSd9vfVsc3t2hgwQpYIqgPRh8GFD3pwVzoB+Opzs4NbXYliMwbb2Ff9CdpkAG/LFDcKTzDLGwAxLTBSCQYZ1d3HGGfx48frwG+ni7G3alz8Nj20wNBANx+xuKgrgkTM9vr7aXMnTu30X7NWicTHINeDhaJ7XB/pSqGheM62O9QAmVpZtoLewbwZWsY0Av4DfQ2uLes8Kw1uULCCALFYHUJgiupqJX+GXG6/W9Nz0v/3v/lKvlhfa50iKyXpIQ4BUYwpzC1Zw7PkAuP8D7BAo4L+Pcu2FooHy/ZpQxs50R71jdTCsqwBQyRJ6cNkU575RJ8hocwaZ9X7y7VtpAdbnS3RImLCG1MUQ2rx3Yx7PmNX+2SvLKa/azBWASUsEA4tb8MSGpQ+Q4LHJh9NMYH89Y/oAg2j+1/CgwhgN8dUNRe5ilX68G9zWKacTbaZnTknhQrKxwoicQPP/yg3sTe1Jn4DMAw/6ILN4k2nGnEiU8599xzVRpzMD8XntwLB/t3ggD4YB/hdtK+9gaAcYEAQJgkFMabmBcnASKu2l55071M1ujzjj32WD2No7ODqwyGu3VAdwy7zQuTlwRbwt7q6Nytg+PxnrLCvKB/3lQgc9bnqcUX2lfS+540KF06JkQ2XsZk51uxNUfm5MVKfk242oShl0Wni3UarhFWwOxtmwrKq+Wad5cLSTnI3GYt2cV2O7LnzhvWGDCHfdk7v26XX7cUSnFljZAomPag+71sXGajmwNtgc0lIGz6+jpZlB+qmuMIGzIQO8gm2Qeg+cZRNqktLThoLL6cjQmMOc8UiwSebRY43OdonVnQmsC5QC/0nNXbm88B/MgdYDCNttlXOziueAt7U3ez8J8zZ46MGDHCqSTNlWvB+jPmzK+AWmRu7JwArpvrl/fff1/++c9/6m6fv+ZcV+odPCbwPRAEwIHv80PyioA7QHB7Kb/++qv6r/LCsHoTAwYDxZDBUC1dulTdKAzT4s8AN14MyC5gnq2sWHsZE1MPT1hhNK+4QiAnsKbPtbbZuFmU1tvk+w35yrQawDy+T2qTVMG+6pOHv9mgaY+xRcOSjVJVUyc7iqrkxEFpcvOkfQkJ5q7P14x7cZFhCsS5FwDPW/Iq1Dniugk9m7ygASfz12yXu77eLAUVdRIXESKRNptU1NkXU2PTauW84Sm6i9FS1jpftbOtz4PEisUrIIYdG9ps3fpHB2zs1PgdMGQ8mA9U0EObjUwLhx3a7Izt9HScWpJI+CJwjnuVHTliIXwpQTCBpYBhfvhvk2iDHRQz7i+88IK8+eabOhcfqPeCp+N6qH8vCIAP9TsgQO1vbwB40aJF2nLYUOP3SrCIp5Zm7nYjkzFRzQsWLNAgFeMB648JmL4H9AJ+Cf45UPSfhhUG1Libbc4w+qbNgAMWPP7o39bGfntBhdw3Y726QBgBBDpdWN3bTu7XxC/4kW82yPKdJZqYw1pIpFFX1yA3Te6tSS0cy29bC+WFHzbLppxSqa6tleiwBjksPUQuPaqH9O4ZuBTV7j4DvjjeUduM5rU11xKeO+4lGHS8rU3CBUcPZl/UzV/nML7NgF/qj3QgkCmb3U2/7KwfkOaQFp5YCH/tRFFndgGMRILFEX9Dc/yf//xHfv75Z4GFDpZDqweCAPjQGu82ay2TDYxFeyhoXgHAsINsk6KLDNSWqFXnCzBlQgbgsXULcwX77KvgJK7F+WHG+J12BjLltLtjjY73B5jZXSX6Vey+YGZhdF1lhWknwAZtM/1r2tyW2r7ckiplgRdnFWm7RndLkkkDOzR6AZt+uvXT1bKnrFoyU6KbdF1ZVa3kl9XI9cf1kkGd4vfrVm1zbq7MWbxWyiprZViPdAlvqNEXPoDCbPsfbM4HVg9jT7TNzXkw83wQSOUrCYG7z4Cz45m7jH2iJ212dn53P/eFRIK5jx05AtECQUAAuGGE77//fpk+fbomwYARRgvsawb90UcflbffflvJB+43dhyvvPJKueaaa/ZbjD/yyCPyzDPPaN2GDh0qDz/8sO4OWgtyl5tvvlk++OAD1fRPnDhRnn766UYpn7vjd6gfHwTAh/odEKD2twcAzEQLMCJimC1hwMGYMWMC0gOtWZrxGfo94wELGAcI8zL2FLSYhB0w3DDMAP32+lJnAHJLq+ShmRsag7/4G3IGAN8tJ/SR1NgIHafWWGFeDgQB8S/tdYXRxxmCVMlYo43MTPDKAcLbG+nZuZtl/qYC6Z8R2+TluKuoUvvi7yf0baJr5npWzStR9AQymiQHvCDZ9oftPFi2/Wkz9zTjjISI58QXyXV4/ugrFowUby36vL0XHL/PWDJ3tVcrN55LT72FDSFx3HHHBXSHhvoSfHf33Xer/AFWmGC4Sy+9VOUYvtgtuuOOO1TWMXjwYCVZ8J9/8MEH5d5775Vbb721cZgBv/w3oHzUqFHy0ksvySeffKILA8CwKVOmTFHyBmANaOf83LukuPYXe+7re7k9nS8IgNvTaBzEdQHkwbi2RTE+oAABtkfZDuflCUj0t/G5u84OsAS8iAHDvOhho3jJu5r61YBAtnl9BQ4CMWbPzNkkXyzPkYzESImNsNuQwXzuLqmW04d1lKvH99yvGoYVZlxNACHsOYyOMyYHl4THv90kM1flSmVtnfryorv9y4SeMmmAZ9Hz3vbTwm2F8uq8bUIwHJph7MxI65xbWi0T+3eQS8fu80jlWTKaV+4RZC0t2V01t+1vkmw46yd324T9GpnpCOTDXYPgwuMHpO2XGtrd83I8YwyThq0Zjg7IHXypGTXXYAeBZxCGmfPDoBMsahYWntTd0+8A0pAvYW0GwEHugH6/PRd3vYXZqVi1apUywG1RzjjjDE1GBBny+uuvy8yZM5V9vemmm/xSnQsuuEClbyziKCxu0CZfccUV8tBDD+nfuNcBvlh1vvvuu/o3EnUceeSR8uWXX8opp5yif8PDmJ0AWOCrrrrKL/U9mE8aBMAH8+i2o7a1BQA2pv+8MHmRGR0o3cLfAE7jxo3zSy956+VrQAtAmBcyLz/DCjf3IgYsA4hgiABEBPMdKIFPBK9dO325Al6rJRgDs7OoUhKibPLsuUP3S1DB+BpARFthuGFDAEf0FS+Vlljv+2esk0+XknEtRKJtYfakGFV1EhsZJo+eNVhlCq4WwPSsNXmyclexxEeGy/i+qTK4075sba6ehzGfsSpXsHZT3W99gyREh8ugjHi56IiukhhtU5bNMVOfO/pP+ox7hHvfyG4AeM6yqLnSBsbvXzM3yKJthVJd2yChoXaHja5JUXLz5D7NyjdcOa+x+IIBhZXjOeYe9wVD19r1iQ0wgXP0G/cTCwdXF6OutK21YwDgyB1Y7PA8M07+brO3dbZ+n3FztFTjc9rAc2lkSdyPPMf+moudtQngDShFWkBhzmWOZbz9Ua677jr5/PPPtc2U7777TqUMMLvWrKB33XWXMr3YVdJnd955pzz11FO6MLPeBzDnuJ1wzmBxrweCANi9/goe7UUPsNINRDHpfGFNmMh4YTKZWScN4/xgLMh8WS8mfkdLMzPxe3Ids5XNxMzLkLYA8AB6xrcYlogtMZjA9s4QOfbBjsIKuenDlcrCkibYWtDEYu31xDlDGrf/eanSF9bxNbppV7TCgOrzX10oVbX1CipNAQTDuMK2PnjmIJeGioxzf/topWQVVkptXYOmIwYEnzokXW6c1FvCQYFuFizSVu8ukZq6BumaHCX90uMkNER01wLWiHsLQMQ2fXlNvcojsHRzp3CPOmZRM6ywK4kTmrvW9IU75LWfsyQ52ibxUfbMfHgZby+olGFd4+Xh3w3WMXanUEdszdjZQN7RFlIe+gqWkjmDMYA1N7pqXzPo9A2LWSPVMmnX24J9dmecnB3bmrcw/YosraWMmM7O7c3njC0sK+AS6YO/CvM0O5G4XQC2ud4NN9ygl3vuuedUE8yCyypjwJ5t2rRpugPAfM/vLH5JGmItfJfMpgRFBot7PRAEwO71V/BoL3oA8MaE469ijY7md8OaNBcABauKbmrSpEk+q44BvpyQCd/XlmacH9kG4I8XMfpgmCn+BeRj7XQgMUSm47H6uv69FbKruFK6JTcNANu6p0K6JkXLk9MGK9Cj3YAD2s3WH0CkufFtTitsWOHvNxQIAWfREWH7AUcyuSVF22TGX450el9U19bJRa8tkrU5ZRJpC5XIsFBNeczWP5ZnaJfPGN6p2fMUVtRITnGVAnCrX3FzBwP+AIGAQXS+aJu/31QoXy7Plu2Fdn3w0b1T5KxRnfYLrHPaCJJv1NZq4A2sMAw6DCf96m4w2DXvLpONeeX7jSF9WksSkqkDZUBGnCtV0m1hXuiAI5OC3B9g06XKWA5iDjOsMIstFl6+YtBZ2LAzBTPIYha5g68lHu621x/HGzBMe/mdhSygf/jw4Tp/BTJglTmV8XvnnXdk6tSp/miu3scQE6bcfvvtcs899zT+93333af/DUC2FrKVTp48WfXJgHR+hzmfMWNGk+M4HyAaZjhY3OuBIAB2r7+CR3vRA/4CwExihh1jEjFMUWsRxWhk0VSdeOKJXoNGI3cwrK+vga+1y63bwYBAXhb8DZAAW3SgvjDf/W2HvP3rdomyhUqH2AhN6ZtfWq162D8ckSmTe8cq+wlAMyDQVVbMkRXOCU2RJ34pVtBK8Ju1wDijv/34ysOd3unfrM6R2z5bo/ZmcZF2xpNSW9+giSyGdUmUNy4e2eQ8ZdW18sbPWfLtujxNVWwLC5WRmYnyp6O7azILa7GCQFh/XqIwRAPNPbEAACAASURBVB8u3ilv/rJdSAUdFxGuLCv9BLi857QBkhxjDxj0pAC2AcJsS3Mfm2AwtlhbK9yDF72++P+3dx7gVlTXF990LNgVe40aQbEiFohYImqwEQsqKtYYMSqW2CU2UDBF4z9YMPaKoqJYY0OIBQVFhNgRY0ERsdHL//sdPWTe9b13586dmTtz75rvIxqZO3POOmdm1lln7b1dvynLHDzwBfPf+/1m46LWEm/xgBRha8Hnm8UdjfoUdI9VFOsR7y8WObxDWMzyPOdxMVvKnAsu7BArfFn6QotEKdcs9Vy+F9yXwkiFJenruxaLUB8o2di9+Ab5AGae4zfffNNZjkaOHGmXX365nXnmmYbFgQMCTFAci4Dg8dRTT9nuu+/uhBr8wBBgvmmPPfZYnfPOO+88u/baa504oqM0BESAS8NLZ5eBAISND1ycB0TWq2Nsj4aNCOdlNGrUKNt1110jB7ekSXzBjBU+JJCtMvrKHwgwH09UYf4+jP81Tvzjutbc+Qvt+lEf2aj3v7JvZv1YMAUldvt1l7EuK82yaV9MLbtqnVeFP/joYzt/5Hc2Y24TW2HJ5j+mXmrSxGgDpPLwTmu5YLhixz+e/9CG/HuKtWnZzJo3q2tB+HrWPJe54sk/bLeYyGCxuHjEO0bBixbNmrhgP2wYP8xdYL9su7QN7NHOKcLewoMS6Mtxo8py+OpyX0HUl229+Nqo6ATLHbPD2tZzmzWKNb3o39MGtqUhw0TpM698MFhDvup+D//H/v3BdFt3xSXrkLep382xJVo0dTaWQnLsG+JtBsxvFGkIUZZT9gUBpL0eKwiSx4pFS7G0XizO6DPkhecZ4lTsN0UHL+MnMLdY4KB2E5TMIgd13yvCwW9EHIU2GoMDNR+lnW8IC49iB0FyYawS48aNc5Xt6jvw9Z511lnunc1Cx1sgIMDBXQ5ZIIqNRvl/LwJcPoa6QkgE4iTAqAdshWNl4EPp1bGQTXHbTSQ+JwCiVM9jqZkdwrapofN8XyG4kBBIfn3p0SDGvFR5qdNGcGHbP4oiVW6bo/yeNn8wbabLA8xHcNkFM2zB15/Zsssu4z5OEIu4jsHPvmvXjf6vzf1pPYaFFlK64Spt7JqDNwtVEpmyxWSSaNnsx0C6xWSOxcoPc23DVZayocd1XPzfx3/yrbNecAS9zpBXvMd9uq5rO6za1M1rb+FBVQwqgc+/M80FmvH74D255pSvZ9lmq7exvxywaVwwuesEFXTGhY8284pt+uDx7/en25+fft9QfFdp09KaNWliM2bNN1Tvvdq3tVN2Wb/ednF9CAjzG3Wf+Z1XEsjC2lskPFY8h8zd4Dj6jBaTJ092RSwggXl5TqNOLuY072uf/QDiiW2r8Igjt3DYNk6YMMEF3zH3/CIz7G+jnsd3h8A1im+Q1UFBcFGRLP93IsDlY6grhEQApYQXfzkHq2Q8VShTvDwhRlG2/WkHW0y8/Ao/5A21L23iC0knswMfVPoKyQ/zkaRvfGggw6h3vNghLGz1pemvizLOwcpekCD6HHfEP5XTThk6wSi8gSq78Cdbequmi6zvNkvYbh3WaTSDhO/Xe198b33uedO+/G6us24Q4EWw2uz5C901j++8jvvjj7vGfGLXvTDZ1li+9c+CwSZPm2lbrLTI9ltrrvP48qc+pfWZt6e5fMmkbPOllf31P/56lm3cdmn7+8H/yxsaZQwa+g1j43cbvvpqurVaamlbb601nE0COwrPx0PjP7ehYz+1r2fOswULzdq0buZsDyjqQZsI9/BZWgjy8ekJw8zvOPuU1LU8Vjy7BNDRL6+gs2sFCYQQQ3zz6t0vBbvgIoe5jdJdLC85GDKn+G74dy/3jFMVxpJAGjTetcXaU0p/GzsXuwP5e7FSsEvg06CRxgx7BAfvcHy/WB8K06Bhgdhjjz3ceTw7LBiVBi3a6IgAR8NNv4qAQDkEGP8w22ZEwUJYIb6lpH8qbC4vVPI9kvuxsdKp/M4H7hVmdkjKowcxYHvQp2+DBEZVJ1CkIMK8bPlweFU4a0nT/RY46icfhKSqXHGfQ/451mVZQEH1WQkWLlxks+YvsK1Xa2VHrD/HjXmxYgiQZ8go/mUyNsCj8QOTv5eiGtcftnmdwhpkSRg8crLz+nIOBx/5WTNn2SffzbPOay9hl/12y0ZzGJPBgoBB/MPB4Dl8wJ+Q3WKbNeyYHf9HuiM8po3+BJvITS9OsXtf+9SwYSzZbJFt33aRHbrlyrb+Oms6v+70mfNc1TvORQX/xcp1C3sEg1UhzpBAgsmq9YBc+dzePhMOKjr5qvOqdIcdq7iU7lJzC4dt3wMPPOD8uASBxv0+xw5Dvt5evXo5Sw/vdarNkcrsmGOOscGDBy9upi+EMWDAAFcIY8iQITZs2LB6C2FgrwgWwuA+KoQRdsTrnicCHA03/SoCArwMIcGlHD4yGvLrsx3EpQjyMqJCT2P5Hn1mB69AJBngFkzvFbf66SP9IcNYKiD9qMJZUJ+CxTsI5EPRCBvgVspc4twPpv1gBw15zeWnLVRQyefbvFkTe+KkTjbnu6/dwgG1riFfNdXrzrj/LXv3ix9c4Bt5eyHBLZo2cVkZrujRrk4atHe/+N6le4Msr7hUC5sze47NnjPb5i5qavObtLAzd9/Q9mi3StEuDR75oT30xtTFKdcgv9/Mnm9rLb+E9d/3l7bGcnUzaRS9YMgTIPx9h06wZ9/5yvUTDs9/49h0xeZ25AazbZmlf1Q6WTzUV17ce/bZyWGcGe+s70qEhKfB07zSzeKdBQJzG88v//Sp57K2IC23z/zeB/bxXmORE9d7m2+C9wt7ccJnjyhVxYVoUnXtrbfeip0As9hB1SXWhB1LxhgizH874ogj6ijO9MOXQsZPjvJLUQysEsGDIGBfChlRSKWQy5upIsDl4adfl4BAKQTYb4X73IaooHws4vxYsv3FRxgiWHikSXy9Nw71E6LaWHqvEuBu8FQUg2DZZQgL2KadZgpl7O1337Ox739ms1ssZ8ussLKtseLStuEqS8dSOaw+ACZ+9p0dfvNY97EjfVjwmPNTRbgRfTrZKm1aub+qL68w84WsCKigBO6tukwr5x/G9gAp/Hb2fKd+XrjXRtZx3R+D1zgY56ue+cCGj//M5syZZySOWNSUALymttXay7kMDkv+VAWvsXHm2qjOT0760tk4UJM3bruUqxS3UdtwacaizCM8vifePf5Hkh/ADgLOccU+G9lGS/2odvroeuYWOzX8f5/blv8GEaiPIEdpV1Z/w3iDBe8wFrR4Xv1uE6TYp55jAQhGPIOlpp7LYt9Z3FDAwwf28Y4tlZiG6Vc55Zf99an4hhACSdVRewiIANfemFesx7ywePE3dvDRYAUc3AonMCaJFyhBCGxF4kcLkhTa4F+uSSq+3BNFjL7yESQKHH9cWtuivioYZJgAOtRgyB0f47i3A4NjDskn+OeDyR/ZB7OWsBnNlrPmLVtaq2bNbOa8+S4NWpdfrJgImSNAa6//e8l5VJds0WxxPxnzmfMWuAwGw47vuNii4NtdX17hB6e0sBc/nmnrrbRUnSnNtchfjP83mJEBP/bE/7xtz3zwg731fWubuaC5I7xdN1rRnRcsyhHmIYX8/nfGLHcN8icnOWa059LH3nGkH7IfvBf9RdXeu0Nbu2yfTRzRJ6gI1QsvOs8ui1+8+mz7h/Xch8Egq+f4Ah5YkCCAvMMaWrwHU8/Rn2LWm6z2mWeE55rsJSjdqL7F0ufF1ZdgbuFCVbix3MJnn32289EOHz48rqboOjlCQAQ4R4OV96YWI8B8NH3VJ5/SLKmtcLB89dVX3fY26nIwwC34Ak2KVPBhRBlim9BndkhbgQ2SfsgZRJjFB+3wZZfjVOm895PAPkhR8xXXslc+n+9KHfvctWypfzhtprVdtpX12GK1n2U6iOMZIBDtuhc+copty+ZNDElzzoKF1rxpEztvz43cfRs7vCr8j9Gf2CtTzdZatoW1XmKJxYu0+QsWuhLOfXZaz/bfYrU6lb1Q+VD4IfwQ2KVaNi+5ilscGES5Rr9H/mMPvP55gwS4W7uVXbU3Dr+Q9ZXrGG+2bH3hCJTQOHdzovQnid/QRx+kC5FF6Q77XPvgVVRj3oUsGHzgXJLvwThwINAP1Zc+QHwLK2/GcY8w1/CBc/VZJILll/21jj/+eDc+N910U5jL65wqQ0AEuMoGNMvd4aPIB6Lw8B5QyCDEq5SPRjn9ff311902LFuTXvHlenyYkyK++MJ8ZgdIAOQ7LZUkDFa+0hVkmG1rX3YZRaccTPhAonT7QiUoYs+/O93GfPS1bdy2TZ2mkRZs6rezrftmq9oGK9dVV8P0ob5zmHukCaMqGRkU7hv7md392ieuahvhaEu1amZH77C29d5urdD9HPnuNOv/2Nu2aMF8W6LpfKfct2zZyqbPXuRKAV+5/yY2b8bnLpgR1RNikBf1k4UInuag1eGhNz63Cx/+jzVt2qSOQs55/Dmn24Z2SMc13G4GZAi/os9owTPFIgtVmEVWtflfg5YtCBXvlKiBq8xfdmR8OjV2arBGQIa5ZjnPYdTnp6HfORvT22+7hbwv25zWDlaxvjQUOBfMInHAAQe4bAtYIXTUHgIiwLU35hXrcSEB5iXvy53ygiezQ1pkkLYQ+AAhJeAgaeLLtj9EiC1C+gjxLSeLRdKD6Lex2R70aZxYnGAZKUWNCuYw5vfBQiWPv/WFy/lLloDggYI6efpM23uzVWOxQfz361lO8Z3w6bc2d8Eil7Ks07rL2wFbrmYffDXTZYLYZp1lnRJdyjF/4UIb9NR7NvLd6eb8w4sW2qw58611c7Pd12tt264w22GVRCq3UtpZyrmffzvbho37zEa9P91VmPvlqm1s3w6r2jbrLGcsTA684VWbMn2WC8ADN4gycXCrLdvK7uq9uX3+8WRHcoOV6wrvX+h/ZSEIucOCk0dVGBsThB8yyOKdeR4XSeU5xEsLppBMyDW7CJXw7AfHEXLJ+4zg5DyUbW4otzDV1SDB55xzTimPic6tEgREgKtkIPPSDQgnKiMqqI+KhviWo5aU2ncf4EYQCiSY6Fy/5V8KuQtzX68M8aFgC44PZKW2B8O0t75z+LDzAeYP5IWt3foKIQR/65Vun6+5vhzGY6fMsKf/86Xz0AaVxi+/m+MCrfbbfFVb+adgtKhtpwTvmcMm2jtTv7dlWje3Vi2auUIN/Nl23eXs0n1+WSdTQ6n3ISDt8Ylf2LPvTHOlm9su1dTWb/GNbbDkXEcSIQcoY4x5Ej72Utvb2PlffDfHzntokr335UxncyC4DtJL0Y2Tu65vO2+8krN2XPDwf2zslG8c+YUEb7p6G+uzzbI268spjqCFVT95DlGJmSM8iz5NH2Q4D/mAfWAfbU8jsI/3JukMwQsbjreT8M80Fw7YMyD8vAt4rguLtcQ5J+O+VjC3MMFvPXv2dJXdrr/++rhvpevlAAER4BwMUrU0kZcPL07IIKQT4ptmGq76Mjv4LX8+Kvw7L3MIS5TiGsFx4l4oNmz786Eg0C7vKZ8YP9Rg7BGoUpA7rwp7cufT1qF0U2GvsXzN38yaZyMmTLWPv57tMim0bt7UZsya57IobL32srbLxj+vElXqszB8/Od2zXMf2gpUTgtkWODeqMFkatg2kKmh1Ov789nN8JUJIUP4fFH9mVe+Mp9fOKS1y1FqX/BG3/3qp9Z2GYps/FjZDpKLgr7eSkva4EM6LP7vpJP7ZMZsW2LhbJs77SP37LC4o+9R1M/CcsJYbrhWFhcOPAcs3nmPMZYQ/jStLbxbCLJjXkG+efZ84FySCwcIP55uLCze7hC3YFDqnI1yPs8kpYgJfNtnn33ssssuc8GZOmoPARHg2hvzivWYF/eYMWOccsEWXpQPZZTGBwPc+HjVl9mhkNwRHMdLPkpaIryOkCHULbyu+CDz+KFoDGsIn1eFwdfnfYUcgy9kCLtEsTFmy/3lD2c4ZZEtd6qFYYlAnW0dKC8cZdz5DRaFRydMddkdChcoU76ebUdtv5Yd3mmtki6PqoztAbK+9nKtbJVFX9t/P57idjHqq0zI3II0gFdjeYVLakTMJzOGR94yzj77do4r1BE8CNabPX+BDdh3E9t8zR/LUaNAQoZYCMWdu5kAUb9w4F5ZyorAAhDPK4Q9C+pn4cKB95ZfOMTlxWX+YoVi164ShD+uqY4Qcd111xmV2CC8//jHP1zRiWLvqLjur+tkDwER4OyNSVW3iJcQL9Q0jjDEt7528HGHyKGw8HLkg4LSWSxZPb/D00zqJz7aqIDFfpMGDkneg7H0FfpQf9kCx+dL/8NuyxJAxfb73AULbdnWLWy5JUvz4jbWv78984E99MZnts4KddOEcc//zpj9s1RlxbB6atKXrvrbN7PnGV7lprbIVl3S7JLfbGhb/KK4+tlYXuFi907y73lWDrnxNZsxa36dCnPcE7vI93Pm28XdN7Yt12zj0lzh/8TDnqRv32dF8AsHVFafFSEuchcWU3LbQnwhwHET/rBtKHYeCwfeWdgkwA71HLwgxVFJnvc3Y2nyudijXqtY+5P6ey+8nHLKKY7Io/iS/SHrlqSk8NB1/4eACLBmQ6oIpEGAC4kvHYyS2YGPCFuMvDQJ5kK5hgjzz+BHwJdphjRDCvhQlGuhSHVQIt6MDy5KNyqgJyYonXyA/cKB/44VolLHC+99ZQOeeNdaNWtah1hDuPEdD+rRzhXeCHP85/Pv7fg737DvZ8+zlk0XGWU0FjVpanMXmrvG7UdtGdpPXEjuGqo2F6ZdcZ1z2ePv2FMTv3QV5cj04I/PvpntsLtol1Xsi48/dMTBly9OiwyxcPBZETy58z70JNvAvbDz8Cft3LZRx9XvZrFw8AGsjVXnq+8+EF6ebZ5lfss7LY+7WBD4fv36uTRnhx56qKu21ljlz6iY63f5REAEOJ/jlttWs2XHRyWJozCXL/8/CvGtr23B6mmUZObjy4uUD4T3u/KR8JWekuhfVq7pgxj5wNaXys0vHFgQYAPxZZfTDtYBL2wVlz3+ro1+f7rLTYutYtbcBS73bvfN2tqJv1o3tDp28SMT7YE3plrrpousRYvm1qI5VdzMKKFMMbQr9m9nO224YsnDlBVVmCwZf3rkbZv2/VwX+EYQHH5sCFWX1RZZl5XnFi3qUHLnS/xBoVWJLXlP7uIkaN7Dj+rLgdIdVynfErtc1un4dn3gHP9OzAV48UzWt3Dw5dixO7Bwxd/M4ixvB/24++677dxzz3V9/b//+z9XVjjJxVLeMFJ7zUSANQtSRSAJAuwLV0C8PAn22+9xv/AgfxA/toBRs7kPHl+C3MJu+acKeIw3A1+Cf9gC5+MYhvBDgCHCfIQhKHx8+RO2OEAczSeTATlsyTjhtvjbtLJu7Ve2PduvEkqxZZyxeZz1+Cc2+fsmtsKSLa1JQCFlznHdP3Rdz5UjjnpkQRV+6cOv7aYXp7gAtwULFlpLm2/tl5ljB2+1qv1yow2NxV9WDmwJXhXmuYwrVy4LEoJ1UQ/9s5337XLmKP0Br4byMBO7QL/BNe50bmnOmUmTJtlpp53m4k0gwGeeeWam5m2aWOhejSMgAqwZkioCfOQhwXEd9WV28EFucd3DX4d7BQs6oADz4eW/YXlAFcb7mvePZSFu9BsrCP5m/p2PY6mpj3zuV8iwT+EEXg0pUXGPHddzeaghdc3CFTrxKexQwyiYcvuHrezlKd/bsks0r6MkoTLPmrvQzu62of12y8aryIXtVyVV4dlz59moN9+3yR9/6gqRbLVptlXAwly5+O69KlwKYee95P3szEtsHpW074SdK6WeV5iHGWsHBwSY4GQWtnFWgCy1fVHPJzB34MCB9re//c122203+/vf/+7iMHQIgYYQEAHW3EgVgbgIsFd6vepbX2aHODuGBQJPHB8JMjug+PotVxQTVGHIHe3iIwK5SzIlUZx9a+xaqEZE+0PIUMMoUV0OwfcpnHzZZQiKV4Wz9NFlUUO/WeAQ1Md4PjFpmv1pxNuuctySLX8k0aQJ+3bWj+Wc7z9+G1thqZYNwolVYs78ha5KHPlzwxxpqsJ+259+Q/4hQmEyeYTpR1rn4F1F5eR5DLPl7xdGLPDot/c3YxWo9oPxZnGHhYt/p+++yEaaad3KxZm2P/7443bGGWc4ceWvf/2r9ejRo+p35MrFTb+XBUJzIGUE+LCiQEQ9omZ2iHo/X62ObUPIAOpnQ5kdfLoryB1EmYA4IsYr4X2N2l//OwgvhJ9cxj6vbSlqWpj7J1V2Ocy9GzqHwD6IEMn+C6P9qfx2wfC37Zl3prkMEP5YokUzO/PXv7B9N1+13st++f0ce2T8VHt58tc2b8EiW3251rbbxivZrzas34fZUNt8dhLsJD71HMQ8jrzC9Bu/K/OWRQ6LnbQzLZQzboW/9Vv+EGGysrC4gtwV2m+CZZtZ6LC4LWeBF2cfkrwWC3rsDrzfUEnZ0WHRx+KBuc+Olg9sjdNbHXefCFD+4x//aCNGjLCTTz7Z/vSnP6Wakznu/uh66SIgBThdvGv+blEJcJIBbvUNCuQMrysvWPK7ooaVoorwYfXeV4gERIUPStwkMu4JVYmMFowtH13wgnCz7eztJHF8fL+eOdcmfva9U27br97Gll3i52nWgv1m+5ugp/oUfEjw4299aU9M/MKm/zDXfrHKUtZji9UW58ctHI8ZM+fZFU++ZxM/+9YgygTffTN7vrVp1dwO2np126dD/aS5sXGNUxVmMYoKCPaonszzatv2Z2xReIP2G+xLkH1ftpnxTtOXHvdzG/Z6jDdWJrCA9DLehe8kv6MFGeb8uLzVYdsY5jzaRR7f/v37u1L2BLltscUWCnILA57OWYyACLAmQ6oIOB/m3Lmh7xlXSrOwN/SBXmwL8kH0gV5Rg+nYkkOxg0ijtvAxgdxBqqNeM2xfSjnPV7eC9Pt+o1ynfbBt7bewmSeo7lHTXWFPuOOV/9rD46e6vL0Q4OWWbOkI64FbrfajheGnJP94P+k3RCjOTB4PvvGZ3fLSx7b6Mq0XV6JjTn80fZattHRLu3y/dmXlPY6qCgf9zRCguPud9rwJcz9vv0HhRwFl/CHCKKDVRvrrU8R5rtjVQQ2nEESx8vOF3mqeD2+RqNRigTa9/PLLduqpp7rFy4ABA+yYY46pCdU+zBzXOaUhIAJcGl46u0wEwhLghjI7JEUauR9EFXWEI0qgV2PQ+C1ZlBe2ZPngssWOClPJrWbahb2DfkP+IQN85Cqd0cIHHIJXMMgQQhwWr/vHfWpDRk8xil4s0aKp/TB3gSvqQLW5U3dZ3zq2bersDqhJjHcS/Sat2Bv//cYFkwUPUrF9+cNc67vL+rb9+iuU+VSZGzvmVZhqc6jt2B1YbPjyxZUe77IBCHGBYJYDb/GAFJKpBDLIDk2Uyo8hbl3RU9iNIjMCNhdv8yh1vFmM+nRqPoiV54Vdg1KvFRUM8o1feOGFduutt1qvXr1s0KBBbrx0CIGoCIgAR0VOv4uMAIEqxchiMKVZkgFuXuVAGYEQ8GFM2gdI/33QHAoxJBiVM+3iGRACCCAfyCz7Pv2WLJihXIYpjTtn/gL73Z3j7aOvZrpANdKULVy4yE07/nflJZrYWR3m2/rr1g1ojDypG/jhBQ//x9769Dtbf6W6xUAIiPv8uznWd5cNbMcNyifAwds3pArjbWW8sZkw3yBDWQo8jBt7f71gUQdIG6Q/uO3P/Gdu+QIufn7F4a1Oqk9hruvtLew+oXTHYfPwKjoLB2wlkF+vCieFF8/8HXfcYeeff74j3Fgfdtppp0ztoIUZD52TPQREgLM3JlXfItQEr/AGO8t/S4v4cl+UH4gvmQ5QY8nskCYh4MUOGUHlRJUjHZEvsJGkqhIM7OPjhepbqS3NUia7x4sPOmPm8apPtZv81Uw7+d43bfoP85znlqNZE7NFCxfZ/EWL3MfzxM5r2ok7b1hKE0o+957XPrE7X/nE1l5hCWvVnNpxPx6fzJhlS7Vqbv333cRWaZNMbl2vCvugTO6Lr7l9+/a5LG5QKvhBews7LqQ18ym/6rsWeLEbAhlmcUgBCB8IlqfAOJ+2kMUOuyUUs4jT1uOxY/EOXpDhIF6Q7bC7NMWEEJTrvn372tixYx0BPv3001N9R5c653R+vhAQAc7XeFVFawsJcNqZHVAU2fJHweBljSJUaQ+gV+34mEB+fWqwhjJORJkIKEJ4fClmESWwL8o9k/pNEC/IrI/w94FrU7+dY8fd/rpNnj7rxxRPTZssXnQhBKMCb7TKUjb0uI7u75I6aAelmN+f9oMtv0QLl4N4xiwKqDSxfTq0tV7brpXUrV1/meMs8vh3gjjxvsadQSKxDpRxYRaUZDngXeNtHqXYp7AL+CIb4IX1hmeylEDYMpof+ae0G9LI4h6Fn52dJBfTvqE+bzUqui9VDV4sIkrBPXi9yy+/3OXy7datm1199dVOoNAhBOJEQAQ4TjR1rVAIQMRQZ9ImvkECyIuZLcGslfn0ZYRROdmaZcuv3IIRvrwpgV4o3AT2EeAW5cMUaoBTPMmrdqickDtSz4EX/Ttl6Fv27DtfGSl3UX99f/EEt2jW1OXjve/4bWzlpZNRYD0MqNFDx35qkz77zuYtXOSI8M4br+RKMdOOJA6wwOfLHAqm9yr0CqOIQlRYCOZJ5WwIMxa3KJ/4odnVYXejnEwiPDveW53l9GDBIh68M3i3xbl4DjtHfalqVHS8+yxIvUUizO4a34RHH33U5fTloKjFfvvtVxXvqrAY6rz0EBABTg9r3eknBFBl+BDzsuQPBypFUoSMe0EoUT/x/uWBAPIhQMWh3Wwz0m6fSi3sB51r8PFGAeQDCRmA7KShCFVisgdTz9HHSTOa2D/eXGALFzVxiqs7Fpk1b9bEKbFtWjezh36/rS3VSxe0CgAAIABJREFUsnnizXXBht/NsdnzFjrLw5ItmyVyT/yu7G6gXqJaMtcbsrdEzSCRSMPLvCjPOOXJecZRadn2j9tTX5gejEUDz2RUlbPMLv84nX8KYoX0M+fpdyWyt9TXF2IqfOCcL0oCGW5o8c3OFGWLKWpxyimnWL9+/WIfwzgw1zWqBwER4OoZy1z0BFJ30kknWe/evW3rrbd2XrGkiK/fAoYQQLSzkuGg1IEKFoyA4PjUYI2p1yiAfBTBm6A+gvvCEudS25el88GHfrP1z9y6evxCe//bpgb/hSC0btHUkV8yQpCD94K9NspS8yO3xaexQ+VHdSvmdw3eqNArnDdVGB89ajf9QPlMunodWJORwGcoAW9fejmMyhl5kAt+yAIGmwf+W+wB5VZpjKtdhdfxGXBYlLGY5z0ETixU2rVr52wqPqcvuXzJ6duhQ4fEvgtJ9VPXzR8CIsD5G7NctxiVpk+fPm6bi5fd8ccfbwceeGDs23V8oFA+CfiKo4RvFkAvTA3GBwQFig++374O+puLVa7LQp/iaoPP34wC6AkgC4SxH3xu5wx/16bNJBCuiTVp2sSaNWlq6660pF114Ka22rKt42pCRa7j54QngD6dW9RFZZ5UYdrKYodnHfIHCYwj+KqUgQzmrWbx5YtGYMWJOgbF7s9cZ6HDu5TgNhY7lY5hKNZm//fY0Fic4umF9FLEAgwZwyuuuMKOPvroqt2hCouRzksPARHg9LDWnX5CgI821acGDx5sN998s/uvRx55pB177LHuQ1bOh4NtcIgvfj1UGfyPWa++FmViQHRRoPDa+SAdn8sYYpxFf3OUfhb7jd8C9oFebPkXKoCffjPb7nvtvzb63S9t3tw5ttEyC6x7uxWt3QZrZ64gSbH+Bv8eAgjxZa7HTQCzrAoHCSBEEwJYX9W+UrAs91zmIePgSy9jO+H9w5Z/XO8f7uHVbtqL3QG/bx4P/MFnnXWWvf76647M41cmty9FLbbccss8dkltziECIsA5HLRqajIf8TvvvNNte7355pu211572e9+9zvr2rVrSUoAKgKkmm02VBiUsEp/FNMYJxQVSBCqCh9IcnFC+tNMUJ9GP+u7RzDQC5WfP8UCuQoLkvDhRUWHqOTFIsKYQxrwhzdWtjmuccmKKhz0u7JIhvgyz8tZMMeFUfA63rIEGWahiucVMsxYRfXfs5OF3QGSzTxH7S4215PoW7nXxD5y22232QUXXODyefPe79ixoz344IN244032tNPP+2KXVx00UXl3kq/FwJFERABLgqRTkgDAV6Mo0ePdi/EYcOGuRc89ojDDjus0dRDkAHKFhNAQdALymdjuT7T6Esa9/Bb3yiffHAhvWz5+4T+eOx8KrW4FKg0+hXmHix28HUTYMNHlMVOlDzGbFmzYEJJB8MsBDU11n/GnPGl74wvcz3NgKdKqsKk94IAsugJu9gJM5eSPIfxwp/LmHnvq0/XFzZDA5jzfuMPqQuzoHZHwQwsJk6c6EoYv/HGG47kkt+3cNGJhYlDKc+ioKzflIqACHCpiOn8RBHgRQkpuf766+2GG25w5TsPOeQQR4bZ8vNqD+QF1ZMXJi9RSBDKb9bUoCTAIrAN7yMfVwLc+FgEPyQsCiCHKIQoUOBCSigWBnnGJ0gGWOxABuJIY1forUZFRxWudJnq4Nyh8AdKP+PJYofxjKomljInSRlHJb3CdG1pqcJBtbuS6b1Kway+c733lcUW7zTUYBaoje3UeLsD4gBzPa/vN/rbv39/J2785je/canNWMToEAKVRkAEuNIjoPs3iACq3P333++CJUaNGuVsERBhPgwkST/hhBPs4IMPrurUXkFwgspnmAIefrsfIgxmWEKyRuzCTP9gQQcIPD5f+p8EmQ+WXYZwV6pMtceF9qDyoyBCmFjopZFp4INpP9iQ0VNs5Ltf2fyFi2yLNZex3tuvbdutt3ydIUtKFfYLYfrO4i6pamZh5l+c5/j0hqjCwVLCjK23bDHmqN0+uI8FTx7tDvT1kUcecanNWKxdddVVts8++yTy3MY5RrpW7SAgAlw7Y53bnvIiHTdunPONPfHEE+5jsNtuu9mAAQMcIaj2gxy+bIES9R3V5gF55qOLAgVpYSsWMozameUDlRvlE8UxzWwehWWqUZp9meo0yEhQ7SaoEQUwrSpk73/5gx1/xxv21Q9UrCN3htmCRYusdfNmdtm+v7RdN64/8CouVdh7u1EOfRGPNNTutJ8DX0qY55I+s0PD4obFKv8O6c/689kQZryrIL5PPvmkszrw7s5rX9KeF7pfegiIAKeHte4UEYG33nrLzj77bJc6DU8w2/533XWXI3QHHHCAC5rbaqutqk5ZgIRhByG4D9KF8lnuNqgndqjCbKvjK4TYcd0skYyg8glZZ6FTKS+zL/PKWLAY84uHJIIsg1kteFySVLsbehzPemCiPTHpS1uyRdPFZaJp1/dzFthayy9hw37XsdEKdlFVYXZ88DfzXJfj7Y74mqnoz3geUbvBjufQz7G4i3kk3UnGkPLF7NCR553du/bt21fduzlpHHX9dBAQAU4HZ90lIgJ8eMkXTJonXqokTufgQwEhxleGyrDNNts4e0SPHj0iBURFbF5iPyNNED5fvM54fCH9cRNUFDYUYfzCXJttWMhwlICyuIAIqt1pK5/F+lBI7OJePODtRu3mn5UK9Jo7f6F1/etomzN/4c+q1fHfFi0yG9Jrc9t8zWWLweX+njnmAzP94oF5FlQDfaluFnrMPZRPsK2Fg50ZxhzVF1834+7TqbFA5RkAL1L7pZ3juBT8GVtsaqi99GXgwIEutWXc76xS2qRzhUAxBESAiyGkv684AmwPNhTsxIsXoojScOuttzq/IFXmyCcJmUvCJ5okIME8xnwQIb9Jez4hnfgRUaEgLATmcO8kk/kXYug9nyiAcandSY+TXzzQXp9xI2x0f7BtQeUTbzOqb5TrxNHfmXMX2C5/+7fNX7DQligo1zx3wUJbsNDs2kM62DbrLFfS7RpShVH1eX4hgqj8eXxmSwLip5Mh/dgESGfXUOlmdh7YdeAP+PksJZyfpfcahPf888936SwpZIFQQZCfDiGQdQREgLM+QmpfaAQgj7fffrtThQki6d69uwuU69y5c+aVCJReyF8l8xhDQllsQIQJukorRy6KFySIXKd583z6xQNkmPlHWjJIHP8sRlIgQWDtCwHg882C8tn71nH2+sff2NKtmi3uA3OD8tHLtG5hj5zYydq0bh76uSw8kUUWaQu9pQQrySabbJKJvkfuVAk/ZL7zfiIzBIsd7B6NzRVvW0JJJzAO9dyXXq5k7mpIOaID/l4WzLx3d9xxx6LzvgSodKoQSBQBEeBE4dXFK4EAH4znn3/evZBJsA6xwB7Rs2dPF0SWpcMHO6EGQQTI7ZoFEoQq6YPm+He2YPnIxRmIBeHF9/jFF1+4D/oGG2xQMZ9vuXPCR/dDhFHTi+Vh9hYXsEX5pP/FCHO5bQz7++femWb4gLE8tGre1Jo0MffvTZs0sWN3XMd+/6voKax4NiG/kH7mO7sNkDqCHQn8AgeUzjQCDcPiEdd5qNws9Fhc8iwx30slsHjjvSrM3PGll3lnpDV/mOsTJkywU045xYjP6Nevn/v3UvsSF666jhCIioAIcFTk9LvMI8CLGoXtuuuusyFDhjg/LUF0xx13nFNe0vpg1AeU3/LH90g7IEGFJXyzALDPkQuOEJU4siGgfJG/GSLEhxvSn7WFSTnY+zzMkGFIPiQPVRhLCf8fEgSWkCAU7ywSh0fenGrXPPehTfthrtkic37gg7Ze3ZHfZk3JC1H6AenH74pqXqh8hvEKl37HbPzCK/0866i3eJzLXUjyXDKHWKRiQWC3xqvCSQaLsstx2WWXOcsZKc3I6Ut8gg4hkEcERIDzOGpqc8kIoL4MHTrUvbhfeukll0YNVXiPPfZIXW3iw+V9jwS98AHJg+IFeYPUoUBx+Ej1JZdcMtR4BCuZQfp8JbNKLkRCNTziSb4SGJih+jHGkD9Ifx5SXBEQN/6Tbw3v76art3H2hygHqiXEFwJcjPRHzSARpV1p/IZANuwOLL4h/Twzcc93X9EQMsx7jgWXL70c170g8cOHD7ezzjrLLdiuvvpqV9QiruunMRa6hxAoREAEWHOiphCAlIwZM8bZI+69916nuqIIH3744YkHbqByseUPAfZb/kkHuCUxuJAUCB3EDs8wAS8Qm8Z8r0HSn2YlsyT6X8o1gwUd+Hei4iHBWS+7XEofGzo3mMsYewNWpFJywXpVOLjgKswgEUc7k7gGpJRnnQwrtBnym7TS7wvf+NLLKMG+9HI5mV3YrTnjjDPs6aefdv8877zzFhftSAI7XVMIpIWACHBaSOs+mUOArUOsEVgk8KEeeOCBLmiuQ4cOsSobfAzxPPJhgizyMSyFCGQOuECDSNmFPcL7Xtnq54PviT2R7H7Ln7+D/OaR9EcZg2ARDx/ch2LGYoDFA/Mvi2WXo/Q1+BuIGM8T486B0l9O/uo8qcLedoXdAVsCwX1xlOsudUzwB/NMMs94Blmc8lzyz7CpyXhvUb2NlGadOnVyooFPQ1lqe3S+EMgiAiLAWRwVtSlVBFDk2N7DHoHKsf322zt7xH777VcWWePDjc8VBQWbAEQAH2g1HvheUer44LLlzTYsZA+lGNJP36uF9Bcbv2DJ6saKePjqfCyMmIPsRrBIKNcfWqx9Sf49ZIstf7b+sfeQxi9Oe0+WVWEWPPSd+Z+VlG4+s4svvUwuYa8KN2Rd4jcvvPCCnXrqqS4n8ZVXXmm9evUKTZyTnF+6thCIEwER4DjR1LVyjQAv/kmTJjml47bbbnPbfEcddZTLbVksVVGhAob6QlozrsnHsJTf5xlESD/KHx9c+o4KBhHKeiL/ODCn72TzYMFDUB9b/mHUP/yV+GNZPKAOQ4AhwmAWJ3mMo48NXQMCzy4HCz4WPPQ9rDc8SruypAqjtmJ3YAEIuWSHJ4u7HIUp+1iMowpjT/EWCRasWBzuueceZw3r379/1S7ao8w7/aa6EBABrq7xVG9iQgBvKzkuUYUhsvvuu68ruYw63NgWYjCnLcSPCnZ5ITHlQhdM7UWKJ4gQpAAyDMljEQCxqzYlOLjlz79DgKJm9CDQELz8AiLrmNFfFnssepjnEF/U/zSPSqnCPqgT8guBxO4AmczDgXWJOfbvf//bFbHYe++9nVp/zTXXuAUr773tttsuVitYHnBRG2sLARHg2hpv9bZEBCBu2CJQhR9++GFX1x4ifNBBB9UJBGHLF/UPX2fec9qWCJGrHgcBgvzXF+UPhnhC8QqzTUwWBM6DKIX1I5baprTOJy0UfadfLHYgD3GUrAUzH2joMWPxgJc2K5jRd7b8IVN4nOl/JdtWnyrsMYt7EcoCmb6zYGGxx30q2feo852xI5XZfffdZ/iWmb8QYnKmswOmQwhUMwIiwNU8uupbbAig9kyePNmuvfZau/HGG11pUjJH7L///i6I7sUXX7RbbrnFBYlUm8LZEIhs/bLtzdY9wTUon8U+mpBliDDR8ZASHzRXTpR6bINcwoWCfYfI0/ektvzBzJddxlftyy4ndb9iMOD3ZleENpHNAn931sYvKVU42HfUecY9yby7xcainL+H/F566aXuncZ77MQTT7QRI0a49xjzmziIQYMGlXOLRH5LOss77rjDXnvtNbfoZgHy+9//3gkTeVyEJAKSLhoKARHgUDDpJCHwPwRQffAIX3LJJU6lY7sbnzApguJWmrKIe7CEL8QHAoTdoZQDPyIk2EepQyJRhdOsaFVKe/259J2tY9QyiE+Uvke5L79h0eUj+yEvYO7LLqfx4Q/mccbjSi7jrAd1xqUKB9PZ0fc8l25mDlMhk5y+ePTJ6bvnnnsutjuQ/YGgYOxLVHjL2oE1g90GSDsLsGeffdYGDBjggvaySNizhp/a8z8ERIA1G4RACQjwISRA5JxzznFJ53v37u2sD/fff78jcD6ncF68gCV03QW1YfHA84gSFkcJX18sAlUYmwSqJqQOdS3pvKml9J1zUZso6MC4+76nQTzraycE2KvC4ORV4aSU2GCGg7xu+UdVhbF6EBzL7306u0qNe6lztvB8Fm6nn366KxV/5pln2rnnnpvYzkW5bW3o97yDCn3mp512mg0ePNhZkfKqyCeFl67bMAIiwJodQqAEBEgPRPU4Ph4ovtgdfCAQOYWvv/56lwLq4IMPdltyeIaroVqS97rSN+91jZugojz5ADC2YCHBLCoqXSYZxR/Sz4c3a7mMWYigCrOAKCy7HMe8CxZ0aCylWwmPUMVPDasKgy2EkYUG3ussWj3CgsmiDa8vCukOO+zggt1QsavlYEfuiCOOcKo17w0dQiAMAiLAYVDSOUIggADZDvC81nfw0WR7kaA5VJYuXbo4Lx1R1nETxjQGBSKK3xNiCglI0uvq+1OYFoxUYhBh7p+mxQSbBr5vFP4olczSGB9/D5/vFSKMLQclGLIOaY2Skitoc0GVJ7tDNe5qNKQK+wUfAY1YPUq1+KQ59o3di3nBewh7ALsG5PQ99NBDq84ryzuWXTh2kdJ8R2RlnNWOaAiIAEfDTb8SAo0iwIdn/PjxLp0QARuQB3zC5BUupypWWrBDgMjpSpBbJYt4UFgBBQ5lxweAQezwLiZ1eEUf1ZetbpQ/X9gjqXvGeV0WLb4oCcqfL7vMHAyjCpOLGKsH14nD5hJn35K6lleFWexAfjnADZU0jwtX2s/OABYHgsYgiOT0xWNfbcerr77q0lP269fPZbDQIQTCIiACHBYpnScEIiKAbeCmm25y0dZ8YAnewB6x7bbbhiIkEW8b6Wc+py3kD1IAAUJFDEOcIt0w5I98ABgKJwQFBR5VGGUuzraR3gryhzJIXtS11147t4oSY4lv2ZddLuavpoIZKd1Q0cAWr29eyV/IabX4tGAhD0giCjo4cPjKaXnJ7kJfyFRz8cUXO88yi/AsvmtKHaP6zofkU6aZRfFzzz1XM/M1Dux0DTMRYM2CTCDw5z//2W6//XZXRQsbAS9uSGKfPn1iJTiV7Cwk7oknnnAfpEcffdS22GILp8wceOCBiSqaYfvMFinkj3/GmdM27P3DngdJhdTx8SPgpZytfn9PvK5YPbyHEOKfVEBZ2H7GeR5KsFeFeb582WXsJcEKdlShY8u/0r7rOPve2LVYJGAZgfij9tN3b28CF/4O+w/BVSjoSeUVjqO/9OX11193mRtYwJKlhtRmceSljqN9cV+D90DXrl1dUOqoUaNya1OJGxddLzwCIsDhsdKZCSJw4YUXuo8uQWN4Fik+ccUVV7g8lWzjVdPBh4rgGqKWb775ZkfwCeA49thjHfGMU9EMg1uQ/LHti883SYtBmDaFOSe41U8faDvKJSQuLIZBqwc5jKvV6+rxpL9YHFDS+SfjjGIIXlg9olawCzNeWTsHew3FLCC3qP2NVW0MeoXBikArMm9kRRWGDKL43nDDDXbAAQcYggLtq9YD0tutWzdH9MnBztjpEAKlIiACXCpiOj81BA477DAbM2aMU2eq9eAjjEeYoLkJEybYXnvt5ZRvlI2kUy155Y9ArzyTPxYUkDm/1c9CCiIMmWsoIIbfEMyI4g0OkH5ITVjinPf5yLwjtRf2HOYZ/WarvxpLVReOFeONtx07EhYaFj1hi4pkTRVmQUPw19lnn+0EhL///e+2++67V/U8ZsHWo0cPGzlypPvToUOHvD+Oan+FEBABrhDwum1xBE4++WRXfhhbRLUffMjYxoMIDxs2zPkvySnMIgBFM87Db/uinvDvkL9qUf7wsbJlDRmmb57UBSvUBUs3oxyh/lXrNnFj5I8iFpA/VGD8rmAGIc76Vn/UZ8HnsWbRw0HfCUiNelRaFeb5Jacv7w2KWkCC87BzExVv/zsEAtJNDhw40GXZCR5U4oz7fVlue/X77CIgApzdsanJlrG6Z3uL1D2QPyJ7+/btWzNY+GpbvODZzkSpO+SQQ5xXGH9iuQqlD/IikGzdddd1f6oxbRALCvybkDq2uCF7KLy+gATKH1v+xUo3V8vEC3pdmUOQv/oyWxRm3fALiLAKaVbxIkcydgeCApnzLHrimvdpq8K8H7E48AcCSE5fxrNWDsYP9b6+g6pw7J7pEAJhEBABDoOSzkkFAYKQUCP9QUobAjlq9cDjet9997mgudGjR7sXO+oHNolSFUs+muBL+WGIYLUFeTU2R3xwH0QY8ofazTyrlYpRKJWQPxY/YRc9ntSxgOB3LCCwR0Cak7bmxPm80w8sPvwhuwNEMclFT5KqMIuYZ555xqh6xkIFAkzBnTyNR5xjq2sJgXIREAEuF0H9vl4E+GhCtoodKDGeiBDI9Oabb7oUVHi7Lr/8cldx7aKLLip2mar+ez5848aNc0T4zjvvdCTkmGOOsSOPPPJnJUELgQgSADyCEAAi/2vlYEsf8scCAPIHWcAigSLI9jekDmJUrrKeRTzJ9oDXlYA35gyKd5Qtcq+ak3UD1ZTgKnDLepYMKvdhd2A3wNsd0hrnuFVhsMfm8MADD9gJJ5zggoOrsTBJFp8jtal6ERABrt6xrWjPyG5A0YdiB8SOdGD1HSgcvPRRoVDtdJgL9iLHJzmFSWtFxDeq8FZbbVWHxEGaWYCg+vLRR/EkS0JaBKDSY4UXGI8kNggIG4q3r4gGNhBj5hXeV7b3CZpDGS9VWa90P+u7P/1jbtB/+gz5i6OSGfYk5hS4sUiFVEOE487FXC6mjD3ElyDHLHi8y1GFwRwrFDthPMMsgrfZZpuaeY7LnQv6vRBoDAERYM2PzCJAYvOdd97ZpbnZbrvtMtvOSjQMhWnEiBEuaO7JJ5+0jh07Op/wb3/7W6ee/+Uvf3H5QCE/eS7mUCq2QcU7TE5bdh180BxkAxIMqctrHlx2XlC82SInlzZjH/cWuS+7DBFmgQHJ9rmYK2krQenF6kDQLLsceOazkqaMeVyKKgzGY8eOdc8w/YEAo/xWwwKt1Gda5wuBpBAQAU4KWV23bATY5iM/MKoT6qWOnyPAh5I0cRBhVHe2pVGJSYWEWlQruAUzW4BSqYo35Iktc0gdgVI+EwL4xU0gk5jH+MVR+yHzaXq8ua9XhVFeK2UrYc5D/FnEsOjL+m5HoSrMgoWAwy233NIFbWL7GjJkiPP4Xnnlle7vdAgBIRAvAiLA8eKpq0VAANWKwK5evXq5rWq8iwR7XH311c7rSsEIHQ0jQEYH/NJYRlD8IG+oR3vvvbezR3Tu3DkXJC7qGAcr2IUN8mrsXsFMCJBfLBT8ieKfjdqnsL+DuEPaKazC4gfVE09z2kehrQSsvCqcZDllvN3YHVi8+PLNeVJJvSpMthv8/Ztssomz5fAM897bbbfdZHdIezLrfjWDgAhwzQx1djvKNjTbe+SzRMHi4wkR5r9RIS2udEXZRSB6y/hYbr755s7HOmjQINt///1d/lvSyKEKP/jgg04Rwx5BOrUsbQlH7/WPvwyqnklUsIOceHWTRUbWPK/BAD+eFwhnFjze3lbCs8wY+bLLpVToKzY3IP6kwiLIL4zVpdj1Kv337OIQ8EufCFrkeSbIlVzgkOIsH+w8oFK/9NJLrpgPizD+qUMIZB0BEeCsj5DaJwSKIECqNNTeQv8lRJiPKQFzbKdCRsitDBmGMGWBLEUZXMgP/YL8sFiC4CepegY9r0Tjo7RCNlGFk1Q3G8IG1ZMAN9pSGOAXBc+kfuOr7aFQE5CGrxrcIMTlqLRYVLA7sFOU9wp+2EYgj3j2iXegkhsY8UyTC9wXxznxxBOTGqayr/vQQw/ZSSedZJ06dXJ2LJ5PEeCyYdUFUkBABDgFkHULIVBpBPjQDh061PmCX375Zfv1r3/tiHC3bt1ypbBDpPjIQuYh8RDANIk89yXDAgQ8qG6mkVoOYjFlyhRH/FHyUdryUvXKV+hDFUZZjxJsGCT+3u5QiQVIHM8yi4OnnnrKVXKjX3/9619dRpdCv/lbb73lFndZ9gAzL327e/fuba+++qoIcByTRNdIHAER4MQh1g2EQHYQ4MP7yiuvOHvEvffe64gIRPjwww93xQ6yeuDLhfgS7AT5IcNBJclPoboJEfXqZhKWHYg/XleCvPKsehYGG7JwADcsLA3h5hV/fM55I/71PU8sAkjvOHz4cOvTp49dfPHFVZObWwQ4q29Qtas+BESANS+EQAAB1CmCyUgxNnHiREc4NttsM1eSedddd60qrPAPY4247rrrXBDRQQcd5ILmOnTokKqq2hio4I/iifIJQU+6kleUAUbdZJsfYgMxRq2DpMdRPjiY0zYLxD8KPg39hkUNmKGoc3hVOFipzfuc8RVD/ME2TcU/zv4yl7Ejkd0GXy+7MYX5u+O8XyWuJQJcCdR1z6gIiABHRU6/q0oESE+EIkUACjYBVEbSi91zzz1OsenevXvV9ZsPM33jg/z000/b9ttv71Th/fbbb3HxiLQ77Ys5EGCDX5QqZiuttFKmyQ+LJxYV2CPIbEKBCOYS7S41lVownzEZASD+1RTAGJxP9ZVdRhGG/Gbd5xzmuWAuYwsgpy8Lucsuu8w9X0nsFIRpT5LniAAnia6uHTcCIsBxI6rr5RoBPsak1QoGVfEBo/oS29zPPvtsrvvXWOPpJ6o39ojbb7/dUOKOPvpo94fApbSUN/KgEuREueKkijkkPYi+fDBZJCgU4VOpFSsUwRhAorF7cED8ya2bFvZJ41Ls+j6lHXOAPqMKMweymIKuWF/4e0g8u0c33XSTHXrooS7grZpzc4sAh5kVOicrCIgAZ2Uk1I5MI0A+YiKy8WHWwoGCecsttzhVGAvCvvvu6+wRVOQrVc0Mi1cwyImtboLcihHGsNeu1HlkKoAEowr7QhFYGVB1C0ktlgCIP6SJfMbrrbdeVaqEDY0L9k70AAAfH0lEQVSFX/iAk+87FglS0KGiezU9D4sBfMt33323nXfeec66w6KSLA95aHs5z4oIcDno6bdpIyACnDbiul/uEOBj1r59e7cNTV7dWjro+7/+9S/3AX/kkUds0003dUQYv3AcHlewRHUn/yklX0mVBc5pZFVIcxx9oQiIMH5r1HUIHQonh/c5Y5ug/3Fhm2Yfo94rmM+ZhQ9eX1RzDnDzajp2iFLU9KjtKfd3LGL69u1rY8aMsXPPPdfl9837Qi4sJiLAYZHSeVlAQAQ4C6OgNmQagauuusp90J577jn71a9+lem2JtU4iMjkyZNddap//vOfLtcnmSNI1I9aF0XZCm738+8QnzStFklhVey6KN0omwTO4b/mwGtOYBTFNmrlYMzBAZ83BJH+o4w3dHg1Hdywx/jCJCisUeZf3DjTpoEDBxrvCwJmyem7wQYbxH2bTF9PBDjTw6PGFSAgAqwpUfUIsJ3PNnSxAyJXqNRQUW333Xd3ASx83HSYIx9s72KPoOTyHnvs4YJ6+OiHDexhWxs7CWOzzjrruC3/cooj5G1cUDVRCvknhTXY9sd3jiqM5zcpm0lWcGLcvc8bkki/w/a5vrLLeKxRj71ynGY/ac8TTzzhcvqyoCGnb48ePUL3J822JnEv3gePPvqouzQ7RaSro7AHx0477VRTi7ok8NU1k0NABDg5bHXljCBAFoejjjqqaGvGjRtnW2yxxeLzxo8f7xRfikVA+LKgMhXtRIon8OF/8cUX3UePylVrr722U4R79erVoJLHdjcfSJQ/FDyCvPIa4BQFalRMFE9UTIKh6D8EmOwj/DcWahBBCB2kkL+rpiPYf+wfqP7l2AOYT15N59/BFNyw0KTxvDJmf/zjH5096A9/+INddNFFuSlOEte8YmcI8aC+g6Dhrl27xnUrXUcIxIqACHCscOpi1YIAJK1z585uW/bxxx+viLKUFywhwvgzb7jhBle+lWCmnj17Oq9wu3btHBGBnIwePdp1CVKHzzXLhTfixr5wu7+h/qMggiVeYYLisrbNHxUXn9aOEs6otFSxi3P8uT5FUiCkeKxJGec91knsLEDksQOR0ow84SwCWTynQbqjjoF+JwSEQF0ERIA1I4RAAQIQkB133NEpOVgg8lJuNgsDCTF44IEHHCEYOXKkdenSxf254447XEATW8WlbHdnoU/ltiGY3SDsdj9YYROACE+dOtWp5ODGNn8lK+BFwQK7y6RJk5zKnUZau6DHmgBLfOVgF8dzzLhQSvzUU091ynP//v3t2GOPDW39iYKffiMEhEAyCIgAJ4OrrppTBPBiUggCBZhcuIU5O0kDpqM4AhAFfIEnnXSSy/BAdTm8wqjCtZLXluplKJ7YGspJ61a4zQ+hI5VaHISu+EhGP4PFEM8Rqixj7u0e0a9Y2i8J1KSENPdHHQ5TdrmxO0yfPt0uvPBClx4Qm8+gQYNcv3QIASGQTwREgPM5bmp1Qgg05mfjlhA7HY0jgNKHMkZJadRffJGoZpSBhQwTIAQR7tixY1VuGUO8UG4hf6Q7Y7s/jrRuzD0IHdeOg9AlNY+9JYZiHtgP6D/p3Sp5EKgFEabssi9Xjc86THU9xpMdjPPPP99ZUgj+JLhLdodKjqjuLQTKR0AEuHwMdQUhIAQCCLz00ktOIaPqFQU0PFFgOxoLBPaIxx57zLbcckuXPeKAAw6omkA4iCnZLVBtKeQByUqCKAUJHdCjMLPNX+n8wSx+yO6AfQO7Axk+wmZ3SOMhgsxiKYEMY01pLPMGRBnrxmmnnWavvfaaI8BkeqhEpok0sNE9hECtISACXGsjrv4KgRQQIJiroeAjiAXqKEoaGTogSEceeaTzUpJJIgnCmHSXsc6geFLGGHsCXt80vLosKiB0qMKkVENp5f5UTksTR8bbF/PIS3aPwswbWFaYfyjWBCBefvnlLpcvWWCuvvrqBjMdJD23dH0hIASSQUAEOBlcdVUhIARCIAAJufPOO50qPGHCBNtrr73shBNOcFvMWVIOG+pKsIodnlzIE9XsKnGguqJs+oppKMIo0EkqlixmIOCQf8aL/kO+83QwhmCGwjt06FC3M8H/J6c1RS3222+/VBcTecJObRUCeUZABDjPo6e21wQCTz31lN10003OR4vK1qdPH7vmmmuqqu9sTY8aNcoR4WHDhjkFFXvEoYcemslgL+/Hxe5A27NUxY7gM7yukGGUaQI5UYXjzo2LSordASsBhUz4E7YQShYn75QpU1xOX2wPxAKAG3PwmGOOcQuJrB8sQk4++WR74YUXnPf8kEMOcSp2LeXZzvoYqX3ZQkAEOFvjodYIgZ8hgAeRXMRkoCDF2GGHHVZ1BNh32ufLJZ8weYUhWZBgiAi5c9Pc1m9oKtImyAZ+XzyuFAFIItdsuY8CWJK5AHuEz40LESaLRDntRTFlIUZAI5YLxqXS3uNysMKvjR2HwE1y+bIIwwpB4BuBm5B8/huBm1k9WIRsuummbj5ecMEFzorDe4PMK2Sz0SEEhMDPERAB1qwQAhlHAIXR2wFQ2bp37161BDg4FBATKsxBTiiisfPOOzsSsueee5ZF4KIONz7XDz/80BE/ijhA/FDa8nCQGxdFmNy1zCeqsGGRCJMFIbg4gUijenPQ/zynAfOVDMnpi+UBtfToo4+uY73hHOYeeLErkdXjiiuusIsvvtjNTW9BwVrEYnnixImuoI8OISAE6iIgAqwZIQRyhEAtEeAg8Ro7dqwjwnfddZdLRUXAHIFzafhNgz5XFGiIH23Ighpd6tSF/KIOogr7LAiowvSnMc81WSdQQlGUmYOo3nm2O5BODqUUdfSII46wgQMHOgzyeuCZX2655eyhhx5a3AWC+rC9UK2O7BU6hIAQEAHWHBACuUWgFglwcLCwHdx4441ua5oCE6RQQxUmcCkJQkoVMxRPAsyqwecaxJIARIgwOEJmfdAcpar9gd0BPyx/SBmWJ9W7voecBQCkl4A3rCAsqshVncTcSfMlgxKPeo2KHTzat2/vCvsMGTIkzeboXkIgFwhIAc7FMKmRQuBHBGqdAAeJ2YgRI5w388knn7Rtt93W+YQpstGqVauyp0uwille0npF7TTWDkgwZBill/6iCvPf8TpDGr3dIa9EERUfKwB2hzfeeMOpv3379k00Q0bU8YjyO1LuXXLJJXb22WfX+Xnnzp2dTYXAUh1CQAhIAdYcEAIVRQA1EcJR7GCbuZDMiQDXRQ1iA0mDCN96660Or969ey+O3C+VsHE9MihQwpj0YRC/SlcxKzZP4vp7+o4tArUXiwAHXmdUxKAqHNf90roOSveAAQOcb/43v/mN/e1vf3MLyWo6IMCXXnqpnXXWWXW6teOOOzql+/7776+m7qovQiAWBKQAxwKjLiIEwiNA8Yejjjqq6A/GjRvnotKDhwhww7BhV7jtttvctjZ+1b333tvZI1DBwuQUZmHC78jyQBUzMgGE+V3RgczJCSi9kF8C/chlTF5jgt4IRiQIDFW4UjmOo0AIoX/kkUdcajMWQuT03WeffXJvd6gPC1kgoswQ/abWERABrvUZoP7nCgER4OLDBZF7/vnnneJHUBDFGbBH9OzZs96sBxC89957z2VIgOhRwjjPimdxhH5+Bt5qyD+2h4022siphpBGsEQNJoME5xBUBRGGcGU5CI5sCGeeeaazx2B1wPJQSsaLKBhW8jcKgqsk+rp3XhEQAc7ryKndNYmACHD4YUcBxNdKwBxBQBDdXr162XHHHedILj5fStyyxU8EPUSZQK9aOkiPRpAfSq8v4dxQjmCUcYgwFhHIMcUhCJzLUqEFxpjyxQSDbb311m43gPEt1QqTtzlAGjQ8wD43M+2/++67XTEMpUHL22iqvWkhIAKcFtK6jxCIiAAftTFjxrhfn3jiie7DTnUqDrIg6CiOABXRKHMLIaKiHrYIyBzq5j//+U9XgrnaSVIQJZRdKp9R0AJbQyklnH3pYBYX2E5IRQd5xitdKQx9vl7UXtK8kdaMNHm1YmHxhTBYIAcLYXTr1k2FMIq/HnRGjSIgAlyjA69u5weBxjzDfPh1hEcA0svigfLS+HwJHiIP7OGHH+4CvmrhIJcvdgcUcEo4Y/uISlzxTYMphSQIQEQRXn311VPNroB6TVozCj/4VGC1ErgYnK8Eg/7hD39wJcWpzIf6izKcJYW+Fp4v9TE/CIgA52es1FIhIAQiIsBCYdCgQa5aVocOHZw/mC18cgpfd911zgJw0EEHuaA5/j4qIYzYvFR+RmEESBJk1dsdWADEcWA9wBoBGeY+bdu2dfcgkC4pLFGiyfyB4sm9yARC1oOk7hcHTrqGEBAC2UFABDg7Y6GWCAEhkCACkFsIEj7g4NY4gV/Dhw939oinn37adthhBxc0t++++6aqZCbVdewO2BXef/99FwiG3QFimsTBQoNgOYgwiwrsFZBTguriCprjHhMmTHA5fflnv3797JRTTnFqvg4hIASEQFgERIDDIqXzhIAQqGoEIFZvvfWWI8JUC4Mskq6ObXWfFSFvAHz99dfO7oAqi90Be0JaCim+azJrQIbBlntjkVhqqaUiw4jnmNK+gwcPdmnuyOlLujodQkAICIFSERABLhUxnS8EhEDVI4C39ZZbbnFkmEAx1GAU5O222y4XgVUQXop5UHAFqwdZLyjsUYkDBXrq1KmOCBOshdcaVZjgubBBalzj4Ycfdjl9UXrJ3kFRi7TIfCVw0z2FgBBIFgER4GTx1dWFQO4RwDd68skn2wsvvODUO4JrSDNVC8E1EK9//etfzl9KUYVNN93UEWH8wgQaZe1AaYVokteY8dlkk01c7t6sHCi42DHwIZNuDUUYgt5Y+WoKc5xxxhnOnnL66ae7gLdyVOSsYKF2CAEhUFkERIAri7/uLgQyjYBPr7TOOuvUSa+0xx571FR6JYglVdLYeidtGsSYzBHkFKZkdRaUSMYKuwPWAxRfyGUW2lXfBCcDBeo0ZH3mzJmusAbtJR+zV4VRsVF6yWTQqVMntwhp165dpp8XNU4ICIH8ICACnJ+xUkuFQOoIQD7InEAuYrasOUg3ddhhh9Vsgn0IG0UGIGSUq2YxgCq8yy67xBboVcpAByvZ4bPF61spu0Mp7eZcFhb4lCHCr732ml155ZUuSJES4Ci9BNSRvYPFRli7RKlt0PlCQAjUJgIiwLU57uq1EAiFgEqsNgwT5O3FF190RPi+++5zwVgowhA4lMykD+5PkBl2BywE2B3SuG9S/YIEQ4Dvv/9+w4O98cYbuxR1FC3J80HO6ZtuuskVYMFP3qdPH5eGT4cQEAKVRUAEuLL46+5CINMIsDXtiwsEG0p52e23396VGK71AyKKp/WGG26w66+/3gV69ezZ06nCbNknYUP49ttvbdKkSc4+sMEGGzj7QJ4VUnL6QhJJaYalhAqHzzzzjPP9QoCpgAimSWCZ9Pw97bTT7PHHH3cBlA888IDbPREBThp1XV8IFEdABLg4RjpDCNQsAkTcX3LJJXb22WfXwQBSAjkeNmxYzWJTX8fxtkJyUIVHjhxpXbp0cUS4e/fuseSp5foovqilVHDD7tBYAFnWB4fFw/jx411OXwj9RRdd5KqZESDHgaf52muvdf7rBx98MOvdqbd9+MX94oRSxcwFEeBcDqUaXWUIiABX2YCqO0IgTgQgwJdeeqmdddZZdS5LQQly47JdrePnCHhiRxq1O+64w1kTKMHcu3dvt3AoVcnkelRaI7UZ/l6KWeS9dDMqNnMLgrv//vvbX/7yF5cerZoPEeBqHl31LW8IiADnbcTUXiGQIgKyQJQPNkFebO+TQWLKlCnWo0cPpwp37NgxFBEmdRhKKP9cf/31ndc4z3YHFFHUXBZVpGoj08Oee+4ZCovyR6OyVxABriz+ursQCCIgAqz5IASEQIMIKAguvsmBz/WJJ55w9ojHHnvMttxyS1dyGb9rfTmVsTsQNEXeXBYiG220kbVu3Tq+BlXgSpRjJqfvc889Z2eeeaade+65mcynnBQ0IsBJIavrCoHSERABLh0z/UII1AwCpEHDA0watBVXXNH1mxRgFMOYOHGiyzygozQEsDNABLFH3HzzzU7NPfLII+3YY4916i5/T65hAtvatGnj7A4e+9LulJ2zZ8+e7coWk9Jshx12cB7YvM4dMlSQw7jYQTBfoT9bBLgYavp7IZAeAiLA6WGtOwmB3CHgC2Hw4b7gggvsiy++MKLau3XrVlOFMJIauO+//97lVUYVnjBhgsslTEYJvL5YJg488MBc2x0g888//7z17dvXpTYjzdmhhx6a6z6xaDnqqKOKTglyRJPPOHiIABeFTScIgdQQEAFODWrdSAjkEwFKIROZP2rUKLddjfqLMlwLpZDTGjECwvAF33PPPU75RfGl+ANkcZlllkmrGbHeByKPxWHo0KHO6tG/f39bfvnlY71H3i4mApy3EVN7qxkBEeBqHl31TQgIgcwjAEFEIcXfS0BYhw4dXD5h8gr/8MMPjgRDICkMUWr2iEp0Hq/zjTfe6FKaEbSH1WPbbbfNRduTxksEOGmEdX0hEB4BEeDwWOlMISAEhEDsCKD0EuBGUFgwyG3OnDkuzRwEcvTo0bbzzjs7lZiMCT5PbuyNKeOC2B1ef/11O+WUU5yFgxLaVD3LYlvL6GbJP8U/P2bMGPc7CnpsvfXWLiUeBwGQOoSAEKgMAiLAlcFddxUCQkAIOAQgjo0pu/z92LFjHRG+6667bOWVV3YBcwTOrbTSSplAEX8vwZIo15C6P//5z7bGGmtkom2VbkRjnmHGVocQEAKVQUAEuDK4665CQAgIgZIR+Oqrr5y9gOIRZCKAbKIKk1KtEvYIcvpSDZBKgUsvvbSzcBAgWYm2lAymfiAEhEBNIyACXNPDr84LgXwiQDlgMgq89NJLLnsCqcL4Z60c+GxHjBjhskc8+eST1qlTJzvuuONckY20SiMzBmQEITiSohaQYAVG1soMVD+FQP4REAHO/xiqB0Kg5hB46KGH7KSTTnLEjywVKJG1RID9gLOF/vbbbzt7xK233urIL+WW8ZhiQUhCiSWnL2WLWYB06dLF5fQlQE+HEBACQiBPCIgA52m01FYhIAQcAhBeXw4Ywvfqq6/WJAEOTgdKJd92222ODFM6ee+993b2iM6dO8eSdxey/cwzzzjVl/zFkOCDDz44lmtrWgsBISAE0kZABDhtxHU/ISAEYkVABLgunCwOKD6BMotSjj2ENGo9e/Z0Pt0oBzl9sTjg9z3hhBPs0ksvteWWWy7KpfQbISAEhEAmEBABzsQwqBFCQAhERUAEuH7kUGw//vhjFzA3ZMgQmzt3riuuQQaJX/ziF6HsEfPnz3f5iMnwsOGGGzp1eZtttgn126jjqd8JASEgBNJAQAQ4DZR1DyEgBBJDQAS4OLSzZs1yFdkgsK+88or9+te/dqrw7rvvbs2aNfvZBXzqNXL6fvjhh44Ao/zWek7f4kjrDCEgBPKCgAhwXkZK7RQCQqBeBESAw08MiC0EmOwR9957r62++uouewTK8AorrOAuNGPGDFfFDdUYjy/BbpynQwgIASFQTQiIAFfTaKovQqAGERABjjboU6dOdTmFr7vuOps2bZodeOCBi0sXL7PMMo4k77bbbrm3O5AyjsIcpI2bOHGiYevYbLPNrF+/frbrrrtGA0+/EgJCIPcIiADnfgjVASFQ2wiIAJc3/hDC4cOHW//+/e21116zc845xy688MI6ZZnLu0Nlf03GijXXXNNVzsP60aJFC6M62z333OP63b1798o2UHcXAkKgIgiIAFcEdt1UCAiBuBAQAY4HSewR5FJGHa2mAwX422+/teWXX35xt+grwXwo3c8++2w1dVd9EQJCICQCIsAhgdJpQkAIZAeBmTNn2qOPPuoaxFb9+++/7/LScuy000628sorZ6exakkmEaBYCFXsKCSiQwgIgdpDQAS49sZcPRYCuUdg8uTJtt5669XbDxS9rl275r6P6kByCJAruX379q6C3YMPPpjcjXRlISAEMouACHBmh0YNEwJCQAgIgSQQuOqqq6xv37723HPP2a9+9askbqFrCgEhkHEERIAzPkBqnhAQAkJACNRF4JtvvrHPPvusKCzsErRq1arOeVTJI/8xOY4HDhxY9Bo6QQgIgepEQAS4OsdVvRICQkAIVC0CZHE46qijivZv3LhxtsUWWyw+b/z48U7x7datm9199925T/FWFACdIASEQIMIiABrcggBISAEhEDVI0CgZOfOnW2TTTaxxx9/3Fq2bFn1fVYHhYAQaBgBEWDNDiEgBIRADAhQaviOO+5wuXSnT59uG2ywgf3+97+33/3ud9a0adMY7qBLREXg888/tx133NGlPcMCwT91CAEhUNsIiADX9vir90JACMSEwHbbbWfrrLOO7b///ta2bVuXX3bAgAF26qmn2qBBg2K6iy5TKgKzZs2y7bff3qXKu/32293YBA/GTYcQEAK1h4AIcO2NuXosBIRAAgh8+eWXP8s/fNppp9ngwYNtxowZPwvGSqAJumQ9CDSWMo/TKYqhQwgIgdpDQAS49sZcPRYCQiAlBG677TY74ogj7NNPP7XVVlstpbvqNkJACAgBIVAMARHgYgjp74WAEBACERE4/vjj7f7777cvvvjCmjVrFvEq+pkQEAJCQAjEjYAIcNyI6npCQAgIATN79dVXnfe0X79+dv755wsTISAEhIAQyBACIsAZGgw1RQgIgepAgKwDnTp1sjXXXNNVG2vRokV1dEy9EAJCQAhUCQIiwFUykOqGEBAC2UCAKmVdu3a12bNn26hRo2zFFVfMRsPUCiEgBISAEFiMgAiwJoMQEAJCICYEIL1UGXv33XftxRdfdGnRdAgBISAEhED2EBABzt6YqEVCQAjkEIH58+dbjx49bOTIke5Phw4dctgLNVkICAEhUBsIiADXxjirl0JACCSMABXfrr/+ehs4cKB16dKlzt3atWun6mMJ46/LCwEhIARKQUAEuBS0dK4QEAJCoAEE1l13Xfvoo4/q/VuqwuEL1iEEhIAQEALZQEAEOBvjoFYIASEgBISAEBACQkAIpISACHBKQOs2QkAICAEhIASEgBAQAtlAQAQ4G+OgVggBISAEhIAQEAJCQAikhIAIcEpA6zZCQAgIASEgBISAEBAC2UBABDgb46BWCAEhIASEgBAQAkJACKSEgAhwSkDrNkJACAgBISAEhIAQEALZQEAEOBvjoFYIASEgBISAEBACQkAIpISACHBKQOs2QkAICAEhIASEgBAQAtlAQAQ4G+OgVggBISAEhIAQEAJCQAikhIAIcEpA6zZCQAgIASEgBISAEBAC2UBABDgb46BWCAEhIASEgBAQAkJACKSEgAhwSkDrNkJACAgBISAEhIAQEALZQEAEOBvjoFYIASEgBISAEBACQkAIpISACHBKQOs2QkAICAEhIASEgBAQAtlAQAQ4G+OgVggBISAEhIAQEAJCQAikhIAIcEpA6zZCQAgIASEgBISAEBAC2UBABDgb46BWCAEhIASEgBAQAkJACKSEgAhwSkDrNkJACAgBISAEhIAQEALZQEAEOBvjoFYIASEgBISAEBACQkAIpISACHBKQOs2QkAICAEhIASEgBAQAtlAQAQ4G+OgVggBISAEhIAQEAJCQAikhIAIcEpA6zZCQAgIASEgBISAEBAC2UBABDgb46BWCAEhIASEgBAQAkJACKSEgAhwSkDrNkJACAgBISAEhIAQEALZQEAEOBvjoFYIASEgBISAEBACQkAIpISACHBKQOs2QkAICAEhIASEgBAQAtlAQAQ4G+OgVggBISAEhIAQEAJCQAikhIAIcEpA6zZCQAgIASEgBISAEBAC2UBABDgb46BWCAEhIASEgBAQAkJACKSEgAhwSkDrNkJACAgBISAEhIAQEALZQEAEOBvjoFYIASEgBISAEBACQkAIpISACHBKQOs2QkAICAEhIASEgBAQAtlAQAQ4G+OgVggBISAEhIAQEAJCQAikhIAIcEpA6zZCQAgIASEgBISAEBAC2UBABDgb46BWCAEhIASEgBAQAkJACKSEgAhwSkDrNkJACAgBISAEhIAQEALZQEAEOBvjoFYIASEgBISAEBACQkAIpISACHBKQOs2QkAICAEhIASEgBAQAtlAQAQ4G+OgVggBISAEhIAQEAJCQAikhIAIcEpA6zZCQAgIASEgBISAEBAC2UBABDgb46BWCAEhIASEgBAQAkJACKSEgAhwSkDrNkJACAgBISAEhIAQEALZQEAEOBvjoFYIASEgBISAEBACQkAIpISACHBKQOs2QkAICAEhIASEgBAQAtlAQAQ4G+OgVggBISAEhIAQEAJCQAikhIAIcEpA6zZCQAgIASEgBISAEBAC2UBABDgb46BWCAEhIASEgBAQAkJACKSEgAhwSkDrNkJACAgBISAEhIAQEALZQEAEOBvjoFYIASEgBISAEBACQkAIpISACHBKQOs2QkAICAEhIASEgBAQAtlAQAQ4G+OgVggBISAEhIAQEAJCQAikhIAIcEpA6zZCQAgIASEgBISAEBAC2UBABDgb46BWCAEhIASEgBAQAkJACKSEwP8D0yMiLBpBu/YAAAAASUVORK5CYII=\" width=\"639.9999861283738\">"
      ],
      "text/plain": [
       "<IPython.core.display.HTML object>"
      ]
     },
     "metadata": {},
     "output_type": "display_data"
    }
   ],
   "source": [
    "# create data\n",
    "n_samples  = 300\n",
    "x, y      = datasets.make_regression(n_samples=n_samples, n_features=2,n_informative=3, noise=80, random_state=0)\n",
    "X         = np.append(x,y[:,None],1) \n",
    "\n",
    "print(X.shape)\n",
    "\n",
    "x -= np.mean(x, axis = 0)\n",
    "fig = plt.figure()\n",
    "ax = plt.axes(projection='3d')\n",
    "ax.scatter3D(X[:,0], X[:,1], X[:,2])\n",
    "plt.show()"
   ]
  },
  {
   "cell_type": "code",
   "execution_count": 123,
   "metadata": {
    "ExecuteTime": {
     "end_time": "2019-03-30T05:02:47.670045Z",
     "start_time": "2019-03-30T05:02:47.663038Z"
    }
   },
   "outputs": [
    {
     "name": "stdout",
     "output_type": "stream",
     "text": [
      "-0.23122999999999996\n",
      "0.23122999999999996\n",
      "32132.0\n",
      "-32132.0\n",
      "-0.0030211480362537764\n",
      "-0.0030211480362537764\n"
     ]
    }
   ],
   "source": [
    "def g (x): return x*(1/3)\n",
    "def gg(x): return x*3\n",
    "\n",
    "def g_grad(x): return ((1/3)*(x*np.sign(x))**(1-(1/3)))*np.sign(x)\n",
    "def gg_grad(x): return 3*x**2\n",
    "\n",
    "print(gg(g(-0.23123)))\n",
    "print(gg(g(0.23123)))\n",
    "print(gg(g(32132)))\n",
    "print(gg(g(-32132)))\n",
    "print(gg(g(-1/331)))\n",
    "print(-1/331)"
   ]
  },
  {
   "cell_type": "code",
   "execution_count": null,
   "metadata": {
    "ExecuteTime": {
     "start_time": "2019-03-30T05:14:23.554Z"
    },
    "code_folding": [
     4
    ]
   },
   "outputs": [
    {
     "name": "stdout",
     "output_type": "stream",
     "text": [
      "Current loss: 33.581027941349  Weight : [-0.466554966   0.9686152409 -0.0503870855  0.8844922067  0.2485649111\n",
      "  0.9987297641]\n",
      "Current loss: 1.4545320758397262  Weight : [ 0.9999938553 -0.9999938553 -0.0035056306  0.0035056306 -0.0035056306\n",
      "  0.9999938553]\n",
      "Current loss: 1.4571836283364679  Weight : [ 0.9999933116 -0.9999933116 -0.0036574175  0.0036574175 -0.0036574175\n",
      "  0.9999933116]\n",
      "Current loss: 1.4602183832828697  Weight : [ 0.9999808785 -0.9999808785 -0.0061840594  0.0061840594 -0.0061840594\n",
      "  0.9999808785]\n"
     ]
    }
   ],
   "source": [
    "# simple objective\n",
    "w1 = np.random.uniform(0,1,size=(2,2))\n",
    "w2 = np.random.uniform(0,1,size=(2,3))\n",
    "\n",
    "def _sym_decorrelation(W):\n",
    "    \"\"\" Symmetric decorrelation\n",
    "    i.e. W <- (W * W.T) ^{-1/2} * W\n",
    "    \"\"\"\n",
    "    s, u = np.linalg.eigh(np.dot(W, W.T))\n",
    "    # u (resp. s) contains the eigenvectors (resp. square roots of\n",
    "    # the eigenvalues) of W * W.T\n",
    "    return np.dot(np.dot(u * (1. / np.sqrt(s)), u.T), W)\n",
    "w1 = _sym_decorrelation(w1)\n",
    "w2 = _sym_decorrelation(w2)\n",
    "w1 = w1 / np.sqrt((w1**2).sum(0))\n",
    "w2 = w2 / np.sqrt((w2**2).sum(0))\n",
    "\n",
    "m1 = np.zeros_like(w1)\n",
    "m2 = np.zeros_like(w2)\n",
    "\n",
    "# simple objective\n",
    "for iter in range(4000):\n",
    "    \n",
    "    y1= X @ w1\n",
    "    y2= g(y1)\n",
    "    y3= y2 @ w2\n",
    "    y4= g(y3)\n",
    "    y5= gg(y4)\n",
    "    y6= y5 @ w2.T\n",
    "    y7= gg(y6)\n",
    "    y8= y7 @ w1.T\n",
    "    \n",
    "    loss = np.sqrt((X-y8)**2)\n",
    "    \n",
    "    dgrad_loss = (X-y8)/(np.sqrt( (X-y8)**2) + 1e-8)\n",
    "    dgrad_w2T  = y5.T @ ((dgrad_loss @ w1) * gg_grad(y6))\n",
    "    dgrad_w2   = y2.T @(((dgrad_loss @ w1) * gg_grad(y6) @ w2)*gg_grad(y4) ) + dgrad_w2T.T\n",
    "    \n",
    "    dgrad_W1T  = y7.T @ dgrad_loss\n",
    "    dgrad_W1   = X.T@((((((dgrad_loss@w1)* gg_grad(y6))@w2)*gg_grad(y4)*g_grad(y3))@w2.T)*g_grad(y1)) + dgrad_W1T.T\n",
    "\n",
    "    m1 = 0.9 * m1   + (1-0.9)   * dgrad_W1\n",
    "    m2 = 0.9 * m2   + (1-0.9)   * dgrad_w2\n",
    "    \n",
    "    if iter%1000 == 0 : print(\"Current loss: \" + str(loss.mean()) + \"  Weight : \" + str(w2.ravel()))\n",
    "    w1 = w1 - 0.000008 * m1\n",
    "    w2 = w2 - 0.000008 * m2\n",
    "    \n",
    "    w1 = _sym_decorrelation(w1)\n",
    "    w2 = _sym_decorrelation(w2)\n",
    "    w1 = w1 / np.sqrt((w1**2).sum(0))\n",
    "    w2 = w2 / np.sqrt((w2**2).sum(0))\n",
    "    \n",
    "recon = y8\n",
    "# plt.scatter(y4[:,0],y4[:,1]); plt.show()\n",
    "plt.scatter(X[:,0],X[:,1]);         plt.show()\n",
    "plt.scatter(y8[:,0],y8[:,1]);         plt.show()"
   ]
  },
  {
   "cell_type": "code",
   "execution_count": 101,
   "metadata": {
    "ExecuteTime": {
     "end_time": "2019-03-30T04:59:49.753868Z",
     "start_time": "2019-03-30T04:59:49.750822Z"
    }
   },
   "outputs": [
    {
     "name": "stdout",
     "output_type": "stream",
     "text": [
      "(200, 2)\n"
     ]
    }
   ],
   "source": [
    "print(y4.shape)"
   ]
  },
  {
   "cell_type": "code",
   "execution_count": null,
   "metadata": {
    "ExecuteTime": {
     "end_time": "2019-03-30T04:55:38.336460Z",
     "start_time": "2019-03-30T04:55:38.198806Z"
    }
   },
   "outputs": [],
   "source": []
  },
  {
   "cell_type": "code",
   "execution_count": null,
   "metadata": {},
   "outputs": [],
   "source": []
  },
  {
   "cell_type": "code",
   "execution_count": 175,
   "metadata": {
    "ExecuteTime": {
     "end_time": "2019-03-30T05:13:34.167891Z",
     "start_time": "2019-03-30T05:13:33.925498Z"
    }
   },
   "outputs": [
    {
     "name": "stdout",
     "output_type": "stream",
     "text": [
      "(200, 2)\n",
      "(200, 2)\n",
      "-1.744011651702943   59.43445833173476   -247.6790298909393   288.82236094566673\n",
      "0.059170886847916895   6.606406184951791   -24.18528386153794   20.688867296907766\n",
      "EVD basis vector :  [0.0087124428 0.9999620459]\n",
      "MY  basis vector :  [0.0053035781 0.9999859359 0.9999859359 0.0053035781]\n",
      "[[1. 0.]\n",
      " [0. 1.]]\n",
      "MY  basis vector :  [0.6672170756 0.7448633257 0.7448633257 0.6672170756]\n",
      "[[1. 0.]\n",
      " [0. 1.]]\n"
     ]
    },
    {
     "data": {
      "image/png": "[encoded data removed]",
      "text/plain": [
       "<Figure size 432x288 with 1 Axes>"
      ]
     },
     "metadata": {
      "needs_background": "light"
     },
     "output_type": "display_data"
    },
    {
     "data": {
      "image/png": "[encoded data removed]",
      "text/plain": [
       "<Figure size 432x288 with 1 Axes>"
      ]
     },
     "metadata": {
      "needs_background": "light"
     },
     "output_type": "display_data"
    }
   ],
   "source": [
    "gt_compare = X @ evecs\n",
    "my_compare = y4\n",
    "print(gt_compare.shape)\n",
    "print(my_compare.shape)\n",
    "\n",
    "print(gt_compare.mean(),\" \", gt_compare.std(),\" \", gt_compare.min(),\" \", gt_compare.max())\n",
    "print(my_compare.mean(),\" \", my_compare.std(),\" \", my_compare.min(),\" \", my_compare.max())\n",
    "\n",
    "print(\"EVD basis vector : \",(good_project*np.sign(good_project)).ravel())\n",
    "print(\"MY  basis vector : \",(w1*np.sign(w1)).ravel())\n",
    "print(w1@w1)\n",
    "print(\"MY  basis vector : \",(w2*np.sign(w2)).ravel())\n",
    "print(w2@w2)\n",
    "\n",
    "# plt.scatter(range(len(gt_compare)),gt_compare); \n",
    "# plt.scatter(range(len(my_compare)),my_compare); plt.show()\n",
    "\n",
    "plt.scatter(gt_compare[:,0],gt_compare[:,1]);         plt.show()\n",
    "plt.scatter(my_compare[:,0],my_compare[:,1]);         plt.show()\n",
    "plt.show()"
   ]
  },
  {
   "cell_type": "code",
   "execution_count": 163,
   "metadata": {
    "ExecuteTime": {
     "end_time": "2019-03-30T05:11:12.849814Z",
     "start_time": "2019-03-30T05:11:12.838844Z"
    }
   },
   "outputs": [
    {
     "name": "stdout",
     "output_type": "stream",
     "text": [
      "[[ -4.9886292053  -4.3503816299]\n",
      " [-12.1837537347 -10.8998528023]\n",
      " [ -2.85375224    -2.5787563917]\n",
      " [ 11.2602201164  10.0603801943]\n",
      " [ -1.6896430068  -1.3599405577]\n",
      " [  8.7894248088   7.693006555 ]\n",
      " [-15.1900830953 -13.264077209 ]\n",
      " [  1.1173323398   0.9228332093]\n",
      " [ 10.6348139096   9.356924537 ]\n",
      " [ -8.285554567   -7.2678289332]\n",
      " [ -6.3956254132  -5.5699788547]\n",
      " [  3.5292411759   3.0965985408]\n",
      " [-14.4443416999 -12.5229366231]\n",
      " [-10.3000378949  -9.032724542 ]\n",
      " [  4.6952042465   4.0477801373]\n",
      " [ 12.4544090957  10.8193196327]\n",
      " [  1.3087126304   1.1819215263]\n",
      " [  4.9998056236   4.1488547971]\n",
      " [ 19.8335476246  17.2923616163]\n",
      " [  1.6122810181   1.5247223897]\n",
      " [ 11.5990025033  10.0938645587]\n",
      " [  4.5732304362   3.7559933986]\n",
      " [ 13.1679922892  11.6888611137]\n",
      " [  1.8309658056   1.5698703207]\n",
      " [ 12.8545985564  11.2344965207]\n",
      " [ 20.6888672969  18.1476930689]\n",
      " [ 10.2718998712   8.7783113909]\n",
      " [ -0.0407950841  -0.0854649762]\n",
      " [ 12.3724611704  10.9732498753]\n",
      " [  8.3466544989   7.1407678938]\n",
      " [-10.097320606   -8.7806090229]\n",
      " [ -0.0373991267   0.0527768254]\n",
      " [ -8.9557398053  -7.7501994071]\n",
      " [ 12.6762293194  11.1337880332]\n",
      " [-17.3322084225 -15.3014176984]\n",
      " [ 10.4059086265   9.1171401119]\n",
      " [ 12.4540574902  10.9723661947]\n",
      " [  1.703860787    1.5638231631]\n",
      " [-13.6520127016 -12.0588983839]\n",
      " [  1.0771243803   1.1364977516]\n",
      " [ -4.2821287598  -3.9362922019]\n",
      " [  1.8599492121   1.5825477517]\n",
      " [ -4.6021930553  -3.8096631021]\n",
      " [ -1.9223339862  -2.0290441916]\n",
      " [  5.7385352662   5.0393477302]\n",
      " [-16.3274906254 -14.3825490496]\n",
      " [ 14.9575667989  13.0213266868]\n",
      " [ -2.1790218629  -1.7969287895]\n",
      " [  4.4703822342   3.6847443846]\n",
      " [-12.1684879397 -10.8024848845]\n",
      " [  7.2179947942   6.5060938837]\n",
      " [-14.3590954588 -12.4649118934]\n",
      " [-13.2034750684 -11.7242720429]\n",
      " [ -8.3880499236  -7.5379910392]\n",
      " [  1.0984185777   0.8007506178]\n",
      " [  3.3408870473   2.8895616537]\n",
      " [-11.2988466909 -10.0313044163]\n",
      " [-24.1852838615 -21.0935061217]\n",
      " [  8.4917342      7.2782352476]\n",
      " [  1.5756322287   1.4186184107]\n",
      " [ -2.2901470498  -1.8925483203]\n",
      " [ -3.8520108652  -3.4451592433]\n",
      " [ -2.0731437181  -2.0082534414]\n",
      " [-10.4346378327  -8.9175175744]\n",
      " [-13.7885270727 -11.7933310833]\n",
      " [ -4.8511320716  -4.066746385 ]\n",
      " [-12.2854421555 -10.8406940892]\n",
      " [-14.6375922343 -12.9441762468]\n",
      " [ -0.9503207911  -1.0200647688]\n",
      " [ 13.2905306165  11.4553158922]\n",
      " [  7.8224647279   6.5688175622]\n",
      " [  0.7326185948   0.7567082721]\n",
      " [-13.942805875  -12.3177532893]\n",
      " [ -2.1637625964  -2.1314788757]\n",
      " [ -0.8929052626  -0.6885400972]\n",
      " [-11.9623067081 -10.3180161639]\n",
      " [  8.9943130823   7.9205379805]\n",
      " [ -4.9556017447  -4.5153272698]\n",
      " [ -8.4330158785  -7.6647459936]\n",
      " [  6.9225451187   6.102494402 ]\n",
      " [  4.8559357522   4.1584195093]\n",
      " [  0.22813534     0.0966642239]\n",
      " [ -2.1830277866  -1.9046169908]\n",
      " [ -3.4919520991  -2.9237964874]\n",
      " [  4.3618567288   3.8656903532]\n",
      " [-11.198718713   -9.8407710295]\n",
      " [ -0.7483786719  -0.6032197639]\n",
      " [  5.9510020661   5.1451395152]\n",
      " [ 10.6231633042   9.3594749358]\n",
      " [  7.5382917242   6.7298986628]\n",
      " [  0.4996443327   0.6240688436]\n",
      " [  4.0182601819   3.5786154204]\n",
      " [ -9.5538386182  -8.3395587575]\n",
      " [ -2.287331794   -2.0422952286]\n",
      " [ -7.1604014986  -6.3275661336]\n",
      " [ -3.4607980345  -2.8823050037]\n",
      " [ 10.3651498557   9.2035104512]\n",
      " [ -1.3154208416  -1.2139933282]\n",
      " [  6.430295258    5.9154829626]\n",
      " [ -8.4665591085  -7.2988039559]\n",
      " [ -0.8653097948  -1.4515998268]\n",
      " [  2.8006173003   1.5864311577]\n",
      " [  1.8222063404   0.8078629999]\n",
      " [ -0.7878871425  -1.3160291568]\n",
      " [ -2.2710272595  -2.6141964234]\n",
      " [  3.0723028111   1.9052213028]\n",
      " [ -3.8552889407  -3.9994266067]\n",
      " [  2.2871220618   1.2144114709]\n",
      " [  2.4811766202   1.4183258625]\n",
      " [ -1.0245326448  -1.5992665749]\n",
      " [ -1.4929718147  -1.9832463387]\n",
      " [  1.5356837326   0.5957586445]\n",
      " [ -5.6056295267  -5.4616814384]\n",
      " [ -1.5114746661  -2.0157379172]\n",
      " [  3.3639226385   2.1315586756]\n",
      " [  5.8183923031   4.2203877133]\n",
      " [  0.3230589749  -0.4291997615]\n",
      " [  7.0832409662   5.2469460614]\n",
      " [  7.4227756884   5.5958130655]\n",
      " [ -1.2933618618  -1.78125327  ]\n",
      " [  5.084530446    3.6022252341]\n",
      " [  7.4009636771   5.5111073852]\n",
      " [  0.6171796546  -0.1313071882]\n",
      " [  1.9797879391   0.9601980132]\n",
      " [  4.4952339835   3.1142938136]\n",
      " [  5.2989447804   3.8213243494]\n",
      " [  8.1254622015   6.1425177579]\n",
      " [  1.8677364301   0.8582314017]\n",
      " [  0.8348618165   0.0474870923]\n",
      " [  6.5788269559   4.8391891723]\n",
      " [ -3.1010504259  -3.3457540427]\n",
      " [ -1.105971322   -1.6315401073]\n",
      " [ -3.4906783894  -3.6670061111]\n",
      " [  3.2303166056   2.0544440748]\n",
      " [ -0.8410909961  -1.4850660085]\n",
      " [  3.2887320636   2.0934684439]\n",
      " [  2.446021111    1.396812289 ]\n",
      " [ -0.3667149962  -1.0050040263]\n",
      " [ -0.3536560306  -1.0609294518]\n",
      " [ -3.1957372086  -3.3763787474]\n",
      " [  3.8107574143   2.4665913423]\n",
      " [  2.2663988345   1.2002939476]\n",
      " [ -5.217434362   -5.093805998 ]\n",
      " [  7.9034603591   5.9035494952]\n",
      " [  1.9118436658   0.9203240435]\n",
      " [ -1.44775266    -1.9886290535]\n",
      " [  6.2259376608   4.5725105594]\n",
      " [ -2.2080826175  -2.5636257234]\n",
      " [  6.9614433462   5.1426638753]\n",
      " [  0.9572801134   0.0431328938]\n",
      " [ -1.4817624454  -1.9145875928]\n",
      " [ -5.2186730079  -5.1373244936]\n",
      " [  1.0376460469   0.1059142891]\n",
      " [  2.9169529138   1.700361528 ]\n",
      " [  4.6027757658   3.1531487145]\n",
      " [  2.4141619836   1.3304590858]\n",
      " [  0.9633153163   0.0519723739]\n",
      " [ -7.1576341616  -6.8035350708]\n",
      " [  6.3860221913   4.67839185  ]\n",
      " [  0.3249570469  -0.4264484048]\n",
      " [ -2.2731543031  -2.6185919123]\n",
      " [  1.4011400656   0.4509718508]\n",
      " [  4.5043727315   3.0569501981]\n",
      " [ -6.6705763253  -6.3358676698]\n",
      " [ -8.8565449938  -8.1807090974]\n",
      " [ -4.4202797758  -4.4274589339]\n",
      " [ -0.4839603886  -1.1640789143]\n",
      " [ -0.1123231832  -0.8631607094]\n",
      " [  4.6772721887   3.2066019011]\n",
      " [  8.143263827    6.1705655418]\n",
      " [  8.9305360923   6.8059144618]\n",
      " [ -1.5645119417  -2.0121082242]\n",
      " [ -0.3340064757  -1.0457436445]\n",
      " [  5.4463816946   3.8452683232]\n",
      " [ -1.4929710494  -1.9592869302]\n",
      " [ -5.6741981854  -5.5082849427]\n",
      " [  2.0656843602   1.0633053364]\n",
      " [  3.4061425283   2.1248885045]\n",
      " [  4.8271434917   3.2995045918]\n",
      " [  1.630001789    0.6895024052]\n",
      " [  4.0663934726   2.7204138927]\n",
      " [  3.1088103059   1.8985120738]\n",
      " [  0.0818489704  -0.6463598409]\n",
      " [ -3.039901311   -3.2657962452]\n",
      " [  0.8653759364   0.0381574855]\n",
      " [ -1.2733063901  -1.8202404091]\n",
      " [ -0.5498462725  -1.1690107514]\n",
      " [  3.7301314333   2.4436408089]\n",
      " [  2.1978207388   1.1810307094]\n",
      " [ -0.1551157343  -0.8024359915]\n",
      " [ -3.1924628135  -3.3761515458]\n",
      " [  0.4755339923  -0.2897401834]\n",
      " [ -2.1979115548  -2.5872196825]\n",
      " [  1.0747163711   0.1844807724]\n",
      " [  0.2477173806  -0.5291551712]\n",
      " [ -3.3445711372  -3.5207504823]\n",
      " [  0.5943427653  -0.1626312911]\n",
      " [  1.8196541638   0.8124240213]\n",
      " [ -3.8600789589  -3.9093022995]\n",
      " [ -3.8743050792  -3.9860740542]]\n"
     ]
    }
   ],
   "source": [
    "print(y4)"
   ]
  },
  {
   "cell_type": "code",
   "execution_count": 165,
   "metadata": {
    "ExecuteTime": {
     "end_time": "2019-03-30T05:11:26.520518Z",
     "start_time": "2019-03-30T05:11:26.511527Z"
    }
   },
   "outputs": [
    {
     "name": "stdout",
     "output_type": "stream",
     "text": [
      "[[  59.5715212668   -0.1594663627]\n",
      " [ 147.1128879508   -2.2584373754]\n",
      " [  34.6093819692   -0.703900618 ]\n",
      " [-135.8834792744    1.9970991213]\n",
      " [  19.5073206416    0.7178565778]\n",
      " [-105.1243101222    0.4720442226]\n",
      " [ 181.4945151727   -0.6040056274]\n",
      " [ -13.0386043348   -0.3147457219]\n",
      " [-127.4831015671    0.9024485045]\n",
      " [  99.1912620262   -0.552666641 ]\n",
      " [  76.329548769    -0.1542175436]\n",
      " [ -42.255692274     0.2412473657]\n",
      " [ 172.0537633036    0.0372365274]\n",
      " [ 123.2951749733   -0.6724467459]\n",
      " [ -55.792102971    -0.1675394481]\n",
      " [-148.4781312376    0.1148320134]\n",
      " [ -15.8676339268    0.3181827652]\n",
      " [ -58.4590929066   -1.2765974426]\n",
      " [-236.8198788041    0.6090292573]\n",
      " [ -19.9530741551    0.8586826988]\n",
      " [-138.384277738     0.2269357339]\n",
      " [ -53.2421348963   -1.432074474 ]\n",
      " [-158.4574310342    1.8186946333]\n",
      " [ -21.7061247386   -0.1239590361]\n",
      " [-153.6472917179    0.5776274394]\n",
      " [-247.6790298909    1.3804514198]\n",
      " [-121.6035789323   -0.8913449991]\n",
      " [   0.7813526194   -0.3404947405]\n",
      " [-148.8287130869    1.6446362204]\n",
      " [ -98.8573865193   -0.6715153752]\n",
      " [ 120.4301855367   -0.1537803789]\n",
      " [  -0.0569560029    0.57936788  ]\n",
      " [ 106.5923346232    0.1198778961]\n",
      " [-151.8406977088    0.9447767327]\n",
      " [ 208.0728734455   -1.823392235 ]\n",
      " [-124.5127803996    0.6220518316]\n",
      " [-149.3782651785    1.1574499504]\n",
      " [ -20.80629312      0.5844727689]\n",
      " [ 163.9303567592   -1.480235434 ]\n",
      " [ -14.0252276423    1.3750415421]\n",
      " [  52.3262033949   -1.5103981069]\n",
      " [ -21.9779388538   -0.2086835935]\n",
      " [  53.7555414921    1.2379750961]\n",
      " [  25.0351005899   -2.4591034141]\n",
      " [ -68.7329122056    0.4214214188]\n",
      " [ 195.8233005931   -1.5009980115]\n",
      " [-178.4821519294    0.3247371847]\n",
      " [  25.4114914654    0.6327235877]\n",
      " [ -52.1227232177   -1.3099858204]\n",
      " [ 146.4349134483   -1.6864683183]\n",
      " [ -87.4410603728    1.6691869541]\n",
      " [ 171.1320095357   -0.0709626013]\n",
      " [ 158.9074943332   -1.8502051181]\n",
      " [ 101.4812768071   -1.7850440565]\n",
      " [ -12.1900838931   -1.0332344913]\n",
      " [ -39.754187485    -0.0556353903]\n",
      " [ 135.9746349887   -1.571633378 ]\n",
      " [ 288.8223609457   -0.7900956855]\n",
      " [-100.6544182927   -0.5924353928]\n",
      " [ -19.0782022783    0.3534150097]\n",
      " [  26.7308916855    0.6379299963]\n",
      " [  46.5056458642   -0.7076765366]\n",
      " [  25.9378328993   -1.4284159486]\n",
      " [ 123.5309209962    0.9045747167]\n",
      " [ 163.2924351608    1.1303567157]\n",
      " [  56.9640818835    0.9581057333]\n",
      " [ 147.4553924831   -1.2565621366]\n",
      " [ 175.8517241215   -1.6871095469]\n",
      " [  12.4764937844   -1.3311963332]\n",
      " [-157.9133241157   -0.4917658502]\n",
      " [ -91.9206612853   -1.4689568728]\n",
      " [  -9.4433351324    0.8244708296]\n",
      " [ 167.4339057084   -1.525333442 ]\n",
      " [  27.2806068995   -1.7318255302]\n",
      " [  10.1311125229    0.5842158827]\n",
      " [ 142.1761727755    0.3915114329]\n",
      " [-107.8590859844    0.8107639786]\n",
      " [  60.3196656952   -1.4756760628]\n",
      " [ 102.5344760562   -2.3816683459]\n",
      " [ -83.0522852748    0.6674482754]\n",
      " [ -57.5373432464   -0.36315917  ]\n",
      " [  -2.1210982831   -0.6881193376]\n",
      " [  26.0737708178   -0.075811906 ]\n",
      " [  40.9831447453    0.7137164054]\n",
      " [ -52.4519207173    0.5602244738]\n",
      " [ 134.1702909012   -0.8666811291]\n",
      " [   8.6453552872    0.3120164962]\n",
      " [ -70.8013077959   -0.1122424776]\n",
      " [-127.4189304025    0.9884926442]\n",
      " [ -90.9385090563    1.3019981568]\n",
      " [  -7.0771897505    1.29653464  ]\n",
      " [ -48.4229530725    0.6346465767]\n",
      " [ 114.1342202159   -0.3600794385]\n",
      " [  27.5948173263   -0.3967822963]\n",
      " [  85.9967022263   -0.7950300415]\n",
      " [  40.5266544541    0.8120945041]\n",
      " [-124.7449975026    1.4496298412]\n",
      " [  16.1023714968   -0.4966762387]\n",
      " [ -78.6027225087    2.2988068207]\n",
      " [ 100.60455085      0.304132332 ]\n",
      " [  14.4433019115   -4.7664641869]\n",
      " [ -28.3963246103   -5.7294551385]\n",
      " [ -17.1529688076   -5.2530967578]\n",
      " [  13.1174468351   -4.3013019751]\n",
      " [  30.8564993833   -4.3812160233]\n",
      " [ -32.123404532    -5.1641859098]\n",
      " [  49.7964799178   -4.4567402546]\n",
      " [ -22.7113127912   -5.2306593815]\n",
      " [ -25.2331605537   -4.9886218484]\n",
      " [  16.396637611    -4.8314856097]\n",
      " [  21.8458481047   -4.6797031783]\n",
      " [ -13.9541456098   -5.0055273772]\n",
      " [  70.3198290499   -4.0765685246]\n",
      " [  22.1632514099   -4.7914969808]\n",
      " [ -35.4408160208   -5.345045379 ]\n",
      " [ -64.4463954719   -5.6175072438]\n",
      " [   0.3345782124   -4.8231732167]\n",
      " [ -79.099618068    -6.0969509996]\n",
      " [ -83.4653613055   -5.7273036948]\n",
      " [  19.2975600587   -4.4834889639]\n",
      " [ -55.8116201393   -5.4926909057]\n",
      " [ -82.8175498439   -6.1745803601]\n",
      " [  -3.4218014322   -4.5322854677]\n",
      " [ -19.1226748755   -5.146657827 ]\n",
      " [ -48.9277070213   -5.3349603595]\n",
      " [ -58.5614366794   -5.2674771103]\n",
      " [ -91.4667886417   -6.154109804 ]\n",
      " [ -17.759547603    -5.1791418541]\n",
      " [  -5.9561555727   -4.6003697886]\n",
      " [ -73.2656040307   -5.8946805567]\n",
      " [  40.8137611974   -4.460290285 ]\n",
      " [  17.1406479215   -4.570660725 ]\n",
      " [  45.3572352597   -4.346784331 ]\n",
      " [ -34.0776959772   -5.0814554043]\n",
      " [  14.4759933346   -5.1368162477]\n",
      " [ -34.7049843656   -5.1606129304]\n",
      " [ -24.8672758366   -4.9275758742]\n",
      " [   8.4198166534   -4.670357483 ]\n",
      " [   8.6608258549   -5.1275969588]\n",
      " [  41.6381204928   -4.1101303793]\n",
      " [ -40.4544970577   -5.7022106571]\n",
      " [ -22.4871662966   -5.2044365876]\n",
      " [  65.5111556769   -3.864638685 ]\n",
      " [ -88.5482160642   -6.4696674814]\n",
      " [ -18.4255911155   -5.0170846522]\n",
      " [  21.5701508894   -4.9829595656]\n",
      " [ -69.2937344321   -5.6267865421]\n",
      " [  30.1303282535   -4.4085803458]\n",
      " [ -77.6565731244   -6.0877049473]\n",
      " [  -6.7627853537   -5.3518812469]\n",
      " [  21.3647523883   -4.2790032243]\n",
      " [  65.7762081712   -4.1532111456]\n",
      " [  -7.6794088523   -5.3989609418]\n",
      " [ -29.8591299559   -5.6408946198]\n",
      " [ -49.8879998025   -5.7049708664]\n",
      " [ -24.2593809083   -5.1908279077]\n",
      " [  -6.855944874    -5.3273726656]\n",
      " [  88.7847039077   -4.0474026677]\n",
      " [ -71.0065173206   -5.8509406159]\n",
      " [   0.305448547    -4.8156601268]\n",
      " [  30.8968813408   -4.3985571054]\n",
      " [ -12.1855838574   -5.1965029237]\n",
      " [ -48.6516815995   -5.7787241815]\n",
      " [  82.7153965661   -3.7399986415]\n",
      " [ 108.4566621064   -3.392061392 ]\n",
      " [  56.161913673    -4.0350949343]\n",
      " [  10.1550273142   -5.0604849322]\n",
      " [   5.8537801476   -5.2061457447]\n",
      " [ -50.7097082411   -5.7808590447]\n",
      " [ -91.7532190851   -6.0683936368]\n",
      " [-100.8524745649   -6.3913257843]\n",
      " [  22.5024407253   -4.4540552568]\n",
      " [   8.4376793927   -5.1402251139]\n",
      " [ -59.7050408866   -5.9741290617]\n",
      " [  21.7045528782   -4.516810659 ]\n",
      " [  71.0608423855   -3.9890665792]\n",
      " [ -20.314703808    -4.952180171 ]\n",
      " [ -35.688529403    -5.6393681832]\n",
      " [ -52.2765171123   -6.0330250062]\n",
      " [ -15.1482147194   -4.9243742878]\n",
      " [ -43.6893410738   -5.4840034537]\n",
      " [ -32.3320497259   -5.4250879383]\n",
      " [   3.2551405667   -4.8771881268]\n",
      " [  39.9265002124   -4.2772670676]\n",
      " [  -6.1086000376   -4.8437441595]\n",
      " [  19.3911148292   -4.8668259441]\n",
      " [  10.6320605562   -4.7054829942]\n",
      " [ -39.7709904339   -5.3827923815]\n",
      " [ -21.9073159373   -4.9309959306]\n",
      " [   5.786624181    -4.5409357974]\n",
      " [  41.614518468    -4.127894962 ]\n",
      " [  -1.5244816559   -4.7741589592]\n",
      " [  30.2003114126   -4.6289720804]\n",
      " [  -8.3947564806   -5.0834030691]\n",
      " [   1.436259177    -5.0584638324]\n",
      " [  43.501392327    -4.2140134907]\n",
      " [  -3.0818162143   -4.6105836768]\n",
      " [ -17.1625134852   -5.2070366082]\n",
      " [  49.2975783821   -3.8157493077]\n",
      " [  49.8470274959   -4.2538186416]]\n"
     ]
    }
   ],
   "source": [
    "print(X@evecs)"
   ]
  },
  {
   "cell_type": "code",
   "execution_count": null,
   "metadata": {},
   "outputs": [],
   "source": []
  },
  {
   "cell_type": "code",
   "execution_count": null,
   "metadata": {},
   "outputs": [],
   "source": []
  },
  {
   "cell_type": "code",
   "execution_count": null,
   "metadata": {
    "ExecuteTime": {
     "end_time": "2019-03-30T04:29:15.741050Z",
     "start_time": "2019-03-30T04:29:15.720103Z"
    },
    "scrolled": false
   },
   "outputs": [],
   "source": []
  },
  {
   "cell_type": "code",
   "execution_count": 164,
   "metadata": {
    "ExecuteTime": {
     "end_time": "2019-03-30T05:11:18.499986Z",
     "start_time": "2019-03-30T05:11:18.275074Z"
    }
   },
   "outputs": [
    {
     "name": "stdout",
     "output_type": "stream",
     "text": [
      "[-0.0087124428 -0.9999620459]\n"
     ]
    },
    {
     "data": {
      "image/png": "[encoded data removed]",
      "text/plain": [
       "<Figure size 432x288 with 1 Axes>"
      ]
     },
     "metadata": {
      "needs_background": "light"
     },
     "output_type": "display_data"
    },
    {
     "data": {
      "image/png": "[encoded data removed]",
      "text/plain": [
       "<Figure size 432x288 with 1 Axes>"
      ]
     },
     "metadata": {
      "needs_background": "light"
     },
     "output_type": "display_data"
    }
   ],
   "source": [
    "cov = X.T @ X / X.shape[0]\n",
    "evals,evecs = np.linalg.eig(cov)\n",
    "idx = np.argsort(evals)[::-1]\n",
    "evecs = evecs[:,idx]\n",
    "evals = evals[idx]\n",
    "print(evecs[0,:])\n",
    "good_project = evecs[0,:][:,None]\n",
    "recon_gt = (X @ good_project @ good_project.T)\n",
    "plt.scatter(X[:,0],X[:,1]);         plt.show()\n",
    "plt.scatter(recon_gt[:,0],recon_gt[:,1]); plt.show()"
   ]
  },
  {
   "cell_type": "code",
   "execution_count": 96,
   "metadata": {
    "ExecuteTime": {
     "end_time": "2019-03-30T04:58:53.796085Z",
     "start_time": "2019-03-30T04:58:53.584046Z"
    }
   },
   "outputs": [
    {
     "name": "stdout",
     "output_type": "stream",
     "text": [
      "(200, 2)\n"
     ]
    },
    {
     "data": {
      "image/png": "[encoded data removed]",
      "text/plain": [
       "<Figure size 432x288 with 1 Axes>"
      ]
     },
     "metadata": {
      "needs_background": "light"
     },
     "output_type": "display_data"
    },
    {
     "data": {
      "image/png": "[encoded data removed]",
      "text/plain": [
       "<Figure size 432x288 with 1 Axes>"
      ]
     },
     "metadata": {
      "needs_background": "light"
     },
     "output_type": "display_data"
    }
   ],
   "source": [
    "gt_2d = X @evecs\n",
    "print(gt_2d.shape)\n",
    "plt.scatter(y4[:,0],y4[:,1]); plt.show()\n",
    "plt.scatter(gt_2d[:,0],gt_2d[:,1]); plt.show()"
   ]
  },
  {
   "cell_type": "code",
   "execution_count": null,
   "metadata": {},
   "outputs": [],
   "source": []
  },
  {
   "cell_type": "code",
   "execution_count": null,
   "metadata": {},
   "outputs": [],
   "source": []
  },
  {
   "cell_type": "code",
   "execution_count": null,
   "metadata": {},
   "outputs": [],
   "source": []
  },
  {
   "cell_type": "code",
   "execution_count": 146,
   "metadata": {
    "ExecuteTime": {
     "end_time": "2019-03-30T02:12:26.509429Z",
     "start_time": "2019-03-30T02:12:26.503112Z"
    }
   },
   "outputs": [
    {
     "data": {
      "text/plain": [
       "array([[-0.02331227],\n",
       "       [-0.99972823]])"
      ]
     },
     "execution_count": 146,
     "metadata": {},
     "output_type": "execute_result"
    }
   ],
   "source": [
    "good_project"
   ]
  },
  {
   "cell_type": "code",
   "execution_count": 147,
   "metadata": {
    "ExecuteTime": {
     "end_time": "2019-03-30T02:12:28.560175Z",
     "start_time": "2019-03-30T02:12:28.554458Z"
    }
   },
   "outputs": [
    {
     "data": {
      "text/plain": [
       "array([[0.17628245],\n",
       "       [0.98433963]])"
      ]
     },
     "execution_count": 147,
     "metadata": {},
     "output_type": "execute_result"
    }
   ],
   "source": [
    "w"
   ]
  },
  {
   "cell_type": "code",
   "execution_count": null,
   "metadata": {},
   "outputs": [],
   "source": []
  },
  {
   "cell_type": "code",
   "execution_count": 189,
   "metadata": {
    "ExecuteTime": {
     "end_time": "2019-03-30T02:59:30.096192Z",
     "start_time": "2019-03-30T02:59:29.785924Z"
    }
   },
   "outputs": [
    {
     "name": "stdout",
     "output_type": "stream",
     "text": [
      "[[0.53163258]\n",
      " [0.84697509]]\n",
      "Current loss: 243.18822607516861  Weight : [0.53163258 0.84697509]\n",
      "Current loss: 303.25917148804814  Weight : [0.5904391  0.80708219]\n",
      "Current loss: 339.95656698581485  Weight : [0.62344997 0.78186324]\n"
     ]
    },
    {
     "data": {
      "image/png": "[encoded data removed]",
      "text/plain": [
       "<Figure size 432x288 with 1 Axes>"
      ]
     },
     "metadata": {
      "needs_background": "light"
     },
     "output_type": "display_data"
    },
    {
     "data": {
      "image/png": "[encoded data removed]",
      "text/plain": [
       "<Figure size 432x288 with 1 Axes>"
      ]
     },
     "metadata": {
      "needs_background": "light"
     },
     "output_type": "display_data"
    },
    {
     "name": "stdout",
     "output_type": "stream",
     "text": [
      "[[0.65277955]\n",
      " [0.75754792]]\n"
     ]
    }
   ],
   "source": [
    "# simple objective\n",
    "w = np.random.uniform(0,1,size=(2,1))\n",
    "w = w / np.sqrt((w**2).sum())\n",
    "print(w)\n",
    "m = np.zeros_like(w)\n",
    "v = np.zeros_like(w)\n",
    "\n",
    "# simple objective\n",
    "for iter in range(3000):\n",
    "    loss = (X - X @ w @ w.T)\n",
    "    grad = (X.T @ loss @ w) + (w.T@X.T@loss).T + 0.01*w\n",
    "    \n",
    "    m = 0.9 * m   + (1-0.9)   * grad\n",
    "    v = 0.999 * v + (1-0.999) * grad ** 2\n",
    "    \n",
    "    m_hat = m/(1-0.9)\n",
    "    v_hat = v/(1-0.999)\n",
    "    \n",
    "    if iter%1000 == 0 :\n",
    "        print(\"Current loss: \" + str((loss**2).mean()) + \"  Weight : \" + str(w.ravel()))\n",
    "    w = w - 0.00008 * (m_hat/(np.sqrt(v_hat)+1e-8))\n",
    "    w = w / np.sqrt((w**2).sum())\n",
    "\n",
    "recon = (X @ w @ w.T)\n",
    "plt.scatter(X[:,0],X[:,1]);         plt.show()\n",
    "plt.scatter(recon[:,0],recon[:,1]); plt.show()\n",
    "print(w)"
   ]
  },
  {
   "cell_type": "code",
   "execution_count": 66,
   "metadata": {
    "ExecuteTime": {
     "end_time": "2019-03-30T02:08:24.267158Z",
     "start_time": "2019-03-30T02:08:24.024786Z"
    }
   },
   "outputs": [
    {
     "data": {
      "image/png": "[encoded data removed]",
      "text/plain": [
       "<Figure size 432x288 with 1 Axes>"
      ]
     },
     "metadata": {
      "needs_background": "light"
     },
     "output_type": "display_data"
    },
    {
     "data": {
      "image/png": "[encoded data removed]",
      "text/plain": [
       "<Figure size 432x288 with 1 Axes>"
      ]
     },
     "metadata": {
      "needs_background": "light"
     },
     "output_type": "display_data"
    },
    {
     "name": "stdout",
     "output_type": "stream",
     "text": [
      "[[0.99518299]\n",
      " [0.09803477]]\n"
     ]
    }
   ],
   "source": [
    "recon = (X @ w @ w.T)\n",
    "plt.scatter(X[:,0],X[:,1]); \n",
    "plt.show()\n",
    "plt.scatter(recon[:,0],recon[:,1]); plt.show()\n",
    "print(w)"
   ]
  },
  {
   "cell_type": "code",
   "execution_count": null,
   "metadata": {},
   "outputs": [],
   "source": []
  },
  {
   "cell_type": "code",
   "execution_count": null,
   "metadata": {},
   "outputs": [],
   "source": []
  },
  {
   "cell_type": "code",
   "execution_count": null,
   "metadata": {},
   "outputs": [],
   "source": []
  },
  {
   "cell_type": "code",
   "execution_count": null,
   "metadata": {},
   "outputs": [],
   "source": []
  },
  {
   "cell_type": "code",
   "execution_count": null,
   "metadata": {},
   "outputs": [],
   "source": []
  },
  {
   "cell_type": "code",
   "execution_count": 190,
   "metadata": {
    "ExecuteTime": {
     "end_time": "2019-03-30T02:59:34.321801Z",
     "start_time": "2019-03-30T02:59:34.026566Z"
    }
   },
   "outputs": [
    {
     "name": "stdout",
     "output_type": "stream",
     "text": [
      "[[0.96485399]\n",
      " [0.26278656]]\n",
      "Current loss: 853.0707262825993  Weight : [0.96485399 0.26278656]\n",
      "Current loss: 0.00504240287753152  Weight : [0.02331227 0.99972823]\n",
      "Current loss: 0.00504240287753152  Weight : [0.02331227 0.99972823]\n"
     ]
    },
    {
     "data": {
      "image/png": "[encoded data removed]",
      "text/plain": [
       "<Figure size 432x288 with 1 Axes>"
      ]
     },
     "metadata": {
      "needs_background": "light"
     },
     "output_type": "display_data"
    },
    {
     "data": {
      "image/png": "[encoded data removed]",
      "text/plain": [
       "<Figure size 432x288 with 1 Axes>"
      ]
     },
     "metadata": {
      "needs_background": "light"
     },
     "output_type": "display_data"
    },
    {
     "name": "stdout",
     "output_type": "stream",
     "text": [
      "[[0.02331227]\n",
      " [0.99972823]]\n"
     ]
    }
   ],
   "source": [
    "# simple objective\n",
    "w = np.random.uniform(0,1,size=(2,1))\n",
    "w = w / np.sqrt((w**2).sum())\n",
    "print(w)\n",
    "m = np.zeros_like(w)\n",
    "v = np.zeros_like(w)\n",
    "\n",
    "# simple objective\n",
    "for iter in range(3000):\n",
    "    loss = (X - X @ w @ w.T)\n",
    "    grad = (np.eye(2) + 0.00008 * X.T @ X) @ w\n",
    "    \n",
    "    m = 0.9 * m   + (1-0.9)   * grad\n",
    "    v = 0.999 * v + (1-0.999) * grad ** 2\n",
    "    \n",
    "    m_hat = m/(1-0.9)\n",
    "    v_hat = v/(1-0.999)\n",
    "    \n",
    "    if iter%1000 == 0 :\n",
    "        print(\"Current loss: \" + str((loss**2).mean()) + \"  Weight : \" + str(w.ravel()))\n",
    "    w = w - grad\n",
    "    w = w / np.sqrt((w**2).sum())\n",
    "\n",
    "recon = (X @ w @ w.T)\n",
    "plt.scatter(X[:,0],X[:,1]);         plt.show()\n",
    "plt.scatter(recon[:,0],recon[:,1]); plt.show()\n",
    "print(w)"
   ]
  },
  {
   "cell_type": "code",
   "execution_count": null,
   "metadata": {},
   "outputs": [],
   "source": []
  },
  {
   "cell_type": "code",
   "execution_count": null,
   "metadata": {},
   "outputs": [],
   "source": []
  },
  {
   "cell_type": "code",
   "execution_count": null,
   "metadata": {},
   "outputs": [],
   "source": []
  },
  {
   "cell_type": "code",
   "execution_count": 161,
   "metadata": {
    "ExecuteTime": {
     "end_time": "2019-03-30T02:25:55.700611Z",
     "start_time": "2019-03-30T02:25:55.431743Z"
    }
   },
   "outputs": [
    {
     "name": "stdout",
     "output_type": "stream",
     "text": [
      "[[0.14193065]\n",
      " [0.9898766 ]]\n",
      "Current loss: 13.11429302103555  Weight : [0.14193065 0.9898766 ]\n",
      "Current loss: 0.005042402877531518  Weight : [0.02331227 0.99972823]\n",
      "Current loss: 0.005042402877531518  Weight : [0.02331227 0.99972823]\n"
     ]
    },
    {
     "data": {
      "image/png": "[encoded data removed]",
      "text/plain": [
       "<Figure size 432x288 with 1 Axes>"
      ]
     },
     "metadata": {
      "needs_background": "light"
     },
     "output_type": "display_data"
    },
    {
     "data": {
      "image/png": "[encoded data removed]",
      "text/plain": [
       "<Figure size 432x288 with 1 Axes>"
      ]
     },
     "metadata": {
      "needs_background": "light"
     },
     "output_type": "display_data"
    },
    {
     "name": "stdout",
     "output_type": "stream",
     "text": [
      "[[0.02331227]\n",
      " [0.99972823]]\n"
     ]
    }
   ],
   "source": [
    "# simple objective\n",
    "w = np.random.uniform(0,1,size=(2,1))\n",
    "w = w / np.sqrt((w**2).sum())\n",
    "print(w)\n",
    "m = np.zeros_like(w)\n",
    "v = np.zeros_like(w)\n",
    "\n",
    "# simple objective\n",
    "for iter in range(3000):\n",
    "    loss = (X - X @ w @ w.T)\n",
    "    grad = (X.T@X@w)\n",
    "    \n",
    "    m = 0.9 * m   + (1-0.9)   * grad\n",
    "    v = 0.999 * v + (1-0.999) * grad ** 2\n",
    "    \n",
    "    m_hat = m/(1-0.9)\n",
    "    v_hat = v/(1-0.999)\n",
    "    \n",
    "    if iter%1000 == 0 :\n",
    "        print(\"Current loss: \" + str((loss**2).mean()) + \"  Weight : \" + str(w.ravel()))\n",
    "    w = w + grad\n",
    "    w = w / np.sqrt((w**2).sum())\n",
    "\n",
    "recon = (X @ w @ w.T)\n",
    "plt.scatter(X[:,0],X[:,1]);         plt.show()\n",
    "plt.scatter(recon[:,0],recon[:,1]); plt.show()\n",
    "print(w)"
   ]
  },
  {
   "cell_type": "code",
   "execution_count": null,
   "metadata": {},
   "outputs": [],
   "source": []
  },
  {
   "cell_type": "code",
   "execution_count": null,
   "metadata": {},
   "outputs": [],
   "source": []
  },
  {
   "cell_type": "code",
   "execution_count": null,
   "metadata": {},
   "outputs": [],
   "source": []
  },
  {
   "cell_type": "code",
   "execution_count": null,
   "metadata": {},
   "outputs": [],
   "source": []
  },
  {
   "cell_type": "code",
   "execution_count": null,
   "metadata": {},
   "outputs": [],
   "source": []
  },
  {
   "cell_type": "code",
   "execution_count": 56,
   "metadata": {
    "ExecuteTime": {
     "end_time": "2019-03-30T01:27:00.313207Z",
     "start_time": "2019-03-30T01:27:00.307222Z"
    }
   },
   "outputs": [
    {
     "name": "stdout",
     "output_type": "stream",
     "text": [
      "[[-0.99090501]\n",
      " [ 0.4142096 ]]\n",
      "[[-0.92263583]\n",
      " [ 0.3856723 ]]\n",
      "1.0\n"
     ]
    }
   ],
   "source": [
    "# simple objective\n",
    "w = np.random.randn(2,1)\n",
    "print(w)\n",
    "\n",
    "ww = w/np.sqrt((w**2).sum())\n",
    "print(ww)\n",
    "print((ww**2).sum())"
   ]
  },
  {
   "cell_type": "code",
   "execution_count": 54,
   "metadata": {
    "ExecuteTime": {
     "end_time": "2019-03-30T01:26:00.180959Z",
     "start_time": "2019-03-30T01:26:00.173977Z"
    }
   },
   "outputs": [
    {
     "name": "stdout",
     "output_type": "stream",
     "text": [
      "1.4142135623730951\n",
      "1.0\n",
      "1.0\n",
      "1.0000000000000002\n",
      "1.0000000000000002\n"
     ]
    }
   ],
   "source": [
    "temp = np.array([np.sqrt(2)/2,np.sqrt(2)/2])\n",
    "print(np.sqrt(temp**2).sum())\n",
    "print(\n",
    "np.linalg.norm(temp)\n",
    ")\n",
    "print(\n",
    "np.sqrt((temp**2).sum())\n",
    ")\n",
    "print(\n",
    "temp@temp.T\n",
    ")\n",
    "print(\n",
    "(temp**2).sum()\n",
    ")"
   ]
  },
  {
   "cell_type": "code",
   "execution_count": null,
   "metadata": {},
   "outputs": [],
   "source": []
  },
  {
   "cell_type": "code",
   "execution_count": null,
   "metadata": {},
   "outputs": [],
   "source": []
  },
  {
   "cell_type": "code",
   "execution_count": null,
   "metadata": {},
   "outputs": [],
   "source": []
  },
  {
   "cell_type": "code",
   "execution_count": null,
   "metadata": {},
   "outputs": [],
   "source": []
  },
  {
   "cell_type": "code",
   "execution_count": null,
   "metadata": {},
   "outputs": [],
   "source": []
  },
  {
   "cell_type": "code",
   "execution_count": null,
   "metadata": {},
   "outputs": [],
   "source": []
  },
  {
   "cell_type": "markdown",
   "metadata": {},
   "source": [
    "# Reference \n",
    "1. Brownlee, J. (2018). How to Generate Test Datasets in Python with scikit-learn. Machine Learning Mastery. Retrieved 30 March 2019, from https://machinelearningmastery.com/generate-test-datasets-python-scikit-learn/\n",
    "2. notebook, S., & Davies, L. (2017). Shortcut key for changing code cell to markdown cell in jupyter notebook. Stack Overflow. Retrieved 30 March 2019, from https://stackoverflow.com/questions/47787721/shortcut-key-for-changing-code-cell-to-markdown-cell-in-jupyter-notebook\n",
    "3. NumPy?, H., Hoogendoorn, E., Feicho, E., Travnik, J., & Hsu, W. (2014). How to normalize an array in NumPy?. Stack Overflow. Retrieved 30 March 2019, from https://stackoverflow.com/questions/21030391/how-to-normalize-an-array-in-numpy\n",
    "4. An overview of gradient descent optimization algorithms. (2016). Sebastian Ruder. Retrieved 30 March 2019, from http://ruder.io/optimizing-gradient-descent/index.html#adam\n",
    "5. results, P., & Rieble, N. (2016). PCA in numpy and sklearn produces different results. Cross Validated. Retrieved 30 March 2019, from https://stats.stackexchange.com/questions/235882/pca-in-numpy-and-sklearn-produces-different-resultsa"
   ]
  }
 ],
 "metadata": {
  "kernelspec": {
   "display_name": "Python 3",
   "language": "python",
   "name": "python3"
  },
  "language_info": {
   "codemirror_mode": {
    "name": "ipython",
    "version": 3
   },
   "file_extension": ".py",
   "mimetype": "text/x-python",
   "name": "python",
   "nbconvert_exporter": "python",
   "pygments_lexer": "ipython3",
   "version": "3.6.6"
  },
  "latex_envs": {
   "LaTeX_envs_menu_present": true,
   "autoclose": false,
   "autocomplete": true,
   "bibliofile": "biblio.bib",
   "cite_by": "apalike",
   "current_citInitial": 1,
   "eqLabelWithNumbers": true,
   "eqNumInitial": 1,
   "hotkeys": {
    "equation": "Ctrl-E",
    "itemize": "Ctrl-I"
   },
   "labels_anchors": false,
   "latex_user_defs": false,
   "report_style_numbering": false,
   "user_envs_cfg": false
  },
  "varInspector": {
   "cols": {
    "lenName": 16,
    "lenType": 16,
    "lenVar": 40
   },
   "kernels_config": {
    "python": {
     "delete_cmd_postfix": "",
     "delete_cmd_prefix": "del ",
     "library": "var_list.py",
     "varRefreshCmd": "print(var_dic_list())"
    },
    "r": {
     "delete_cmd_postfix": ") ",
     "delete_cmd_prefix": "rm(",
     "library": "var_list.r",
     "varRefreshCmd": "cat(var_dic_list()) "
    }
   },
   "types_to_exclude": [
    "module",
    "function",
    "builtin_function_or_method",
    "instance",
    "_Feature"
   ],
   "window_display": false
  }
 },
 "nbformat": 4,
 "nbformat_minor": 2
}
