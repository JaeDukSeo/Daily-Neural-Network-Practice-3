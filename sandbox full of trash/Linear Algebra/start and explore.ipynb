{
 "cells": [
  {
   "cell_type": "code",
   "execution_count": 108,
   "metadata": {
    "ExecuteTime": {
     "end_time": "2019-04-09T08:39:26.372057Z",
     "start_time": "2019-04-09T08:39:26.367094Z"
    },
    "code_folding": []
   },
   "outputs": [],
   "source": [
    "# import lib\n",
    "import numpy as np\n",
    "import matplotlib.pyplot as plt\n",
    "from sklearn.datasets import make_moons,make_classification,make_regression"
   ]
  },
  {
   "cell_type": "code",
   "execution_count": 201,
   "metadata": {
    "ExecuteTime": {
     "end_time": "2019-04-09T08:54:42.709417Z",
     "start_time": "2019-04-09T08:54:42.577759Z"
    },
    "code_folding": []
   },
   "outputs": [
    {
     "data": {
      "image/png": "[encoded data removed]",
      "text/plain": [
       "<Figure size 576x432 with 1 Axes>"
      ]
     },
     "metadata": {
      "needs_background": "light"
     },
     "output_type": "display_data"
    }
   ],
   "source": [
    "# See the data \n",
    "# X, y = make_moons(n_samples=300, noise=0.0)\n",
    "X,y = make_regression(n_samples=100, n_features=1,noise=2); X = np.concatenate((X,y[:,None]),1)\n",
    "\n",
    "X = X - X.mean(0)\n",
    "plt.figure(figsize=(8,6))\n",
    "# plt.scatter(X[y==0, 0], X[y==0, 1], color='red', alpha=0.5)\n",
    "# plt.scatter(X[y==1, 0], X[y==1, 1], color='blue', alpha=0.5)\n",
    "plt.scatter(X[:, 0], X[:,1], color='red', alpha=0.5)\n",
    "plt.show()"
   ]
  },
  {
   "cell_type": "code",
   "execution_count": 208,
   "metadata": {
    "ExecuteTime": {
     "end_time": "2019-04-09T08:56:16.584592Z",
     "start_time": "2019-04-09T08:56:16.448387Z"
    }
   },
   "outputs": [
    {
     "name": "stdout",
     "output_type": "stream",
     "text": [
      "[8.44075391e-03 5.02960150e+02]\n",
      "[[-0.99900394  0.04462202]\n",
      " [ 0.04462202  0.99900394]]\n",
      "[[1. 0.]\n",
      " [0. 1.]]\n"
     ]
    },
    {
     "data": {
      "image/png": "[encoded data removed]",
      "text/plain": [
       "<Figure size 1080x360 with 1 Axes>"
      ]
     },
     "metadata": {
      "needs_background": "light"
     },
     "output_type": "display_data"
    }
   ],
   "source": [
    "# traditional PCA\n",
    "\n",
    "# 1. projection\n",
    "cov = X.T @ X / X.shape[0]\n",
    "evalue,evector = np.linalg.eigh(cov)\n",
    "idx = np.argsort(evalue)[::-1]\n",
    "evecs = evector[:,idx]\n",
    "projected = X @ evecs[:,1]\n",
    "recovered = projected[:,None] @ evecs[:,1][:,None].T\n",
    "\n",
    "print(evalue)\n",
    "print(evector)\n",
    "print(evector@evector)\n",
    "\n",
    "\n",
    "\n",
    "# 2. recover\n",
    "plt.figure(figsize=(15,5))\n",
    "plt.subplot(1, 3, 1)\n",
    "plt.scatter(X[:, 0], X[:,1], color='red', alpha=0.5)\n",
    "plt.arrow(0,0,evecs[0,1],evecs[0,0])\n",
    "plt.arrow(0,0,evecs[1,1]*10,evecs[1,0]*10)\n",
    "\n",
    "# plt.scatter(X[y==0, 0], X[y==0, 1], color='red', alpha=0.5)\n",
    "# plt.scatter(X[y==1, 0], X[y==1, 1], color='blue', alpha=0.5)\n",
    "\n",
    "# plt.subplot(1, 3, 2)\n",
    "# plt.scatter(projected[y==0], np.zeros((len(projected)//2,1)), color='red', alpha=0.5)\n",
    "# plt.scatter(projected[y==1], np.zeros((len(projected)//2,1)), color='blue', alpha=0.5)\n",
    "\n",
    "# plt.subplot(1, 3, 3)\n",
    "# plt.scatter(recovered[y==0, 0], recovered[y==0, 1], color='red', alpha=0.5)\n",
    "# plt.scatter(recovered[y==1, 0], recovered[y==1, 1], color='blue', alpha=0.5)\n",
    "plt.show()"
   ]
  },
  {
   "cell_type": "code",
   "execution_count": 17,
   "metadata": {
    "ExecuteTime": {
     "end_time": "2019-04-09T08:08:19.720713Z",
     "start_time": "2019-04-09T08:08:19.714729Z"
    }
   },
   "outputs": [
    {
     "name": "stdout",
     "output_type": "stream",
     "text": [
      "1.1259752307649025\n",
      "1.0\n",
      "(2, 1)\n"
     ]
    }
   ],
   "source": [
    "# simple method\n",
    "w = np.random.randn(2,1)\n",
    "print(np.sqrt(np.sum(w**2)))\n",
    "w = w/(np.sqrt(np.sum(w**2)))\n",
    "print(np.sqrt(np.sum(w**2)))\n",
    "print(w.shape)\n"
   ]
  },
  {
   "cell_type": "code",
   "execution_count": null,
   "metadata": {},
   "outputs": [],
   "source": []
  },
  {
   "cell_type": "code",
   "execution_count": null,
   "metadata": {},
   "outputs": [],
   "source": []
  },
  {
   "cell_type": "code",
   "execution_count": null,
   "metadata": {},
   "outputs": [],
   "source": []
  },
  {
   "cell_type": "code",
   "execution_count": null,
   "metadata": {},
   "outputs": [],
   "source": []
  },
  {
   "cell_type": "code",
   "execution_count": null,
   "metadata": {},
   "outputs": [],
   "source": []
  },
  {
   "cell_type": "code",
   "execution_count": null,
   "metadata": {},
   "outputs": [],
   "source": []
  },
  {
   "cell_type": "code",
   "execution_count": null,
   "metadata": {
    "ExecuteTime": {
     "end_time": "2019-04-09T08:53:50.948209Z",
     "start_time": "2019-04-09T08:53:50.644847Z"
    },
    "code_folding": []
   },
   "outputs": [],
   "source": []
  },
  {
   "cell_type": "markdown",
   "metadata": {},
   "source": [
    "# Reference \n",
    "1. results, P., & Rieble, N. (2016). PCA in numpy and sklearn produces different results. Cross Validated. Retrieved 9 April 2019, from https://stats.stackexchange.com/questions/235882/pca-in-numpy-and-sklearn-produces-different-results\n",
    "2. Python, H., & Eunice, J. (2017). How to make two plots side-by-side using Python. Stack Overflow. Retrieved 9 April 2019, from https://stackoverflow.com/questions/42818361/how-to-make-two-plots-side-by-side-using-python\n",
    "3. "
   ]
  }
 ],
 "metadata": {
  "kernelspec": {
   "display_name": "Python 3",
   "language": "python",
   "name": "python3"
  },
  "language_info": {
   "codemirror_mode": {
    "name": "ipython",
    "version": 3
   },
   "file_extension": ".py",
   "mimetype": "text/x-python",
   "name": "python",
   "nbconvert_exporter": "python",
   "pygments_lexer": "ipython3",
   "version": "3.6.6"
  },
  "latex_envs": {
   "LaTeX_envs_menu_present": true,
   "autoclose": false,
   "autocomplete": true,
   "bibliofile": "biblio.bib",
   "cite_by": "apalike",
   "current_citInitial": 1,
   "eqLabelWithNumbers": true,
   "eqNumInitial": 1,
   "hotkeys": {
    "equation": "Ctrl-E",
    "itemize": "Ctrl-I"
   },
   "labels_anchors": false,
   "latex_user_defs": false,
   "report_style_numbering": false,
   "user_envs_cfg": false
  },
  "varInspector": {
   "cols": {
    "lenName": 16,
    "lenType": 16,
    "lenVar": 40
   },
   "kernels_config": {
    "python": {
     "delete_cmd_postfix": "",
     "delete_cmd_prefix": "del ",
     "library": "var_list.py",
     "varRefreshCmd": "print(var_dic_list())"
    },
    "r": {
     "delete_cmd_postfix": ") ",
     "delete_cmd_prefix": "rm(",
     "library": "var_list.r",
     "varRefreshCmd": "cat(var_dic_list()) "
    }
   },
   "types_to_exclude": [
    "module",
    "function",
    "builtin_function_or_method",
    "instance",
    "_Feature"
   ],
   "window_display": false
  }
 },
 "nbformat": 4,
 "nbformat_minor": 2
}
