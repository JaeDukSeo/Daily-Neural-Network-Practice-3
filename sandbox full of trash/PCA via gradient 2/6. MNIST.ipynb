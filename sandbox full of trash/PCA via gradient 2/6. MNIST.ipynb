{
 "cells": [
  {
   "cell_type": "code",
   "execution_count": 1,
   "metadata": {
    "ExecuteTime": {
     "end_time": "2019-04-10T11:26:02.332975Z",
     "start_time": "2019-04-10T11:25:49.515406Z"
    },
    "code_folding": [
     22
    ]
   },
   "outputs": [
    {
     "data": {
      "text/html": [
       "<script type=\"text/javascript\">window.PlotlyConfig = {MathJaxConfig: 'local'};</script><script type=\"text/javascript\">if (window.MathJax) {MathJax.Hub.Config({SVG: {font: \"STIX-Web\"}});}</script><script>requirejs.config({paths: { 'plotly': ['https://cdn.plot.ly/plotly-latest.min']},});if(!window._Plotly) {require(['plotly'],function(plotly) {window._Plotly=plotly;});}</script>"
      ],
      "text/vnd.plotly.v1+html": [
       "<script type=\"text/javascript\">window.PlotlyConfig = {MathJaxConfig: 'local'};</script><script type=\"text/javascript\">if (window.MathJax) {MathJax.Hub.Config({SVG: {font: \"STIX-Web\"}});}</script><script>requirejs.config({paths: { 'plotly': ['https://cdn.plot.ly/plotly-latest.min']},});if(!window._Plotly) {require(['plotly'],function(plotly) {window._Plotly=plotly;});}</script>"
      ]
     },
     "metadata": {},
     "output_type": "display_data"
    }
   ],
   "source": [
    "# import lib\n",
    "import numpy as np\n",
    "import matplotlib.pyplot as plt\n",
    "from sklearn.utils import shuffle\n",
    "from sklearn.datasets import make_moons,make_classification,make_regression,make_circles\n",
    "import sys\n",
    "from mpl_toolkits.mplot3d import Axes3D \n",
    "from plotly.offline import download_plotlyjs, init_notebook_mode, plot, iplot\n",
    "import plotly.graph_objs as go\n",
    "init_notebook_mode(connected=True)\n",
    "from sklearn.discriminant_analysis import LinearDiscriminantAnalysis as LDA\n",
    "from sklearn.decomposition import PCA,KernelPCA\n",
    "np.random.seed(23)\n",
    "np.set_printoptions(precision=3,suppress=True)\n",
    "plt.style.use('seaborn')\n",
    "\n",
    "import os\n",
    "import tensorflow as tf\n",
    "os.environ['TF_CPP_MIN_LOG_LEVEL'] = '3' \n",
    "tf.logging.set_verbosity(tf.logging.ERROR)\n",
    "from tensorflow.examples.tutorials.mnist import input_data\n",
    "\n",
    "def _sym_decorrelation(W):\n",
    "    \"\"\" Symmetric decorrelation\n",
    "    i.e. W <- (W * W.T) ^{-1/2} * W\n",
    "    \"\"\"\n",
    "    s, u = np.linalg.eigh(np.dot(W, W.T))\n",
    "    # u (resp. s) contains the eigenvectors (resp. square roots of\n",
    "    # the eigenvalues) of W * W.T\n",
    "    return np.dot(np.dot(u * (1./(np.sqrt(s+1e-8))+1e-8), u.T), W)"
   ]
  },
  {
   "cell_type": "code",
   "execution_count": 2,
   "metadata": {
    "ExecuteTime": {
     "end_time": "2019-04-10T11:26:10.037655Z",
     "start_time": "2019-04-10T11:26:09.453232Z"
    }
   },
   "outputs": [
    {
     "name": "stdout",
     "output_type": "stream",
     "text": [
      "Extracting ../../Dataset/MNIST/train-images-idx3-ubyte.gz\n",
      "Extracting ../../Dataset/MNIST/train-labels-idx1-ubyte.gz\n",
      "Extracting ../../Dataset/MNIST/t10k-images-idx3-ubyte.gz\n",
      "Extracting ../../Dataset/MNIST/t10k-labels-idx1-ubyte.gz\n",
      "(55000, 784) (55000, 10) 1.0 0.0\n",
      "(5000, 784) (5000, 10) 1.0 0.0\n",
      "(10000, 784) (10000, 10) 1.0 0.0\n"
     ]
    }
   ],
   "source": [
    "# import data\n",
    "mnist = input_data.read_data_sets('../../Dataset/MNIST/', one_hot=True)\n",
    "train_data,train_label,val_data,val_label,test_data,test_label = mnist.train.images,mnist.train.labels,mnist.validation.images,mnist.validation.labels,mnist.test.images, mnist.test.labels\n",
    "print(train_data.shape,train_label.shape,train_data.max(),train_data.min())\n",
    "print(val_data.shape,val_label.shape,val_data.max(),val_data.min())\n",
    "print(test_data.shape,test_label.shape,test_data.max(),test_data.min())"
   ]
  },
  {
   "cell_type": "code",
   "execution_count": 3,
   "metadata": {
    "ExecuteTime": {
     "end_time": "2019-04-10T11:26:10.783673Z",
     "start_time": "2019-04-10T11:26:10.078823Z"
    }
   },
   "outputs": [],
   "source": [
    "# start session \n",
    "sess = tf.InteractiveSession()\n",
    "sess.run(tf.global_variables_initializer())"
   ]
  },
  {
   "cell_type": "code",
   "execution_count": null,
   "metadata": {
    "ExecuteTime": {
     "end_time": "2019-04-10T11:26:02.442592Z",
     "start_time": "2019-04-10T11:25:48.892Z"
    },
    "hide_input": true
   },
   "outputs": [],
   "source": [
    "#  create class\n",
    "def arctan(x):  return tf.arctan(x)\n",
    "def tan(x)   :  return tf.tan(x)\n",
    "def d_arctan(x):return 1/(1+x**2)\n",
    "def d_tanh(x):  return 1/tf.cos(x)\n",
    "\n",
    "class FNN():\n",
    "    \n",
    "    def __init__(self,input,output,act,d_act):\n",
    "        self.w = tf.Variable(tf.random.normal())\n",
    "        self.mw,self.mv = np.zeros_like()\n",
    "        \n",
    "        self.a = np.ones(output)\n",
    "        self.b = np.ones(output)\n",
    "        self.c = np.zeros(output)\n",
    "        \n",
    "        self.act  = act\n",
    "        self.d_act= d_act"
   ]
  },
  {
   "cell_type": "code",
   "execution_count": 20,
   "metadata": {
    "ExecuteTime": {
     "end_time": "2019-04-10T22:46:44.658323Z",
     "start_time": "2019-04-10T22:46:44.627559Z"
    },
    "code_folding": [
     25,
     80,
     84
    ],
    "scrolled": false
   },
   "outputs": [],
   "source": [
    "def tf_arctan(x): return tf.atan(x)\n",
    "def tf_tan(x)   : return tf.tan(x)\n",
    "\n",
    "def d_tf_arctan(x): return 1/(1+x**2)\n",
    "def d_tf_tan(x):    return 1/(tf.cos(x)**2)\n",
    "\n",
    "class PCA_Layer():\n",
    "\n",
    "    def __init__(self,inc,outc,act=tf_arctan,d_act=d_tf_arctan):\n",
    "        \n",
    "        if outc == 1:\n",
    "            self.w = tf.Variable(self.norm(tf.random_normal([inc,outc],stddev=0.05,seed=2)))\n",
    "        else:\n",
    "            self.w = tf.Variable(self.sym_decorrelation(tf.random_normal([inc,outc],stddev=0.05,seed=2)))\n",
    "        self.a = tf.Variable(tf.ones([outc]))\n",
    "        self.b = tf.Variable(tf.ones([outc]))\n",
    "        self.c = tf.Variable(tf.zeros([outc]))\n",
    "        \n",
    "        self.mw,self.vw = tf.Variable(tf.zeros_like(self.w)),tf.Variable(tf.zeros_like(self.w))\n",
    "        self.ma,self.va = tf.Variable(tf.zeros_like(self.a)),tf.Variable(tf.zeros_like(self.a))\n",
    "        self.mb,self.vb = tf.Variable(tf.zeros_like(self.b)),tf.Variable(tf.zeros_like(self.b))\n",
    "        self.mc,self.vc = tf.Variable(tf.zeros_like(self.c)),tf.Variable(tf.zeros_like(self.c))\n",
    "        \n",
    "        self.act,self.d_act = act,d_act\n",
    "\n",
    "    def feedforward_linear(self,input=None):\n",
    "        self.input  = input\n",
    "        self.layer  = tf.matmul(self.input,self.w) \n",
    "        return self.layer\n",
    "    \n",
    "    def backprop_linear(self):\n",
    "        gradw      = -2* tf.transpose(self.input) @ self.input @ self.w\n",
    "        grad_pass  = -2*self.input@self.w@tf.transpose(self.w)\n",
    "        \n",
    "        update_w = []\n",
    "        update_w.append(tf.assign( self.mw,self.mw*beta1 + (1-beta1) * (gradw)   ))\n",
    "        update_w.append(tf.assign( self.vw,self.vw*beta2 + (1-beta2) * (gradw ** 2)   ))\n",
    "        m_hatw = self.mw / (1-beta1)\n",
    "        v_hatw = self.vw / (1-beta2)\n",
    "        adam_middle = m_hatw *  learning_rate/(tf.sqrt(v_hatw) + adam_e)\n",
    "        update_w.append(tf.assign(self.w,self.sym_decorrelation(tf.subtract(self.w,adam_middle ))))\n",
    "        \n",
    "        return grad_pass,update_w\n",
    "\n",
    "    def feedforward_nonlinear(self,input=None):\n",
    "        self.input  = input\n",
    "        self.layer  = tf.matmul(self.input,self.w) \n",
    "        self.layerA = self.a*self.act(self.b*self.layer) + self.c\n",
    "        return self.layerA\n",
    "    \n",
    "    def backprop_nonlinear(self,gradient):\n",
    "        \n",
    "        grada = gradient * (self.layerA - self.c)/self.a\n",
    "        gradb = grad1a   * self.a * self.d_act(self.b*self.layer) * self.layer\n",
    "        gradc = gradient\n",
    "        \n",
    "        gradw = tf.transpose(self.input) @ grad1a   * self.a * self.d_act(self.b*self.layer) * self.b - 2 * tf.transpose(self.input) @ self.input @ self.w\n",
    "        print(gradw)\n",
    "        sys.exit()\n",
    "        \n",
    "        grad_part_1 = gradient\n",
    "        grad_part_2 = self.d_act(self.layer)\n",
    "        grad_part_3 = self.input\n",
    "\n",
    "        grad_middle = grad_part_1 * grad_part_2\n",
    "        grad  = tf.matmul(tf.transpose(grad_part_3),grad_middle)/batch_size\n",
    "        grad_b= tf.reduce_mean(grad_middle,axis=0)\n",
    "        grad_pass = tf.matmul(grad_middle,tf.transpose(self.w))\n",
    "\n",
    "        update_w = []\n",
    "\n",
    "        update_w.append(tf.assign( self.m,self.m*beta1 + (1-beta1) * (grad)   ))\n",
    "        update_w.append(tf.assign( self.v,self.v*beta2 + (1-beta2) * (grad ** 2)   ))\n",
    "        m_hat = self.m / (1-beta1)\n",
    "        v_hat = self.v / (1-beta2)\n",
    "        adam_middle = m_hat *  learning_rate/(tf.sqrt(v_hat) + adam_e)\n",
    "        update_w.append(tf.assign(self.w,tf.subtract(self.w,adam_middle )))\n",
    "\n",
    "        return grad_pass,update_w\n",
    "    \n",
    "    def norm(self,W):\n",
    "        W = W/(tf.sqrt(tf.reduce_sum(W**2)+1e-8))\n",
    "        return W\n",
    "    \n",
    "    def sym_decorrelation(self,W):\n",
    "        s, u = tf.linalg.eigh(W@tf.transpose(W))\n",
    "        result = (u * (1./(tf.sqrt(s+1e-5)+1e-5))) @ tf.transpose(u) @ W\n",
    "        return result\n"
   ]
  },
  {
   "cell_type": "code",
   "execution_count": 22,
   "metadata": {
    "ExecuteTime": {
     "end_time": "2019-04-10T22:47:08.704695Z",
     "start_time": "2019-04-10T22:47:01.993903Z"
    }
   },
   "outputs": [
    {
     "name": "stdout",
     "output_type": "stream",
     "text": [
      "Tensor(\"MatMul_82:0\", shape=(10, 128), dtype=float32)\n",
      "(<tf.Tensor 'matmul_71:0' shape=(10, 256) dtype=float32>, [<tf.Tensor 'Assign_11:0' shape=(256, 128) dtype=float32_ref>, <tf.Tensor 'Assign_12:0' shape=(256, 128) dtype=float32_ref>, <tf.Tensor 'Assign_13:0' shape=(256, 128) dtype=float32_ref>])\n"
     ]
    }
   ],
   "source": [
    "learning_rate = 0.000008\n",
    "beta1,beta2,adam_e = 0.9,0.999,1e-8\n",
    "\n",
    "temp = np.ones((10,784)).astype(np.float32)\n",
    "               \n",
    "l1 = PCA_Layer(784,256)\n",
    "l2 = PCA_Layer(256,128)\n",
    "\n",
    "sess.run(tf.global_variables_initializer())\n",
    "\n",
    "layer1 = l1.feedforward_nonlinear(temp)\n",
    "layer2 = l2.feedforward_linear(layer1)\n",
    "\n",
    "grad2,grad2_update  = l2.backprop_linear()\n",
    "grad1,grad1_update  = l1.backprop_nonlinear(grad2)\n",
    "\n",
    "print(layer2)\n",
    "print(grad2)\n",
    "\n"
   ]
  },
  {
   "cell_type": "code",
   "execution_count": null,
   "metadata": {
    "ExecuteTime": {
     "end_time": "2019-04-10T10:13:57.319055Z",
     "start_time": "2019-04-10T10:13:57.313103Z"
    }
   },
   "outputs": [],
   "source": []
  },
  {
   "cell_type": "code",
   "execution_count": null,
   "metadata": {
    "ExecuteTime": {
     "end_time": "2019-04-10T10:13:09.161357Z",
     "start_time": "2019-04-10T10:13:09.155405Z"
    }
   },
   "outputs": [],
   "source": []
  },
  {
   "cell_type": "code",
   "execution_count": null,
   "metadata": {
    "ExecuteTime": {
     "end_time": "2019-04-10T10:13:27.263042Z",
     "start_time": "2019-04-10T10:13:26.516084Z"
    },
    "code_folding": []
   },
   "outputs": [],
   "source": []
  },
  {
   "cell_type": "code",
   "execution_count": null,
   "metadata": {
    "ExecuteTime": {
     "end_time": "2019-04-10T10:11:52.719892Z",
     "start_time": "2019-04-10T10:11:52.713939Z"
    }
   },
   "outputs": [],
   "source": []
  },
  {
   "cell_type": "code",
   "execution_count": null,
   "metadata": {},
   "outputs": [],
   "source": []
  },
  {
   "cell_type": "code",
   "execution_count": null,
   "metadata": {},
   "outputs": [],
   "source": []
  },
  {
   "cell_type": "code",
   "execution_count": null,
   "metadata": {},
   "outputs": [],
   "source": []
  },
  {
   "cell_type": "code",
   "execution_count": null,
   "metadata": {},
   "outputs": [],
   "source": []
  },
  {
   "cell_type": "code",
   "execution_count": null,
   "metadata": {},
   "outputs": [],
   "source": []
  }
 ],
 "metadata": {
  "kernelspec": {
   "display_name": "Python 3",
   "language": "python",
   "name": "python3"
  },
  "latex_envs": {
   "LaTeX_envs_menu_present": true,
   "autoclose": false,
   "autocomplete": true,
   "bibliofile": "biblio.bib",
   "cite_by": "apalike",
   "current_citInitial": 1,
   "eqLabelWithNumbers": true,
   "eqNumInitial": 1,
   "hotkeys": {
    "equation": "Ctrl-E",
    "itemize": "Ctrl-I"
   },
   "labels_anchors": false,
   "latex_user_defs": false,
   "report_style_numbering": false,
   "user_envs_cfg": false
  },
  "varInspector": {
   "cols": {
    "lenName": 16,
    "lenType": 16,
    "lenVar": 40
   },
   "kernels_config": {
    "python": {
     "delete_cmd_postfix": "",
     "delete_cmd_prefix": "del ",
     "library": "var_list.py",
     "varRefreshCmd": "print(var_dic_list())"
    },
    "r": {
     "delete_cmd_postfix": ") ",
     "delete_cmd_prefix": "rm(",
     "library": "var_list.r",
     "varRefreshCmd": "cat(var_dic_list()) "
    }
   },
   "types_to_exclude": [
    "module",
    "function",
    "builtin_function_or_method",
    "instance",
    "_Feature"
   ],
   "window_display": false
  }
 },
 "nbformat": 4,
 "nbformat_minor": 2
}
