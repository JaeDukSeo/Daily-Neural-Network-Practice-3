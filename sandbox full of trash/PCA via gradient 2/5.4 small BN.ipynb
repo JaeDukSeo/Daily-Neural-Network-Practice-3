{
 "cells": [
  {
   "cell_type": "code",
   "execution_count": null,
   "metadata": {
    "ExecuteTime": {
     "start_time": "2019-04-11T17:41:53.731Z"
    },
    "code_folding": []
   },
   "outputs": [
    {
     "data": {
      "text/html": [
       "<script type=\"text/javascript\">window.PlotlyConfig = {MathJaxConfig: 'local'};</script><script type=\"text/javascript\">if (window.MathJax) {MathJax.Hub.Config({SVG: {font: \"STIX-Web\"}});}</script><script>requirejs.config({paths: { 'plotly': ['https://cdn.plot.ly/plotly-latest.min']},});if(!window._Plotly) {require(['plotly'],function(plotly) {window._Plotly=plotly;});}</script>"
      ],
      "text/vnd.plotly.v1+html": [
       "<script type=\"text/javascript\">window.PlotlyConfig = {MathJaxConfig: 'local'};</script><script type=\"text/javascript\">if (window.MathJax) {MathJax.Hub.Config({SVG: {font: \"STIX-Web\"}});}</script><script>requirejs.config({paths: { 'plotly': ['https://cdn.plot.ly/plotly-latest.min']},});if(!window._Plotly) {require(['plotly'],function(plotly) {window._Plotly=plotly;});}</script>"
      ]
     },
     "metadata": {},
     "output_type": "display_data"
    }
   ],
   "source": [
    "# import lib\n",
    "import numpy as np\n",
    "import matplotlib.pyplot as plt\n",
    "from sklearn.utils import shuffle\n",
    "from sklearn.datasets import make_moons,make_classification,make_regression,make_circles\n",
    "import sys\n",
    "from mpl_toolkits.mplot3d import Axes3D \n",
    "from plotly.offline import download_plotlyjs, init_notebook_mode, plot, iplot\n",
    "import plotly.graph_objs as go\n",
    "init_notebook_mode(connected=True)\n",
    "from sklearn.discriminant_analysis import LinearDiscriminantAnalysis as LDA\n",
    "from sklearn.decomposition import PCA,KernelPCA\n",
    "np.random.seed(23)\n",
    "np.set_printoptions(precision=3,suppress=True)\n",
    "plt.style.use('seaborn')\n",
    "\n",
    "from tensorflow.examples.tutorials.mnist import input_data"
   ]
  },
  {
   "cell_type": "code",
   "execution_count": null,
   "metadata": {
    "ExecuteTime": {
     "start_time": "2019-04-11T17:41:53.734Z"
    },
    "code_folding": []
   },
   "outputs": [],
   "source": [
    "# See the data \n",
    "X, y = make_circles(n_samples=100, factor=.3, noise=.05)\n",
    "X = X @ np.array([[1,0],[1,2]])\n",
    "# X,y = make_regression(n_samples=400, n_features=1,noise=5); X = np.concatenate((X,y[:,None]),1) \n",
    "\n",
    "# ======== WE ARE CENTERING AND STD =======\n",
    "X[:,1] = -X[:,1]\n",
    "X = (X - X.mean(0))/X.std(0)\n",
    "# ======== WE ARE CENTERING AND STD =======\n",
    "\n",
    "plt.figure(figsize=(8,6))\n",
    "plt.scatter(X[y==0, 0], X[y==0, 1], color='red', alpha=0.5)\n",
    "plt.scatter(X[y==1, 0], X[y==1, 1], color='blue', alpha=0.5)\n",
    "# plt.scatter(X[:, 0], X[:,1], color='red', alpha=0.5)\n",
    "plt.show()"
   ]
  },
  {
   "cell_type": "code",
   "execution_count": null,
   "metadata": {
    "ExecuteTime": {
     "start_time": "2019-04-11T17:41:53.736Z"
    },
    "code_folding": []
   },
   "outputs": [],
   "source": [
    "# traditional PCA\n",
    "\n",
    "# 1. projection\n",
    "cov = X.T @ X / X.shape[1]\n",
    "evalue,evector = np.linalg.eig(cov)\n",
    "idx = np.argsort(evalue)[::-1]\n",
    "evecs = evector[:,idx]\n",
    "projected = X @ evecs[:,0]\n",
    "recovered = projected[:,None] @ evecs[:,0][:,None].T\n",
    "\n",
    "# 2. recover\n",
    "plt.figure(figsize=(15,5))\n",
    "plt.subplot(1, 3, 1)\n",
    "# plt.scatter(X[:, 0], X[:,1], color='red', alpha=0.5)\n",
    "plt.scatter(X[y==0, 0], X[y==0, 1], color='red', alpha=0.5)\n",
    "plt.scatter(X[y==1, 0], X[y==1, 1], color='blue', alpha=0.5)\n",
    "plt.quiver(X.mean(0)[0], X.mean(0)[1], evector[0,0],evector[0,1], color=['b'], scale=2.5)\n",
    "plt.quiver(X.mean(0)[0], X.mean(0)[1], evector[1,0],evector[1,1], color=['g'], scale=2.5)\n",
    "\n",
    "plt.subplot(1, 3, 2)\n",
    "# plt.scatter(projected,np.zeros(len(projected)), color='red', alpha=0.5)\n",
    "plt.scatter(projected[y==0], np.zeros((len(projected)//2)), color='red', alpha=0.5)\n",
    "plt.scatter(projected[y==1], np.zeros((len(projected)//2)), color='blue', alpha=0.5)\n",
    "\n",
    "\n",
    "plt.subplot(1, 3, 3)\n",
    "# plt.scatter(recovered[:, 0], recovered[:,1], color='red', alpha=0.5)\n",
    "plt.scatter(recovered[y==0, 0], recovered[y==0, 1], color='red', alpha=0.5)\n",
    "plt.scatter(recovered[y==1, 0], recovered[y==1, 1], color='blue', alpha=0.5)\n",
    "plt.quiver(X.mean(0)[0], X.mean(0)[1], evector[0,0],evector[0,1], color=['b'], scale=2.5)\n",
    "plt.quiver(X.mean(0)[0], X.mean(0)[1], evector[1,0],evector[1,1], color=['g'], scale=2.5)\n",
    "\n",
    "plt.show()"
   ]
  },
  {
   "cell_type": "code",
   "execution_count": null,
   "metadata": {
    "ExecuteTime": {
     "start_time": "2019-04-11T17:41:53.738Z"
    }
   },
   "outputs": [],
   "source": [
    "# PCA Sklearn \n",
    "one = PCA(n_components=2).fit_transform(X)\n",
    "# plt.figure(figsize=(8,6))\n",
    "# plt.scatter(one[y==0], np.zeros((len(one)//2)),  color='red', alpha=0.05)\n",
    "# plt.scatter(one[y==1], np.zeros((len(one)//2)), color='blue', alpha=0.05)\n",
    "# plt.show()\n",
    "\n",
    "plt.figure(figsize=(8,6))\n",
    "plt.scatter(one[y==0, 0], one[y==0, 1], color='red', alpha=0.5)\n",
    "plt.scatter(one[y==1, 0], one[y==1, 1], color='blue', alpha=0.5)\n",
    "plt.show()"
   ]
  },
  {
   "cell_type": "code",
   "execution_count": null,
   "metadata": {
    "ExecuteTime": {
     "start_time": "2019-04-11T17:41:53.740Z"
    }
   },
   "outputs": [],
   "source": [
    "# PCA Sklearn \n",
    "dsad = KernelPCA(n_components=2,gamma=2, kernel=\"rbf\").fit_transform(X)\n",
    "# plt.figure(figsize=(8,6))\n",
    "# plt.scatter(dsad[y==0], np.zeros((len(one)//2)),  color='red', alpha=0.05)\n",
    "# plt.scatter(dsad[y==1], np.zeros((len(one)//2)), color='blue', alpha=0.05)\n",
    "# plt.show()\n",
    "\n",
    "plt.figure(figsize=(8,6))\n",
    "plt.scatter(dsad[y==0, 0], dsad[y==0, 1], color='red', alpha=0.5)\n",
    "plt.scatter(dsad[y==1, 0], dsad[y==1, 1], color='blue', alpha=0.5)\n",
    "plt.show()"
   ]
  },
  {
   "cell_type": "code",
   "execution_count": null,
   "metadata": {
    "ExecuteTime": {
     "start_time": "2019-04-11T17:41:53.743Z"
    }
   },
   "outputs": [],
   "source": [
    "# PCA Sklearn \n",
    "fdsafds = LDA(n_components=1).fit_transform(X,y)\n",
    "plt.figure(figsize=(8,6))\n",
    "plt.scatter(fdsafds[y==0], np.zeros((len(one)//2)),  color='red', alpha=0.05)\n",
    "plt.scatter(fdsafds[y==1], np.zeros((len(one)//2)), color='blue', alpha=0.05)\n",
    "plt.show()\n",
    "\n",
    "# plt.figure(figsize=(8,6))\n",
    "# plt.scatter(fdsafds[y==0, 0], fdsafds[y==0, 1], color='red', alpha=0.5)\n",
    "# plt.scatter(fdsafds[y==1, 0], fdsafds[y==1, 1], color='blue', alpha=0.5)\n",
    "# plt.show()"
   ]
  },
  {
   "cell_type": "code",
   "execution_count": null,
   "metadata": {},
   "outputs": [],
   "source": []
  },
  {
   "cell_type": "code",
   "execution_count": null,
   "metadata": {
    "ExecuteTime": {
     "start_time": "2019-04-11T17:41:53.746Z"
    },
    "code_folding": []
   },
   "outputs": [],
   "source": [
    "#  act functions \n",
    "def g(x) :     return np.arctan(x)\n",
    "def gg(x):     return np.tan(x)\n",
    "def g_grad(x): return 1/(1+x**2)\n",
    "def gg_grad(x):return 1/(np.cos(x)*2+1e-8)"
   ]
  },
  {
   "cell_type": "code",
   "execution_count": null,
   "metadata": {
    "ExecuteTime": {
     "start_time": "2019-04-11T17:41:53.749Z"
    },
    "code_folding": [
     2,
     19,
     77,
     87,
     91
    ]
   },
   "outputs": [],
   "source": [
    "class PCA_layer():\n",
    "\n",
    "    def __init__(self,inc,outc,act=g,d_act=g_grad):\n",
    "        self.w =self.sym_decorrelation(np.random.normal(size=(inc,outc)))\n",
    "\n",
    "        self.a =self.stand(np.random.normal(size=(outc)))\n",
    "        self.b =self.stand(np.random.normal(size=(outc)))\n",
    "        self.c =self.stand(np.random.normal(size=(outc)))\n",
    "#         self.a =np.ones(outc)\n",
    "#         self.b =np.ones(outc)\n",
    "#         self.c =np.zeros(outc)\n",
    "\n",
    "        self.act = act; self.d_act = d_act\n",
    "        \n",
    "        self.mw,self.vw = np.zeros_like(self.w),np.zeros_like(self.w)\n",
    "        self.ma,self.va = np.zeros_like(self.a),np.zeros_like(self.a)\n",
    "        self.mb,self.vb = np.zeros_like(self.b),np.zeros_like(self.b)\n",
    "        self.mc,self.vc = np.zeros_like(self.c),np.zeros_like(self.c) \n",
    "    \n",
    "    def feed_linear(self,input_value):\n",
    "        self.input = input_value\n",
    "        self.layer = self.input @ self.w\n",
    "        var = self.w.T @ self.input.T @ self.input @ self.w\n",
    "        return self.layer,var\n",
    "    def back_linear(self):\n",
    "        gradw     = -2*self.input.T @ self.input @ self.w \n",
    "        grad_pass = -2*self.input   @ self.w     @ self.w.T\n",
    "        \n",
    "        self.mw   = beta1 * self.mw + (1-beta1) * gradw\n",
    "        self.vw   = beta2 * self.vw + (1-beta2) * gradw ** 2\n",
    "        adam_midw = (self.mw / (1-beta1)) * learning_rate/(np.sqrt(self.vw/(1-beta2)) + adam_e)\n",
    "        self.w    = self.sym_decorrelation(self.w - adam_midw) \n",
    "        return grad_pass\n",
    "        \n",
    "    def feed_non(self,input_value):\n",
    "        self.input = input_value\n",
    "        self.layer = self.input @ self.w\n",
    "        self.layer =  self.layer  + np.random.normal(0,0.05,size=self.layer.shape)\n",
    "        self.layerA= self.a * self.act(self.b * self.layer) + self.c\n",
    "        var = self.w.T @ self.input.T @ self.input @ self.w\n",
    "        return self.layerA,var\n",
    "    def back_non(self,gradient):\n",
    "        \n",
    "        grada = (gradient * self.act(self.b * self.layer)).mean(0)\n",
    "        gradb = (gradient * self.a * self.d_act(self.b * self.layer) * self.layer).mean(0)\n",
    "        gradc = gradient.mean(0)\n",
    "        \n",
    "        gradw = self.input.T @(gradient * self.a * self.d_act(self.b * self.layer) * self.b) -2*self.input.T @ self.input @ self.w \n",
    "        grad_pass = (gradient * self.a * self.d_act(self.b * self.layer) * self.b)  @ self.w.T -2*self.input   @ self.w     @ self.w.T\n",
    "        \n",
    "#         gradw = self.input.T @(gradient * self.a * self.d_act(self.b * self.layer) * self.b) \n",
    "#         grad_pass = (gradient * self.a * self.d_act(self.b * self.layer) * self.b)  @ self.w.T \n",
    "        \n",
    "        self.ma   = beta1 * self.ma + (1-beta1) * grada\n",
    "        self.va   = beta2 * self.va + (1-beta2) * grada ** 2\n",
    "        adam_mida = (self.ma / (1-beta1)) * learning_rate/(np.sqrt(self.va/(1-beta2)) + adam_e)\n",
    "        self.a    = self.stand(self.a - adam_mida)\n",
    "        \n",
    "        self.mb   = beta1 * self.mb + (1-beta1) * gradb\n",
    "        self.vb   = beta2 * self.vb + (1-beta2) * gradb ** 2\n",
    "        adam_midb = (self.mb / (1-beta1)) * learning_rate/(np.sqrt(self.vb/(1-beta2)) + adam_e)\n",
    "        self.b    = self.stand(self.b - adam_midb)      \n",
    "\n",
    "        self.mc   = beta1 * self.mc + (1-beta1) * gradc\n",
    "        self.vc   = beta2 * self.vc + (1-beta2) * gradc ** 2\n",
    "        adam_midc = (self.mc / (1-beta1)) * learning_rate/(np.sqrt(self.vc/(1-beta2)) + adam_e)\n",
    "        self.c    = self.stand(self.c - adam_midc)\n",
    "        \n",
    "        self.mw   = beta1 * self.mw + (1-beta1) * gradw\n",
    "        self.vw   = beta2 * self.vw + (1-beta2) * gradw ** 2\n",
    "        adam_midw = (self.mw / (1-beta1)) * learning_rate/(np.sqrt(self.vw/(1-beta2)) + adam_e)\n",
    "        self.w    = self.sym_decorrelation(self.w - adam_midw)\n",
    "        \n",
    "        return grad_pass\n",
    "    \n",
    "#     def stand(self,a): return a/(np.sqrt(np.sum(a**2)))\n",
    "    def stand(self,a): return (a-a.mean())/a.std()\n",
    "    def norm(self,w):  return w/(np.sqrt(np.sum(w**2)))\n",
    "    def sym_decorrelation(self,W):\n",
    "        \"\"\" Symmetric decorrelation\n",
    "        i.e. W <- (W * W.T) ^{-1/2} * W\n",
    "        \"\"\"\n",
    "        s, u = np.linalg.eigh(np.dot(W, W.T))\n",
    "        # u (resp. s) contains the eigenvectors (resp. square roots of\n",
    "        # the eigenvalues) of W * W.T\n",
    "        return np.dot(np.dot(u * (1./(np.sqrt(s+1e-8)+1e-8)), u.T), W)\n",
    "    \n",
    "# need to fix this later\n",
    "class batch_norm():\n",
    "    \n",
    "    def __init__(self):\n",
    "        pass\n",
    "    def feed(self,x,eps=1e-8):\n",
    "        \n",
    "        N, D = x.shape\n",
    "\n",
    "        #step1: calculate mean\n",
    "        mu = 1./N * np.sum(x, axis = 0)\n",
    "\n",
    "        #step2: subtract mean vector of every trainings example\n",
    "        xmu = x - mu\n",
    "\n",
    "        #step3: following the lower branch - calculation denominator\n",
    "        sq = xmu ** 2\n",
    "\n",
    "        #step4: calculate variance\n",
    "        var = 1./N * np.sum(sq, axis = 0)\n",
    "\n",
    "        #step5: add eps for numerical stability, then sqrt\n",
    "        sqrtvar = np.sqrt(var + eps)\n",
    "\n",
    "        #step6: invert sqrtwar\n",
    "        ivar = 1./sqrtvar\n",
    "\n",
    "        #step7: execute normalization\n",
    "        xhat = xmu * ivar\n",
    "\n",
    "        self.cache = (xhat,xmu,ivar,sqrtvar,var)\n",
    "\n",
    "        return xhat\n",
    "    def back(self,dout,eps=1e-8):\n",
    "        xhat,xmu,ivar,sqrtvar,var = self.cache\n",
    "        \n",
    "        #get the dimensions of the input/output\n",
    "        N,D = dout.shape\n",
    "\n",
    "        #step9\n",
    "        dgammax = dout #not necessary, but more understandable\n",
    "\n",
    "        #step8\n",
    "        dxhat = dgammax \n",
    "\n",
    "        #step7\n",
    "        divar = np.sum(dxhat*xmu, axis=0)\n",
    "        dxmu1 = dxhat * ivar\n",
    "\n",
    "        #step6\n",
    "        dsqrtvar = -1. /(sqrtvar**2) * divar\n",
    "\n",
    "        #step5\n",
    "        dvar = 0.5 * 1. /np.sqrt(var+eps) * dsqrtvar\n",
    "\n",
    "        #step4\n",
    "        dsq = 1. /N * np.ones((N,D)) * dvar\n",
    "\n",
    "        #step3\n",
    "        dxmu2 = 2 * xmu * dsq\n",
    "\n",
    "        #step2\n",
    "        dx1 = (dxmu1 + dxmu2)\n",
    "        dmu = -1 * np.sum(dxmu1+dxmu2, axis=0)\n",
    "\n",
    "        #step1\n",
    "        dx2 = 1. /N * np.ones((N,D)) * dmu\n",
    "\n",
    "        #step0\n",
    "        dx = dx1 + dx2\n",
    "\n",
    "        return dx"
   ]
  },
  {
   "cell_type": "code",
   "execution_count": null,
   "metadata": {
    "ExecuteTime": {
     "start_time": "2019-04-11T17:41:53.752Z"
    }
   },
   "outputs": [],
   "source": [
    "learning_rate = 0.0008; beta1=0.9; beta2=0.9999; adam_e = 1e-8 \n",
    "\n",
    "l1 = PCA_layer(2,3)\n",
    "l1b= batch_norm()\n",
    "l2 = PCA_layer(3,3)\n",
    "l2b= batch_norm()\n",
    "l3 = PCA_layer(3,2)\n",
    "\n",
    "mini_batch_size    = 10\n",
    "training_iteration = 400\n",
    "\n",
    "copyX = np.copy(X)\n",
    "for iter in range(training_iteration):\n",
    "\n",
    "    copyX = shuffle(copyX)\n",
    "    for current_batch_index in range(0,len(X),mini_batch_size):\n",
    "        current_batch = copyX[current_batch_index:current_batch_index+mini_batch_size]\n",
    "        layer1,layer1_var = l1.feed_non(current_batch)\n",
    "        layer1bn = l1b.feed(layer1)\n",
    "        layer2,layer2_var = l2.feed_non(layer1bn)\n",
    "        layer2bn = l2b.feed(layer2)\n",
    "        layer3,layer3_var = l3.feed_linear(layer2bn)\n",
    "\n",
    "        sys.stdout.write(\"Iter: \" + str(iter) + \" \" + str(layer1_var.mean() + layer2_var.mean() + layer3_var.mean()) + '\\r')\n",
    "        sys.stdout.flush()\n",
    "        \n",
    "        grad3 = l3.back_linear()\n",
    "        grad2bn = l2b.back(grad3)\n",
    "        grad2 = l2.back_non(grad2bn)\n",
    "        grad1bn = l1b.back(grad2)\n",
    "        grad1 = l1.back_non(grad1bn)\n",
    "   \n",
    "layer1,layer1_var = l1.feed_non(X)\n",
    "layer1bn = l1b.feed(layer1)\n",
    "layer2,layer2_var = l2.feed_non(layer1bn)\n",
    "layer2bn = l2b.feed(layer2)\n",
    "layer3,layer3_var = l3.feed_linear(layer2bn)\n",
    "\n",
    "trace1 = go.Scatter3d(\n",
    "    x=layer2bn[y==0,0],\n",
    "    y=layer2bn[y==0,1],\n",
    "    z=layer2bn[y==0,2],\n",
    "    mode='markers',\n",
    "    line=dict(color='red',width=0.5),\n",
    "    marker=dict(size=3,opacity=0.3)\n",
    ")\n",
    "trace2 = go.Scatter3d(\n",
    "    x=layer2bn[y==1,0],\n",
    "    y=layer2bn[y==1,1],\n",
    "    z=layer2bn[y==1,2],\n",
    "    mode='markers',\n",
    "    line=dict(color='blue',width=0.5),\n",
    "    marker=dict(size=3,opacity=0.3)\n",
    ")\n",
    "data = [trace1,trace2]\n",
    "fig  = go.Figure(data=data)\n",
    "iplot(fig)\n",
    "\n",
    "plt.figure(figsize=(8,6))\n",
    "plt.scatter(layer3[y==0, 0], layer3[y==0, 1], color='red', alpha=0.5)\n",
    "plt.scatter(layer3[y==1, 0], layer3[y==1, 1], color='blue', alpha=0.5)\n",
    "plt.show()"
   ]
  },
  {
   "cell_type": "code",
   "execution_count": null,
   "metadata": {
    "ExecuteTime": {
     "end_time": "2019-04-11T17:34:44.888932Z",
     "start_time": "2019-04-11T17:34:37.138289Z"
    }
   },
   "outputs": [],
   "source": []
  },
  {
   "cell_type": "code",
   "execution_count": null,
   "metadata": {},
   "outputs": [],
   "source": []
  },
  {
   "cell_type": "code",
   "execution_count": null,
   "metadata": {},
   "outputs": [],
   "source": []
  },
  {
   "cell_type": "code",
   "execution_count": null,
   "metadata": {},
   "outputs": [],
   "source": []
  },
  {
   "cell_type": "code",
   "execution_count": null,
   "metadata": {},
   "outputs": [],
   "source": []
  },
  {
   "cell_type": "code",
   "execution_count": null,
   "metadata": {
    "ExecuteTime": {
     "end_time": "2019-04-11T14:35:54.046408Z",
     "start_time": "2019-04-11T14:35:54.041482Z"
    }
   },
   "outputs": [],
   "source": []
  },
  {
   "cell_type": "markdown",
   "metadata": {},
   "source": [
    "# Reference \n",
    "1. results, P., & Rieble, N. (2016). PCA in numpy and sklearn produces different results. Cross Validated. Retrieved 9 April 2019, from https://stats.stackexchange.com/questions/235882/pca-in-numpy-and-sklearn-produces-different-results\n",
    "2. Python, H., & Eunice, J. (2017). How to make two plots side-by-side using Python. Stack Overflow. Retrieved 9 April 2019, from https://stackoverflow.com/questions/42818361/how-to-make-two-plots-side-by-side-using-python\n",
    "3. The Theorem that the Sum of the Eigenvalues of a Matrix is Equal to its Trace . (2019). Applet-magic.com. Retrieved 9 April 2019, from http://www.applet-magic.com/eigenvaluestrace.htm\n",
    "4. "
   ]
  }
 ],
 "metadata": {
  "kernelspec": {
   "display_name": "Python 3",
   "language": "python",
   "name": "python3"
  },
  "language_info": {
   "codemirror_mode": {
    "name": "ipython",
    "version": 3
   },
   "file_extension": ".py",
   "mimetype": "text/x-python",
   "name": "python",
   "nbconvert_exporter": "python",
   "pygments_lexer": "ipython3",
   "version": "3.6.6"
  },
  "latex_envs": {
   "LaTeX_envs_menu_present": true,
   "autoclose": false,
   "autocomplete": true,
   "bibliofile": "biblio.bib",
   "cite_by": "apalike",
   "current_citInitial": 1,
   "eqLabelWithNumbers": true,
   "eqNumInitial": 1,
   "hotkeys": {
    "equation": "Ctrl-E",
    "itemize": "Ctrl-I"
   },
   "labels_anchors": false,
   "latex_user_defs": false,
   "report_style_numbering": false,
   "user_envs_cfg": false
  },
  "varInspector": {
   "cols": {
    "lenName": 16,
    "lenType": 16,
    "lenVar": 40
   },
   "kernels_config": {
    "python": {
     "delete_cmd_postfix": "",
     "delete_cmd_prefix": "del ",
     "library": "var_list.py",
     "varRefreshCmd": "print(var_dic_list())"
    },
    "r": {
     "delete_cmd_postfix": ") ",
     "delete_cmd_prefix": "rm(",
     "library": "var_list.r",
     "varRefreshCmd": "cat(var_dic_list()) "
    }
   },
   "types_to_exclude": [
    "module",
    "function",
    "builtin_function_or_method",
    "instance",
    "_Feature"
   ],
   "window_display": false
  }
 },
 "nbformat": 4,
 "nbformat_minor": 2
}
