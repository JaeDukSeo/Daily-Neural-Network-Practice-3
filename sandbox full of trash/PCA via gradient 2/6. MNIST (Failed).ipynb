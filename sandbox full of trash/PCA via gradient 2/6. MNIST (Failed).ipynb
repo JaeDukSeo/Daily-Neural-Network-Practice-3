{
 "cells": [
  {
   "cell_type": "code",
   "execution_count": 1,
   "metadata": {
    "ExecuteTime": {
     "end_time": "2019-04-10T23:22:22.886755Z",
     "start_time": "2019-04-10T23:22:09.331541Z"
    },
    "code_folding": [
     22
    ]
   },
   "outputs": [
    {
     "data": {
      "text/html": [
       "<script type=\"text/javascript\">window.PlotlyConfig = {MathJaxConfig: 'local'};</script><script type=\"text/javascript\">if (window.MathJax) {MathJax.Hub.Config({SVG: {font: \"STIX-Web\"}});}</script><script>requirejs.config({paths: { 'plotly': ['https://cdn.plot.ly/plotly-latest.min']},});if(!window._Plotly) {require(['plotly'],function(plotly) {window._Plotly=plotly;});}</script>"
      ],
      "text/vnd.plotly.v1+html": [
       "<script type=\"text/javascript\">window.PlotlyConfig = {MathJaxConfig: 'local'};</script><script type=\"text/javascript\">if (window.MathJax) {MathJax.Hub.Config({SVG: {font: \"STIX-Web\"}});}</script><script>requirejs.config({paths: { 'plotly': ['https://cdn.plot.ly/plotly-latest.min']},});if(!window._Plotly) {require(['plotly'],function(plotly) {window._Plotly=plotly;});}</script>"
      ]
     },
     "metadata": {},
     "output_type": "display_data"
    }
   ],
   "source": [
    "# import lib\n",
    "import numpy as np\n",
    "import matplotlib.pyplot as plt\n",
    "from sklearn.utils import shuffle\n",
    "from sklearn.datasets import make_moons,make_classification,make_regression,make_circles\n",
    "import sys\n",
    "from mpl_toolkits.mplot3d import Axes3D \n",
    "from plotly.offline import download_plotlyjs, init_notebook_mode, plot, iplot\n",
    "import plotly.graph_objs as go\n",
    "init_notebook_mode(connected=True)\n",
    "from sklearn.discriminant_analysis import LinearDiscriminantAnalysis as LDA\n",
    "from sklearn.decomposition import PCA,KernelPCA\n",
    "np.random.seed(23)\n",
    "np.set_printoptions(precision=3,suppress=True)\n",
    "plt.style.use('seaborn')\n",
    "\n",
    "import os\n",
    "import tensorflow as tf\n",
    "os.environ['TF_CPP_MIN_LOG_LEVEL'] = '3' \n",
    "tf.logging.set_verbosity(tf.logging.ERROR)\n",
    "from tensorflow.examples.tutorials.mnist import input_data\n",
    "\n",
    "def _sym_decorrelation(W):\n",
    "    \"\"\" Symmetric decorrelation\n",
    "    i.e. W <- (W * W.T) ^{-1/2} * W\n",
    "    \"\"\"\n",
    "    s, u = np.linalg.eigh(np.dot(W, W.T))\n",
    "    # u (resp. s) contains the eigenvectors (resp. square roots of\n",
    "    # the eigenvalues) of W * W.T\n",
    "    return np.dot(np.dot(u * (1./(np.sqrt(s+1e-8))+1e-8), u.T), W)"
   ]
  },
  {
   "cell_type": "code",
   "execution_count": 2,
   "metadata": {
    "ExecuteTime": {
     "end_time": "2019-04-10T23:22:23.597502Z",
     "start_time": "2019-04-10T23:22:22.889728Z"
    }
   },
   "outputs": [
    {
     "name": "stdout",
     "output_type": "stream",
     "text": [
      "Extracting ../../Dataset/MNIST/train-images-idx3-ubyte.gz\n",
      "Extracting ../../Dataset/MNIST/train-labels-idx1-ubyte.gz\n",
      "Extracting ../../Dataset/MNIST/t10k-images-idx3-ubyte.gz\n",
      "Extracting ../../Dataset/MNIST/t10k-labels-idx1-ubyte.gz\n",
      "(55000, 784) (55000, 10) 1.0 0.0\n",
      "(5000, 784) (5000, 10) 1.0 0.0\n",
      "(10000, 784) (10000, 10) 1.0 0.0\n"
     ]
    }
   ],
   "source": [
    "# import data\n",
    "mnist = input_data.read_data_sets('../../Dataset/MNIST/', one_hot=True)\n",
    "train_data,train_label,val_data,val_label,test_data,test_label = mnist.train.images,mnist.train.labels,mnist.validation.images,mnist.validation.labels,mnist.test.images, mnist.test.labels\n",
    "print(train_data.shape,train_label.shape,train_data.max(),train_data.min())\n",
    "print(val_data.shape,val_label.shape,val_data.max(),val_data.min())\n",
    "print(test_data.shape,test_label.shape,test_data.max(),test_data.min())"
   ]
  },
  {
   "cell_type": "code",
   "execution_count": 3,
   "metadata": {
    "ExecuteTime": {
     "end_time": "2019-04-10T23:22:23.605934Z",
     "start_time": "2019-04-10T23:22:23.598990Z"
    },
    "hide_input": true
   },
   "outputs": [],
   "source": [
    "#  create class\n",
    "def arctan(x):  return tf.arctan(x)\n",
    "def tan(x)   :  return tf.tan(x)\n",
    "def d_arctan(x):return 1/(1+x**2)\n",
    "def d_tanh(x):  return 1/tf.cos(x)\n",
    "\n",
    "class FNN():\n",
    "    \n",
    "    def __init__(self,input,output,act,d_act):\n",
    "        self.w = tf.Variable(tf.random.normal())\n",
    "        self.mw,self.mv = np.zeros_like()\n",
    "        \n",
    "        self.a = np.ones(output)\n",
    "        self.b = np.ones(output)\n",
    "        self.c = np.zeros(output)\n",
    "        \n",
    "        self.act  = act\n",
    "        self.d_act= d_act"
   ]
  },
  {
   "cell_type": "code",
   "execution_count": 24,
   "metadata": {
    "ExecuteTime": {
     "end_time": "2019-04-10T23:24:47.569403Z",
     "start_time": "2019-04-10T23:24:47.526471Z"
    },
    "code_folding": [
     50,
     93
    ],
    "scrolled": false
   },
   "outputs": [],
   "source": [
    "def tf_arctan(x): return tf.atan(x)\n",
    "def tf_tan(x)   : return tf.tan(x)\n",
    "\n",
    "def d_tf_arctan(x): return 1/(1+x**2)\n",
    "def d_tf_tan(x):    return 1/(tf.cos(x)**2)\n",
    "\n",
    "class PCA_Layer():\n",
    "\n",
    "    def __init__(self,inc,outc,act=tf_arctan,d_act=d_tf_arctan):\n",
    "        \n",
    "        if outc == 1:\n",
    "            self.w = tf.Variable(self.norm(tf.random_normal([inc,outc],stddev=1,seed=2)))\n",
    "        else:\n",
    "            self.w = tf.Variable(self.sym_decorrelation(tf.random_normal([inc,outc],stddev=0.05,seed=2)))\n",
    "        self.a = tf.Variable(tf.ones([outc]))\n",
    "        self.b = tf.Variable(tf.ones([outc]))\n",
    "        self.c = tf.Variable(tf.zeros([outc]))\n",
    "        \n",
    "        self.mw,self.vw = tf.Variable(tf.zeros_like(self.w)),tf.Variable(tf.zeros_like(self.w))\n",
    "        self.ma,self.va = tf.Variable(tf.zeros_like(self.a)),tf.Variable(tf.zeros_like(self.a))\n",
    "        self.mb,self.vb = tf.Variable(tf.zeros_like(self.b)),tf.Variable(tf.zeros_like(self.b))\n",
    "        self.mc,self.vc = tf.Variable(tf.zeros_like(self.c)),tf.Variable(tf.zeros_like(self.c))\n",
    "        \n",
    "        self.act,self.d_act = act,d_act\n",
    "\n",
    "    def feedforward_linear(self,input_value):\n",
    "        self.input  = input_value\n",
    "        self.layer  = tf.matmul(self.input,self.w) \n",
    "        loss = tf.transpose(self.w) @ tf.transpose(self.input) @ self.input @ self.w\n",
    "        return self.layer,loss\n",
    "    def backprop_linear(self):\n",
    "        gradw      = -2* tf.transpose(self.input) @ self.input @ self.w\n",
    "        grad_pass  = -2*self.input@self.w@tf.transpose(self.w)\n",
    "        \n",
    "        update_w = []\n",
    "        update_w.append(tf.assign( self.mw,self.mw*beta1 + (1-beta1) * (gradw)   ))\n",
    "        update_w.append(tf.assign( self.vw,self.vw*beta2 + (1-beta2) * (gradw ** 2)   ))\n",
    "        m_hatw = self.mw / (1-beta1)\n",
    "        v_hatw = self.vw / (1-beta2)\n",
    "        adam_midw = m_hatw *  learning_rate/(tf.sqrt(v_hatw) + adam_e)\n",
    "        update_w.append(tf.assign(self.w,self.sym_decorrelation(tf.subtract(self.w,adam_midw ))))\n",
    "        \n",
    "        return grad_pass,update_w\n",
    "\n",
    "    def feedforward_nonlinear(self,input_value):\n",
    "        self.input  = input_value\n",
    "        self.layer  = tf.matmul(self.input,self.w) \n",
    "        self.layerA = self.a*self.act(self.b*self.layer) + self.c\n",
    "        loss = tf.transpose(self.w) @ tf.transpose(self.input) @ self.input @ self.w\n",
    "        return self.layerA,loss\n",
    "    def backprop_nonlinear(self,gradient):\n",
    "        \n",
    "        grada = tf.reduce_mean(gradient * self.act(self.b*self.layer),0)\n",
    "        gradb = tf.reduce_mean(gradient * self.a * self.d_act(self.b*self.layer) * self.layer,0)\n",
    "        gradc = tf.reduce_mean(gradient,0)\n",
    "        gradw = tf.transpose(self.input) @ (gradient * self.a * self.d_act(self.b*self.layer) * self.b) - 2 * tf.transpose(self.input) @ self.input @ self.w\n",
    "        grad_pass = (gradient * self.a * self.d_act(self.b*self.layer) * self.b) @ tf.transpose(self.w) - 2 * self.input@self.w@tf.transpose(self.w)\n",
    "\n",
    "        update_w = []\n",
    "        \n",
    "        update_w.append(tf.assign( self.mw,self.mw*beta1 + (1-beta1) * (gradw)   ))\n",
    "        update_w.append(tf.assign( self.vw,self.vw*beta2 + (1-beta2) * (gradw ** 2)   ))\n",
    "        m_hatw    = self.mw / (1-beta1)\n",
    "        v_hatw    = self.vw / (1-beta2)\n",
    "        adam_midw = m_hatw *  learning_rate/(tf.sqrt(v_hatw) + adam_e)\n",
    "        update_w.append(tf.assign(self.w,self.sym_decorrelation(tf.subtract(self.w,adam_midw))))\n",
    "        \n",
    "        update_w.append(tf.assign( self.ma,self.ma*beta1 + (1-beta1) * (grada)   ))\n",
    "        update_w.append(tf.assign( self.va,self.va*beta2 + (1-beta2) * (grada ** 2)   ))\n",
    "        m_hata    = self.ma / (1-beta1)\n",
    "        v_hata    = self.va / (1-beta2)\n",
    "        adam_mida = m_hata *  learning_rate/(tf.sqrt(v_hata) + adam_e)\n",
    "        update_w.append(tf.assign(self.a,self.stand(tf.subtract(self.a,adam_mida))))\n",
    "        \n",
    "        update_w.append(tf.assign( self.mb,self.mb*beta1 + (1-beta1) * (gradb)   ))\n",
    "        update_w.append(tf.assign( self.vb,self.vb*beta2 + (1-beta2) * (gradb ** 2)   ))\n",
    "        m_hatb    = self.mb / (1-beta1)\n",
    "        v_hatb    = self.vb / (1-beta2)\n",
    "        adam_midb = m_hatb *  learning_rate/(tf.sqrt(v_hatb) + adam_e)\n",
    "        update_w.append(tf.assign(self.b,self.stand(tf.subtract(self.b,adam_midb))))\n",
    "        \n",
    "        update_w.append(tf.assign( self.mc,self.mc*beta1 + (1-beta1) * (gradc)   ))\n",
    "        update_w.append(tf.assign( self.vc,self.vc*beta2 + (1-beta2) * (gradc ** 2)   ))\n",
    "        m_hatc    = self.mc / (1-beta1)\n",
    "        v_hatc    = self.vc / (1-beta2)\n",
    "        adam_midc = m_hatb *  learning_rate/(tf.sqrt(v_hatc) + adam_e)\n",
    "        update_w.append(tf.assign(self.c,self.stand(tf.subtract(self.c,adam_midc))))\n",
    "\n",
    "        return grad_pass,update_w\n",
    "    \n",
    "    def stand(self,w):\n",
    "        mean,variance = tf.nn.moments(w,0)\n",
    "        return (w-mean)/(variance+1e-5)\n",
    "    def norm(self,W):\n",
    "        W = W/(tf.sqrt(tf.reduce_sum(W**2)+1e-8))\n",
    "        return W\n",
    "    def sym_decorrelation(self,W):\n",
    "        s, u = tf.linalg.eigh(W@tf.transpose(W))\n",
    "        result = (u * (1./(tf.sqrt(s+1e-5)+1e-5))) @ tf.transpose(u) @ W\n",
    "        return result\n"
   ]
  },
  {
   "cell_type": "code",
   "execution_count": 25,
   "metadata": {
    "ExecuteTime": {
     "end_time": "2019-04-10T23:24:47.918808Z",
     "start_time": "2019-04-10T23:24:47.914839Z"
    }
   },
   "outputs": [],
   "source": [
    "# set the hyper\n",
    "learning_rate = 0.0000000008\n",
    "beta1,beta2,adam_e = 0.9,0.999,1e-8\n",
    "mini_batch_size    = 10"
   ]
  },
  {
   "cell_type": "code",
   "execution_count": 30,
   "metadata": {
    "ExecuteTime": {
     "end_time": "2019-04-10T23:31:23.857793Z",
     "start_time": "2019-04-10T23:31:23.316407Z"
    }
   },
   "outputs": [],
   "source": [
    "# create layers \n",
    "l1 = PCA_Layer(784,128)\n",
    "l2 = PCA_Layer(128,2)\n",
    "\n",
    "x = tf.placeholder(tf.float32,[mini_batch_size,784])\n",
    "full_data = tf.placeholder(tf.float32,[None,784])\n",
    "flayer1,_ = l1.feedforward_nonlinear(full_data)\n",
    "flayer2,_ = l2.feedforward_linear(flayer1)\n",
    "\n",
    "layer1,l1l = l1.feedforward_nonlinear(x)\n",
    "layer2,l2l = l2.feedforward_linear(layer1)\n",
    "\n",
    "loss = tf.reduce_mean(l1l) + tf.reduce_mean(l2l)\n",
    "\n",
    "grad2,grad2_update = l2.backprop_linear()\n",
    "grad1,grad1_update = l1.backprop_nonlinear(grad2)\n",
    "grad_update = grad2_update + grad1_update"
   ]
  },
  {
   "cell_type": "code",
   "execution_count": 32,
   "metadata": {
    "ExecuteTime": {
     "end_time": "2019-04-10T23:37:06.182314Z",
     "start_time": "2019-04-10T23:31:28.882956Z"
    },
    "scrolled": false
   },
   "outputs": [
    {
     "name": "stdout",
     "output_type": "stream",
     "text": [
      "Iter:  0  current batch:  4990 /5000 var:  383.82214455\r"
     ]
    }
   ],
   "source": [
    "# start\n",
    "# sess = tf.InteractiveSession()\n",
    "sess.run(tf.global_variables_initializer())\n",
    "val_data_copy = np.copy(val_data)\n",
    "\n",
    "for iter in range(1):\n",
    "    \n",
    "    val_data_copy  = shuffle(val_data_copy)\n",
    "    for current_batch_index in range(0,len(val_data_copy),mini_batch_size):\n",
    "        \n",
    "        current_batch  = val_data_copy[current_batch_index:current_batch_index+mini_batch_size]\n",
    "        sess_result    = sess.run([loss,grad_update],feed_dict={x:current_batch})\n",
    "        print('Iter: ',iter,' current batch: ',current_batch_index,\"/5000 var: \",sess_result[0],end='\\r')\n"
   ]
  },
  {
   "cell_type": "code",
   "execution_count": 33,
   "metadata": {
    "ExecuteTime": {
     "end_time": "2019-04-10T23:37:06.529513Z",
     "start_time": "2019-04-10T23:37:06.482889Z"
    }
   },
   "outputs": [
    {
     "name": "stdout",
     "output_type": "stream",
     "text": [
      "(5000, 2)\n"
     ]
    }
   ],
   "source": [
    "full_embedding = sess.run(flayer2,feed_dict={full_data:val_data})\n",
    "print(full_embedding.shape)"
   ]
  },
  {
   "cell_type": "code",
   "execution_count": 49,
   "metadata": {
    "ExecuteTime": {
     "end_time": "2019-04-10T23:40:56.944070Z",
     "start_time": "2019-04-10T23:40:56.613743Z"
    },
    "code_folding": []
   },
   "outputs": [
    {
     "data": {
      "image/png": "[encoded data removed]",
      "text/plain": [
       "<Figure size 432x288 with 1 Axes>"
      ]
     },
     "metadata": {
      "needs_background": "light"
     },
     "output_type": "display_data"
    }
   ],
   "source": [
    "plt.scatter(full_embedding[:,0],full_embedding[:,1],c=np.argmax(val_label,1),cmap='gist_earth')\n",
    "plt.show()"
   ]
  },
  {
   "cell_type": "code",
   "execution_count": 45,
   "metadata": {
    "ExecuteTime": {
     "end_time": "2019-04-10T23:39:35.169199Z",
     "start_time": "2019-04-10T23:39:35.163745Z"
    }
   },
   "outputs": [
    {
     "data": {
      "text/plain": [
       "array([5, 0, 4, ..., 2, 1, 2], dtype=int64)"
      ]
     },
     "execution_count": 45,
     "metadata": {},
     "output_type": "execute_result"
    }
   ],
   "source": [
    "np.argmax(val_label,1)"
   ]
  },
  {
   "cell_type": "code",
   "execution_count": 41,
   "metadata": {
    "ExecuteTime": {
     "end_time": "2019-04-10T23:39:22.834327Z",
     "start_time": "2019-04-10T23:39:22.829864Z"
    }
   },
   "outputs": [
    {
     "data": {
      "text/plain": [
       "(5000, 10)"
      ]
     },
     "execution_count": 41,
     "metadata": {},
     "output_type": "execute_result"
    }
   ],
   "source": [
    "val_label.shape"
   ]
  },
  {
   "cell_type": "code",
   "execution_count": null,
   "metadata": {},
   "outputs": [],
   "source": []
  },
  {
   "cell_type": "code",
   "execution_count": null,
   "metadata": {},
   "outputs": [],
   "source": []
  },
  {
   "cell_type": "code",
   "execution_count": null,
   "metadata": {},
   "outputs": [],
   "source": []
  },
  {
   "cell_type": "code",
   "execution_count": null,
   "metadata": {},
   "outputs": [],
   "source": []
  }
 ],
 "metadata": {
  "kernelspec": {
   "display_name": "Python 3",
   "language": "python",
   "name": "python3"
  },
  "language_info": {
   "codemirror_mode": {
    "name": "ipython",
    "version": 3
   },
   "file_extension": ".py",
   "mimetype": "text/x-python",
   "name": "python",
   "nbconvert_exporter": "python",
   "pygments_lexer": "ipython3",
   "version": "3.6.6"
  },
  "latex_envs": {
   "LaTeX_envs_menu_present": true,
   "autoclose": false,
   "autocomplete": true,
   "bibliofile": "biblio.bib",
   "cite_by": "apalike",
   "current_citInitial": 1,
   "eqLabelWithNumbers": true,
   "eqNumInitial": 1,
   "hotkeys": {
    "equation": "Ctrl-E",
    "itemize": "Ctrl-I"
   },
   "labels_anchors": false,
   "latex_user_defs": false,
   "report_style_numbering": false,
   "user_envs_cfg": false
  },
  "varInspector": {
   "cols": {
    "lenName": 16,
    "lenType": 16,
    "lenVar": 40
   },
   "kernels_config": {
    "python": {
     "delete_cmd_postfix": "",
     "delete_cmd_prefix": "del ",
     "library": "var_list.py",
     "varRefreshCmd": "print(var_dic_list())"
    },
    "r": {
     "delete_cmd_postfix": ") ",
     "delete_cmd_prefix": "rm(",
     "library": "var_list.r",
     "varRefreshCmd": "cat(var_dic_list()) "
    }
   },
   "types_to_exclude": [
    "module",
    "function",
    "builtin_function_or_method",
    "instance",
    "_Feature"
   ],
   "window_display": false
  }
 },
 "nbformat": 4,
 "nbformat_minor": 2
}
