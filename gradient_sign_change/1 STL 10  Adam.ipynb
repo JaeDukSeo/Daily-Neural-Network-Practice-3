{
 "cells": [
  {
   "cell_type": "code",
   "execution_count": 1,
   "metadata": {
    "ExecuteTime": {
     "end_time": "2019-06-18T00:21:34.034604Z",
     "start_time": "2019-06-18T00:21:22.247940Z"
    },
    "code_folding": []
   },
   "outputs": [
    {
     "name": "stderr",
     "output_type": "stream",
     "text": [
      "Using TensorFlow backend.\n"
     ]
    }
   ],
   "source": [
    "# import lib\n",
    "import tensorflow as tf\n",
    "import numpy as np \n",
    "import matplotlib.pyplot as plt \n",
    "import sys, os,cv2\n",
    "from sklearn.utils import shuffle\n",
    "from scipy.misc import imread,imresize\n",
    "from keras.utils import to_categorical\n",
    "plt.style.use('seaborn-white'); os.environ['TF_CPP_MIN_LOG_LEVEL'] = '3' \n",
    "np.random.seed(678); tf.set_random_seed(678)"
   ]
  },
  {
   "cell_type": "code",
   "execution_count": 2,
   "metadata": {
    "ExecuteTime": {
     "end_time": "2019-06-18T00:21:34.063540Z",
     "start_time": "2019-06-18T00:21:34.053387Z"
    },
    "code_folding": [
     1,
     28
    ]
   },
   "outputs": [],
   "source": [
    "# prepare STL 10\n",
    "def read_all_images(path_to_data):\n",
    "    \"\"\"\n",
    "    :param path_to_data: the file containing the binary images from the STL-10 dataset\n",
    "    :return: an array containing all the images\n",
    "    \"\"\"\n",
    "\n",
    "    with open(path_to_data, 'rb') as f:\n",
    "        # read whole file in uint8 chunks\n",
    "        everything = np.fromfile(f, dtype=np.uint8)\n",
    "\n",
    "        # We force the data into 3x96x96 chunks, since the\n",
    "        # images are stored in \"column-major order\", meaning\n",
    "        # that \"the first 96*96 values are the red channel,\n",
    "        # the next 96*96 are green, and the last are blue.\"\n",
    "        # The -1 is since the size of the pictures depends\n",
    "        # on the input file, and this way numpy determines\n",
    "        # the size on its own.\n",
    "\n",
    "        images = np.reshape(everything, (-1, 3, 96, 96))\n",
    "\n",
    "        # Now transpose the images into a standard image format\n",
    "        # readable by, for example, matplotlib.imshow\n",
    "        # You might want to comment this line or reverse the shuffle\n",
    "        # if you will use a learning algorithm like CNN, since they like\n",
    "        # their channels separated.\n",
    "        images = np.transpose(images, (0, 3, 2, 1))\n",
    "        return images\n",
    "def read_labels(path_to_labels):\n",
    "    \"\"\"\n",
    "    :param path_to_labels: path to the binary file containing labels from the STL-10 dataset\n",
    "    :return: an array containing the labels\n",
    "    \"\"\"\n",
    "    with open(path_to_labels, 'rb') as f:\n",
    "        labels = np.fromfile(f, dtype=np.uint8)\n",
    "        \n",
    "        return labels"
   ]
  },
  {
   "cell_type": "code",
   "execution_count": 134,
   "metadata": {
    "ExecuteTime": {
     "end_time": "2019-06-18T01:33:36.459098Z",
     "start_time": "2019-06-18T01:33:36.410246Z"
    },
    "code_folding": [
     47,
     87
    ]
   },
   "outputs": [],
   "source": [
    "# activation functions\n",
    "def tf_elu(x):     return tf.nn.elu(x)\n",
    "def d_tf_elu(x):   return tf.cast(tf.greater(x,0),tf.float32) +  tf.exp(tf.cast(tf.less_equal(x,0),tf.float32) * x)\n",
    "def tf_iden(x):    return x\n",
    "def d_tf_iden(x):  return tf.ones_like(x)\n",
    "def tf_softmax(x): return tf.nn.softmax(x)\n",
    "\n",
    "class CNN():\n",
    "    \n",
    "    def __init__(self,k,inc,out,act=tf_elu,d_act=d_tf_elu):\n",
    "        self.padding    = 'SAME'\n",
    "        self.stride     = 1\n",
    "        self.w          = tf.Variable(tf.random_normal([k,k,inc,out],stddev=0.05))\n",
    "        self.m,self.v   = tf.Variable(tf.zeros_like(self.w)),tf.Variable(tf.zeros_like(self.w))\n",
    "        self.act,self.d_act = act,d_act\n",
    "        \n",
    "    def getw(self): return self.w\n",
    "    \n",
    "    def feedforward(self,input,stride=1,padding='SAME'):\n",
    "        self.padding= padding; self.stride = stride\n",
    "        self.input  = input\n",
    "        self.layer  = tf.nn.conv2d(input,self.w,strides=[1,self.stride,self.stride,1],padding=self.padding) \n",
    "        self.layerA = self.act(self.layer)\n",
    "        return self.layerA\n",
    "    \n",
    "    def backprop(self,gradient,iter_num):\n",
    "        grad_part_1 = gradient \n",
    "        grad_part_2 = self.d_act(self.layer) \n",
    "        grad_part_3 = self.input\n",
    "\n",
    "        grad_middle = grad_part_1 * grad_part_2\n",
    "\n",
    "        grad     = tf.nn.conv2d_backprop_filter(input = grad_part_3,filter_sizes = self.w.shape,out_backprop = grad_middle,\n",
    "            strides=[1,self.stride,self.stride,1],padding=self.padding\n",
    "        )/batch_size\n",
    "\n",
    "        grad_pass = tf.nn.conv2d_backprop_input(input_sizes = self.input.shape,filter= self.w,  out_backprop = grad_middle,\n",
    "            strides=[1,self.stride,self.stride,1],padding=self.padding\n",
    "        )\n",
    "\n",
    "        \n",
    "        grad_pos      = tf.where(grad>0,tf.ones_like(grad),tf.zeros_like(grad))\n",
    "        grad_pos_mean = tf.reduce_sum(grad_pos*grad)/tf.reduce_sum(grad_pos)\n",
    "        \n",
    "        grad_neg      = tf.where(grad<0,tf.ones_like(grad),tf.zeros_like(grad))\n",
    "        grad_neg_mean = tf.reduce_sum(grad_neg*grad)/tf.reduce_sum(grad_neg)\n",
    "        \n",
    "        grad_between    = tf.where(grad_neg_mean<grad,tf.ones_like(grad),tf.zeros_like(grad)) * tf.where(grad_pos_mean>grad,tf.ones_like(grad),tf.zeros_like(grad))\n",
    "        grad_sign_chage = grad_between     * grad *  1\n",
    "        grad_sign_keep  = (1-grad_between) * grad *  0\n",
    "        \n",
    "        grad_new = grad_sign_chage + grad_sign_keep\n",
    "        \n",
    "        update_w = []\n",
    "        update_w.append(tf.assign( self.m,self.m*beta1 + (1-beta1) * (grad_new)   ))\n",
    "        update_w.append(tf.assign( self.v,self.v*beta2 + (1-beta2) * (grad_new ** 2)   ))\n",
    "        m_hat = self.m / (1-tf.pow(beta1,iter_num))\n",
    "        v_hat = self.v / (1-tf.pow(beta2,iter_num))\n",
    "        update_w.append(tf.assign( self.w,self.w - learning_rate*( m_hat/(tf.sqrt(v_hat) + adam_e)   )))\n",
    "        return grad_pass,update_w  \n",
    "class tf_batch_norm_layer():\n",
    "    \n",
    "    def __init__(self,vector_shape,axis=None):\n",
    "        self.moving_mean = tf.Variable(tf.zeros(shape=[1,1,1,vector_shape],dtype=tf.float32))\n",
    "        self.moving_vari = tf.Variable(tf.zeros(shape=[1,1,1,vector_shape],dtype=tf.float32))\n",
    "        self.axis        = (0,1,2)\n",
    "        \n",
    "    def feedforward(self,input,training_phase,eps = 1e-8):\n",
    "        self.input = input\n",
    "        self.input_size          = self.input.shape\n",
    "        self.batch,self.h,self.w,self.c = self.input_size[0].value,self.input_size[1].value,self.input_size[2].value,self.input_size[3].value\n",
    "\n",
    "        # Training Moving Average Mean         \n",
    "        def training_fn():\n",
    "            self.mean    = tf.reduce_mean(self.input,axis=self.axis ,keepdims=True)\n",
    "            self.var     = tf.reduce_mean(tf.square(self.input-self.mean),axis=self.axis,keepdims=True)\n",
    "            centered_data= (self.input - self.mean)/tf.sqrt(self.var + eps)\n",
    "            \n",
    "            update_variable = []\n",
    "            update_variable.append(tf.assign(self.moving_mean,self.moving_mean*0.9 + 0.1 * self.mean ))\n",
    "            update_variable.append(tf.assign(self.moving_vari,self.moving_vari*0.9 + 0.1 * self.var  ))\n",
    "            return centered_data,update_variable\n",
    "        \n",
    "        # Testing Moving Average Mean        \n",
    "        def  testing_fn():\n",
    "            centered_data   = (self.input - self.moving_mean)/tf.sqrt(self.moving_vari + eps)\n",
    "            update_variable = []\n",
    "            update_variable.append(tf.assign(self.moving_mean,self.moving_mean))\n",
    "            update_variable.append(tf.assign(self.moving_vari,self.moving_vari))\n",
    "            return centered_data,update_variable\n",
    "        \n",
    "        self.output,update_variable = tf.cond(training_phase,true_fn=training_fn,false_fn=testing_fn)\n",
    "        return self.output,update_variable\n",
    "    \n",
    "    def backprop(self,grad,eps = 1e-8):\n",
    "        change_parts = 1.0 /(self.batch * self.h * self.w)\n",
    "        grad_sigma   = tf.reduce_sum( grad *  (self.input-self.mean)     ,axis=self.axis,keepdims=True) * -0.5 * (self.var+eps) ** -1.5\n",
    "        grad_mean    = tf.reduce_sum( grad *  (-1./tf.sqrt(self.var+eps)),axis=self.axis,keepdims=True) + grad_sigma * change_parts * 2.0 * tf.reduce_sum((self.input-self.mean),axis=self.axis,keepdims=True) * -1\n",
    "        grad_x       = grad * 1/(tf.sqrt(self.var+eps)) + grad_sigma * change_parts * 2.0 * (self.input-self.mean) + grad_mean * change_parts\n",
    "        return grad_x\n",
    "class tf_layer_norm_layer():\n",
    "    \n",
    "    def __init__(self,vector_shape):\n",
    "        self.moving_mean = tf.Variable(tf.zeros(shape=[vector_shape,1,1,1],dtype=tf.float32))\n",
    "        self.moving_vari = tf.Variable(tf.zeros(shape=[vector_shape,1,1,1],dtype=tf.float32))\n",
    "        self.axis        = (1,2,3)\n",
    "        \n",
    "    def feedforward(self,input,training_phase=True,eps = 1e-8):\n",
    "        self.input = input\n",
    "        self.input_size          = self.input.shape\n",
    "        self.batch,self.h,self.w,self.c = self.input_size[0].value,self.input_size[1].value,self.input_size[2].value,self.input_size[3].value\n",
    "\n",
    "        # Training Moving Average Mean         \n",
    "        def training_fn():\n",
    "            self.mean    = tf.reduce_mean(self.input,axis=self.axis ,keepdims=True)\n",
    "            self.var     = tf.reduce_mean(tf.square(self.input-self.mean),axis=self.axis,keepdims=True)\n",
    "            centered_data= (self.input - self.mean)/tf.sqrt(self.var + eps)\n",
    "            \n",
    "            update_variable = []\n",
    "            update_variable.append(tf.assign(self.moving_mean,self.moving_mean*0.9 + 0.1 * self.mean ))\n",
    "            update_variable.append(tf.assign(self.moving_vari,self.moving_vari*0.9 + 0.1 * self.var  ))\n",
    "            return centered_data,update_variable\n",
    "        \n",
    "        # Testing Moving Average Mean        \n",
    "        def  testing_fn():\n",
    "            centered_data   = (self.input - self.moving_mean)/tf.sqrt(self.moving_vari + eps)\n",
    "            update_variable = []\n",
    "            update_variable.append(tf.assign(self.moving_mean,self.moving_mean))\n",
    "            update_variable.append(tf.assign(self.moving_vari,self.moving_vari))\n",
    "            return centered_data,update_variable\n",
    "        \n",
    "        self.output,update_variable = tf.cond(training_phase,true_fn=training_fn,false_fn=testing_fn)\n",
    "        return self.output,update_variable\n",
    "    \n",
    "    def backprop(self,grad,eps = 1e-8):\n",
    "        change_parts = 1.0 /(self.h * self.w * self.c)\n",
    "        grad_sigma   = tf.reduce_sum( grad *  (self.input-self.mean)     ,axis=self.axis,keepdims=True) * -0.5 * (self.var+eps) ** -1.5\n",
    "        grad_mean    = tf.reduce_sum( grad *  (-1./tf.sqrt(self.var+eps)),axis=self.axis,keepdims=True) + grad_sigma * change_parts * 2.0 * tf.reduce_sum((self.input-self.mean),axis=self.axis,keepdims=True) * -1\n",
    "        grad_x       = grad * 1/(tf.sqrt(self.var+eps)) + grad_sigma * change_parts * 2.0 * (self.input-self.mean) + grad_mean * change_parts\n",
    "        return grad_x"
   ]
  },
  {
   "cell_type": "code",
   "execution_count": 135,
   "metadata": {
    "ExecuteTime": {
     "end_time": "2019-06-18T01:33:46.263229Z",
     "start_time": "2019-06-18T01:33:36.737353Z"
    }
   },
   "outputs": [
    {
     "name": "stdout",
     "output_type": "stream",
     "text": [
      "(5000, 96, 96, 3) (5000, 10) -11.595098265964817 15.777090090299724\n",
      "(8000, 96, 96, 3) (8000, 10) -10.553357891447178 22.92614277238906\n"
     ]
    }
   ],
   "source": [
    "# load the data\n",
    "x_train,y_train = read_all_images('../Dataset/STL10/stl10_binary/train_x.bin'),read_labels('../Dataset/STL10/stl10_binary/train_y.bin')\n",
    "x_test,y_test   = read_all_images('../Dataset/STL10/stl10_binary/test_x.bin'),read_labels('../Dataset/STL10/stl10_binary/test_y.bin')\n",
    "\n",
    "y_train = to_categorical(y_train-1)\n",
    "y_test  = to_categorical(y_test-1)\n",
    "\n",
    "x_train = (x_train-x_train.min((1,2),keepdims=True))/(x_train.max((1,2),keepdims=True)-x_train.min((1,2),keepdims=True))\n",
    "x_train = (x_train-x_train.mean((1,2),keepdims=True))/(x_train.std((1,2),keepdims=True))\n",
    "x_test = (x_test-x_test.min((1,2),keepdims=True))/(x_test.max((1,2),keepdims=True)-x_test.min((1,2),keepdims=True))\n",
    "x_test = (x_test-x_test.mean((1,2),keepdims=True))/(x_test.std((1,2),keepdims=True))\n",
    "\n",
    "print(x_train.shape,y_train.shape,x_train.min(),x_train.max())\n",
    "print(x_test.shape,y_test.shape,x_test.min(),x_test.max())"
   ]
  },
  {
   "cell_type": "code",
   "execution_count": 136,
   "metadata": {
    "ExecuteTime": {
     "end_time": "2019-06-18T01:33:46.557443Z",
     "start_time": "2019-06-18T01:33:46.552457Z"
    }
   },
   "outputs": [],
   "source": [
    "# declare hyper parameter\n",
    "learning_rate = 0.0008 ; beta1 = 0.9; beta2 = 0.999; adam_e = 1e-8\n",
    "num_epoch     = 30    ; batch_size = 50 ; print_size = 1; \n",
    "channel_sizes = 96 "
   ]
  },
  {
   "cell_type": "code",
   "execution_count": 137,
   "metadata": {
    "ExecuteTime": {
     "end_time": "2019-06-18T01:33:46.998508Z",
     "start_time": "2019-06-18T01:33:46.819741Z"
    }
   },
   "outputs": [],
   "source": [
    "# declare layer\n",
    "avg_acc_train = 0; avg_acc_test  = 0; train_acc = [];test_acc = []\n",
    "avg_lss_train = 0; avg_lss_test  = 0; train_lss = [];test_lss = []\n",
    "\n",
    "l1   = CNN(3,3,channel_sizes)\n",
    "l2   = CNN(3,channel_sizes,channel_sizes)\n",
    "l3   = CNN(3,channel_sizes,channel_sizes)\n",
    "\n",
    "l4   = CNN(3,channel_sizes,channel_sizes)\n",
    "l5   = CNN(3,channel_sizes,channel_sizes)\n",
    "l6   = CNN(3,channel_sizes,channel_sizes)\n",
    "\n",
    "l7   = CNN(3,channel_sizes,channel_sizes)\n",
    "l8   = CNN(1,channel_sizes,channel_sizes)\n",
    "l9   = CNN(1,channel_sizes,10)"
   ]
  },
  {
   "cell_type": "code",
   "execution_count": null,
   "metadata": {
    "ExecuteTime": {
     "start_time": "2019-06-18T01:33:37.550Z"
    }
   },
   "outputs": [],
   "source": [
    "# graph\n",
    "x = tf.placeholder(shape=[batch_size,96,96,3],dtype=tf.float32)\n",
    "y = tf.placeholder(shape=[batch_size,10],     dtype=tf.float32)\n",
    "is_train = tf.placeholder_with_default(True,())\n",
    "iter_num = tf.placeholder_with_default(1.0,())\n",
    "\n",
    "layer1  = l1. feedforward(x,padding='VALID',stride=2)    \n",
    "layer2  = l2.feedforward(layer1,padding='VALID') \n",
    "layer3  = l3.feedforward(layer2,padding='VALID',stride=2); \n",
    "\n",
    "layer4  = l4.feedforward(layer3,padding='VALID');      \n",
    "layer5  = l5.feedforward(layer4,padding='VALID');      \n",
    "layer6  = l6.feedforward(layer5,padding='VALID',stride=2)\n",
    "\n",
    "layer7  = l7.feedforward(layer6,padding='VALID')\n",
    "layer8  = l8.feedforward(layer7)\n",
    "layer9  = l9.feedforward(layer8)\n",
    "\n",
    "final_global = tf.reduce_mean(layer9,[1,2])\n",
    "final_soft   = tf_softmax(final_global) ; \n",
    "cost         = tf.reduce_mean(tf.nn.softmax_cross_entropy_with_logits_v2(logits=final_global,labels=y))\n",
    "accuracy     = tf.reduce_mean(tf.cast(tf.equal(tf.argmax(final_soft, 1), tf.argmax(y, 1)),tf.float32) )\n",
    "\n",
    "gradient     = tf.tile((final_soft-y)[:,None,None,:],(1,6,6,1))\n",
    "\n",
    "grad9, grad9_up  = l9. backprop(gradient,iter_num)\n",
    "grad8, grad8_up  = l8. backprop(grad9,iter_num)\n",
    "grad7, grad7_up  = l7. backprop(grad8,iter_num)\n",
    "\n",
    "grad6, grad6_up  = l6. backprop(grad7,iter_num)\n",
    "grad5, grad5_up  = l5. backprop(grad6,iter_num)\n",
    "grad4, grad4_up  = l4. backprop(grad5,iter_num)\n",
    "\n",
    "grad3,grad3_up   = l3. backprop(grad4,iter_num)\n",
    "grad2,grad2_up   = l2. backprop(grad3,iter_num)\n",
    "grad1,grad1_up   = l1. backprop(grad2,iter_num)\n",
    "\n",
    "grad_update =  grad9_up + grad8_up + grad7_up +\\\n",
    "               grad6_up + grad5_up + grad4_up +\\\n",
    "               grad3_up + grad2_up + grad1_up "
   ]
  },
  {
   "cell_type": "code",
   "execution_count": null,
   "metadata": {
    "ExecuteTime": {
     "start_time": "2019-06-18T01:33:37.970Z"
    }
   },
   "outputs": [],
   "source": [
    "# start the session\n",
    "sess = tf.InteractiveSession(config=tf.ConfigProto(log_device_placement=True))\n",
    "sess.run(tf.global_variables_initializer())"
   ]
  },
  {
   "cell_type": "code",
   "execution_count": null,
   "metadata": {
    "ExecuteTime": {
     "start_time": "2019-06-18T01:33:38.682Z"
    }
   },
   "outputs": [
    {
     "name": "stdout",
     "output_type": "stream",
     "text": [
      "Current: 1\tTrain Acc: 0.17179999966174364\tTrain Cost: 2.4230112552642824\tTest Acc: 0.19699999960139394\tTest Cost: 2.290489925444126\tLR: 0.0008\n",
      "Current: 2\tTrain Acc: 0.29680000215768815\tTrain Cost: 1.927799915075302\tTest Acc: 0.33575000138953326\tTest Cost: 1.8293024070560933\tLR: 0.0008\n",
      "Current: 3\tTrain Acc: 0.36260000109672547\tTrain Cost: 1.756622267961502\tTest Acc: 0.37887500086799264\tTest Cost: 1.7275137439370156\tLR: 0.0008\n",
      "Current: 4\tTrain Acc: 0.28620000030845405\tTrain Cost: 2.0657412242889404\tTest Acc: 0.24449999956414104\tTest Cost: 2.216640358418226\tLR: 0.0008\n",
      "Current: 5\tTrain Acc: 0.3618000000715256\tTrain Cost: 1.7625536143779754\tTest Acc: 0.33325000032782554\tTest Cost: 1.8795228876173495\tLR: 0.0008\n",
      "Current: 6\tTrain Acc: 0.3124000003188849\tTrain Cost: 2.0998847126960754\tTest Acc: 0.33312500030733644\tTest Cost: 1.8258410312235356\tLR: 0.0008\n",
      "Current: 7\tTrain Acc: 0.39380000039935115\tTrain Cost: 1.6743044030666352\tTest Acc: 0.4021250003017485\tTest Cost: 1.6711951442062856\tLR: 0.0008\n",
      "Current: 8\tTrain Acc: 0.40159999996423723\tTrain Cost: 1.6685720694065094\tTest Acc: 0.36675000097602606\tTest Cost: 1.742949016392231\tLR: 0.0008\n",
      "Current: 9\tTrain Acc: 0.41659999907016754\tTrain Cost: 1.6253625500202178\tTest Acc: 0.3417500011622906\tTest Cost: 1.9284224800765515\tLR: 0.0008\n",
      "Current: 10\tTrain Acc: 0.3944000019133091\tTrain Cost: 1.7360369622707368\tTest Acc: 0.37274999944493176\tTest Cost: 1.7618391059339047\tLR: 0.0008\n",
      "Current: 11\tTrain Acc: 0.4077999992668629\tTrain Cost: 1.6631859982013701\tTest Acc: 0.3801250004209578\tTest Cost: 1.7023520171642303\tLR: 0.0008\n",
      "Current: 12\tTrain Acc: 0.40979999989271165\tTrain Cost: 1.6239836454391479\tTest Acc: 0.41787500074133277\tTest Cost: 1.622403360903263\tLR: 0.0008\n",
      "Current: 13\tTrain Acc: 0.41480000004172324\tTrain Cost: 1.6379825294017791\tTest Acc: 0.3116250015795231\tTest Cost: 2.058775947988033\tLR: 0.0008\n",
      "Current: 14\tTrain Acc: 0.3855999989807606\tTrain Cost: 1.7673808598518372\tTest Acc: 0.3443750019185245\tTest Cost: 1.872428111732006\tLR: 0.0008\n",
      "Current: 15\tTrain Acc: 0.34319999933242795\tTrain Cost: 1.9843429517745972\tTest Acc: 0.18962500002235175\tTest Cost: 3.106299428641796\tLR: 0.0008\n",
      "Current: 16\tTrain Acc: 0.28840000040829183\tTrain Cost: 2.046623193025589\tTest Acc: 0.32037500087171794\tTest Cost: 1.8370700761675836\tLR: 0.0008\n",
      "Current: 17\tTrain Acc: 0.37520000129938125\tTrain Cost: 1.7103486967086792\tTest Acc: 0.36887500043958427\tTest Cost: 1.739702994376421\tLR: 0.0008\n",
      "Current: 18\tTrain Acc: 0.3981999994814396\tTrain Cost: 1.6463809394836426\tTest Acc: 0.3672499989159405\tTest Cost: 1.7706660993397236\tLR: 0.0008\n",
      "Current: 19\tTrain Acc: 0.4321999981999397\tTrain Cost: 1.5775223278999329\tTest Acc: 0.4097499979659915\tTest Cost: 1.6355085715651512\tLR: 0.0008\n",
      "Current: 20\tTrain Acc: 0.4413999995589256\tTrain Cost: 1.5347806489467621\tTest Acc: 0.4036250006407499\tTest Cost: 1.6685995943844318\tLR: 0.0008\n",
      "Current: 21\tTrain Acc: 0.45200000077486036\tTrain Cost: 1.5109367048740387\tTest Acc: 0.4253749986179173\tTest Cost: 1.6096004597842692\tLR: 0.0008\n",
      "Current: 22\tTrain Acc: 0.3363999996334314\tTrain Cost: 2.100666444301605\tTest Acc: 0.2798750010784715\tTest Cost: 2.0568058133125304\tLR: 0.0008\n",
      "Current: 23\tTrain Acc: 0.3140000006556511\tTrain Cost: 1.925461424589157\tTest Acc: 0.36812500115484\tTest Cost: 1.7644845075905322\tLR: 0.0008\n",
      "Current: 24\tTrain Acc: 0.3922000013291836\tTrain Cost: 1.677106213569641\tTest Acc: 0.3878749999217689\tTest Cost: 1.7014579132199288\tLR: 0.0008\n",
      "Current: 25\tTrain Acc: 0.4133999998867512\tTrain Cost: 1.637021996974945\tTest Acc: 0.3851250003091991\tTest Cost: 1.7389181114733219\tLR: 0.0008\n",
      "Current: 26\tTrain Acc: 0.4281999969482422\tTrain Cost: 1.569634119272232\tTest Acc: 0.40499999886378646\tTest Cost: 1.6470465816557407\tLR: 0.0008\n",
      "Current Iter : 27/30 batch : 3250/5000 acc : 0.58 cost : 1.4047438\r"
     ]
    }
   ],
   "source": [
    "# start the training \n",
    "for iter in range(1,num_epoch+1):\n",
    "    for current_batch_index in range(0,len(x_train),batch_size):\n",
    "        current_data  = x_train[current_batch_index:current_batch_index+batch_size].astype(np.float32)\n",
    "        current_label = y_train[current_batch_index:current_batch_index+batch_size].astype(np.float32)\n",
    "        sess_results  = sess.run([accuracy,cost,grad_update],feed_dict={x:current_data,y:current_label,iter_num:iter})\n",
    "        sys.stdout.write('Current Iter : '+str(iter)+'/'+ str(num_epoch)  + ' batch : ' + str(current_batch_index) + '/'+ str(len(x_train)) + ' acc : '+str(sess_results[0]) + ' cost : '+str(sess_results[1])+ '\\r')\n",
    "        sys.stdout.flush(); \n",
    "        avg_acc_train = avg_acc_train + sess_results[0]\n",
    "        avg_lss_train = avg_lss_train + sess_results[1]\n",
    "    for current_batch_index in range(0,len(x_test), batch_size):\n",
    "        current_data  = x_test[current_batch_index:current_batch_index+batch_size].astype(np.float32)\n",
    "        current_label = y_test[current_batch_index:current_batch_index+batch_size].astype(np.float32)\n",
    "        sess_results  = sess.run([accuracy,cost],feed_dict={x:current_data,y:current_label,is_train:False})\n",
    "        sys.stdout.write('Current Iter : '+str(iter)+'/'+ str(num_epoch)  + ' batch : ' + str(current_batch_index) + '/'+ str(len(x_test)) + ' acc : '+str(sess_results[0]) + ' cost : '+str(sess_results[1])+ '\\r')\n",
    "        sys.stdout.flush(); \n",
    "        avg_acc_test = avg_acc_test + sess_results[0]\n",
    "        avg_lss_test = avg_lss_test + sess_results[1]\n",
    "    # ======================== print reset ========================  \n",
    "    print(\"Current: \"+ str(iter) + \n",
    "          \"\\tTrain Acc: \"  + str(avg_acc_train/(len(x_train)/batch_size)) + \n",
    "          \"\\tTrain Cost: \" + str(avg_lss_train/(len(x_train)/batch_size)) + \n",
    "          \"\\tTest Acc: \"   + str(avg_acc_test/(len(x_test)/batch_size)) + \n",
    "          \"\\tTest Cost: \"  + str(avg_lss_test/(len(x_test)/batch_size)) + \n",
    "          \"\\tLR: \" + str(learning_rate) )\n",
    "    avg_acc_train   = 0 ; avg_acc_test  = 0 ; avg_lss_train = 0 ; avg_lss_test  = 0\n",
    "    x_train,y_train = shuffle(x_train,y_train); x_test,y_test   = shuffle(x_test,y_test)"
   ]
  },
  {
   "cell_type": "code",
   "execution_count": null,
   "metadata": {},
   "outputs": [],
   "source": []
  },
  {
   "cell_type": "code",
   "execution_count": 133,
   "metadata": {
    "ExecuteTime": {
     "end_time": "2019-06-18T01:33:31.827907Z",
     "start_time": "2019-06-18T01:30:15.180257Z"
    }
   },
   "outputs": [
    {
     "name": "stdout",
     "output_type": "stream",
     "text": [
      "Current: 1\tTrain Acc: 0.19559999957680702\tTrain Cost: 2.1409799218177796\tTest Acc: 0.27762499884702263\tTest Cost: 1.9061641797423363\tLR: 0.0008\n",
      "Current: 2\tTrain Acc: 0.33500000163912774\tTrain Cost: 1.78861971616745\tTest Acc: 0.3726250001229346\tTest Cost: 1.6817388981580734\tLR: 0.0008\n",
      "Current: 3\tTrain Acc: 0.3965999999642372\tTrain Cost: 1.6291186547279357\tTest Acc: 0.4117499995045364\tTest Cost: 1.5833801381289958\tLR: 0.0008\n",
      "Current: 4\tTrain Acc: 0.4347999981045723\tTrain Cost: 1.5213914012908936\tTest Acc: 0.4377499992959201\tTest Cost: 1.51798485070467\tLR: 0.0008\n",
      "Current: 5\tTrain Acc: 0.4780000001192093\tTrain Cost: 1.4308626174926757\tTest Acc: 0.4556249985471368\tTest Cost: 1.4759912744164467\tLR: 0.0008\n",
      "Current: 6\tTrain Acc: 0.511599999666214\tTrain Cost: 1.3530434685945512\tTest Acc: 0.47649999912828206\tTest Cost: 1.4081824906170368\tLR: 0.0008\n",
      "Current: 7\tTrain Acc: 0.5293999999761582\tTrain Cost: 1.2989896112680435\tTest Acc: 0.48274999875575303\tTest Cost: 1.4063894897699356\tLR: 0.0008\n",
      "Current: 8\tTrain Acc: 0.5502000004053116\tTrain Cost: 1.2369221717119216\tTest Acc: 0.4973749993368983\tTest Cost: 1.3722591437399387\tLR: 0.0008\n",
      "Current: 9\tTrain Acc: 0.5585999986529351\tTrain Cost: 1.198109130859375\tTest Acc: 0.4938749995082617\tTest Cost: 1.3832597315311432\tLR: 0.0008\n",
      "Current: 10\tTrain Acc: 0.5854000025987625\tTrain Cost: 1.150710431933403\tTest Acc: 0.5147499971091747\tTest Cost: 1.334352659061551\tLR: 0.0008\n",
      "Current: 11\tTrain Acc: 0.597000002861023\tTrain Cost: 1.1155456137657165\tTest Acc: 0.5083749981597065\tTest Cost: 1.3523104198276996\tLR: 0.0008\n",
      "Current: 12\tTrain Acc: 0.6068000030517579\tTrain Cost: 1.086259176135063\tTest Acc: 0.5162500012665987\tTest Cost: 1.3319330289959908\tLR: 0.0008\n",
      "Current: 13\tTrain Acc: 0.6194000035524369\tTrain Cost: 1.0430400657653809\tTest Acc: 0.5240000002086163\tTest Cost: 1.3377283312380315\tLR: 0.0008\n",
      "Current: 14\tTrain Acc: 0.6194000029563904\tTrain Cost: 1.0398136472702026\tTest Acc: 0.5225000012665987\tTest Cost: 1.3285104002803565\tLR: 0.0008\n",
      "Current: 15\tTrain Acc: 0.6386000066995621\tTrain Cost: 0.9952584594488144\tTest Acc: 0.5328750003129243\tTest Cost: 1.3103054251521826\tLR: 0.0008\n",
      "Current: 16\tTrain Acc: 0.6452000039815903\tTrain Cost: 0.9669962984323501\tTest Acc: 0.5408750016242265\tTest Cost: 1.3002511892467736\tLR: 0.0008\n",
      "Current: 17\tTrain Acc: 0.6648000067472458\tTrain Cost: 0.9274542480707169\tTest Acc: 0.5448750022798776\tTest Cost: 1.2850014451891183\tLR: 0.0008\n",
      "Current: 18\tTrain Acc: 0.6740000060200692\tTrain Cost: 0.9154990565776825\tTest Acc: 0.5206250008195639\tTest Cost: 1.3414748456329106\tLR: 0.0008\n",
      "Current: 19\tTrain Acc: 0.6804000055789947\tTrain Cost: 0.8897434991598129\tTest Acc: 0.5491250013932586\tTest Cost: 1.2952396415174008\tLR: 0.0008\n",
      "Current: 20\tTrain Acc: 0.6917999994754791\tTrain Cost: 0.8510694199800491\tTest Acc: 0.5347500015050173\tTest Cost: 1.3263955142349004\tLR: 0.0008\n",
      "Current: 21\tTrain Acc: 0.6992000061273574\tTrain Cost: 0.8217468434572219\tTest Acc: 0.5432500045746564\tTest Cost: 1.3120289593935013\tLR: 0.0008\n",
      "Current: 22\tTrain Acc: 0.7014000031352043\tTrain Cost: 0.83437579870224\tTest Acc: 0.54825000166893\tTest Cost: 1.3042089898139237\tLR: 0.0008\n",
      "Current: 23\tTrain Acc: 0.7210000032186508\tTrain Cost: 0.7821512481570244\tTest Acc: 0.5452500009909272\tTest Cost: 1.3459082923829555\tLR: 0.0008\n",
      "Current: 24\tTrain Acc: 0.7334000033140182\tTrain Cost: 0.7515731623768807\tTest Acc: 0.5463749999180436\tTest Cost: 1.3495758660137653\tLR: 0.0008\n",
      "Current Iter : 25/30 batch : 4100/5000 acc : 0.78 cost : 0.70035964\r"
     ]
    },
    {
     "ename": "KeyboardInterrupt",
     "evalue": "",
     "output_type": "error",
     "traceback": [
      "\u001b[1;31m---------------------------------------------------------------------------\u001b[0m",
      "\u001b[1;31mKeyboardInterrupt\u001b[0m                         Traceback (most recent call last)",
      "\u001b[1;32m<ipython-input-133-c8ce8342c53d>\u001b[0m in \u001b[0;36m<module>\u001b[1;34m\u001b[0m\n\u001b[0;32m      4\u001b[0m         \u001b[0mcurrent_data\u001b[0m  \u001b[1;33m=\u001b[0m \u001b[0mx_train\u001b[0m\u001b[1;33m[\u001b[0m\u001b[0mcurrent_batch_index\u001b[0m\u001b[1;33m:\u001b[0m\u001b[0mcurrent_batch_index\u001b[0m\u001b[1;33m+\u001b[0m\u001b[0mbatch_size\u001b[0m\u001b[1;33m]\u001b[0m\u001b[1;33m.\u001b[0m\u001b[0mastype\u001b[0m\u001b[1;33m(\u001b[0m\u001b[0mnp\u001b[0m\u001b[1;33m.\u001b[0m\u001b[0mfloat32\u001b[0m\u001b[1;33m)\u001b[0m\u001b[1;33m\u001b[0m\u001b[1;33m\u001b[0m\u001b[0m\n\u001b[0;32m      5\u001b[0m         \u001b[0mcurrent_label\u001b[0m \u001b[1;33m=\u001b[0m \u001b[0my_train\u001b[0m\u001b[1;33m[\u001b[0m\u001b[0mcurrent_batch_index\u001b[0m\u001b[1;33m:\u001b[0m\u001b[0mcurrent_batch_index\u001b[0m\u001b[1;33m+\u001b[0m\u001b[0mbatch_size\u001b[0m\u001b[1;33m]\u001b[0m\u001b[1;33m.\u001b[0m\u001b[0mastype\u001b[0m\u001b[1;33m(\u001b[0m\u001b[0mnp\u001b[0m\u001b[1;33m.\u001b[0m\u001b[0mfloat32\u001b[0m\u001b[1;33m)\u001b[0m\u001b[1;33m\u001b[0m\u001b[1;33m\u001b[0m\u001b[0m\n\u001b[1;32m----> 6\u001b[1;33m         \u001b[0msess_results\u001b[0m  \u001b[1;33m=\u001b[0m \u001b[0msess\u001b[0m\u001b[1;33m.\u001b[0m\u001b[0mrun\u001b[0m\u001b[1;33m(\u001b[0m\u001b[1;33m[\u001b[0m\u001b[0maccuracy\u001b[0m\u001b[1;33m,\u001b[0m\u001b[0mcost\u001b[0m\u001b[1;33m,\u001b[0m\u001b[0mgrad_update\u001b[0m\u001b[1;33m]\u001b[0m\u001b[1;33m,\u001b[0m\u001b[0mfeed_dict\u001b[0m\u001b[1;33m=\u001b[0m\u001b[1;33m{\u001b[0m\u001b[0mx\u001b[0m\u001b[1;33m:\u001b[0m\u001b[0mcurrent_data\u001b[0m\u001b[1;33m,\u001b[0m\u001b[0my\u001b[0m\u001b[1;33m:\u001b[0m\u001b[0mcurrent_label\u001b[0m\u001b[1;33m,\u001b[0m\u001b[0miter_num\u001b[0m\u001b[1;33m:\u001b[0m\u001b[0miter\u001b[0m\u001b[1;33m}\u001b[0m\u001b[1;33m)\u001b[0m\u001b[1;33m\u001b[0m\u001b[1;33m\u001b[0m\u001b[0m\n\u001b[0m\u001b[0;32m      7\u001b[0m         \u001b[0msys\u001b[0m\u001b[1;33m.\u001b[0m\u001b[0mstdout\u001b[0m\u001b[1;33m.\u001b[0m\u001b[0mwrite\u001b[0m\u001b[1;33m(\u001b[0m\u001b[1;34m'Current Iter : '\u001b[0m\u001b[1;33m+\u001b[0m\u001b[0mstr\u001b[0m\u001b[1;33m(\u001b[0m\u001b[0miter\u001b[0m\u001b[1;33m)\u001b[0m\u001b[1;33m+\u001b[0m\u001b[1;34m'/'\u001b[0m\u001b[1;33m+\u001b[0m \u001b[0mstr\u001b[0m\u001b[1;33m(\u001b[0m\u001b[0mnum_epoch\u001b[0m\u001b[1;33m)\u001b[0m  \u001b[1;33m+\u001b[0m \u001b[1;34m' batch : '\u001b[0m \u001b[1;33m+\u001b[0m \u001b[0mstr\u001b[0m\u001b[1;33m(\u001b[0m\u001b[0mcurrent_batch_index\u001b[0m\u001b[1;33m)\u001b[0m \u001b[1;33m+\u001b[0m \u001b[1;34m'/'\u001b[0m\u001b[1;33m+\u001b[0m \u001b[0mstr\u001b[0m\u001b[1;33m(\u001b[0m\u001b[0mlen\u001b[0m\u001b[1;33m(\u001b[0m\u001b[0mx_train\u001b[0m\u001b[1;33m)\u001b[0m\u001b[1;33m)\u001b[0m \u001b[1;33m+\u001b[0m \u001b[1;34m' acc : '\u001b[0m\u001b[1;33m+\u001b[0m\u001b[0mstr\u001b[0m\u001b[1;33m(\u001b[0m\u001b[0msess_results\u001b[0m\u001b[1;33m[\u001b[0m\u001b[1;36m0\u001b[0m\u001b[1;33m]\u001b[0m\u001b[1;33m)\u001b[0m \u001b[1;33m+\u001b[0m \u001b[1;34m' cost : '\u001b[0m\u001b[1;33m+\u001b[0m\u001b[0mstr\u001b[0m\u001b[1;33m(\u001b[0m\u001b[0msess_results\u001b[0m\u001b[1;33m[\u001b[0m\u001b[1;36m1\u001b[0m\u001b[1;33m]\u001b[0m\u001b[1;33m)\u001b[0m\u001b[1;33m+\u001b[0m \u001b[1;34m'\\r'\u001b[0m\u001b[1;33m)\u001b[0m\u001b[1;33m\u001b[0m\u001b[1;33m\u001b[0m\u001b[0m\n\u001b[0;32m      8\u001b[0m         \u001b[0msys\u001b[0m\u001b[1;33m.\u001b[0m\u001b[0mstdout\u001b[0m\u001b[1;33m.\u001b[0m\u001b[0mflush\u001b[0m\u001b[1;33m(\u001b[0m\u001b[1;33m)\u001b[0m\u001b[1;33m;\u001b[0m\u001b[1;33m\u001b[0m\u001b[1;33m\u001b[0m\u001b[0m\n",
      "\u001b[1;32mC:\\ProgramData\\Miniconda3\\lib\\site-packages\\tensorflow\\python\\client\\session.py\u001b[0m in \u001b[0;36mrun\u001b[1;34m(self, fetches, feed_dict, options, run_metadata)\u001b[0m\n\u001b[0;32m    927\u001b[0m     \u001b[1;32mtry\u001b[0m\u001b[1;33m:\u001b[0m\u001b[1;33m\u001b[0m\u001b[1;33m\u001b[0m\u001b[0m\n\u001b[0;32m    928\u001b[0m       result = self._run(None, fetches, feed_dict, options_ptr,\n\u001b[1;32m--> 929\u001b[1;33m                          run_metadata_ptr)\n\u001b[0m\u001b[0;32m    930\u001b[0m       \u001b[1;32mif\u001b[0m \u001b[0mrun_metadata\u001b[0m\u001b[1;33m:\u001b[0m\u001b[1;33m\u001b[0m\u001b[1;33m\u001b[0m\u001b[0m\n\u001b[0;32m    931\u001b[0m         \u001b[0mproto_data\u001b[0m \u001b[1;33m=\u001b[0m \u001b[0mtf_session\u001b[0m\u001b[1;33m.\u001b[0m\u001b[0mTF_GetBuffer\u001b[0m\u001b[1;33m(\u001b[0m\u001b[0mrun_metadata_ptr\u001b[0m\u001b[1;33m)\u001b[0m\u001b[1;33m\u001b[0m\u001b[1;33m\u001b[0m\u001b[0m\n",
      "\u001b[1;32mC:\\ProgramData\\Miniconda3\\lib\\site-packages\\tensorflow\\python\\client\\session.py\u001b[0m in \u001b[0;36m_run\u001b[1;34m(self, handle, fetches, feed_dict, options, run_metadata)\u001b[0m\n\u001b[0;32m   1150\u001b[0m     \u001b[1;32mif\u001b[0m \u001b[0mfinal_fetches\u001b[0m \u001b[1;32mor\u001b[0m \u001b[0mfinal_targets\u001b[0m \u001b[1;32mor\u001b[0m \u001b[1;33m(\u001b[0m\u001b[0mhandle\u001b[0m \u001b[1;32mand\u001b[0m \u001b[0mfeed_dict_tensor\u001b[0m\u001b[1;33m)\u001b[0m\u001b[1;33m:\u001b[0m\u001b[1;33m\u001b[0m\u001b[1;33m\u001b[0m\u001b[0m\n\u001b[0;32m   1151\u001b[0m       results = self._do_run(handle, final_targets, final_fetches,\n\u001b[1;32m-> 1152\u001b[1;33m                              feed_dict_tensor, options, run_metadata)\n\u001b[0m\u001b[0;32m   1153\u001b[0m     \u001b[1;32melse\u001b[0m\u001b[1;33m:\u001b[0m\u001b[1;33m\u001b[0m\u001b[1;33m\u001b[0m\u001b[0m\n\u001b[0;32m   1154\u001b[0m       \u001b[0mresults\u001b[0m \u001b[1;33m=\u001b[0m \u001b[1;33m[\u001b[0m\u001b[1;33m]\u001b[0m\u001b[1;33m\u001b[0m\u001b[1;33m\u001b[0m\u001b[0m\n",
      "\u001b[1;32mC:\\ProgramData\\Miniconda3\\lib\\site-packages\\tensorflow\\python\\client\\session.py\u001b[0m in \u001b[0;36m_do_run\u001b[1;34m(self, handle, target_list, fetch_list, feed_dict, options, run_metadata)\u001b[0m\n\u001b[0;32m   1326\u001b[0m     \u001b[1;32mif\u001b[0m \u001b[0mhandle\u001b[0m \u001b[1;32mis\u001b[0m \u001b[1;32mNone\u001b[0m\u001b[1;33m:\u001b[0m\u001b[1;33m\u001b[0m\u001b[1;33m\u001b[0m\u001b[0m\n\u001b[0;32m   1327\u001b[0m       return self._do_call(_run_fn, feeds, fetches, targets, options,\n\u001b[1;32m-> 1328\u001b[1;33m                            run_metadata)\n\u001b[0m\u001b[0;32m   1329\u001b[0m     \u001b[1;32melse\u001b[0m\u001b[1;33m:\u001b[0m\u001b[1;33m\u001b[0m\u001b[1;33m\u001b[0m\u001b[0m\n\u001b[0;32m   1330\u001b[0m       \u001b[1;32mreturn\u001b[0m \u001b[0mself\u001b[0m\u001b[1;33m.\u001b[0m\u001b[0m_do_call\u001b[0m\u001b[1;33m(\u001b[0m\u001b[0m_prun_fn\u001b[0m\u001b[1;33m,\u001b[0m \u001b[0mhandle\u001b[0m\u001b[1;33m,\u001b[0m \u001b[0mfeeds\u001b[0m\u001b[1;33m,\u001b[0m \u001b[0mfetches\u001b[0m\u001b[1;33m)\u001b[0m\u001b[1;33m\u001b[0m\u001b[1;33m\u001b[0m\u001b[0m\n",
      "\u001b[1;32mC:\\ProgramData\\Miniconda3\\lib\\site-packages\\tensorflow\\python\\client\\session.py\u001b[0m in \u001b[0;36m_do_call\u001b[1;34m(self, fn, *args)\u001b[0m\n\u001b[0;32m   1332\u001b[0m   \u001b[1;32mdef\u001b[0m \u001b[0m_do_call\u001b[0m\u001b[1;33m(\u001b[0m\u001b[0mself\u001b[0m\u001b[1;33m,\u001b[0m \u001b[0mfn\u001b[0m\u001b[1;33m,\u001b[0m \u001b[1;33m*\u001b[0m\u001b[0margs\u001b[0m\u001b[1;33m)\u001b[0m\u001b[1;33m:\u001b[0m\u001b[1;33m\u001b[0m\u001b[1;33m\u001b[0m\u001b[0m\n\u001b[0;32m   1333\u001b[0m     \u001b[1;32mtry\u001b[0m\u001b[1;33m:\u001b[0m\u001b[1;33m\u001b[0m\u001b[1;33m\u001b[0m\u001b[0m\n\u001b[1;32m-> 1334\u001b[1;33m       \u001b[1;32mreturn\u001b[0m \u001b[0mfn\u001b[0m\u001b[1;33m(\u001b[0m\u001b[1;33m*\u001b[0m\u001b[0margs\u001b[0m\u001b[1;33m)\u001b[0m\u001b[1;33m\u001b[0m\u001b[1;33m\u001b[0m\u001b[0m\n\u001b[0m\u001b[0;32m   1335\u001b[0m     \u001b[1;32mexcept\u001b[0m \u001b[0merrors\u001b[0m\u001b[1;33m.\u001b[0m\u001b[0mOpError\u001b[0m \u001b[1;32mas\u001b[0m \u001b[0me\u001b[0m\u001b[1;33m:\u001b[0m\u001b[1;33m\u001b[0m\u001b[1;33m\u001b[0m\u001b[0m\n\u001b[0;32m   1336\u001b[0m       \u001b[0mmessage\u001b[0m \u001b[1;33m=\u001b[0m \u001b[0mcompat\u001b[0m\u001b[1;33m.\u001b[0m\u001b[0mas_text\u001b[0m\u001b[1;33m(\u001b[0m\u001b[0me\u001b[0m\u001b[1;33m.\u001b[0m\u001b[0mmessage\u001b[0m\u001b[1;33m)\u001b[0m\u001b[1;33m\u001b[0m\u001b[1;33m\u001b[0m\u001b[0m\n",
      "\u001b[1;32mC:\\ProgramData\\Miniconda3\\lib\\site-packages\\tensorflow\\python\\client\\session.py\u001b[0m in \u001b[0;36m_run_fn\u001b[1;34m(feed_dict, fetch_list, target_list, options, run_metadata)\u001b[0m\n\u001b[0;32m   1317\u001b[0m       \u001b[0mself\u001b[0m\u001b[1;33m.\u001b[0m\u001b[0m_extend_graph\u001b[0m\u001b[1;33m(\u001b[0m\u001b[1;33m)\u001b[0m\u001b[1;33m\u001b[0m\u001b[1;33m\u001b[0m\u001b[0m\n\u001b[0;32m   1318\u001b[0m       return self._call_tf_sessionrun(\n\u001b[1;32m-> 1319\u001b[1;33m           options, feed_dict, fetch_list, target_list, run_metadata)\n\u001b[0m\u001b[0;32m   1320\u001b[0m \u001b[1;33m\u001b[0m\u001b[0m\n\u001b[0;32m   1321\u001b[0m     \u001b[1;32mdef\u001b[0m \u001b[0m_prun_fn\u001b[0m\u001b[1;33m(\u001b[0m\u001b[0mhandle\u001b[0m\u001b[1;33m,\u001b[0m \u001b[0mfeed_dict\u001b[0m\u001b[1;33m,\u001b[0m \u001b[0mfetch_list\u001b[0m\u001b[1;33m)\u001b[0m\u001b[1;33m:\u001b[0m\u001b[1;33m\u001b[0m\u001b[1;33m\u001b[0m\u001b[0m\n",
      "\u001b[1;32mC:\\ProgramData\\Miniconda3\\lib\\site-packages\\tensorflow\\python\\client\\session.py\u001b[0m in \u001b[0;36m_call_tf_sessionrun\u001b[1;34m(self, options, feed_dict, fetch_list, target_list, run_metadata)\u001b[0m\n\u001b[0;32m   1405\u001b[0m     return tf_session.TF_SessionRun_wrapper(\n\u001b[0;32m   1406\u001b[0m         \u001b[0mself\u001b[0m\u001b[1;33m.\u001b[0m\u001b[0m_session\u001b[0m\u001b[1;33m,\u001b[0m \u001b[0moptions\u001b[0m\u001b[1;33m,\u001b[0m \u001b[0mfeed_dict\u001b[0m\u001b[1;33m,\u001b[0m \u001b[0mfetch_list\u001b[0m\u001b[1;33m,\u001b[0m \u001b[0mtarget_list\u001b[0m\u001b[1;33m,\u001b[0m\u001b[1;33m\u001b[0m\u001b[1;33m\u001b[0m\u001b[0m\n\u001b[1;32m-> 1407\u001b[1;33m         run_metadata)\n\u001b[0m\u001b[0;32m   1408\u001b[0m \u001b[1;33m\u001b[0m\u001b[0m\n\u001b[0;32m   1409\u001b[0m   \u001b[1;32mdef\u001b[0m \u001b[0m_call_tf_sessionprun\u001b[0m\u001b[1;33m(\u001b[0m\u001b[0mself\u001b[0m\u001b[1;33m,\u001b[0m \u001b[0mhandle\u001b[0m\u001b[1;33m,\u001b[0m \u001b[0mfeed_dict\u001b[0m\u001b[1;33m,\u001b[0m \u001b[0mfetch_list\u001b[0m\u001b[1;33m)\u001b[0m\u001b[1;33m:\u001b[0m\u001b[1;33m\u001b[0m\u001b[1;33m\u001b[0m\u001b[0m\n",
      "\u001b[1;31mKeyboardInterrupt\u001b[0m: "
     ]
    }
   ],
   "source": [
    "# start the training \n",
    "for iter in range(1,num_epoch+1):\n",
    "    for current_batch_index in range(0,len(x_train),batch_size):\n",
    "        current_data  = x_train[current_batch_index:current_batch_index+batch_size].astype(np.float32)\n",
    "        current_label = y_train[current_batch_index:current_batch_index+batch_size].astype(np.float32)\n",
    "        sess_results  = sess.run([accuracy,cost,grad_update],feed_dict={x:current_data,y:current_label,iter_num:iter})\n",
    "        sys.stdout.write('Current Iter : '+str(iter)+'/'+ str(num_epoch)  + ' batch : ' + str(current_batch_index) + '/'+ str(len(x_train)) + ' acc : '+str(sess_results[0]) + ' cost : '+str(sess_results[1])+ '\\r')\n",
    "        sys.stdout.flush(); \n",
    "        avg_acc_train = avg_acc_train + sess_results[0]\n",
    "        avg_lss_train = avg_lss_train + sess_results[1]\n",
    "    for current_batch_index in range(0,len(x_test), batch_size):\n",
    "        current_data  = x_test[current_batch_index:current_batch_index+batch_size].astype(np.float32)\n",
    "        current_label = y_test[current_batch_index:current_batch_index+batch_size].astype(np.float32)\n",
    "        sess_results  = sess.run([accuracy,cost],feed_dict={x:current_data,y:current_label,is_train:False})\n",
    "        sys.stdout.write('Current Iter : '+str(iter)+'/'+ str(num_epoch)  + ' batch : ' + str(current_batch_index) + '/'+ str(len(x_test)) + ' acc : '+str(sess_results[0]) + ' cost : '+str(sess_results[1])+ '\\r')\n",
    "        sys.stdout.flush(); \n",
    "        avg_acc_test = avg_acc_test + sess_results[0]\n",
    "        avg_lss_test = avg_lss_test + sess_results[1]\n",
    "    # ======================== print reset ========================  \n",
    "    print(\"Current: \"+ str(iter) + \n",
    "          \"\\tTrain Acc: \"  + str(avg_acc_train/(len(x_train)/batch_size)) + \n",
    "          \"\\tTrain Cost: \" + str(avg_lss_train/(len(x_train)/batch_size)) + \n",
    "          \"\\tTest Acc: \"   + str(avg_acc_test/(len(x_test)/batch_size)) + \n",
    "          \"\\tTest Cost: \"  + str(avg_lss_test/(len(x_test)/batch_size)) + \n",
    "          \"\\tLR: \" + str(learning_rate) )\n",
    "    avg_acc_train   = 0 ; avg_acc_test  = 0 ; avg_lss_train = 0 ; avg_lss_test  = 0\n",
    "    x_train,y_train = shuffle(x_train,y_train); x_test,y_test   = shuffle(x_test,y_test)"
   ]
  },
  {
   "cell_type": "code",
   "execution_count": null,
   "metadata": {
    "ExecuteTime": {
     "end_time": "2019-06-05T00:12:01.633084Z",
     "start_time": "2019-06-05T00:12:01.531955Z"
    }
   },
   "outputs": [],
   "source": []
  },
  {
   "cell_type": "code",
   "execution_count": null,
   "metadata": {},
   "outputs": [],
   "source": []
  },
  {
   "cell_type": "code",
   "execution_count": null,
   "metadata": {},
   "outputs": [],
   "source": []
  },
  {
   "cell_type": "code",
   "execution_count": null,
   "metadata": {},
   "outputs": [],
   "source": []
  },
  {
   "cell_type": "code",
   "execution_count": null,
   "metadata": {},
   "outputs": [],
   "source": []
  },
  {
   "cell_type": "code",
   "execution_count": null,
   "metadata": {},
   "outputs": [],
   "source": []
  },
  {
   "cell_type": "code",
   "execution_count": null,
   "metadata": {},
   "outputs": [],
   "source": []
  },
  {
   "cell_type": "markdown",
   "metadata": {},
   "source": [
    "# Sign Change"
   ]
  },
  {
   "cell_type": "code",
   "execution_count": 102,
   "metadata": {
    "ExecuteTime": {
     "end_time": "2019-06-18T01:17:45.508045Z",
     "start_time": "2019-06-18T01:17:45.410305Z"
    }
   },
   "outputs": [
    {
     "name": "stdout",
     "output_type": "stream",
     "text": [
      "[-0.9791961  1.3355689 -0.5717732  1.6240884  0.5671745]\n",
      "[0. 1. 0. 1. 1.]\n",
      "1.1756105\n",
      "[1. 0. 1. 0. 0.]\n",
      "-0.7754846\n",
      "[-0.         0.        -0.5717732  0.         0.5671745]\n",
      "[-0.9791961  1.3355689 -0.         1.6240884  0.       ]\n"
     ]
    }
   ],
   "source": [
    "# see \n",
    "temp = tf.random_normal([5],stddev=1,seed=4)\n",
    "\n",
    "temp_pos      = tf.where(temp>0,tf.ones_like(temp),tf.zeros_like(temp))\n",
    "temp_pos_mean = tf.reduce_sum(temp_pos*temp)/tf.reduce_sum(temp_pos)\n",
    "\n",
    "temp_neg      = tf.where(temp<0,tf.ones_like(temp),tf.zeros_like(temp))\n",
    "temp_neg_mean = tf.reduce_sum(temp_neg*temp)/tf.reduce_sum(temp_neg)\n",
    "\n",
    "temp_between  = tf.where(temp_neg_mean<temp,tf.ones_like(temp),tf.zeros_like(temp)) * tf.where(temp_pos_mean>temp,tf.ones_like(temp),tf.zeros_like(temp)) \n",
    "\n",
    "temp1 = temp_between * temp\n",
    "temp2 = (1-temp_between) * temp\n",
    "\n",
    "all_of_data = sess.run([temp,\n",
    "                        temp_pos,temp_pos_mean,\n",
    "                        temp_neg,temp_neg_mean,temp1,temp2])\n",
    "\n",
    "print(all_of_data[0])\n",
    "\n",
    "print(all_of_data[1])\n",
    "print(all_of_data[2])\n",
    "print(all_of_data[3])\n",
    "\n",
    "print(all_of_data[4])\n",
    "print(all_of_data[5])\n",
    "print(all_of_data[6])\n",
    "\n",
    "\n",
    "\n",
    "\n"
   ]
  }
 ],
 "metadata": {
  "kernelspec": {
   "display_name": "Python 3",
   "language": "python",
   "name": "python3"
  },
  "language_info": {
   "codemirror_mode": {
    "name": "ipython",
    "version": 3
   },
   "file_extension": ".py",
   "mimetype": "text/x-python",
   "name": "python",
   "nbconvert_exporter": "python",
   "pygments_lexer": "ipython3",
   "version": "3.6.7"
  },
  "latex_envs": {
   "LaTeX_envs_menu_present": true,
   "autoclose": false,
   "autocomplete": true,
   "bibliofile": "biblio.bib",
   "cite_by": "apalike",
   "current_citInitial": 1,
   "eqLabelWithNumbers": true,
   "eqNumInitial": 1,
   "hotkeys": {
    "equation": "Ctrl-E",
    "itemize": "Ctrl-I"
   },
   "labels_anchors": false,
   "latex_user_defs": false,
   "report_style_numbering": false,
   "user_envs_cfg": false
  },
  "varInspector": {
   "cols": {
    "lenName": 16,
    "lenType": 16,
    "lenVar": 40
   },
   "kernels_config": {
    "python": {
     "delete_cmd_postfix": "",
     "delete_cmd_prefix": "del ",
     "library": "var_list.py",
     "varRefreshCmd": "print(var_dic_list())"
    },
    "r": {
     "delete_cmd_postfix": ") ",
     "delete_cmd_prefix": "rm(",
     "library": "var_list.r",
     "varRefreshCmd": "cat(var_dic_list()) "
    }
   },
   "types_to_exclude": [
    "module",
    "function",
    "builtin_function_or_method",
    "instance",
    "_Feature"
   ],
   "window_display": false
  }
 },
 "nbformat": 4,
 "nbformat_minor": 2
}
