{
 "cells": [
  {
   "cell_type": "code",
   "execution_count": 1,
   "metadata": {
    "ExecuteTime": {
     "end_time": "2019-03-25T15:22:51.441103Z",
     "start_time": "2019-03-25T15:22:51.437110Z"
    }
   },
   "outputs": [],
   "source": [
    "import numpy as np"
   ]
  },
  {
   "cell_type": "code",
   "execution_count": 23,
   "metadata": {
    "ExecuteTime": {
     "end_time": "2019-03-25T15:35:11.279667Z",
     "start_time": "2019-03-25T15:35:11.271726Z"
    }
   },
   "outputs": [
    {
     "name": "stdout",
     "output_type": "stream",
     "text": [
      "(4, 1)\n",
      "[[-0.39434389]\n",
      " [-0.72956142]\n",
      " [ 0.36883464]\n",
      " [ 0.9841656 ]]\n"
     ]
    }
   ],
   "source": [
    "def g(x):   return np.tanh(x)\n",
    "def g_1(x): return 1-np.tanh(x)**2\n",
    "def g_2(x): return -1/(np.cosh(x)**2+1e-8) * np.tanh(x)\n",
    "\n",
    "N = 2\n",
    "M = 4\n",
    "X = np.ones((N,1))\n",
    "W = np.random.normal(size=(M,N))\n",
    "K = np.random.normal(size=(M,M))\n",
    "S = np.zeros((M,1))\n",
    "S1 = g(W @ X + K @ S)\n",
    "print(S1.shape)\n",
    "print(S1)"
   ]
  },
  {
   "cell_type": "code",
   "execution_count": 31,
   "metadata": {
    "ExecuteTime": {
     "end_time": "2019-03-25T15:41:52.233917Z",
     "start_time": "2019-03-25T15:41:52.228894Z"
    }
   },
   "outputs": [
    {
     "name": "stdout",
     "output_type": "stream",
     "text": [
      "(4, 1)\n",
      "(4, 4)\n",
      "(4, 2)\n"
     ]
    }
   ],
   "source": [
    "temp = g_1(W @ X + K @ S)\n",
    "print(temp.shape)\n",
    "omega   = (1/temp - K) ** -1\n",
    "x_delta = omega @ W \n",
    "\n",
    "print(omega.shape)\n",
    "print(x_delta.shape)"
   ]
  },
  {
   "cell_type": "code",
   "execution_count": 44,
   "metadata": {
    "ExecuteTime": {
     "end_time": "2019-03-25T15:45:57.782071Z",
     "start_time": "2019-03-25T15:45:57.775091Z"
    }
   },
   "outputs": [
    {
     "name": "stdout",
     "output_type": "stream",
     "text": [
      "(4, 2)\n",
      "(4, 2)\n",
      "[[18.5096207  20.12319062]\n",
      " [17.82071805 19.36249995]\n",
      " [18.60183611 21.02123767]\n",
      " [16.99791803 18.28133633]]\n"
     ]
    }
   ],
   "source": [
    "tau   = (x_delta.T @ x_delta) ** -1 @ x_delta.T @ omega\n",
    "gamma = (x_delta @ tau) @  g_2(W @ X + K @ S)/g_1(W @ X + K @ S) ** 3\n",
    "final = omega.T @ gamma @ X.T\n",
    "gradient = (tau.T + final)\n",
    "print(gradient.shape)\n",
    "\n",
    "print(W.shape)\n",
    "print(\n",
    "gradient\n",
    ")"
   ]
  },
  {
   "cell_type": "code",
   "execution_count": null,
   "metadata": {},
   "outputs": [],
   "source": []
  },
  {
   "cell_type": "code",
   "execution_count": null,
   "metadata": {},
   "outputs": [],
   "source": []
  },
  {
   "cell_type": "code",
   "execution_count": null,
   "metadata": {},
   "outputs": [],
   "source": []
  },
  {
   "cell_type": "code",
   "execution_count": null,
   "metadata": {},
   "outputs": [],
   "source": []
  },
  {
   "cell_type": "code",
   "execution_count": null,
   "metadata": {},
   "outputs": [],
   "source": []
  },
  {
   "cell_type": "code",
   "execution_count": null,
   "metadata": {},
   "outputs": [],
   "source": []
  },
  {
   "cell_type": "code",
   "execution_count": null,
   "metadata": {},
   "outputs": [],
   "source": []
  },
  {
   "cell_type": "code",
   "execution_count": null,
   "metadata": {},
   "outputs": [],
   "source": []
  },
  {
   "cell_type": "code",
   "execution_count": null,
   "metadata": {},
   "outputs": [],
   "source": []
  },
  {
   "cell_type": "code",
   "execution_count": 10,
   "metadata": {
    "ExecuteTime": {
     "end_time": "2019-03-25T15:33:30.692465Z",
     "start_time": "2019-03-25T15:33:30.686481Z"
    },
    "code_folding": [
     0
    ]
   },
   "outputs": [
    {
     "data": {
      "text/html": [
       "<img src=\"https://i.imgur.com/gDNChBk.png\",width=60,height=60>\n",
       "<img src=\"https://i.imgur.com/sTnzbJi.png\">\n"
      ],
      "text/plain": [
       "<IPython.core.display.HTML object>"
      ]
     },
     "metadata": {},
     "output_type": "display_data"
    }
   ],
   "source": [
    "%%HTML\n",
    "<img src=\"https://i.imgur.com/gDNChBk.png\",width=60,height=60>\n",
    "<img src=\"https://i.imgur.com/sTnzbJi.png\">"
   ]
  }
 ],
 "metadata": {
  "kernelspec": {
   "display_name": "Python 3",
   "language": "python",
   "name": "python3"
  },
  "language_info": {
   "codemirror_mode": {
    "name": "ipython",
    "version": 3
   },
   "file_extension": ".py",
   "mimetype": "text/x-python",
   "name": "python",
   "nbconvert_exporter": "python",
   "pygments_lexer": "ipython3",
   "version": "3.6.6"
  },
  "latex_envs": {
   "LaTeX_envs_menu_present": true,
   "autoclose": false,
   "autocomplete": true,
   "bibliofile": "biblio.bib",
   "cite_by": "apalike",
   "current_citInitial": 1,
   "eqLabelWithNumbers": true,
   "eqNumInitial": 1,
   "hotkeys": {
    "equation": "Ctrl-E",
    "itemize": "Ctrl-I"
   },
   "labels_anchors": false,
   "latex_user_defs": false,
   "report_style_numbering": false,
   "user_envs_cfg": false
  },
  "varInspector": {
   "cols": {
    "lenName": 16,
    "lenType": 16,
    "lenVar": 40
   },
   "kernels_config": {
    "python": {
     "delete_cmd_postfix": "",
     "delete_cmd_prefix": "del ",
     "library": "var_list.py",
     "varRefreshCmd": "print(var_dic_list())"
    },
    "r": {
     "delete_cmd_postfix": ") ",
     "delete_cmd_prefix": "rm(",
     "library": "var_list.r",
     "varRefreshCmd": "cat(var_dic_list()) "
    }
   },
   "types_to_exclude": [
    "module",
    "function",
    "builtin_function_or_method",
    "instance",
    "_Feature"
   ],
   "window_display": false
  }
 },
 "nbformat": 4,
 "nbformat_minor": 2
}
