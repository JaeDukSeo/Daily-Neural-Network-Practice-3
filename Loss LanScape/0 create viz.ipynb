{
 "cells": [
  {
   "cell_type": "code",
   "execution_count": 1,
   "metadata": {
    "ExecuteTime": {
     "end_time": "2019-05-05T07:02:16.934086Z",
     "start_time": "2019-05-05T07:01:59.621348Z"
    },
    "code_folding": [
     0
    ]
   },
   "outputs": [
    {
     "data": {
      "text/html": [
       "<script type=\"text/javascript\">window.PlotlyConfig = {MathJaxConfig: 'local'};</script><script type=\"text/javascript\">if (window.MathJax) {MathJax.Hub.Config({SVG: {font: \"STIX-Web\"}});}</script><script>requirejs.config({paths: { 'plotly': ['https://cdn.plot.ly/plotly-latest.min']},});if(!window._Plotly) {require(['plotly'],function(plotly) {window._Plotly=plotly;});}</script>"
      ],
      "text/vnd.plotly.v1+html": [
       "<script type=\"text/javascript\">window.PlotlyConfig = {MathJaxConfig: 'local'};</script><script type=\"text/javascript\">if (window.MathJax) {MathJax.Hub.Config({SVG: {font: \"STIX-Web\"}});}</script><script>requirejs.config({paths: { 'plotly': ['https://cdn.plot.ly/plotly-latest.min']},});if(!window._Plotly) {require(['plotly'],function(plotly) {window._Plotly=plotly;});}</script>"
      ]
     },
     "metadata": {},
     "output_type": "display_data"
    }
   ],
   "source": [
    "# import library\n",
    "import argparse,copy,h5py, os,sys,time,socket\n",
    "import numpy as np\n",
    "import tensorflow as tf\n",
    "import torch,torchvision,torch.nn as nn\n",
    "import torch.optim as optim\n",
    "import torchvision.transforms as transforms\n",
    "import torch.nn.functional as F\n",
    "from   torchsummary import summary\n",
    "from   torch.autograd.variable import Variable\n",
    "\n",
    "import plotly.plotly as py\n",
    "import plotly.graph_objs as go\n",
    "from plotly.offline import download_plotlyjs, init_notebook_mode, plot, iplot\n",
    "from mpl_toolkits.mplot3d import Axes3D  \n",
    "import matplotlib.pyplot as plt\n",
    "from matplotlib import ticker,colors\n",
    "\n",
    "# seed value and plotly\n",
    "init_notebook_mode(connected=True); torch.manual_seed(7); torch.cuda.manual_seed_all(7); np.set_printoptions(suppress=True,precision=3,); tf.set_random_seed(7)"
   ]
  },
  {
   "cell_type": "code",
   "execution_count": 9,
   "metadata": {
    "ExecuteTime": {
     "end_time": "2019-05-05T07:11:10.404762Z",
     "start_time": "2019-05-05T07:11:10.236393Z"
    }
   },
   "outputs": [
    {
     "data": {
      "text/plain": [
       "[<matplotlib.lines.Line2D at 0x1f3d54e80f0>]"
      ]
     },
     "execution_count": 9,
     "metadata": {},
     "output_type": "execute_result"
    },
    {
     "data": {
      "image/png": "[encoded data removed]",
      "text/plain": [
       "<Figure size 432x288 with 1 Axes>"
      ]
     },
     "metadata": {
      "needs_background": "light"
     },
     "output_type": "display_data"
    }
   ],
   "source": [
    "# plot accuracy\n",
    "a_acurracy_list_train = np.load(\"./a/a_acurracy_list_train.npy\")\n",
    "a_acurracy_list_test  = np.load(\"./a/a_acurracy_list_test.npy\")\n",
    "\n",
    "b_acurracy_list_train = np.load(\"./b/b_acurracy_list_train.npy\")\n",
    "b_acurracy_list_test  = np.load(\"./b/b_acurracy_list_test.npy\")\n",
    "\n",
    "c_acurracy_list_train = np.load(\"./c/c_acurracy_list_train.npy\")\n",
    "c_acurracy_list_test  = np.load(\"./c/c_acurracy_list_test.npy\")\n",
    "\n",
    "plt.plot(a_acurracy_list_train)\n",
    "plt.plot(a_acurracy_list_test)\n",
    "\n",
    "plt.plot(b_acurracy_list_train)\n",
    "plt.plot(b_acurracy_list_test)\n",
    "\n",
    "plt.plot(c_acurracy_list_train)\n",
    "plt.plot(c_acurracy_list_test)"
   ]
  },
  {
   "cell_type": "code",
   "execution_count": null,
   "metadata": {},
   "outputs": [],
   "source": [
    "# plot loss\n",
    "a_acurracy_list_train = np.load(\"./a/a_loss_list_train.npy.npy\")\n",
    "a_acurracy_list_test  = np.load(\"./a/a_loss_list_test.npy\")\n",
    "\n",
    "b_acurracy_list_train = np.load(\"./b/b_acurracy_list_train.npy\")\n",
    "b_acurracy_list_test  = np.load(\"./b/b_acurracy_list_test.npy\")\n",
    "\n",
    "c_acurracy_list_train = np.load(\"./c/c_acurracy_list_train.npy\")\n",
    "c_acurracy_list_test  = np.load(\"./c/c_acurracy_list_test.npy\")\n",
    "\n",
    "plt.plot(a_acurracy_list_train)\n",
    "plt.plot(a_acurracy_list_test)\n",
    "\n",
    "plt.plot(b_acurracy_list_train)\n",
    "plt.plot(b_acurracy_list_test)\n",
    "\n",
    "plt.plot(c_acurracy_list_train)\n",
    "plt.plot(c_acurracy_list_test)"
   ]
  },
  {
   "cell_type": "code",
   "execution_count": null,
   "metadata": {},
   "outputs": [],
   "source": []
  },
  {
   "cell_type": "code",
   "execution_count": null,
   "metadata": {},
   "outputs": [],
   "source": []
  },
  {
   "cell_type": "code",
   "execution_count": null,
   "metadata": {},
   "outputs": [],
   "source": []
  },
  {
   "cell_type": "code",
   "execution_count": null,
   "metadata": {},
   "outputs": [],
   "source": []
  },
  {
   "cell_type": "code",
   "execution_count": null,
   "metadata": {},
   "outputs": [],
   "source": []
  },
  {
   "cell_type": "code",
   "execution_count": null,
   "metadata": {},
   "outputs": [],
   "source": []
  },
  {
   "cell_type": "code",
   "execution_count": null,
   "metadata": {},
   "outputs": [],
   "source": []
  },
  {
   "cell_type": "code",
   "execution_count": null,
   "metadata": {},
   "outputs": [],
   "source": []
  }
 ],
 "metadata": {
  "kernelspec": {
   "display_name": "Python 3",
   "language": "python",
   "name": "python3"
  },
  "language_info": {
   "codemirror_mode": {
    "name": "ipython",
    "version": 3
   },
   "file_extension": ".py",
   "mimetype": "text/x-python",
   "name": "python",
   "nbconvert_exporter": "python",
   "pygments_lexer": "ipython3",
   "version": "3.6.6"
  },
  "latex_envs": {
   "LaTeX_envs_menu_present": true,
   "autoclose": false,
   "autocomplete": true,
   "bibliofile": "biblio.bib",
   "cite_by": "apalike",
   "current_citInitial": 1,
   "eqLabelWithNumbers": true,
   "eqNumInitial": 1,
   "hotkeys": {
    "equation": "Ctrl-E",
    "itemize": "Ctrl-I"
   },
   "labels_anchors": false,
   "latex_user_defs": false,
   "report_style_numbering": false,
   "user_envs_cfg": false
  },
  "varInspector": {
   "cols": {
    "lenName": 16,
    "lenType": 16,
    "lenVar": 40
   },
   "kernels_config": {
    "python": {
     "delete_cmd_postfix": "",
     "delete_cmd_prefix": "del ",
     "library": "var_list.py",
     "varRefreshCmd": "print(var_dic_list())"
    },
    "r": {
     "delete_cmd_postfix": ") ",
     "delete_cmd_prefix": "rm(",
     "library": "var_list.r",
     "varRefreshCmd": "cat(var_dic_list()) "
    }
   },
   "types_to_exclude": [
    "module",
    "function",
    "builtin_function_or_method",
    "instance",
    "_Feature"
   ],
   "window_display": false
  }
 },
 "nbformat": 4,
 "nbformat_minor": 2
}
